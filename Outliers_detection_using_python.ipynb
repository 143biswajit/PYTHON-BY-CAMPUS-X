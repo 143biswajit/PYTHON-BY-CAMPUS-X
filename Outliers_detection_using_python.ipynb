{
  "cells": [
    {
      "cell_type": "markdown",
      "metadata": {
        "id": "view-in-github",
        "colab_type": "text"
      },
      "source": [
        "<a href=\"https://colab.research.google.com/github/143biswajit/PYTHON-BY-CAMPUS-X/blob/main/Outliers_detection_using_python.ipynb\" target=\"_parent\"><img src=\"https://colab.research.google.com/assets/colab-badge.svg\" alt=\"Open In Colab\"/></a>"
      ]
    },
    {
      "cell_type": "code",
      "execution_count": null,
      "metadata": {
        "id": "X9NHupGKRfCm"
      },
      "outputs": [],
      "source": [
        "import numpy as np\n",
        "import matplotlib.pyplot as plt\n",
        "%matplotlib inline"
      ]
    },
    {
      "cell_type": "code",
      "execution_count": null,
      "metadata": {
        "id": "QOcYyae0StzT"
      },
      "outputs": [],
      "source": [
        "## Define our data set\n",
        "dataset=[11,10,12,14,12,15,14,13,15,102,12,14,17,19,107,10,13,12,11,14,13,15,10,15,12,10,14,13,15,10]"
      ]
    },
    {
      "cell_type": "code",
      "execution_count": 20,
      "metadata": {
        "colab": {
          "base_uri": "https://localhost:8080/",
          "height": 375
        },
        "id": "8GhaRearVhA0",
        "outputId": "37e90b46-c9e6-4f0b-9b50-03d6cac3313c"
      },
      "outputs": [
        {
          "output_type": "execute_result",
          "data": {
            "text/plain": [
              "(array([21.,  7.,  0.,  0.,  0.,  0.,  0.,  0.,  0.,  0.,  0.,  0.,  0.,\n",
              "         0.,  0.,  0.,  0.,  0.,  1.,  1.]),\n",
              " array([ 10.  ,  14.85,  19.7 ,  24.55,  29.4 ,  34.25,  39.1 ,  43.95,\n",
              "         48.8 ,  53.65,  58.5 ,  63.35,  68.2 ,  73.05,  77.9 ,  82.75,\n",
              "         87.6 ,  92.45,  97.3 , 102.15, 107.  ]),\n",
              " <a list of 20 Patch objects>)"
            ]
          },
          "metadata": {},
          "execution_count": 20
        },
        {
          "output_type": "display_data",
          "data": {
            "text/plain": [
              "<Figure size 432x288 with 1 Axes>"
            ],
            "image/png": "[encoded data removed]"
          },
          "metadata": {
            "needs_background": "light"
          }
        }
      ],
      "source": [
        "plt.hist(dataset,bins=20)"
      ]
    },
    {
      "cell_type": "code",
      "execution_count": null,
      "metadata": {
        "id": "WZa1FDZnWTsX"
      },
      "outputs": [],
      "source": [
        "# Z-score\n",
        "outlires=[]\n",
        "def detect_outlires(data):\n",
        "    thresholds=3 ##3rd standard deviation\n",
        "    mean=np.mean(data)\n",
        "    std=np.std(data)\n",
        "    for i in data:\n",
        "        z_score=(i-mean)/std\n",
        "        if np.abs(z_score)>thresholds:\n",
        "            outlires.append(i)\n",
        "    return outlires\n",
        "\n"
      ]
    },
    {
      "cell_type": "code",
      "execution_count": null,
      "metadata": {
        "colab": {
          "base_uri": "https://localhost:8080/"
        },
        "id": "FEtZ9351bSWb",
        "outputId": "43e2fbfa-93fc-49b0-cdb3-f6a144375174"
      },
      "outputs": [
        {
          "data": {
            "text/plain": [
              "[102, 107]"
            ]
          },
          "execution_count": 5,
          "metadata": {},
          "output_type": "execute_result"
        }
      ],
      "source": [
        "detect_outlires(dataset)"
      ]
    },
    {
      "cell_type": "markdown",
      "metadata": {
        "id": "eUmRPD-3beQ3"
      },
      "source": [
        "## IQR\n",
        "1.1short the data\n",
        "\n",
        "2.calculate Q1(25%) and Q3(75%)\n",
        "\n",
        "3.IQR (Q3-Q1)\n",
        "\n",
        "4.Find the lower fance (Q1-1.5(iqr))\n",
        "\n",
        "5.Find the upper fence (Q3+1.5(iqr))"
      ]
    },
    {
      "cell_type": "code",
      "execution_count": null,
      "metadata": {
        "id": "r8915h6SceyH"
      },
      "outputs": [],
      "source": [
        "# sort\n",
        "dataset=sorted(dataset)"
      ]
    },
    {
      "cell_type": "code",
      "execution_count": null,
      "metadata": {
        "colab": {
          "base_uri": "https://localhost:8080/"
        },
        "id": "Vs--ssp-bXqb",
        "outputId": "46d36719-e75f-4ba4-b877-6fbf4c450a12"
      },
      "outputs": [
        {
          "data": {
            "text/plain": [
              "[10,\n",
              " 10,\n",
              " 10,\n",
              " 10,\n",
              " 10,\n",
              " 11,\n",
              " 11,\n",
              " 12,\n",
              " 12,\n",
              " 12,\n",
              " 12,\n",
              " 12,\n",
              " 13,\n",
              " 13,\n",
              " 13,\n",
              " 13,\n",
              " 14,\n",
              " 14,\n",
              " 14,\n",
              " 14,\n",
              " 14,\n",
              " 15,\n",
              " 15,\n",
              " 15,\n",
              " 15,\n",
              " 15,\n",
              " 17,\n",
              " 19,\n",
              " 102,\n",
              " 107]"
            ]
          },
          "execution_count": 7,
          "metadata": {},
          "output_type": "execute_result"
        }
      ],
      "source": [
        "dataset"
      ]
    },
    {
      "cell_type": "code",
      "execution_count": null,
      "metadata": {
        "colab": {
          "base_uri": "https://localhost:8080/"
        },
        "id": "ED-wDVw8cr8r",
        "outputId": "878e5204-5ab0-45c3-b68e-2f0bc5047feb"
      },
      "outputs": [
        {
          "name": "stdout",
          "output_type": "stream",
          "text": [
            "12.0 15.0\n"
          ]
        }
      ],
      "source": [
        "Q1,Q3=np.percentile(dataset,[25,75])\n",
        "print(Q1,Q3)"
      ]
    },
    {
      "cell_type": "code",
      "execution_count": null,
      "metadata": {
        "colab": {
          "base_uri": "https://localhost:8080/"
        },
        "id": "ILjU_ixHdCKP",
        "outputId": "541da2b1-5061-4f49-a8b3-19f6701af279"
      },
      "outputs": [
        {
          "name": "stdout",
          "output_type": "stream",
          "text": [
            "3.0\n"
          ]
        }
      ],
      "source": [
        "IQR=Q3-Q1\n",
        "print(IQR)\n"
      ]
    },
    {
      "cell_type": "code",
      "execution_count": null,
      "metadata": {
        "colab": {
          "base_uri": "https://localhost:8080/"
        },
        "id": "qsIk2vITdNxz",
        "outputId": "490c3155-c0bb-4735-e86c-6f0d2e13a600"
      },
      "outputs": [
        {
          "name": "stdout",
          "output_type": "stream",
          "text": [
            "7.5 19.5\n"
          ]
        }
      ],
      "source": [
        "##Find the lower fence and upper fence\n",
        "lower_fence=Q1-(1.5*IQR)\n",
        "outer_fence=Q3+(1.5*IQR)\n",
        "print(lower_fence,outer_fence)\n"
      ]
    },
    {
      "cell_type": "code",
      "execution_count": 19,
      "metadata": {
        "colab": {
          "base_uri": "https://localhost:8080/"
        },
        "id": "TuePY1pyei5X",
        "outputId": "f1fccafc-e2bb-426b-c6b9-1b0b20017e39"
      },
      "outputs": [
        {
          "output_type": "stream",
          "name": "stdout",
          "text": [
            "no outlires 10\n",
            "no outlires 10\n",
            "no outlires 10\n",
            "no outlires 10\n",
            "no outlires 10\n",
            "no outlires 11\n",
            "no outlires 11\n",
            "no outlires 12\n",
            "no outlires 12\n",
            "no outlires 12\n",
            "no outlires 12\n",
            "no outlires 12\n",
            "no outlires 13\n",
            "no outlires 13\n",
            "no outlires 13\n",
            "no outlires 13\n",
            "no outlires 14\n",
            "no outlires 14\n",
            "no outlires 14\n",
            "no outlires 14\n",
            "no outlires 14\n",
            "no outlires 15\n",
            "no outlires 15\n",
            "no outlires 15\n",
            "no outlires 15\n",
            "no outlires 15\n",
            "no outlires 17\n",
            "no outlires 19\n",
            "no outlires 102\n",
            "no outlires 107\n"
          ]
        }
      ],
      "source": [
        "for i in dataset:\n",
        "    if i>=75//10 & i<=195//10:\n",
        "        print(\"no outlires\",i)\n",
        "    else:\n",
        "        print(\"outlires\",i)"
      ]
    },
    {
      "cell_type": "code",
      "execution_count": 24,
      "metadata": {
        "id": "60824szjhBQA",
        "colab": {
          "base_uri": "https://localhost:8080/",
          "height": 411
        },
        "outputId": "a3b8c453-fd2f-4617-c882-6acad3e2246b"
      },
      "outputs": [
        {
          "output_type": "execute_result",
          "data": {
            "text/plain": [
              "{'whiskers': [<matplotlib.lines.Line2D at 0x7f301f8d5310>,\n",
              "  <matplotlib.lines.Line2D at 0x7f301f8d5850>],\n",
              " 'caps': [<matplotlib.lines.Line2D at 0x7f301f8d5d90>,\n",
              "  <matplotlib.lines.Line2D at 0x7f301f8df310>],\n",
              " 'boxes': [<matplotlib.lines.Line2D at 0x7f301f8cfd90>],\n",
              " 'medians': [<matplotlib.lines.Line2D at 0x7f301f8df890>],\n",
              " 'fliers': [<matplotlib.lines.Line2D at 0x7f301f8dfdd0>],\n",
              " 'means': []}"
            ]
          },
          "metadata": {},
          "execution_count": 24
        },
        {
          "output_type": "display_data",
          "data": {
            "text/plain": [
              "<Figure size 432x288 with 1 Axes>"
            ],
            "image/png": "[encoded data removed]"
          },
          "metadata": {
            "needs_background": "light"
          }
        }
      ],
      "source": [
        "import seaborn as sns\n",
        "plt.boxplot(dataset)"
      ]
    },
    {
      "cell_type": "code",
      "source": [],
      "metadata": {
        "id": "B46WB149oPIu"
      },
      "execution_count": null,
      "outputs": []
    }
  ],
  "metadata": {
    "colab": {
      "provenance": [],
      "authorship_tag": "ABX9TyOitQrpJSglT1KYTO6UPCMY",
      "include_colab_link": true
    },
    "kernelspec": {
      "display_name": "Python 3",
      "name": "python3"
    },
    "language_info": {
      "name": "python"
    }
  },
  "nbformat": 4,
  "nbformat_minor": 0
}