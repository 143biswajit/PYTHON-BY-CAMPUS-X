{
  "nbformat": 4,
  "nbformat_minor": 0,
  "metadata": {
    "colab": {
      "provenance": [],
      "authorship_tag": "ABX9TyNaDk6wQ0xmSQQ2nvVnhF9u",
      "include_colab_link": true
    },
    "kernelspec": {
      "name": "python3",
      "display_name": "Python 3"
    },
    "language_info": {
      "name": "python"
    }
  },
  "cells": [
    {
      "cell_type": "markdown",
      "metadata": {
        "id": "view-in-github",
        "colab_type": "text"
      },
      "source": [
        "<a href=\"https://colab.research.google.com/github/143biswajit/PYTHON-BY-CAMPUS-X/blob/main/Python_basic_by_campus_X.ipynb\" target=\"_parent\"><img src=\"https://colab.research.google.com/assets/colab-badge.svg\" alt=\"Open In Colab\"/></a>"
      ]
    },
    {
      "cell_type": "code",
      "source": [
        "print('hello biswajit')"
      ],
      "metadata": {
        "colab": {
          "base_uri": "https://localhost:8080/"
        },
        "id": "fGuL5oAWJ2M7",
        "outputId": "2bb6b140-5cc2-498d-857e-aa3538beb4bb"
      },
      "execution_count": null,
      "outputs": [
        {
          "output_type": "stream",
          "name": "stdout",
          "text": [
            "hello biswajit\n"
          ]
        }
      ]
    },
    {
      "cell_type": "code",
      "source": [
        "print('Hello i am Biswajit gochhayat')"
      ],
      "metadata": {
        "colab": {
          "base_uri": "https://localhost:8080/"
        },
        "id": "F5WmFSm0KQbf",
        "outputId": "3f544e65-1729-4eb2-e26d-cdfd44e044a2"
      },
      "execution_count": null,
      "outputs": [
        {
          "output_type": "stream",
          "name": "stdout",
          "text": [
            "Hello i am Biswajit gochhayat\n"
          ]
        }
      ]
    },
    {
      "cell_type": "code",
      "source": [
        "print(6)"
      ],
      "metadata": {
        "colab": {
          "base_uri": "https://localhost:8080/"
        },
        "id": "7fzDW85xKXox",
        "outputId": "8f21df74-043f-4fdf-d4b9-b7de6a557fb7"
      },
      "execution_count": null,
      "outputs": [
        {
          "output_type": "stream",
          "name": "stdout",
          "text": [
            "6\n"
          ]
        }
      ]
    },
    {
      "cell_type": "code",
      "source": [
        "print('india',67,True)"
      ],
      "metadata": {
        "colab": {
          "base_uri": "https://localhost:8080/"
        },
        "id": "84K5l-0xKpkb",
        "outputId": "735bdbc4-c937-4667-ef2a-c16b9984ccd4"
      },
      "execution_count": null,
      "outputs": [
        {
          "output_type": "stream",
          "name": "stdout",
          "text": [
            "india 67 True\n"
          ]
        }
      ]
    },
    {
      "cell_type": "code",
      "source": [
        "print('india','pakistan','bangkadesh',sep='/')"
      ],
      "metadata": {
        "colab": {
          "base_uri": "https://localhost:8080/"
        },
        "id": "a2hhE_KjYfR0",
        "outputId": "e3f27ea8-a96e-457c-a632-30fe774a26d2"
      },
      "execution_count": null,
      "outputs": [
        {
          "output_type": "stream",
          "name": "stdout",
          "text": [
            "india/pakistan/bangkadesh\n"
          ]
        }
      ]
    },
    {
      "cell_type": "code",
      "source": [
        "print('india','pakistan','bangkadesh',end='/')"
      ],
      "metadata": {
        "colab": {
          "base_uri": "https://localhost:8080/"
        },
        "id": "r4LoblVOZY78",
        "outputId": "d4d4f1e1-c98b-4756-86fb-3a892ece2377"
      },
      "execution_count": null,
      "outputs": [
        {
          "output_type": "stream",
          "name": "stdout",
          "text": [
            "india pakistan bangkadesh/"
          ]
        }
      ]
    },
    {
      "cell_type": "markdown",
      "source": [
        "\n",
        "\n",
        "---\n",
        "\n",
        "\n",
        "\n",
        "---\n",
        "\n"
      ],
      "metadata": {
        "id": "BRmqN0rs6Uoc"
      }
    },
    {
      "cell_type": "markdown",
      "source": [
        "# ***class 2***\n",
        "# **Data types in python :**"
      ],
      "metadata": {
        "id": "eyCGkRmr6V89"
      }
    },
    {
      "cell_type": "markdown",
      "source": [],
      "metadata": {
        "id": "MDEdwCdR6o8N"
      }
    },
    {
      "cell_type": "markdown",
      "source": [
        "# **Python support 3 types of data types **\n",
        "\n",
        "\n",
        "\n",
        "*   **Basic types(Interger,Float,Complex ,Boolean,String)**\n",
        "\n",
        "\n",
        "\n",
        "\n",
        "\n",
        "\n",
        "*   **Container tpyes(List ,tuple,String,Set,Dictionary)**\n",
        "*   **User defined types- Class ***\n",
        "\n",
        "\n",
        "\n",
        "\n",
        "\n",
        "\n",
        "\n",
        "\n"
      ],
      "metadata": {
        "id": "2CKZWKD16s7h"
      }
    },
    {
      "cell_type": "code",
      "source": [
        "# integer datatype print\n",
        "print(4)"
      ],
      "metadata": {
        "colab": {
          "base_uri": "https://localhost:8080/"
        },
        "id": "UxwkU0eE81a6",
        "outputId": "77f21576-e26a-420c-8c3c-d6f80d333ca8"
      },
      "execution_count": 1,
      "outputs": [
        {
          "output_type": "stream",
          "name": "stdout",
          "text": [
            "4\n"
          ]
        }
      ]
    },
    {
      "cell_type": "code",
      "source": [
        "print(306)"
      ],
      "metadata": {
        "colab": {
          "base_uri": "https://localhost:8080/"
        },
        "id": "xqOEchmr86o9",
        "outputId": "b3f6164e-0f36-46df-fe13-6afa54183cc6"
      },
      "execution_count": 4,
      "outputs": [
        {
          "output_type": "stream",
          "name": "stdout",
          "text": [
            "306\n"
          ]
        }
      ]
    },
    {
      "cell_type": "code",
      "source": [
        "#print float\n",
        "print(4.5)"
      ],
      "metadata": {
        "colab": {
          "base_uri": "https://localhost:8080/"
        },
        "id": "Kt7-byv_9VG6",
        "outputId": "6213996e-f695-49a4-e876-ab86022cbccf"
      },
      "execution_count": 5,
      "outputs": [
        {
          "output_type": "stream",
          "name": "stdout",
          "text": [
            "4.5\n"
          ]
        }
      ]
    },
    {
      "cell_type": "code",
      "source": [
        "#print boolean \n",
        " \n",
        " print(False)"
      ],
      "metadata": {
        "id": "nuIMGkZ99mko",
        "outputId": "28f27940-23e4-4989-94f5-a5019b699449",
        "colab": {
          "base_uri": "https://localhost:8080/",
          "height": 138
        }
      },
      "execution_count": 18,
      "outputs": [
        {
          "output_type": "error",
          "ename": "IndentationError",
          "evalue": "ignored",
          "traceback": [
            "\u001b[0;36m  File \u001b[0;32m\"<ipython-input-18-0d726fe92ed6>\"\u001b[0;36m, line \u001b[0;32m3\u001b[0m\n\u001b[0;31m    print(False)\u001b[0m\n\u001b[0m    ^\u001b[0m\n\u001b[0;31mIndentationError\u001b[0m\u001b[0;31m:\u001b[0m unexpected indent\n"
          ]
        }
      ]
    },
    {
      "cell_type": "code",
      "source": [
        "# print string\n",
        "print('i am biswajit')"
      ],
      "metadata": {
        "id": "wX-UWMcj-EQ8",
        "outputId": "44ae020d-4849-426f-97c8-879069683461",
        "colab": {
          "base_uri": "https://localhost:8080/"
        }
      },
      "execution_count": 10,
      "outputs": [
        {
          "output_type": "stream",
          "name": "stdout",
          "text": [
            "i am biswajit\n"
          ]
        }
      ]
    },
    {
      "cell_type": "code",
      "source": [
        "# print list\n",
        "print([1,4,'biswajit'])"
      ],
      "metadata": {
        "id": "F5SpkwsG-afu",
        "outputId": "601fe073-885a-43db-8386-113227369979",
        "colab": {
          "base_uri": "https://localhost:8080/"
        }
      },
      "execution_count": 12,
      "outputs": [
        {
          "output_type": "stream",
          "name": "stdout",
          "text": [
            "[1, 4, 'biswajit']\n"
          ]
        }
      ]
    },
    {
      "cell_type": "code",
      "source": [
        "# print tuples\n",
        "print((1,4,8,'liku'))"
      ],
      "metadata": {
        "id": "yXXsKFgI-fKx",
        "outputId": "f39abf84-d081-49af-dcce-3eb521f80374",
        "colab": {
          "base_uri": "https://localhost:8080/"
        }
      },
      "execution_count": 13,
      "outputs": [
        {
          "output_type": "stream",
          "name": "stdout",
          "text": [
            "(1, 4, 8, 'liku')\n"
          ]
        }
      ]
    },
    {
      "cell_type": "code",
      "source": [
        "# print set\n",
        "print([4,67,8,'liku'])"
      ],
      "metadata": {
        "id": "mzSuLPqb-wk1",
        "outputId": "40aabc75-5622-4698-c429-4eeea13d5ee3",
        "colab": {
          "base_uri": "https://localhost:8080/"
        }
      },
      "execution_count": 14,
      "outputs": [
        {
          "output_type": "stream",
          "name": "stdout",
          "text": [
            "[4, 67, 8, 'liku']\n"
          ]
        }
      ]
    },
    {
      "cell_type": "code",
      "source": [
        "# printdictionary\n",
        "print({'name':'Biswajit','age':23,'perfession':'Data scientist'})"
      ],
      "metadata": {
        "id": "hmq8Eb5j-7Ie",
        "outputId": "899a8ada-228b-4312-b05f-944e453c9bd5",
        "colab": {
          "base_uri": "https://localhost:8080/"
        }
      },
      "execution_count": 16,
      "outputs": [
        {
          "output_type": "stream",
          "name": "stdout",
          "text": [
            "{'name': 'Biswajit', 'age': 23, 'perfession': 'Data scientist'}\n"
          ]
        }
      ]
    },
    {
      "cell_type": "markdown",
      "source": [
        "\n",
        "\n",
        "---\n",
        "\n",
        "\n",
        "\n",
        "---\n",
        "\n"
      ],
      "metadata": {
        "id": "GuLqMkDhAwGJ"
      }
    },
    {
      "cell_type": "markdown",
      "source": [
        "# [***Comment  in python***](https://)\n",
        "\n",
        "\n",
        "> A Pices of code which is not exicuteable by the compiler and interpiter .\n",
        "\n",
        "\n",
        "\n",
        "> To enhance code readibility.\n",
        "\n",
        "> comment symbal ='#'\n",
        "\n",
        "\n",
        "\n",
        "\n",
        "```\n",
        "\n",
        "\n",
        "\n"
      ],
      "metadata": {
        "id": "TQcNzZzDAxjw"
      }
    },
    {
      "cell_type": "code",
      "source": [
        "# print all datatypes once again\n"
      ],
      "metadata": {
        "id": "P2MnSLf4CJLh"
      },
      "execution_count": 19,
      "outputs": []
    },
    {
      "cell_type": "markdown",
      "source": [
        "\n",
        "\n",
        "---\n",
        "\n",
        "\n",
        "\n",
        "---\n",
        "\n"
      ],
      "metadata": {
        "id": "IRJYKOMzCUO_"
      }
    },
    {
      "cell_type": "markdown",
      "source": [
        "***[Variable in python](https://)***"
      ],
      "metadata": {
        "id": "5rtz5mEBCXOC"
      }
    },
    {
      "cell_type": "markdown",
      "source": [
        "# in C language \n",
        "int a= 5 (variablr declaration )\n",
        " but in  python"
      ],
      "metadata": {
        "id": "1cuAKingD0eB"
      }
    },
    {
      "cell_type": "code",
      "source": [
        "name='Biswajit'\n",
        "print(name)"
      ],
      "metadata": {
        "id": "Ei8dXeN5D8WX",
        "outputId": "839432a2-a74f-419e-c0cf-2d36372409a0",
        "colab": {
          "base_uri": "https://localhost:8080/"
        }
      },
      "execution_count": 20,
      "outputs": [
        {
          "output_type": "stream",
          "name": "stdout",
          "text": [
            "Biswajit\n"
          ]
        }
      ]
    },
    {
      "cell_type": "markdown",
      "source": [
        "\n",
        "\n",
        "> No variable declaration in python. \n",
        "\n",
        "\n",
        "> Dynamic typing =You dont have to specifly datatype for variable declaration( python language).Python has autometically dedued.\n",
        "\n",
        "\n",
        "> Static typing = U need to declaring the data types  when variable declaration(C -language)\n",
        "\n",
        "\n",
        "\n",
        "\n",
        "\n"
      ],
      "metadata": {
        "id": "cp2mMDiMEwNo"
      }
    },
    {
      "cell_type": "code",
      "source": [
        "# in python \n",
        "a=5\n",
        "print(a)"
      ],
      "metadata": {
        "id": "i9NrOCw6Elmv",
        "outputId": "a1766332-d765-4ac6-cd8f-261dbcdea508",
        "colab": {
          "base_uri": "https://localhost:8080/"
        }
      },
      "execution_count": 21,
      "outputs": [
        {
          "output_type": "stream",
          "name": "stdout",
          "text": [
            "5\n"
          ]
        }
      ]
    },
    {
      "cell_type": "code",
      "source": [
        "name='biswajit'\n",
        "print(name)"
      ],
      "metadata": {
        "id": "cBEWujHHLeOG",
        "outputId": "6e8c2a7f-3978-4e82-cb54-db6b7f1280cb",
        "colab": {
          "base_uri": "https://localhost:8080/"
        }
      },
      "execution_count": 22,
      "outputs": [
        {
          "output_type": "stream",
          "name": "stdout",
          "text": [
            "biswajit\n"
          ]
        }
      ]
    },
    {
      "cell_type": "code",
      "source": [
        "# special syntax  for multiple variable declaration\n",
        "a=5;b=6;c=8\n",
        "print(a)\n",
        "print(b)\n",
        "print(c)"
      ],
      "metadata": {
        "id": "9bgHfuAELo8d",
        "outputId": "153f85fa-f447-4800-8314-8701c943baaf",
        "colab": {
          "base_uri": "https://localhost:8080/"
        }
      },
      "execution_count": 23,
      "outputs": [
        {
          "output_type": "stream",
          "name": "stdout",
          "text": [
            "5\n",
            "6\n",
            "8\n"
          ]
        }
      ]
    },
    {
      "cell_type": "code",
      "source": [
        "a=b=c=6 \n",
        "print(a)\n",
        "print(b)\n",
        "print(c)"
      ],
      "metadata": {
        "id": "9Rh1lN4iMHbU",
        "outputId": "60806867-5c14-48af-8de8-b0affa752c54",
        "colab": {
          "base_uri": "https://localhost:8080/"
        }
      },
      "execution_count": 24,
      "outputs": [
        {
          "output_type": "stream",
          "name": "stdout",
          "text": [
            "6\n",
            "6\n",
            "6\n"
          ]
        }
      ]
    }
  ]
}