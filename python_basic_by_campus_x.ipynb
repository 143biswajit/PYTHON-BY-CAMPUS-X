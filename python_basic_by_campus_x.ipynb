{
  "nbformat": 4,
  "nbformat_minor": 0,
  "metadata": {
    "colab": {
      "provenance": [],
      "authorship_tag": "ABX9TyOMPG7BTxCzrudmYlLjSY4R",
      "include_colab_link": true
    },
    "kernelspec": {
      "name": "python3",
      "display_name": "Python 3"
    },
    "language_info": {
      "name": "python"
    }
  },
  "cells": [
    {
      "cell_type": "markdown",
      "metadata": {
        "id": "view-in-github",
        "colab_type": "text"
      },
      "source": [
        "<a href=\"https://colab.research.google.com/github/143biswajit/PYTHON-BY-CAMPUS-X/blob/main/python_basic_by_campus_x.ipynb\" target=\"_parent\"><img src=\"https://colab.research.google.com/assets/colab-badge.svg\" alt=\"Open In Colab\"/></a>"
      ]
    },
    {
      "cell_type": "markdown",
      "source": [
        "# **CLASS-6**"
      ],
      "metadata": {
        "id": "4wY8tkiLvFij"
      }
    },
    {
      "cell_type": "markdown",
      "source": [
        "**How to take user input in python ?**"
      ],
      "metadata": {
        "id": "Yc79bYH6x6Br"
      }
    },
    {
      "cell_type": "markdown",
      "source": [
        "**Static software** = software talk in unidirection i.e software only talk  with user but user canot talk with software. ex -clock ,college website\n",
        "\n",
        "\n",
        "**Dynamic Software** = here software talk with user and also user talk with software. ex- u tube,watsap,swiggie.\n",
        "\n",
        "\n",
        "\n",
        "\n",
        "*   *To make dynamic software we need user input, so that we make dynamic software.*\n",
        "\n",
        "\n",
        "*  *Every programing language have some functionality to take user input*\n",
        "*   *that is in c language-scanf,c++=c in,java =system n*\n",
        "\n",
        "\n",
        "\n",
        "*   *In python the function is built in function.*\n",
        "\n",
        "\n",
        "\n",
        "\n"
      ],
      "metadata": {
        "id": "BOJZBVgQyPWQ"
      }
    },
    {
      "cell_type": "code",
      "source": [
        "input(\"Apna nama bata\")"
      ],
      "metadata": {
        "colab": {
          "base_uri": "https://localhost:8080/",
          "height": 55
        },
        "id": "lkYTw1qC2lsG",
        "outputId": "d05b3089-687e-4898-ec16-854f46ba120a"
      },
      "execution_count": 2,
      "outputs": [
        {
          "name": "stdout",
          "output_type": "stream",
          "text": [
            "Apna nama bataBISWAJIT\n"
          ]
        },
        {
          "output_type": "execute_result",
          "data": {
            "text/plain": [
              "'BISWAJIT'"
            ],
            "application/vnd.google.colaboratory.intrinsic+json": {
              "type": "string"
            }
          },
          "metadata": {},
          "execution_count": 2
        }
      ]
    },
    {
      "cell_type": "code",
      "source": [
        "input(prompt =\"apna name bata\")"
      ],
      "metadata": {
        "colab": {
          "base_uri": "https://localhost:8080/",
          "height": 55
        },
        "id": "d_9DyXs4yJKZ",
        "outputId": "81640eb1-11f5-4b58-b8c6-4ecf9259e299"
      },
      "execution_count": 3,
      "outputs": [
        {
          "name": "stdout",
          "output_type": "stream",
          "text": [
            "apna name bataliku\n"
          ]
        },
        {
          "output_type": "execute_result",
          "data": {
            "text/plain": [
              "'liku'"
            ],
            "application/vnd.google.colaboratory.intrinsic+json": {
              "type": "string"
            }
          },
          "metadata": {},
          "execution_count": 3
        }
      ]
    },
    {
      "cell_type": "code",
      "source": [
        "first_number=input(\"Enter the first number\")\n",
        "second_number=input(\"Enter the second number\")\n"
      ],
      "metadata": {
        "colab": {
          "base_uri": "https://localhost:8080/"
        },
        "id": "XnSQC1Ja3SJ1",
        "outputId": "d86a0902-adb1-4ac4-ab38-5e18453339a7"
      },
      "execution_count": 4,
      "outputs": [
        {
          "name": "stdout",
          "output_type": "stream",
          "text": [
            "Enter the first number57\n",
            "Enter the second number84\n"
          ]
        }
      ]
    },
    {
      "cell_type": "code",
      "source": [
        "print(first_number)\n",
        "print(second_number)"
      ],
      "metadata": {
        "colab": {
          "base_uri": "https://localhost:8080/"
        },
        "id": "DRzAZ6e639Ng",
        "outputId": "eda4d223-f7ea-4562-ec41-3c6b81b6dcf3"
      },
      "execution_count": 5,
      "outputs": [
        {
          "output_type": "stream",
          "name": "stdout",
          "text": [
            "57\n",
            "84\n"
          ]
        }
      ]
    },
    {
      "cell_type": "code",
      "source": [
        "result = first_number+second_number\n",
        "print(result)"
      ],
      "metadata": {
        "colab": {
          "base_uri": "https://localhost:8080/"
        },
        "id": "HSRKyU7K4MgP",
        "outputId": "a12118d8-5602-4b21-88e8-8d2a68a63a77"
      },
      "execution_count": 8,
      "outputs": [
        {
          "output_type": "stream",
          "name": "stdout",
          "text": [
            "5784\n"
          ]
        }
      ]
    },
    {
      "cell_type": "code",
      "source": [
        "# type function\n",
        "type('tdhdh')"
      ],
      "metadata": {
        "colab": {
          "base_uri": "https://localhost:8080/"
        },
        "id": "dd72xoMX4afb",
        "outputId": "bfde48da-efa7-4418-b51a-02fdd4d8c02a"
      },
      "execution_count": 10,
      "outputs": [
        {
          "output_type": "execute_result",
          "data": {
            "text/plain": [
              "str"
            ]
          },
          "metadata": {},
          "execution_count": 10
        }
      ]
    },
    {
      "cell_type": "code",
      "source": [
        "type(first_number)"
      ],
      "metadata": {
        "colab": {
          "base_uri": "https://localhost:8080/"
        },
        "id": "3lp9ru9o5pVh",
        "outputId": "b109d040-0421-4375-d8b2-08b464d7fa15"
      },
      "execution_count": 11,
      "outputs": [
        {
          "output_type": "execute_result",
          "data": {
            "text/plain": [
              "str"
            ]
          },
          "metadata": {},
          "execution_count": 11
        }
      ]
    },
    {
      "cell_type": "code",
      "source": [
        "first_number"
      ],
      "metadata": {
        "colab": {
          "base_uri": "https://localhost:8080/",
          "height": 36
        },
        "id": "zaV4BWxF6ByS",
        "outputId": "35b4bdf1-9b06-4bf3-da86-6df5a65850e7"
      },
      "execution_count": 12,
      "outputs": [
        {
          "output_type": "execute_result",
          "data": {
            "text/plain": [
              "'57'"
            ],
            "application/vnd.google.colaboratory.intrinsic+json": {
              "type": "string"
            }
          },
          "metadata": {},
          "execution_count": 12
        }
      ]
    },
    {
      "cell_type": "markdown",
      "source": [
        " **To over come this problem we use type conversion in python.** "
      ],
      "metadata": {
        "id": "8OR85HQT6hEm"
      }
    },
    {
      "cell_type": "markdown",
      "source": [
        "\n",
        "\n",
        "---\n",
        "\n",
        "\n",
        "\n",
        "---\n",
        "\n"
      ],
      "metadata": {
        "id": "l7XUsT0Q7B4O"
      }
    },
    {
      "cell_type": "markdown",
      "source": [
        "# **Class=7**"
      ],
      "metadata": {
        "id": "jnM8TK0H7FDc"
      }
    },
    {
      "cell_type": "markdown",
      "source": [
        "**Types conversion in python.**\n",
        "\n",
        "\n",
        "\n",
        "---\n",
        "\n",
        "\n",
        "\n"
      ],
      "metadata": {
        "id": "bqMQNkGT7ZPN"
      }
    },
    {
      "cell_type": "markdown",
      "source": [
        "It is two types \n",
        "# Imlicit - Here python do autometical type conversion\n",
        "#Explicit -Here we tell  python for type conversion"
      ],
      "metadata": {
        "id": "0uzq9zEZ791j"
      }
    },
    {
      "cell_type": "code",
      "source": [
        "4+5.6"
      ],
      "metadata": {
        "colab": {
          "base_uri": "https://localhost:8080/"
        },
        "id": "9S4sn_VP9G42",
        "outputId": "ada2158e-a960-47a4-8fb7-a52c7e8e8c6a"
      },
      "execution_count": 13,
      "outputs": [
        {
          "output_type": "execute_result",
          "data": {
            "text/plain": [
              "9.6"
            ]
          },
          "metadata": {},
          "execution_count": 13
        }
      ]
    },
    {
      "cell_type": "code",
      "source": [
        "4+7.5+3j"
      ],
      "metadata": {
        "colab": {
          "base_uri": "https://localhost:8080/"
        },
        "id": "MPG86CWd9Kvb",
        "outputId": "39b3d6a2-2a43-4eb6-e9cd-a7d5d1523bd2"
      },
      "execution_count": 14,
      "outputs": [
        {
          "output_type": "execute_result",
          "data": {
            "text/plain": [
              "(11.5+3j)"
            ]
          },
          "metadata": {},
          "execution_count": 14
        }
      ]
    },
    {
      "cell_type": "code",
      "source": [
        "first_number+second_number"
      ],
      "metadata": {
        "colab": {
          "base_uri": "https://localhost:8080/",
          "height": 36
        },
        "id": "Qs74Ntm99RSY",
        "outputId": "e0bd17db-8727-4e12-f856-ed17a741c896"
      },
      "execution_count": 15,
      "outputs": [
        {
          "output_type": "execute_result",
          "data": {
            "text/plain": [
              "'5784'"
            ],
            "application/vnd.google.colaboratory.intrinsic+json": {
              "type": "string"
            }
          },
          "metadata": {},
          "execution_count": 15
        }
      ]
    },
    {
      "cell_type": "code",
      "source": [
        "#  int function\n",
        "int(3.6)"
      ],
      "metadata": {
        "colab": {
          "base_uri": "https://localhost:8080/"
        },
        "id": "HZwGan4x93HA",
        "outputId": "a70e1e88-f733-4409-cbef-f223a0c99fb5"
      },
      "execution_count": 16,
      "outputs": [
        {
          "output_type": "execute_result",
          "data": {
            "text/plain": [
              "3"
            ]
          },
          "metadata": {},
          "execution_count": 16
        }
      ]
    },
    {
      "cell_type": "code",
      "source": [
        "int('45')"
      ],
      "metadata": {
        "colab": {
          "base_uri": "https://localhost:8080/"
        },
        "id": "yhMvLAjS-AeQ",
        "outputId": "306182da-85f2-4677-a643-607b859f0c82"
      },
      "execution_count": 17,
      "outputs": [
        {
          "output_type": "execute_result",
          "data": {
            "text/plain": [
              "45"
            ]
          },
          "metadata": {},
          "execution_count": 17
        }
      ]
    },
    {
      "cell_type": "code",
      "source": [
        "float(4)"
      ],
      "metadata": {
        "colab": {
          "base_uri": "https://localhost:8080/"
        },
        "id": "CozOuRbn-FJ2",
        "outputId": "21699113-8fb0-470e-ec3d-c14bc0d2d951"
      },
      "execution_count": 18,
      "outputs": [
        {
          "output_type": "execute_result",
          "data": {
            "text/plain": [
              "4.0"
            ]
          },
          "metadata": {},
          "execution_count": 18
        }
      ]
    },
    {
      "cell_type": "code",
      "source": [
        "bool(1)"
      ],
      "metadata": {
        "colab": {
          "base_uri": "https://localhost:8080/"
        },
        "id": "ad6q_rsC-Ylk",
        "outputId": "d979ed55-0a62-4a30-d5df-a59fe2f603cc"
      },
      "execution_count": 19,
      "outputs": [
        {
          "output_type": "execute_result",
          "data": {
            "text/plain": [
              "True"
            ]
          },
          "metadata": {},
          "execution_count": 19
        }
      ]
    },
    {
      "cell_type": "code",
      "source": [
        "complex(4)"
      ],
      "metadata": {
        "colab": {
          "base_uri": "https://localhost:8080/"
        },
        "id": "cwi7E1tP-dEz",
        "outputId": "47b34e29-7c97-4047-aebb-8464f651a81e"
      },
      "execution_count": 20,
      "outputs": [
        {
          "output_type": "execute_result",
          "data": {
            "text/plain": [
              "(4+0j)"
            ]
          },
          "metadata": {},
          "execution_count": 20
        }
      ]
    },
    {
      "cell_type": "code",
      "source": [
        "list('biswajit')"
      ],
      "metadata": {
        "colab": {
          "base_uri": "https://localhost:8080/"
        },
        "id": "DkBVwIDY-pcr",
        "outputId": "f847e74c-9e73-46d9-8804-6b2f1d9904e1"
      },
      "execution_count": 22,
      "outputs": [
        {
          "output_type": "execute_result",
          "data": {
            "text/plain": [
              "['b', 'i', 's', 'w', 'a', 'j', 'i', 't']"
            ]
          },
          "metadata": {},
          "execution_count": 22
        }
      ]
    },
    {
      "cell_type": "code",
      "source": [
        "int('kolkata')"
      ],
      "metadata": {
        "colab": {
          "base_uri": "https://localhost:8080/",
          "height": 176
        },
        "id": "yi4ixlJ1-ySo",
        "outputId": "3a270be6-feb3-4d9c-8f2c-3025cc5658f2"
      },
      "execution_count": 23,
      "outputs": [
        {
          "output_type": "error",
          "ename": "ValueError",
          "evalue": "ignored",
          "traceback": [
            "\u001b[0;31m---------------------------------------------------------------------------\u001b[0m",
            "\u001b[0;31mValueError\u001b[0m                                Traceback (most recent call last)",
            "\u001b[0;32m<ipython-input-23-2b75b40b202b>\u001b[0m in \u001b[0;36m<module>\u001b[0;34m\u001b[0m\n\u001b[0;32m----> 1\u001b[0;31m \u001b[0mint\u001b[0m\u001b[0;34m(\u001b[0m\u001b[0;34m'kolkata'\u001b[0m\u001b[0;34m)\u001b[0m\u001b[0;34m\u001b[0m\u001b[0;34m\u001b[0m\u001b[0m\n\u001b[0m",
            "\u001b[0;31mValueError\u001b[0m: invalid literal for int() with base 10: 'kolkata'"
          ]
        }
      ]
    },
    {
      "cell_type": "markdown",
      "source": [
        "# Type conversion is not a permanate opration ."
      ],
      "metadata": {
        "id": "72iHNn8k_ITZ"
      }
    },
    {
      "cell_type": "code",
      "source": [
        "a=4.5\n",
        "int(a)"
      ],
      "metadata": {
        "colab": {
          "base_uri": "https://localhost:8080/"
        },
        "id": "CFHQ9Su7_C8h",
        "outputId": "da2828d9-9f0d-42e4-b9e8-37ceec97792f"
      },
      "execution_count": 24,
      "outputs": [
        {
          "output_type": "execute_result",
          "data": {
            "text/plain": [
              "4"
            ]
          },
          "metadata": {},
          "execution_count": 24
        }
      ]
    },
    {
      "cell_type": "code",
      "source": [],
      "metadata": {
        "id": "OMWSeoUd_tEC"
      },
      "execution_count": null,
      "outputs": []
    },
    {
      "cell_type": "code",
      "source": [
        "a"
      ],
      "metadata": {
        "colab": {
          "base_uri": "https://localhost:8080/"
        },
        "id": "L7swFMRL_vSf",
        "outputId": "eb1e9562-2cb8-4e47-9d37-dd54af9294ae"
      },
      "execution_count": 25,
      "outputs": [
        {
          "output_type": "execute_result",
          "data": {
            "text/plain": [
              "4.5"
            ]
          },
          "metadata": {},
          "execution_count": 25
        }
      ]
    },
    {
      "cell_type": "code",
      "source": [
        "first_number=int(input(\"Enter the first number\"))\n",
        "second_number=int(input(\"Enter the second number\"))\n",
        "\n",
        "result =(first_number+second_number)\n",
        "print(result)\n"
      ],
      "metadata": {
        "colab": {
          "base_uri": "https://localhost:8080/"
        },
        "id": "wyHiKf4W_wZV",
        "outputId": "ac1971b4-c183-491f-cfcf-65a5f4a02e51"
      },
      "execution_count": 27,
      "outputs": [
        {
          "output_type": "stream",
          "name": "stdout",
          "text": [
            "Enter the first number45\n",
            "Enter the second number78\n",
            "123\n"
          ]
        }
      ]
    },
    {
      "cell_type": "code",
      "source": [],
      "metadata": {
        "id": "69jx2_1BAdh-"
      },
      "execution_count": 27,
      "outputs": []
    }
  ]
}