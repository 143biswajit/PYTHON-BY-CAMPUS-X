{
  "nbformat": 4,
  "nbformat_minor": 0,
  "metadata": {
    "colab": {
      "provenance": [],
      "authorship_tag": "ABX9TyNW25jNXOWsUZFOJj3GwK16",
      "include_colab_link": true
    },
    "kernelspec": {
      "name": "python3",
      "display_name": "Python 3"
    },
    "language_info": {
      "name": "python"
    }
  },
  "cells": [
    {
      "cell_type": "markdown",
      "metadata": {
        "id": "view-in-github",
        "colab_type": "text"
      },
      "source": [
        "<a href=\"https://colab.research.google.com/github/143biswajit/PYTHON-BY-CAMPUS-X/blob/main/python_basic_by_campus_x.ipynb\" target=\"_parent\"><img src=\"https://colab.research.google.com/assets/colab-badge.svg\" alt=\"Open In Colab\"/></a>"
      ]
    },
    {
      "cell_type": "markdown",
      "source": [
        "# **CLASS-6**"
      ],
      "metadata": {
        "id": "4wY8tkiLvFij"
      }
    },
    {
      "cell_type": "markdown",
      "source": [
        "**How to take user input in python ?**"
      ],
      "metadata": {
        "id": "Yc79bYH6x6Br"
      }
    },
    {
      "cell_type": "markdown",
      "source": [
        "**Static software** = software talk in unidirection i.e software only talk  with user but user canot talk with software. ex -clock ,college website\n",
        "\n",
        "\n",
        "**Dynamic Software** = here software talk with user and also user talk with software. ex- u tube,watsap,swiggie.\n",
        "\n",
        "\n",
        "\n",
        "\n",
        "*   *To make dynamic software we need user input, so that we make dynamic software.*\n",
        "\n",
        "\n",
        "*  *Every programing language have some functionality to take user input*\n",
        "*   *that is in c language-scanf,c++=c in,java =system n*\n",
        "\n",
        "\n",
        "\n",
        "*   *In python the function is built in function.*\n",
        "\n",
        "\n",
        "\n",
        "\n"
      ],
      "metadata": {
        "id": "BOJZBVgQyPWQ"
      }
    },
    {
      "cell_type": "code",
      "source": [
        "input(\"Apna nama bata\")"
      ],
      "metadata": {
        "colab": {
          "base_uri": "https://localhost:8080/",
          "height": 55
        },
        "id": "lkYTw1qC2lsG",
        "outputId": "d05b3089-687e-4898-ec16-854f46ba120a"
      },
      "execution_count": null,
      "outputs": [
        {
          "name": "stdout",
          "output_type": "stream",
          "text": [
            "Apna nama bataBISWAJIT\n"
          ]
        },
        {
          "output_type": "execute_result",
          "data": {
            "text/plain": [
              "'BISWAJIT'"
            ],
            "application/vnd.google.colaboratory.intrinsic+json": {
              "type": "string"
            }
          },
          "metadata": {},
          "execution_count": 2
        }
      ]
    },
    {
      "cell_type": "code",
      "source": [
        "input(prompt =\"apna name bata\")"
      ],
      "metadata": {
        "colab": {
          "base_uri": "https://localhost:8080/",
          "height": 55
        },
        "id": "d_9DyXs4yJKZ",
        "outputId": "81640eb1-11f5-4b58-b8c6-4ecf9259e299"
      },
      "execution_count": null,
      "outputs": [
        {
          "name": "stdout",
          "output_type": "stream",
          "text": [
            "apna name bataliku\n"
          ]
        },
        {
          "output_type": "execute_result",
          "data": {
            "text/plain": [
              "'liku'"
            ],
            "application/vnd.google.colaboratory.intrinsic+json": {
              "type": "string"
            }
          },
          "metadata": {},
          "execution_count": 3
        }
      ]
    },
    {
      "cell_type": "code",
      "source": [
        "first_number=input(\"Enter the first number\")\n",
        "second_number=input(\"Enter the second number\")\n"
      ],
      "metadata": {
        "colab": {
          "base_uri": "https://localhost:8080/"
        },
        "id": "XnSQC1Ja3SJ1",
        "outputId": "d86a0902-adb1-4ac4-ab38-5e18453339a7"
      },
      "execution_count": null,
      "outputs": [
        {
          "name": "stdout",
          "output_type": "stream",
          "text": [
            "Enter the first number57\n",
            "Enter the second number84\n"
          ]
        }
      ]
    },
    {
      "cell_type": "code",
      "source": [
        "print(first_number)\n",
        "print(second_number)"
      ],
      "metadata": {
        "colab": {
          "base_uri": "https://localhost:8080/"
        },
        "id": "DRzAZ6e639Ng",
        "outputId": "eda4d223-f7ea-4562-ec41-3c6b81b6dcf3"
      },
      "execution_count": null,
      "outputs": [
        {
          "output_type": "stream",
          "name": "stdout",
          "text": [
            "57\n",
            "84\n"
          ]
        }
      ]
    },
    {
      "cell_type": "code",
      "source": [
        "result = first_number+second_number\n",
        "print(result)"
      ],
      "metadata": {
        "colab": {
          "base_uri": "https://localhost:8080/"
        },
        "id": "HSRKyU7K4MgP",
        "outputId": "a12118d8-5602-4b21-88e8-8d2a68a63a77"
      },
      "execution_count": null,
      "outputs": [
        {
          "output_type": "stream",
          "name": "stdout",
          "text": [
            "5784\n"
          ]
        }
      ]
    },
    {
      "cell_type": "code",
      "source": [
        "# type function\n",
        "type('tdhdh')"
      ],
      "metadata": {
        "colab": {
          "base_uri": "https://localhost:8080/"
        },
        "id": "dd72xoMX4afb",
        "outputId": "bfde48da-efa7-4418-b51a-02fdd4d8c02a"
      },
      "execution_count": null,
      "outputs": [
        {
          "output_type": "execute_result",
          "data": {
            "text/plain": [
              "str"
            ]
          },
          "metadata": {},
          "execution_count": 10
        }
      ]
    },
    {
      "cell_type": "code",
      "source": [
        "type(first_number)"
      ],
      "metadata": {
        "colab": {
          "base_uri": "https://localhost:8080/"
        },
        "id": "3lp9ru9o5pVh",
        "outputId": "b109d040-0421-4375-d8b2-08b464d7fa15"
      },
      "execution_count": null,
      "outputs": [
        {
          "output_type": "execute_result",
          "data": {
            "text/plain": [
              "str"
            ]
          },
          "metadata": {},
          "execution_count": 11
        }
      ]
    },
    {
      "cell_type": "code",
      "source": [
        "first_number"
      ],
      "metadata": {
        "colab": {
          "base_uri": "https://localhost:8080/",
          "height": 36
        },
        "id": "zaV4BWxF6ByS",
        "outputId": "35b4bdf1-9b06-4bf3-da86-6df5a65850e7"
      },
      "execution_count": null,
      "outputs": [
        {
          "output_type": "execute_result",
          "data": {
            "text/plain": [
              "'57'"
            ],
            "application/vnd.google.colaboratory.intrinsic+json": {
              "type": "string"
            }
          },
          "metadata": {},
          "execution_count": 12
        }
      ]
    },
    {
      "cell_type": "markdown",
      "source": [
        " **To over come this problem we use type conversion in python.** "
      ],
      "metadata": {
        "id": "8OR85HQT6hEm"
      }
    },
    {
      "cell_type": "markdown",
      "source": [
        "\n",
        "\n",
        "---\n",
        "\n",
        "\n",
        "\n",
        "---\n",
        "\n"
      ],
      "metadata": {
        "id": "l7XUsT0Q7B4O"
      }
    },
    {
      "cell_type": "markdown",
      "source": [
        "# **Class=7**"
      ],
      "metadata": {
        "id": "jnM8TK0H7FDc"
      }
    },
    {
      "cell_type": "markdown",
      "source": [
        "**Types conversion in python.**\n",
        "\n",
        "\n",
        "\n",
        "---\n",
        "\n",
        "\n",
        "\n"
      ],
      "metadata": {
        "id": "bqMQNkGT7ZPN"
      }
    },
    {
      "cell_type": "markdown",
      "source": [
        "It is two types \n",
        "# Imlicit - Here python do autometical type conversion\n",
        "#Explicit -Here we tell  python for type conversion"
      ],
      "metadata": {
        "id": "0uzq9zEZ791j"
      }
    },
    {
      "cell_type": "code",
      "source": [
        "4+5.6"
      ],
      "metadata": {
        "colab": {
          "base_uri": "https://localhost:8080/"
        },
        "id": "9S4sn_VP9G42",
        "outputId": "ada2158e-a960-47a4-8fb7-a52c7e8e8c6a"
      },
      "execution_count": null,
      "outputs": [
        {
          "output_type": "execute_result",
          "data": {
            "text/plain": [
              "9.6"
            ]
          },
          "metadata": {},
          "execution_count": 13
        }
      ]
    },
    {
      "cell_type": "code",
      "source": [
        "4+7.5+3j"
      ],
      "metadata": {
        "colab": {
          "base_uri": "https://localhost:8080/"
        },
        "id": "MPG86CWd9Kvb",
        "outputId": "39b3d6a2-2a43-4eb6-e9cd-a7d5d1523bd2"
      },
      "execution_count": null,
      "outputs": [
        {
          "output_type": "execute_result",
          "data": {
            "text/plain": [
              "(11.5+3j)"
            ]
          },
          "metadata": {},
          "execution_count": 14
        }
      ]
    },
    {
      "cell_type": "code",
      "source": [
        "first_number+second_number"
      ],
      "metadata": {
        "colab": {
          "base_uri": "https://localhost:8080/",
          "height": 36
        },
        "id": "Qs74Ntm99RSY",
        "outputId": "e0bd17db-8727-4e12-f856-ed17a741c896"
      },
      "execution_count": null,
      "outputs": [
        {
          "output_type": "execute_result",
          "data": {
            "text/plain": [
              "'5784'"
            ],
            "application/vnd.google.colaboratory.intrinsic+json": {
              "type": "string"
            }
          },
          "metadata": {},
          "execution_count": 15
        }
      ]
    },
    {
      "cell_type": "code",
      "source": [
        "#  int function\n",
        "int(3.6)"
      ],
      "metadata": {
        "colab": {
          "base_uri": "https://localhost:8080/"
        },
        "id": "HZwGan4x93HA",
        "outputId": "a70e1e88-f733-4409-cbef-f223a0c99fb5"
      },
      "execution_count": null,
      "outputs": [
        {
          "output_type": "execute_result",
          "data": {
            "text/plain": [
              "3"
            ]
          },
          "metadata": {},
          "execution_count": 16
        }
      ]
    },
    {
      "cell_type": "code",
      "source": [
        "int('45')"
      ],
      "metadata": {
        "colab": {
          "base_uri": "https://localhost:8080/"
        },
        "id": "yhMvLAjS-AeQ",
        "outputId": "306182da-85f2-4677-a643-607b859f0c82"
      },
      "execution_count": null,
      "outputs": [
        {
          "output_type": "execute_result",
          "data": {
            "text/plain": [
              "45"
            ]
          },
          "metadata": {},
          "execution_count": 17
        }
      ]
    },
    {
      "cell_type": "code",
      "source": [
        "float(4)"
      ],
      "metadata": {
        "colab": {
          "base_uri": "https://localhost:8080/"
        },
        "id": "CozOuRbn-FJ2",
        "outputId": "21699113-8fb0-470e-ec3d-c14bc0d2d951"
      },
      "execution_count": null,
      "outputs": [
        {
          "output_type": "execute_result",
          "data": {
            "text/plain": [
              "4.0"
            ]
          },
          "metadata": {},
          "execution_count": 18
        }
      ]
    },
    {
      "cell_type": "code",
      "source": [
        "bool(1)"
      ],
      "metadata": {
        "colab": {
          "base_uri": "https://localhost:8080/"
        },
        "id": "ad6q_rsC-Ylk",
        "outputId": "d979ed55-0a62-4a30-d5df-a59fe2f603cc"
      },
      "execution_count": null,
      "outputs": [
        {
          "output_type": "execute_result",
          "data": {
            "text/plain": [
              "True"
            ]
          },
          "metadata": {},
          "execution_count": 19
        }
      ]
    },
    {
      "cell_type": "code",
      "source": [
        "complex(4)"
      ],
      "metadata": {
        "colab": {
          "base_uri": "https://localhost:8080/"
        },
        "id": "cwi7E1tP-dEz",
        "outputId": "47b34e29-7c97-4047-aebb-8464f651a81e"
      },
      "execution_count": null,
      "outputs": [
        {
          "output_type": "execute_result",
          "data": {
            "text/plain": [
              "(4+0j)"
            ]
          },
          "metadata": {},
          "execution_count": 20
        }
      ]
    },
    {
      "cell_type": "code",
      "source": [
        "list('biswajit')"
      ],
      "metadata": {
        "colab": {
          "base_uri": "https://localhost:8080/"
        },
        "id": "DkBVwIDY-pcr",
        "outputId": "f847e74c-9e73-46d9-8804-6b2f1d9904e1"
      },
      "execution_count": null,
      "outputs": [
        {
          "output_type": "execute_result",
          "data": {
            "text/plain": [
              "['b', 'i', 's', 'w', 'a', 'j', 'i', 't']"
            ]
          },
          "metadata": {},
          "execution_count": 22
        }
      ]
    },
    {
      "cell_type": "code",
      "source": [
        "int('kolkata')"
      ],
      "metadata": {
        "colab": {
          "base_uri": "https://localhost:8080/",
          "height": 176
        },
        "id": "yi4ixlJ1-ySo",
        "outputId": "3a270be6-feb3-4d9c-8f2c-3025cc5658f2"
      },
      "execution_count": null,
      "outputs": [
        {
          "output_type": "error",
          "ename": "ValueError",
          "evalue": "ignored",
          "traceback": [
            "\u001b[0;31m---------------------------------------------------------------------------\u001b[0m",
            "\u001b[0;31mValueError\u001b[0m                                Traceback (most recent call last)",
            "\u001b[0;32m<ipython-input-23-2b75b40b202b>\u001b[0m in \u001b[0;36m<module>\u001b[0;34m\u001b[0m\n\u001b[0;32m----> 1\u001b[0;31m \u001b[0mint\u001b[0m\u001b[0;34m(\u001b[0m\u001b[0;34m'kolkata'\u001b[0m\u001b[0;34m)\u001b[0m\u001b[0;34m\u001b[0m\u001b[0;34m\u001b[0m\u001b[0m\n\u001b[0m",
            "\u001b[0;31mValueError\u001b[0m: invalid literal for int() with base 10: 'kolkata'"
          ]
        }
      ]
    },
    {
      "cell_type": "markdown",
      "source": [
        "# Type conversion is not a permanate opration ."
      ],
      "metadata": {
        "id": "72iHNn8k_ITZ"
      }
    },
    {
      "cell_type": "code",
      "source": [
        "a=4.5\n",
        "int(a)"
      ],
      "metadata": {
        "colab": {
          "base_uri": "https://localhost:8080/"
        },
        "id": "CFHQ9Su7_C8h",
        "outputId": "da2828d9-9f0d-42e4-b9e8-37ceec97792f"
      },
      "execution_count": null,
      "outputs": [
        {
          "output_type": "execute_result",
          "data": {
            "text/plain": [
              "4"
            ]
          },
          "metadata": {},
          "execution_count": 24
        }
      ]
    },
    {
      "cell_type": "code",
      "source": [],
      "metadata": {
        "id": "OMWSeoUd_tEC"
      },
      "execution_count": null,
      "outputs": []
    },
    {
      "cell_type": "code",
      "source": [
        "a"
      ],
      "metadata": {
        "colab": {
          "base_uri": "https://localhost:8080/"
        },
        "id": "L7swFMRL_vSf",
        "outputId": "eb1e9562-2cb8-4e47-9d37-dd54af9294ae"
      },
      "execution_count": null,
      "outputs": [
        {
          "output_type": "execute_result",
          "data": {
            "text/plain": [
              "4.5"
            ]
          },
          "metadata": {},
          "execution_count": 25
        }
      ]
    },
    {
      "cell_type": "code",
      "source": [
        "first_number=int(input(\"Enter the first number\"))\n",
        "second_number=int(input(\"Enter the second number\"))\n",
        "\n",
        "result =(first_number+second_number)\n",
        "print(result)\n"
      ],
      "metadata": {
        "colab": {
          "base_uri": "https://localhost:8080/"
        },
        "id": "wyHiKf4W_wZV",
        "outputId": "ac1971b4-c183-491f-cfcf-65a5f4a02e51"
      },
      "execution_count": null,
      "outputs": [
        {
          "output_type": "stream",
          "name": "stdout",
          "text": [
            "Enter the first number45\n",
            "Enter the second number78\n",
            "123\n"
          ]
        }
      ]
    },
    {
      "cell_type": "markdown",
      "source": [
        "\n",
        "\n",
        "---\n",
        "\n",
        "\n",
        "\n",
        "---\n",
        "\n"
      ],
      "metadata": {
        "id": "rvJnxcAmkTUF"
      }
    },
    {
      "cell_type": "markdown",
      "source": [
        "# **Literals**"
      ],
      "metadata": {
        "id": "sKKadVuHkWuQ"
      }
    },
    {
      "cell_type": "markdown",
      "source": [
        "Literal is a raw data given in a variable. In python,there are various types of literals they are as follows :\n",
        "\n",
        "\n",
        "\n",
        "\n",
        "\n",
        "*   Numerical Literals\n",
        "\n",
        "*   String Literals\n",
        "*   Boolean literals\n",
        "\n",
        "\n",
        "*   Special literals\n",
        "\n",
        "\n",
        "\n"
      ],
      "metadata": {
        "id": "DRqOant0knin"
      }
    },
    {
      "cell_type": "markdown",
      "source": [
        "**1.Numerical literals :**"
      ],
      "metadata": {
        "id": "M6pl-GGkmTwj"
      }
    },
    {
      "cell_type": "code",
      "source": [
        "a=0b1010 #Binary literals\n",
        "b=100 # Decimal literals\n",
        "c=0o310 #Octal literals\n",
        "d=0x12c #Hexagonal literals\n"
      ],
      "metadata": {
        "id": "3SCjbQ2pmnFi"
      },
      "execution_count": 1,
      "outputs": []
    },
    {
      "cell_type": "code",
      "source": [
        "# float literals\n",
        "float_1=10.5\n",
        "float_2=1.5e3\n",
        "float_3=1.5e-3"
      ],
      "metadata": {
        "id": "dhIBkZ2GoYkg"
      },
      "execution_count": 2,
      "outputs": []
    },
    {
      "cell_type": "code",
      "source": [
        "# complex literals\n",
        "x=3.1j"
      ],
      "metadata": {
        "id": "GmeUaOvGo4QW"
      },
      "execution_count": 3,
      "outputs": []
    },
    {
      "cell_type": "code",
      "source": [
        "print(a,b,c,d)\n",
        "print(float_1,float_2,float_3)\n",
        "print(x,x.imag,x.real)"
      ],
      "metadata": {
        "colab": {
          "base_uri": "https://localhost:8080/"
        },
        "id": "KSTCmooEpB6L",
        "outputId": "7c5f7b79-03dd-42de-eb5b-30e70f788e4b"
      },
      "execution_count": 4,
      "outputs": [
        {
          "output_type": "stream",
          "name": "stdout",
          "text": [
            "10 100 200 300\n",
            "10.5 1500.0 0.0015\n",
            "3.1j 3.1 0.0\n"
          ]
        }
      ]
    },
    {
      "cell_type": "markdown",
      "source": [
        "**2. String literals:**"
      ],
      "metadata": {
        "id": "nY4WdJhepoNO"
      }
    },
    {
      "cell_type": "code",
      "source": [
        "string = 'I am Biswajit'\n",
        "strings =  \"OoooYeeee\"\n",
        "char = \"c\"\n",
        "multiline_str=\"\"\"This is multiline string with more then one line code\"\"\"\n",
        "unicode = u\"\\U0001f600\\U0001F606\\U0001F923\"\n",
        "raw_str = r\"raw \\n string\"\n",
        "print(string)\n",
        "print(strings)\n",
        "print(char)\n",
        "print(multiline_str)\n",
        "print(unicode)\n",
        "print(raw_str)"
      ],
      "metadata": {
        "colab": {
          "base_uri": "https://localhost:8080/"
        },
        "id": "gxABV4IIqCJv",
        "outputId": "0d3cba35-03e2-4210-8e60-41233385bf43"
      },
      "execution_count": 5,
      "outputs": [
        {
          "output_type": "stream",
          "name": "stdout",
          "text": [
            "I am Biswajit\n",
            "OoooYeeee\n",
            "c\n",
            "This is multiline string with more then one line code\n",
            "😀😆🤣\n",
            "raw \\n string\n"
          ]
        }
      ]
    },
    {
      "cell_type": "code",
      "source": [
        "bro = u\"\\U0001f600\\U0001F606\\U0001F923\\U0001F400\\U0001F644\"\n",
        "print(bro)"
      ],
      "metadata": {
        "colab": {
          "base_uri": "https://localhost:8080/"
        },
        "id": "L-XMF9fFtDbb",
        "outputId": "a0312f20-f381-481a-c2d5-9bbcfd9408f5"
      },
      "execution_count": 9,
      "outputs": [
        {
          "output_type": "stream",
          "name": "stdout",
          "text": [
            "😀😆🤣🐀🙄\n"
          ]
        }
      ]
    },
    {
      "cell_type": "code",
      "source": [
        "new=u\"\\U0001f600\"\n",
        "print(new)"
      ],
      "metadata": {
        "colab": {
          "base_uri": "https://localhost:8080/"
        },
        "id": "PcQwphy3tbgq",
        "outputId": "20967299-6b1f-47b4-d165-bbdabce59a23"
      },
      "execution_count": 12,
      "outputs": [
        {
          "output_type": "stream",
          "name": "stdout",
          "text": [
            "😀\n"
          ]
        }
      ]
    },
    {
      "cell_type": "markdown",
      "source": [
        "**3. Boolean Literals**"
      ],
      "metadata": {
        "id": "Bb4dExStui5G"
      }
    },
    {
      "cell_type": "code",
      "source": [
        "a=True+4\n",
        "b=False+10\n",
        "print('a=',a)\n",
        "print('b=',b)"
      ],
      "metadata": {
        "colab": {
          "base_uri": "https://localhost:8080/"
        },
        "id": "eaLXPLrtupMb",
        "outputId": "691fb8b1-c2aa-49d5-fa81-0ee2e4859d4d"
      },
      "execution_count": 14,
      "outputs": [
        {
          "output_type": "stream",
          "name": "stdout",
          "text": [
            "a= 5\n",
            "b= 10\n"
          ]
        }
      ]
    },
    {
      "cell_type": "markdown",
      "source": [
        "**4.Special Literal**"
      ],
      "metadata": {
        "id": "MtP76om5wMDW"
      }
    },
    {
      "cell_type": "code",
      "source": [
        "a = None\n",
        "print(a)"
      ],
      "metadata": {
        "colab": {
          "base_uri": "https://localhost:8080/"
        },
        "id": "M-ur_gTFwTVd",
        "outputId": "897ba740-392b-46a2-846f-047b7e8e0edd"
      },
      "execution_count": 15,
      "outputs": [
        {
          "output_type": "stream",
          "name": "stdout",
          "text": [
            "None\n"
          ]
        }
      ]
    },
    {
      "cell_type": "code",
      "source": [
        "c=34+45\n",
        "print(c)"
      ],
      "metadata": {
        "colab": {
          "base_uri": "https://localhost:8080/"
        },
        "id": "jZ8Yb_bDwX6x",
        "outputId": "e6405c5d-2232-4de5-b9b8-4f75efa2771b"
      },
      "execution_count": 17,
      "outputs": [
        {
          "output_type": "stream",
          "name": "stdout",
          "text": [
            "79\n"
          ]
        }
      ]
    },
    {
      "cell_type": "code",
      "source": [
        "# In python u cant  declare varilable but if it nessary then we use None .\n",
        "k=None\n",
        "print(k)"
      ],
      "metadata": {
        "colab": {
          "base_uri": "https://localhost:8080/"
        },
        "id": "j9FytkBYwbZ8",
        "outputId": "15884d64-a011-4726-e60c-5b1f59aa13c9"
      },
      "execution_count": 18,
      "outputs": [
        {
          "output_type": "stream",
          "name": "stdout",
          "text": [
            "None\n"
          ]
        }
      ]
    },
    {
      "cell_type": "markdown",
      "source": [
        "\n",
        "\n",
        "---\n",
        "\n",
        "\n",
        "\n",
        "---\n",
        "\n"
      ],
      "metadata": {
        "id": "tenBlEdrxsIz"
      }
    },
    {
      "cell_type": "markdown",
      "source": [
        "# **Operators in python**"
      ],
      "metadata": {
        "id": "3VEDTMSNxtfD"
      }
    },
    {
      "cell_type": "markdown",
      "source": [
        "Operator are used to perform operation on variable  and \n",
        "values .Python has the following operator.\n",
        "\n",
        "\n",
        "*   Arithmetic Operator\n",
        "\n",
        "*   Comparision Operator\n",
        "\n",
        "*   Logical Operator\n",
        "\n",
        "*   Bitwase Operator\n",
        "*   Assignment Operator\n",
        "\n",
        "\n",
        "*   Identity Operator \n",
        "\n",
        "\n",
        "*   Membership Operator\n",
        "\n",
        "\n",
        "\n",
        "\n"
      ],
      "metadata": {
        "id": "b5v6fQOvx-35"
      }
    },
    {
      "cell_type": "markdown",
      "source": [
        "**Arithmetic Operator**"
      ],
      "metadata": {
        "id": "D22o2Ldzzkga"
      }
    },
    {
      "cell_type": "code",
      "source": [
        "x=5\n",
        "y=3\n",
        "print(x+y)"
      ],
      "metadata": {
        "colab": {
          "base_uri": "https://localhost:8080/"
        },
        "id": "vG8-74H7zrE8",
        "outputId": "4e18cc7a-9a14-4f96-fa14-fbd2fcccf0ff"
      },
      "execution_count": 19,
      "outputs": [
        {
          "output_type": "stream",
          "name": "stdout",
          "text": [
            "8\n"
          ]
        }
      ]
    },
    {
      "cell_type": "code",
      "source": [
        "print(x-y)"
      ],
      "metadata": {
        "colab": {
          "base_uri": "https://localhost:8080/"
        },
        "id": "kpokq6blz4NA",
        "outputId": "489c5a65-2de5-4876-8f57-ffddfcfd5f45"
      },
      "execution_count": 20,
      "outputs": [
        {
          "output_type": "stream",
          "name": "stdout",
          "text": [
            "2\n"
          ]
        }
      ]
    },
    {
      "cell_type": "code",
      "source": [
        "print(x*y)"
      ],
      "metadata": {
        "colab": {
          "base_uri": "https://localhost:8080/"
        },
        "id": "vv51MHrQz_xo",
        "outputId": "36aad00b-2d7a-469f-b61d-d6d8a0c49844"
      },
      "execution_count": 21,
      "outputs": [
        {
          "output_type": "stream",
          "name": "stdout",
          "text": [
            "15\n"
          ]
        }
      ]
    },
    {
      "cell_type": "code",
      "source": [
        "print(x/y) # true division"
      ],
      "metadata": {
        "colab": {
          "base_uri": "https://localhost:8080/"
        },
        "id": "NmazcMUx0C5k",
        "outputId": "99d3e2a2-da85-4331-a34f-82024b27a4c9"
      },
      "execution_count": 22,
      "outputs": [
        {
          "output_type": "stream",
          "name": "stdout",
          "text": [
            "1.6666666666666667\n"
          ]
        }
      ]
    },
    {
      "cell_type": "code",
      "source": [
        "print(x%y)"
      ],
      "metadata": {
        "colab": {
          "base_uri": "https://localhost:8080/"
        },
        "id": "5PwRbSuv0HKA",
        "outputId": "1f4ed82e-ff00-4ed7-fc66-1348ed720d2b"
      },
      "execution_count": 23,
      "outputs": [
        {
          "output_type": "stream",
          "name": "stdout",
          "text": [
            "2\n"
          ]
        }
      ]
    },
    {
      "cell_type": "code",
      "source": [
        "print(x**y)"
      ],
      "metadata": {
        "colab": {
          "base_uri": "https://localhost:8080/"
        },
        "id": "mPNv1x-f0NuH",
        "outputId": "b3e1aa4b-248a-4ce8-c03f-d26b4145983a"
      },
      "execution_count": 24,
      "outputs": [
        {
          "output_type": "stream",
          "name": "stdout",
          "text": [
            "125\n"
          ]
        }
      ]
    },
    {
      "cell_type": "code",
      "source": [
        "print(x//y) # interger division"
      ],
      "metadata": {
        "colab": {
          "base_uri": "https://localhost:8080/"
        },
        "id": "sl5h-1Y30cW6",
        "outputId": "67517cc9-7ff0-4283-b68b-ab6f3d7dbb86"
      },
      "execution_count": 25,
      "outputs": [
        {
          "output_type": "stream",
          "name": "stdout",
          "text": [
            "1\n"
          ]
        }
      ]
    },
    {
      "cell_type": "markdown",
      "source": [
        "**Comparission Operator**"
      ],
      "metadata": {
        "id": "Ah9_LR-k07A3"
      }
    },
    {
      "cell_type": "code",
      "source": [
        "print(x>y)"
      ],
      "metadata": {
        "colab": {
          "base_uri": "https://localhost:8080/"
        },
        "id": "ZR-0hB3w1AyP",
        "outputId": "2184712e-02d8-463b-806c-1eb1fbd23978"
      },
      "execution_count": 26,
      "outputs": [
        {
          "output_type": "stream",
          "name": "stdout",
          "text": [
            "True\n"
          ]
        }
      ]
    },
    {
      "cell_type": "code",
      "source": [
        "print(x<y)"
      ],
      "metadata": {
        "colab": {
          "base_uri": "https://localhost:8080/"
        },
        "id": "Xez1Jo1W1Ibv",
        "outputId": "47cec2b2-85e0-42aa-8b9a-50a7f00b4168"
      },
      "execution_count": 27,
      "outputs": [
        {
          "output_type": "stream",
          "name": "stdout",
          "text": [
            "False\n"
          ]
        }
      ]
    },
    {
      "cell_type": "code",
      "source": [
        "print(x>=y)"
      ],
      "metadata": {
        "colab": {
          "base_uri": "https://localhost:8080/"
        },
        "id": "rD_c86Mr1L4m",
        "outputId": "e4c45a2f-53d0-4568-f3ad-54a399b0e39b"
      },
      "execution_count": 28,
      "outputs": [
        {
          "output_type": "stream",
          "name": "stdout",
          "text": [
            "True\n"
          ]
        }
      ]
    },
    {
      "cell_type": "code",
      "source": [
        "print(x<=y)"
      ],
      "metadata": {
        "colab": {
          "base_uri": "https://localhost:8080/"
        },
        "id": "f4eGcCdE1SWS",
        "outputId": "297831c9-0261-4946-9a92-ec430b2b9c25"
      },
      "execution_count": 29,
      "outputs": [
        {
          "output_type": "stream",
          "name": "stdout",
          "text": [
            "False\n"
          ]
        }
      ]
    },
    {
      "cell_type": "code",
      "source": [
        "print(x==y)"
      ],
      "metadata": {
        "colab": {
          "base_uri": "https://localhost:8080/"
        },
        "id": "9gDTq-xX1Wn4",
        "outputId": "fbf3453c-2244-417a-bad7-606cc68a70ae"
      },
      "execution_count": 31,
      "outputs": [
        {
          "output_type": "stream",
          "name": "stdout",
          "text": [
            "False\n"
          ]
        }
      ]
    },
    {
      "cell_type": "code",
      "source": [
        "print(x!=y)"
      ],
      "metadata": {
        "colab": {
          "base_uri": "https://localhost:8080/"
        },
        "id": "ue4YQr4P1Zy3",
        "outputId": "e988e829-000c-4efd-d933-4837d804554f"
      },
      "execution_count": 33,
      "outputs": [
        {
          "output_type": "stream",
          "name": "stdout",
          "text": [
            "True\n"
          ]
        }
      ]
    },
    {
      "cell_type": "markdown",
      "source": [
        "**Logical Operator**"
      ],
      "metadata": {
        "id": "NQLo1MtD111s"
      }
    },
    {
      "cell_type": "code",
      "source": [
        "x=True\n",
        "y=False\n",
        "print(x or y)"
      ],
      "metadata": {
        "colab": {
          "base_uri": "https://localhost:8080/"
        },
        "id": "s2NZ27O818Ge",
        "outputId": "f61ffe3e-b520-4104-d23d-813861c5e291"
      },
      "execution_count": 34,
      "outputs": [
        {
          "output_type": "stream",
          "name": "stdout",
          "text": [
            "True\n"
          ]
        }
      ]
    },
    {
      "cell_type": "code",
      "source": [
        "print(x and y)"
      ],
      "metadata": {
        "colab": {
          "base_uri": "https://localhost:8080/"
        },
        "id": "xzMhPKmx2KM-",
        "outputId": "44ab9a39-dd8e-4c88-e200-d5d8e90e736a"
      },
      "execution_count": 36,
      "outputs": [
        {
          "output_type": "stream",
          "name": "stdout",
          "text": [
            "False\n"
          ]
        }
      ]
    },
    {
      "cell_type": "code",
      "source": [
        "print(not x)"
      ],
      "metadata": {
        "colab": {
          "base_uri": "https://localhost:8080/"
        },
        "id": "1xl7gZXA2UTD",
        "outputId": "db2d1fd8-7fae-4f62-caeb-59a6de719a94"
      },
      "execution_count": 38,
      "outputs": [
        {
          "output_type": "stream",
          "name": "stdout",
          "text": [
            "False\n",
            "False\n"
          ]
        }
      ]
    },
    {
      "cell_type": "markdown",
      "source": [
        "**Bitwaise Operator**"
      ],
      "metadata": {
        "id": "CnnG7ej32-z0"
      }
    },
    {
      "cell_type": "code",
      "source": [
        "x= 6\n",
        "y= 8\n",
        "print(x & y)"
      ],
      "metadata": {
        "id": "Fg9ggXSL3JCO",
        "outputId": "61d54493-0e9c-43ea-ba92-7fba2ae85e2e",
        "colab": {
          "base_uri": "https://localhost:8080/"
        }
      },
      "execution_count": 42,
      "outputs": [
        {
          "output_type": "stream",
          "name": "stdout",
          "text": [
            "0\n"
          ]
        }
      ]
    },
    {
      "cell_type": "code",
      "source": [
        "print(x | y)"
      ],
      "metadata": {
        "id": "8Pn0M2VU3VnY",
        "outputId": "6b2f0901-029b-46e6-d8a4-b536e205e292",
        "colab": {
          "base_uri": "https://localhost:8080/"
        }
      },
      "execution_count": 43,
      "outputs": [
        {
          "output_type": "stream",
          "name": "stdout",
          "text": [
            "14\n"
          ]
        }
      ]
    },
    {
      "cell_type": "code",
      "source": [
        "print(x >> y)"
      ],
      "metadata": {
        "id": "vsz0WoRz3w7J",
        "outputId": "01951afe-0164-4e1d-94cd-7ed1cd7ae83b",
        "colab": {
          "base_uri": "https://localhost:8080/"
        }
      },
      "execution_count": 44,
      "outputs": [
        {
          "output_type": "stream",
          "name": "stdout",
          "text": [
            "0\n"
          ]
        }
      ]
    },
    {
      "cell_type": "code",
      "source": [
        "print(x << y)"
      ],
      "metadata": {
        "id": "DLaMcpEh4AKS",
        "outputId": "bf31c90d-a531-4af4-8c11-64d7b7adc5d8",
        "colab": {
          "base_uri": "https://localhost:8080/"
        }
      },
      "execution_count": 45,
      "outputs": [
        {
          "output_type": "stream",
          "name": "stdout",
          "text": [
            "1536\n"
          ]
        }
      ]
    },
    {
      "cell_type": "code",
      "source": [
        "print(-x)"
      ],
      "metadata": {
        "id": "_BooiYgY4Etu",
        "outputId": "0dcccc87-617e-4035-d621-953dff82aa0e",
        "colab": {
          "base_uri": "https://localhost:8080/"
        }
      },
      "execution_count": 46,
      "outputs": [
        {
          "output_type": "stream",
          "name": "stdout",
          "text": [
            "-6\n"
          ]
        }
      ]
    },
    {
      "cell_type": "code",
      "source": [
        "# Bitwaise operator use when we work on binaray value.example is image proseseing project,when we use filter on image then we convert our image in binaray from. robotics"
      ],
      "metadata": {
        "id": "KUFq1Kxr4V2n"
      },
      "execution_count": null,
      "outputs": []
    },
    {
      "cell_type": "markdown",
      "source": [
        "**Assignment Operator**"
      ],
      "metadata": {
        "id": "Es8Grn2Q5oou"
      }
    },
    {
      "cell_type": "code",
      "source": [
        "a=3\n",
        "print(a)"
      ],
      "metadata": {
        "id": "e7F7DVSJ5ulu",
        "outputId": "fe73d593-7d2d-45ee-ef8f-b4a7079e18d1",
        "colab": {
          "base_uri": "https://localhost:8080/"
        }
      },
      "execution_count": 47,
      "outputs": [
        {
          "output_type": "stream",
          "name": "stdout",
          "text": [
            "3\n"
          ]
        }
      ]
    },
    {
      "cell_type": "code",
      "source": [
        "a += 5\n",
        "print(a)"
      ],
      "metadata": {
        "id": "QQnGBVxw6mBZ",
        "outputId": "58833580-8517-430c-e199-54c92f6cea55",
        "colab": {
          "base_uri": "https://localhost:8080/"
        }
      },
      "execution_count": 58,
      "outputs": [
        {
          "output_type": "stream",
          "name": "stdout",
          "text": [
            "31\n"
          ]
        }
      ]
    },
    {
      "cell_type": "code",
      "source": [
        "a-+3\n",
        "print(a)"
      ],
      "metadata": {
        "id": "qH-JIxVs6q9_",
        "outputId": "04aeebf0-d550-4eba-9cc3-9cc8ffc629e7",
        "colab": {
          "base_uri": "https://localhost:8080/"
        }
      },
      "execution_count": 60,
      "outputs": [
        {
          "output_type": "stream",
          "name": "stdout",
          "text": [
            "31\n"
          ]
        }
      ]
    },
    {
      "cell_type": "code",
      "source": [
        "a*=4\n",
        "a&=4\n",
        "print(a)\n",
        "print(a)"
      ],
      "metadata": {
        "id": "Mt2kHvss68u7",
        "outputId": "ec3926c8-e658-4a60-9b54-f9c1a1f4aed6",
        "colab": {
          "base_uri": "https://localhost:8080/"
        }
      },
      "execution_count": 63,
      "outputs": [
        {
          "output_type": "stream",
          "name": "stdout",
          "text": [
            "0\n",
            "0\n"
          ]
        }
      ]
    },
    {
      "cell_type": "code",
      "source": [
        "a++\n",
        "++a"
      ],
      "metadata": {
        "id": "yPcycT777LNB",
        "outputId": "6ca31717-a0fd-4271-8283-42fbf4abfecd",
        "colab": {
          "base_uri": "https://localhost:8080/",
          "height": 138
        }
      },
      "execution_count": 64,
      "outputs": [
        {
          "output_type": "error",
          "ename": "SyntaxError",
          "evalue": "ignored",
          "traceback": [
            "\u001b[0;36m  File \u001b[0;32m\"<ipython-input-64-eb1e8ffb1845>\"\u001b[0;36m, line \u001b[0;32m1\u001b[0m\n\u001b[0;31m    a++\u001b[0m\n\u001b[0m       ^\u001b[0m\n\u001b[0;31mSyntaxError\u001b[0m\u001b[0;31m:\u001b[0m invalid syntax\n"
          ]
        }
      ]
    },
    {
      "cell_type": "code",
      "source": [
        "a=a+3\n",
        "a+=3\n"
      ],
      "metadata": {
        "id": "P-Qsv6xD7Yfq"
      },
      "execution_count": 65,
      "outputs": []
    },
    {
      "cell_type": "markdown",
      "source": [
        "**Identity Operator**"
      ],
      "metadata": {
        "id": "G7vET2uB7lUn"
      }
    },
    {
      "cell_type": "code",
      "source": [
        "a=3\n",
        "b=3\n",
        "print(a is b)"
      ],
      "metadata": {
        "id": "OJgFOY-n7t5R",
        "outputId": "05f8a691-6bd0-4313-dc75-3c2d3607ba38",
        "colab": {
          "base_uri": "https://localhost:8080/"
        }
      },
      "execution_count": 66,
      "outputs": [
        {
          "output_type": "stream",
          "name": "stdout",
          "text": [
            "True\n"
          ]
        }
      ]
    },
    {
      "cell_type": "code",
      "source": [
        "a=\"hello\"\n",
        "b=\"hello\"\n",
        "print(a is  b)"
      ],
      "metadata": {
        "id": "WhgSGd4Q71uS",
        "outputId": "b9901b17-3214-429f-f5cc-43439cfc9091",
        "colab": {
          "base_uri": "https://localhost:8080/"
        }
      },
      "execution_count": 70,
      "outputs": [
        {
          "output_type": "stream",
          "name": "stdout",
          "text": [
            "True\n"
          ]
        }
      ]
    },
    {
      "cell_type": "code",
      "source": [
        "a=[1,2,3]\n",
        "b=[1,2,3]\n",
        "print(a is b)"
      ],
      "metadata": {
        "id": "8vbvDE8R775t",
        "outputId": "093f83ac-0a6d-4d82-9863-4530d215895a",
        "colab": {
          "base_uri": "https://localhost:8080/"
        }
      },
      "execution_count": 71,
      "outputs": [
        {
          "output_type": "stream",
          "name": "stdout",
          "text": [
            "False\n"
          ]
        }
      ]
    },
    {
      "cell_type": "code",
      "source": [
        "a=\"Hello_world\"\n",
        "b=\"Hello_world\"\n",
        "print(a is b)"
      ],
      "metadata": {
        "id": "ssrlRRuI8Q3k",
        "outputId": "c9cce587-115b-413b-d195-49e5fe1b6313",
        "colab": {
          "base_uri": "https://localhost:8080/"
        }
      },
      "execution_count": 72,
      "outputs": [
        {
          "output_type": "stream",
          "name": "stdout",
          "text": [
            "True\n"
          ]
        }
      ]
    },
    {
      "cell_type": "code",
      "source": [
        "# this identity oprator  use for  only know ,if two variable look like same you cant told that they have same memory location but some time they prestent in same momory location"
      ],
      "metadata": {
        "id": "kOgwj8si8jAA"
      },
      "execution_count": null,
      "outputs": []
    },
    {
      "cell_type": "markdown",
      "source": [
        "**Membership Operator**"
      ],
      "metadata": {
        "id": "1HV_XbBF-Ba4"
      }
    },
    {
      "cell_type": "code",
      "source": [
        "x= \"Delhi\"\n",
        "print(\"D\" in  x)"
      ],
      "metadata": {
        "id": "r7yErwLX-H2U",
        "outputId": "c53b74e7-61b5-4663-bb5d-6ea4a500d4af",
        "colab": {
          "base_uri": "https://localhost:8080/"
        }
      },
      "execution_count": 73,
      "outputs": [
        {
          "output_type": "stream",
          "name": "stdout",
          "text": [
            "True\n"
          ]
        }
      ]
    },
    {
      "cell_type": "code",
      "source": [
        "x=[1,2,3]\n",
        "print( 5 in x)"
      ],
      "metadata": {
        "id": "-ng5HxAE-Tra",
        "outputId": "11582999-0799-4e71-ab96-1f3242333afa",
        "colab": {
          "base_uri": "https://localhost:8080/"
        }
      },
      "execution_count": 74,
      "outputs": [
        {
          "output_type": "stream",
          "name": "stdout",
          "text": [
            "False\n"
          ]
        }
      ]
    },
    {
      "cell_type": "code",
      "source": [],
      "metadata": {
        "id": "nAmlowV--u7n"
      },
      "execution_count": null,
      "outputs": []
    }
  ]
}