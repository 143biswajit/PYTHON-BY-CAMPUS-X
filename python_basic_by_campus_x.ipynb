{
  "cells": [
    {
      "cell_type": "markdown",
      "metadata": {
        "id": "view-in-github",
        "colab_type": "text"
      },
      "source": [
        "<a href=\"https://colab.research.google.com/github/143biswajit/PYTHON-BY-CAMPUS-X/blob/main/python_basic_by_campus_x.ipynb\" target=\"_parent\"><img src=\"https://colab.research.google.com/assets/colab-badge.svg\" alt=\"Open In Colab\"/></a>"
      ]
    },
    {
      "cell_type": "markdown",
      "metadata": {
        "id": "4wY8tkiLvFij"
      },
      "source": [
        "# **CLASS-6**"
      ]
    },
    {
      "cell_type": "markdown",
      "metadata": {
        "id": "Yc79bYH6x6Br"
      },
      "source": [
        "**How to take user input in python ?**"
      ]
    },
    {
      "cell_type": "markdown",
      "metadata": {
        "id": "BOJZBVgQyPWQ"
      },
      "source": [
        "**Static software** = software talk in unidirection i.e software only talk  with user but user canot talk with software. ex -clock ,college website\n",
        "\n",
        "\n",
        "**Dynamic Software** = here software talk with user and also user talk with software. ex- u tube,watsap,swiggie.\n",
        "\n",
        "\n",
        "\n",
        "\n",
        "*   *To make dynamic software we need user input, so that we make dynamic software.*\n",
        "\n",
        "\n",
        "*  *Every programing language have some functionality to take user input*\n",
        "*   *that is in c language-scanf,c++=c in,java =system n*\n",
        "\n",
        "\n",
        "\n",
        "*   *In python the function is built in function.*\n",
        "\n",
        "\n",
        "\n",
        "\n"
      ]
    },
    {
      "cell_type": "code",
      "execution_count": null,
      "metadata": {
        "colab": {
          "base_uri": "https://localhost:8080/",
          "height": 55
        },
        "id": "lkYTw1qC2lsG",
        "outputId": "2475e2a9-5a36-4eb5-d486-f709ca4663be"
      },
      "outputs": [
        {
          "name": "stdout",
          "output_type": "stream",
          "text": [
            "Apna nama batabisw\n"
          ]
        },
        {
          "data": {
            "application/vnd.google.colaboratory.intrinsic+json": {
              "type": "string"
            },
            "text/plain": [
              "'bisw'"
            ]
          },
          "execution_count": 2,
          "metadata": {},
          "output_type": "execute_result"
        }
      ],
      "source": [
        "input(\"Apna nama bata\")"
      ]
    },
    {
      "cell_type": "code",
      "execution_count": null,
      "metadata": {
        "colab": {
          "base_uri": "https://localhost:8080/",
          "height": 55
        },
        "id": "d_9DyXs4yJKZ",
        "outputId": "e77a56b3-a626-4351-8d27-d1223e835f45"
      },
      "outputs": [
        {
          "name": "stdout",
          "output_type": "stream",
          "text": [
            "apna name batakase\n"
          ]
        },
        {
          "data": {
            "application/vnd.google.colaboratory.intrinsic+json": {
              "type": "string"
            },
            "text/plain": [
              "'kase'"
            ]
          },
          "execution_count": 3,
          "metadata": {},
          "output_type": "execute_result"
        }
      ],
      "source": [
        "input(prompt =\"apna name bata\")"
      ]
    },
    {
      "cell_type": "code",
      "execution_count": null,
      "metadata": {
        "colab": {
          "base_uri": "https://localhost:8080/"
        },
        "id": "XnSQC1Ja3SJ1",
        "outputId": "1fbda903-b35f-4296-a329-43bca6cd2041"
      },
      "outputs": [
        {
          "name": "stdout",
          "output_type": "stream",
          "text": [
            "Enter the first numberbiswa\n",
            "Enter the second numberjiefjis\n"
          ]
        }
      ],
      "source": [
        "first_number=input(\"Enter the first number\")\n",
        "second_number=input(\"Enter the second number\")\n"
      ]
    },
    {
      "cell_type": "code",
      "execution_count": null,
      "metadata": {
        "colab": {
          "base_uri": "https://localhost:8080/"
        },
        "id": "DRzAZ6e639Ng",
        "outputId": "286f7170-3a94-4ed0-9f29-936abc341b4b"
      },
      "outputs": [
        {
          "name": "stdout",
          "output_type": "stream",
          "text": [
            "biswa\n",
            "jiefjis\n"
          ]
        }
      ],
      "source": [
        "print(first_number)\n",
        "print(second_number)"
      ]
    },
    {
      "cell_type": "code",
      "execution_count": null,
      "metadata": {
        "colab": {
          "base_uri": "https://localhost:8080/"
        },
        "id": "HSRKyU7K4MgP",
        "outputId": "c55d66df-020e-4f40-972d-e8f8cb380936"
      },
      "outputs": [
        {
          "name": "stdout",
          "output_type": "stream",
          "text": [
            "biswajiefjis\n"
          ]
        }
      ],
      "source": [
        "result = first_number+second_number\n",
        "print(result)"
      ]
    },
    {
      "cell_type": "code",
      "execution_count": null,
      "metadata": {
        "colab": {
          "base_uri": "https://localhost:8080/"
        },
        "id": "dd72xoMX4afb",
        "outputId": "54f59a82-7385-457d-b162-fc97a2e80ef9"
      },
      "outputs": [
        {
          "data": {
            "text/plain": [
              "str"
            ]
          },
          "execution_count": 7,
          "metadata": {},
          "output_type": "execute_result"
        }
      ],
      "source": [
        "# type function\n",
        "type('tdhdh')"
      ]
    },
    {
      "cell_type": "code",
      "execution_count": null,
      "metadata": {
        "colab": {
          "base_uri": "https://localhost:8080/"
        },
        "id": "3lp9ru9o5pVh",
        "outputId": "7e9bf92e-d5d0-4135-a2ab-cc2d94eddbf5"
      },
      "outputs": [
        {
          "data": {
            "text/plain": [
              "str"
            ]
          },
          "execution_count": 8,
          "metadata": {},
          "output_type": "execute_result"
        }
      ],
      "source": [
        "type(first_number)"
      ]
    },
    {
      "cell_type": "code",
      "execution_count": null,
      "metadata": {
        "colab": {
          "base_uri": "https://localhost:8080/",
          "height": 36
        },
        "id": "zaV4BWxF6ByS",
        "outputId": "e9a20cb7-42cf-48df-8d8e-d477d2f5c152"
      },
      "outputs": [
        {
          "data": {
            "application/vnd.google.colaboratory.intrinsic+json": {
              "type": "string"
            },
            "text/plain": [
              "'biswa'"
            ]
          },
          "execution_count": 9,
          "metadata": {},
          "output_type": "execute_result"
        }
      ],
      "source": [
        "first_number"
      ]
    },
    {
      "cell_type": "markdown",
      "metadata": {
        "id": "8OR85HQT6hEm"
      },
      "source": [
        " **To over come this problem we use type conversion in python.** "
      ]
    },
    {
      "cell_type": "markdown",
      "metadata": {
        "id": "l7XUsT0Q7B4O"
      },
      "source": [
        "\n",
        "\n",
        "---\n",
        "\n",
        "\n",
        "\n",
        "---\n",
        "\n"
      ]
    },
    {
      "cell_type": "markdown",
      "metadata": {
        "id": "jnM8TK0H7FDc"
      },
      "source": [
        "# **Class=7**"
      ]
    },
    {
      "cell_type": "markdown",
      "metadata": {
        "id": "bqMQNkGT7ZPN"
      },
      "source": [
        "**Types conversion in python.**\n",
        "\n",
        "\n",
        "\n",
        "---\n",
        "\n",
        "\n",
        "\n"
      ]
    },
    {
      "cell_type": "markdown",
      "metadata": {
        "id": "0uzq9zEZ791j"
      },
      "source": [
        "It is two types \n",
        "# Imlicit - Here python do autometical type conversion\n",
        "#Explicit -Here we tell  python for type conversion"
      ]
    },
    {
      "cell_type": "code",
      "execution_count": null,
      "metadata": {
        "colab": {
          "base_uri": "https://localhost:8080/"
        },
        "id": "9S4sn_VP9G42",
        "outputId": "cba0a79c-d4bc-4a65-d915-8385055bb486"
      },
      "outputs": [
        {
          "data": {
            "text/plain": [
              "9.6"
            ]
          },
          "execution_count": 10,
          "metadata": {},
          "output_type": "execute_result"
        }
      ],
      "source": [
        "4+5.6"
      ]
    },
    {
      "cell_type": "code",
      "execution_count": null,
      "metadata": {
        "colab": {
          "base_uri": "https://localhost:8080/"
        },
        "id": "MPG86CWd9Kvb",
        "outputId": "ce654e2e-289b-4259-c9e2-9b096bf75d9b"
      },
      "outputs": [
        {
          "data": {
            "text/plain": [
              "(11.5+3j)"
            ]
          },
          "execution_count": 11,
          "metadata": {},
          "output_type": "execute_result"
        }
      ],
      "source": [
        "4+7.5+3j"
      ]
    },
    {
      "cell_type": "code",
      "execution_count": null,
      "metadata": {
        "colab": {
          "base_uri": "https://localhost:8080/",
          "height": 36
        },
        "id": "Qs74Ntm99RSY",
        "outputId": "fe638f1a-cc39-4a61-c0b6-19350ea3c709"
      },
      "outputs": [
        {
          "data": {
            "application/vnd.google.colaboratory.intrinsic+json": {
              "type": "string"
            },
            "text/plain": [
              "'biswajiefjis'"
            ]
          },
          "execution_count": 12,
          "metadata": {},
          "output_type": "execute_result"
        }
      ],
      "source": [
        "first_number+second_number"
      ]
    },
    {
      "cell_type": "code",
      "execution_count": null,
      "metadata": {
        "colab": {
          "base_uri": "https://localhost:8080/"
        },
        "id": "HZwGan4x93HA",
        "outputId": "7c0853f2-353f-487b-c988-bab9bd9ab463"
      },
      "outputs": [
        {
          "data": {
            "text/plain": [
              "3"
            ]
          },
          "execution_count": 13,
          "metadata": {},
          "output_type": "execute_result"
        }
      ],
      "source": [
        "#  int function\n",
        "int(3.6)"
      ]
    },
    {
      "cell_type": "code",
      "execution_count": null,
      "metadata": {
        "colab": {
          "base_uri": "https://localhost:8080/"
        },
        "id": "yhMvLAjS-AeQ",
        "outputId": "f730947b-6d6e-49ff-cb3f-b0b1bd7c6a68"
      },
      "outputs": [
        {
          "data": {
            "text/plain": [
              "45"
            ]
          },
          "execution_count": 14,
          "metadata": {},
          "output_type": "execute_result"
        }
      ],
      "source": [
        "int('45')"
      ]
    },
    {
      "cell_type": "code",
      "execution_count": null,
      "metadata": {
        "colab": {
          "base_uri": "https://localhost:8080/"
        },
        "id": "CozOuRbn-FJ2",
        "outputId": "37f83b38-6636-48eb-c85b-6054fe7877d0"
      },
      "outputs": [
        {
          "data": {
            "text/plain": [
              "4.0"
            ]
          },
          "execution_count": 15,
          "metadata": {},
          "output_type": "execute_result"
        }
      ],
      "source": [
        "float(4)"
      ]
    },
    {
      "cell_type": "code",
      "execution_count": null,
      "metadata": {
        "colab": {
          "base_uri": "https://localhost:8080/"
        },
        "id": "ad6q_rsC-Ylk",
        "outputId": "f3e0e3af-2431-49c3-9edc-641a84a9410d"
      },
      "outputs": [
        {
          "data": {
            "text/plain": [
              "True"
            ]
          },
          "execution_count": 16,
          "metadata": {},
          "output_type": "execute_result"
        }
      ],
      "source": [
        "bool(1)"
      ]
    },
    {
      "cell_type": "code",
      "execution_count": null,
      "metadata": {
        "colab": {
          "base_uri": "https://localhost:8080/"
        },
        "id": "cwi7E1tP-dEz",
        "outputId": "af5c864c-0a41-49aa-b2e2-e693932cb8f1"
      },
      "outputs": [
        {
          "data": {
            "text/plain": [
              "(4+0j)"
            ]
          },
          "execution_count": 17,
          "metadata": {},
          "output_type": "execute_result"
        }
      ],
      "source": [
        "complex(4)"
      ]
    },
    {
      "cell_type": "code",
      "execution_count": null,
      "metadata": {
        "colab": {
          "base_uri": "https://localhost:8080/"
        },
        "id": "DkBVwIDY-pcr",
        "outputId": "875449d3-1f03-4172-c69d-cbc7a5aded14"
      },
      "outputs": [
        {
          "data": {
            "text/plain": [
              "['b', 'i', 's', 'w', 'a', 'j', 'i', 't']"
            ]
          },
          "execution_count": 18,
          "metadata": {},
          "output_type": "execute_result"
        }
      ],
      "source": [
        "list('biswajit')"
      ]
    },
    {
      "cell_type": "code",
      "execution_count": null,
      "metadata": {
        "colab": {
          "base_uri": "https://localhost:8080/",
          "height": 176
        },
        "id": "yi4ixlJ1-ySo",
        "outputId": "72b5b73f-64bb-43d3-c947-aea9f4501aa1"
      },
      "outputs": [
        {
          "ename": "ValueError",
          "evalue": "ignored",
          "output_type": "error",
          "traceback": [
            "\u001b[0;31m---------------------------------------------------------------------------\u001b[0m",
            "\u001b[0;31mValueError\u001b[0m                                Traceback (most recent call last)",
            "\u001b[0;32m<ipython-input-82-2b75b40b202b>\u001b[0m in \u001b[0;36m<module>\u001b[0;34m\u001b[0m\n\u001b[0;32m----> 1\u001b[0;31m \u001b[0mint\u001b[0m\u001b[0;34m(\u001b[0m\u001b[0;34m'kolkata'\u001b[0m\u001b[0;34m)\u001b[0m\u001b[0;34m\u001b[0m\u001b[0;34m\u001b[0m\u001b[0m\n\u001b[0m",
            "\u001b[0;31mValueError\u001b[0m: invalid literal for int() with base 10: 'kolkata'"
          ]
        }
      ],
      "source": [
        "int('kolkata')"
      ]
    },
    {
      "cell_type": "markdown",
      "metadata": {
        "id": "72iHNn8k_ITZ"
      },
      "source": [
        "# Type conversion is not a permanate opration ."
      ]
    },
    {
      "cell_type": "code",
      "execution_count": null,
      "metadata": {
        "colab": {
          "base_uri": "https://localhost:8080/"
        },
        "id": "CFHQ9Su7_C8h",
        "outputId": "20a15c7c-b4bb-49b7-cae8-03a16ff5fd55"
      },
      "outputs": [
        {
          "data": {
            "text/plain": [
              "4"
            ]
          },
          "execution_count": 83,
          "metadata": {},
          "output_type": "execute_result"
        }
      ],
      "source": [
        "a=4.5\n",
        "int(a)"
      ]
    },
    {
      "cell_type": "code",
      "execution_count": null,
      "metadata": {
        "id": "OMWSeoUd_tEC"
      },
      "outputs": [],
      "source": []
    },
    {
      "cell_type": "code",
      "execution_count": null,
      "metadata": {
        "colab": {
          "base_uri": "https://localhost:8080/"
        },
        "id": "L7swFMRL_vSf",
        "outputId": "7206fb48-5669-48c0-b057-bd49fcf72857"
      },
      "outputs": [
        {
          "data": {
            "text/plain": [
              "4.5"
            ]
          },
          "execution_count": 84,
          "metadata": {},
          "output_type": "execute_result"
        }
      ],
      "source": [
        "a"
      ]
    },
    {
      "cell_type": "code",
      "execution_count": null,
      "metadata": {
        "colab": {
          "base_uri": "https://localhost:8080/"
        },
        "id": "wyHiKf4W_wZV",
        "outputId": "a5594d51-bc33-48e5-9756-d7163ca34924"
      },
      "outputs": [
        {
          "name": "stdout",
          "output_type": "stream",
          "text": [
            "Enter the first number56\n",
            "Enter the second number76\n",
            "132\n"
          ]
        }
      ],
      "source": [
        "first_number=int(input(\"Enter the first number\"))\n",
        "second_number=int(input(\"Enter the second number\"))\n",
        "\n",
        "result =(first_number+second_number)\n",
        "print(result)\n"
      ]
    },
    {
      "cell_type": "markdown",
      "metadata": {
        "id": "rvJnxcAmkTUF"
      },
      "source": [
        "\n",
        "\n",
        "---\n",
        "\n",
        "\n",
        "\n",
        "---\n",
        "\n"
      ]
    },
    {
      "cell_type": "markdown",
      "metadata": {
        "id": "sKKadVuHkWuQ"
      },
      "source": [
        "# **Literals**"
      ]
    },
    {
      "cell_type": "markdown",
      "metadata": {
        "id": "DRqOant0knin"
      },
      "source": [
        "Literal is a raw data given in a variable. In python,there are various types of literals they are as follows :\n",
        "\n",
        "\n",
        "\n",
        "\n",
        "\n",
        "*   Numerical Literals\n",
        "\n",
        "*   String Literals\n",
        "*   Boolean literals\n",
        "\n",
        "\n",
        "*   Special literals\n",
        "\n",
        "\n",
        "\n"
      ]
    },
    {
      "cell_type": "markdown",
      "metadata": {
        "id": "M6pl-GGkmTwj"
      },
      "source": [
        "**1.Numerical literals :**"
      ]
    },
    {
      "cell_type": "code",
      "execution_count": null,
      "metadata": {
        "id": "3SCjbQ2pmnFi"
      },
      "outputs": [],
      "source": [
        "a=0b1010 #Binary literals\n",
        "b=100 # Decimal literals\n",
        "c=0o310 #Octal literals\n",
        "d=0x12c #Hexagonal literals\n"
      ]
    },
    {
      "cell_type": "code",
      "execution_count": null,
      "metadata": {
        "id": "dhIBkZ2GoYkg"
      },
      "outputs": [],
      "source": [
        "# float literals\n",
        "float_1=10.5\n",
        "float_2=1.5e3\n",
        "float_3=1.5e-3"
      ]
    },
    {
      "cell_type": "code",
      "execution_count": null,
      "metadata": {
        "id": "GmeUaOvGo4QW"
      },
      "outputs": [],
      "source": [
        "# complex literals\n",
        "x=3.1j"
      ]
    },
    {
      "cell_type": "code",
      "execution_count": null,
      "metadata": {
        "colab": {
          "base_uri": "https://localhost:8080/"
        },
        "id": "KSTCmooEpB6L",
        "outputId": "75d31a0f-d5a2-4259-8db5-fe2c713acc78"
      },
      "outputs": [
        {
          "name": "stdout",
          "output_type": "stream",
          "text": [
            "10 100 200 300\n",
            "10.5 1500.0 0.0015\n",
            "3.1j 3.1 0.0\n"
          ]
        }
      ],
      "source": [
        "print(a,b,c,d)\n",
        "print(float_1,float_2,float_3)\n",
        "print(x,x.imag,x.real)"
      ]
    },
    {
      "cell_type": "markdown",
      "metadata": {
        "id": "nY4WdJhepoNO"
      },
      "source": [
        "**2. String literals:**"
      ]
    },
    {
      "cell_type": "code",
      "execution_count": null,
      "metadata": {
        "colab": {
          "base_uri": "https://localhost:8080/"
        },
        "id": "gxABV4IIqCJv",
        "outputId": "9f8e2ba1-e0d2-43ca-8979-54a5e530069f"
      },
      "outputs": [
        {
          "name": "stdout",
          "output_type": "stream",
          "text": [
            "I am Biswajit\n",
            "OoooYeeee\n",
            "c\n",
            "This is multiline string with more then one line code\n",
            "😀,😆🤣\n",
            "raw\n",
            "string\n"
          ]
        }
      ],
      "source": [
        "string = 'I am Biswajit'\n",
        "strings =  \"OoooYeeee\"\n",
        "char = \"c\"\n",
        "multiline_str=\"\"\"This is multiline string with more then one line code\"\"\"\n",
        "unicode = u\"\\U0001f600,\\U0001F606\\U0001F923\"\n",
        "raw_str = \"raw\\nstring\"\n",
        "print(string)\n",
        "print(strings)\n",
        "print(char)\n",
        "print(multiline_str)\n",
        "print(unicode)\n",
        "print(raw_str)"
      ]
    },
    {
      "cell_type": "code",
      "execution_count": null,
      "metadata": {
        "colab": {
          "base_uri": "https://localhost:8080/"
        },
        "id": "EWtuv41dr_Ph",
        "outputId": "66e4c0b1-4c0c-4742-94d1-bc0bbd3de6f2"
      },
      "outputs": [
        {
          "name": "stdout",
          "output_type": "stream",
          "text": [
            "hh\n"
          ]
        }
      ],
      "source": [
        "\"biswa\"\n",
        "a = \"hh\"\n",
        "print(a)"
      ]
    },
    {
      "cell_type": "code",
      "execution_count": null,
      "metadata": {
        "colab": {
          "base_uri": "https://localhost:8080/",
          "height": 36
        },
        "id": "0ukC6V8ermGE",
        "outputId": "643765ec-6263-41fd-bd50-a441658f031c"
      },
      "outputs": [
        {
          "data": {
            "application/vnd.google.colaboratory.intrinsic+json": {
              "type": "string"
            },
            "text/plain": [
              "'\\nThis is multiline \\nstring with more then \\none line code\\n'"
            ]
          },
          "execution_count": 104,
          "metadata": {},
          "output_type": "execute_result"
        }
      ],
      "source": [
        "\"\"\"\n",
        "This is multiline \n",
        "string with more then \n",
        "one line code\n",
        "\"\"\""
      ]
    },
    {
      "cell_type": "code",
      "execution_count": null,
      "metadata": {
        "colab": {
          "base_uri": "https://localhost:8080/"
        },
        "id": "6p1ySxb5rYWj",
        "outputId": "879011ee-a6be-4e27-9c39-136df3fbf3ff"
      },
      "outputs": [
        {
          "name": "stdout",
          "output_type": "stream",
          "text": [
            "😀\n",
            "😃\n",
            "😄\n",
            "😁\n",
            "😆\n",
            "😅\n",
            "🤣\n",
            "😂\n",
            "🙂\n",
            "🙃\n",
            "🫠\n",
            "😉\n",
            "😊\n",
            "😇\n"
          ]
        }
      ],
      "source": []
    },
    {
      "cell_type": "code",
      "execution_count": null,
      "metadata": {
        "id": "L-XMF9fFtDbb"
      },
      "outputs": [],
      "source": [
        "bro = u\"\\U0001f600\\U0001F606\\U0001F923\\U0001F400\\U0001F644\"\n",
        "print(bro)"
      ]
    },
    {
      "cell_type": "code",
      "execution_count": null,
      "metadata": {
        "id": "PcQwphy3tbgq"
      },
      "outputs": [],
      "source": [
        "new=u\"\\U0001f600\"\n",
        "print(new)"
      ]
    },
    {
      "cell_type": "markdown",
      "metadata": {
        "id": "Bb4dExStui5G"
      },
      "source": [
        "**3. Boolean Literals**"
      ]
    },
    {
      "cell_type": "code",
      "execution_count": null,
      "metadata": {
        "id": "eaLXPLrtupMb"
      },
      "outputs": [],
      "source": [
        "a=True+4\n",
        "b=False+10\n",
        "print('a=',a)\n",
        "print('b=',b)"
      ]
    },
    {
      "cell_type": "markdown",
      "metadata": {
        "id": "MtP76om5wMDW"
      },
      "source": [
        "**4.Special Literal**"
      ]
    },
    {
      "cell_type": "code",
      "execution_count": null,
      "metadata": {
        "id": "M-ur_gTFwTVd"
      },
      "outputs": [],
      "source": [
        "a = None\n",
        "print(a)"
      ]
    },
    {
      "cell_type": "code",
      "execution_count": null,
      "metadata": {
        "id": "jZ8Yb_bDwX6x"
      },
      "outputs": [],
      "source": [
        "c=34+45\n",
        "print(c)"
      ]
    },
    {
      "cell_type": "code",
      "execution_count": null,
      "metadata": {
        "id": "j9FytkBYwbZ8"
      },
      "outputs": [],
      "source": [
        "# In python u cant  declare varilable but if it nessary then we use None .\n",
        "k=None\n",
        "print(k)"
      ]
    },
    {
      "cell_type": "markdown",
      "metadata": {
        "id": "tenBlEdrxsIz"
      },
      "source": [
        "\n",
        "\n",
        "---\n",
        "\n",
        "\n",
        "\n",
        "---\n",
        "\n"
      ]
    },
    {
      "cell_type": "markdown",
      "metadata": {
        "id": "3VEDTMSNxtfD"
      },
      "source": [
        "# **Operators in python**"
      ]
    },
    {
      "cell_type": "markdown",
      "metadata": {
        "id": "b5v6fQOvx-35"
      },
      "source": [
        "Operator are used to perform operation on variable  and \n",
        "values .Python has the following operator.\n",
        "\n",
        "\n",
        "*   Arithmetic Operator\n",
        "\n",
        "*   Comparision Operator\n",
        "\n",
        "*   Logical Operator\n",
        "\n",
        "*   Bitwase Operator\n",
        "*   Assignment Operator\n",
        "\n",
        "\n",
        "*   Identity Operator \n",
        "\n",
        "\n",
        "*   Membership Operator\n",
        "\n",
        "\n",
        "\n",
        "\n"
      ]
    },
    {
      "cell_type": "markdown",
      "metadata": {
        "id": "D22o2Ldzzkga"
      },
      "source": [
        "**Arithmetic Operator**"
      ]
    },
    {
      "cell_type": "code",
      "execution_count": null,
      "metadata": {
        "id": "vG8-74H7zrE8"
      },
      "outputs": [],
      "source": [
        "x=5\n",
        "y=3\n",
        "print(x+y)"
      ]
    },
    {
      "cell_type": "code",
      "execution_count": null,
      "metadata": {
        "colab": {
          "base_uri": "https://localhost:8080/"
        },
        "id": "kpokq6blz4NA",
        "outputId": "4f85221a-6778-4544-bdfa-73bc24b62af1"
      },
      "outputs": [
        {
          "name": "stdout",
          "output_type": "stream",
          "text": [
            "2\n"
          ]
        }
      ],
      "source": [
        "print(x-y)"
      ]
    },
    {
      "cell_type": "code",
      "execution_count": null,
      "metadata": {
        "colab": {
          "base_uri": "https://localhost:8080/"
        },
        "id": "vv51MHrQz_xo",
        "outputId": "e76bfbe2-2ede-4a48-9e7d-33389d546aed"
      },
      "outputs": [
        {
          "name": "stdout",
          "output_type": "stream",
          "text": [
            "15\n"
          ]
        }
      ],
      "source": [
        "print(x*y)"
      ]
    },
    {
      "cell_type": "code",
      "execution_count": null,
      "metadata": {
        "colab": {
          "base_uri": "https://localhost:8080/"
        },
        "id": "NmazcMUx0C5k",
        "outputId": "ccfdae11-cd65-4fce-cba8-36ac8f85971a"
      },
      "outputs": [
        {
          "name": "stdout",
          "output_type": "stream",
          "text": [
            "1.6666666666666667\n"
          ]
        }
      ],
      "source": [
        "print(x/y) # true division"
      ]
    },
    {
      "cell_type": "code",
      "execution_count": null,
      "metadata": {
        "id": "5PwRbSuv0HKA"
      },
      "outputs": [],
      "source": [
        "print(x%y)"
      ]
    },
    {
      "cell_type": "code",
      "execution_count": null,
      "metadata": {
        "id": "mPNv1x-f0NuH"
      },
      "outputs": [],
      "source": [
        "print(x**y)"
      ]
    },
    {
      "cell_type": "code",
      "execution_count": null,
      "metadata": {
        "id": "sl5h-1Y30cW6"
      },
      "outputs": [],
      "source": [
        "print(x//y) # interger division"
      ]
    },
    {
      "cell_type": "markdown",
      "metadata": {
        "id": "Ah9_LR-k07A3"
      },
      "source": [
        "**Comparission Operator**"
      ]
    },
    {
      "cell_type": "code",
      "execution_count": null,
      "metadata": {
        "id": "ZR-0hB3w1AyP"
      },
      "outputs": [],
      "source": [
        "print(x>y)"
      ]
    },
    {
      "cell_type": "code",
      "execution_count": null,
      "metadata": {
        "id": "Xez1Jo1W1Ibv"
      },
      "outputs": [],
      "source": [
        "print(x<y)"
      ]
    },
    {
      "cell_type": "code",
      "execution_count": null,
      "metadata": {
        "id": "rD_c86Mr1L4m"
      },
      "outputs": [],
      "source": [
        "print(x>=y)"
      ]
    },
    {
      "cell_type": "code",
      "execution_count": null,
      "metadata": {
        "id": "f4eGcCdE1SWS"
      },
      "outputs": [],
      "source": [
        "print(x<=y)"
      ]
    },
    {
      "cell_type": "code",
      "execution_count": null,
      "metadata": {
        "id": "9gDTq-xX1Wn4"
      },
      "outputs": [],
      "source": [
        "print(x==y)"
      ]
    },
    {
      "cell_type": "code",
      "execution_count": null,
      "metadata": {
        "id": "ue4YQr4P1Zy3"
      },
      "outputs": [],
      "source": [
        "print(x!=y)"
      ]
    },
    {
      "cell_type": "markdown",
      "metadata": {
        "id": "NQLo1MtD111s"
      },
      "source": [
        "**Logical Operator**"
      ]
    },
    {
      "cell_type": "code",
      "execution_count": null,
      "metadata": {
        "id": "s2NZ27O818Ge"
      },
      "outputs": [],
      "source": [
        "x=True\n",
        "y=False\n",
        "print(x or y)"
      ]
    },
    {
      "cell_type": "code",
      "execution_count": null,
      "metadata": {
        "id": "xzMhPKmx2KM-"
      },
      "outputs": [],
      "source": [
        "print(x and y)"
      ]
    },
    {
      "cell_type": "code",
      "execution_count": null,
      "metadata": {
        "id": "1xl7gZXA2UTD"
      },
      "outputs": [],
      "source": [
        "print(not x)"
      ]
    },
    {
      "cell_type": "markdown",
      "metadata": {
        "id": "CnnG7ej32-z0"
      },
      "source": [
        "**Bitwaise Operator**"
      ]
    },
    {
      "cell_type": "code",
      "execution_count": null,
      "metadata": {
        "id": "Fg9ggXSL3JCO"
      },
      "outputs": [],
      "source": [
        "x= 6\n",
        "y= 8\n",
        "print(x & y)"
      ]
    },
    {
      "cell_type": "code",
      "execution_count": null,
      "metadata": {
        "id": "8Pn0M2VU3VnY"
      },
      "outputs": [],
      "source": [
        "print(x | y)"
      ]
    },
    {
      "cell_type": "code",
      "execution_count": null,
      "metadata": {
        "id": "vsz0WoRz3w7J"
      },
      "outputs": [],
      "source": [
        "print(x >> y)"
      ]
    },
    {
      "cell_type": "code",
      "execution_count": null,
      "metadata": {
        "id": "DLaMcpEh4AKS"
      },
      "outputs": [],
      "source": [
        "print(x << y)"
      ]
    },
    {
      "cell_type": "code",
      "execution_count": null,
      "metadata": {
        "id": "_BooiYgY4Etu"
      },
      "outputs": [],
      "source": [
        "print(-x)"
      ]
    },
    {
      "cell_type": "code",
      "execution_count": null,
      "metadata": {
        "id": "KUFq1Kxr4V2n"
      },
      "outputs": [],
      "source": [
        "# Bitwaise operator use when we work on binaray value.example is image proseseing project,when we use filter on image then we convert our image in binaray from. robotics"
      ]
    },
    {
      "cell_type": "markdown",
      "metadata": {
        "id": "Es8Grn2Q5oou"
      },
      "source": [
        "**Assignment Operator**"
      ]
    },
    {
      "cell_type": "code",
      "execution_count": null,
      "metadata": {
        "id": "e7F7DVSJ5ulu"
      },
      "outputs": [],
      "source": [
        "a=3\n",
        "print(a)"
      ]
    },
    {
      "cell_type": "code",
      "execution_count": null,
      "metadata": {
        "id": "QQnGBVxw6mBZ"
      },
      "outputs": [],
      "source": [
        "a += 5\n",
        "print(a)"
      ]
    },
    {
      "cell_type": "code",
      "execution_count": null,
      "metadata": {
        "id": "qH-JIxVs6q9_"
      },
      "outputs": [],
      "source": [
        "a-+3\n",
        "print(a)"
      ]
    },
    {
      "cell_type": "code",
      "execution_count": null,
      "metadata": {
        "id": "Mt2kHvss68u7"
      },
      "outputs": [],
      "source": [
        "a*=4\n",
        "a&=4\n",
        "print(a)\n",
        "print(a)"
      ]
    },
    {
      "cell_type": "code",
      "execution_count": null,
      "metadata": {
        "id": "yPcycT777LNB"
      },
      "outputs": [],
      "source": [
        "a++\n",
        "++a"
      ]
    },
    {
      "cell_type": "code",
      "execution_count": null,
      "metadata": {
        "id": "P-Qsv6xD7Yfq"
      },
      "outputs": [],
      "source": [
        "a=a+3\n",
        "a+=3\n"
      ]
    },
    {
      "cell_type": "markdown",
      "metadata": {
        "id": "G7vET2uB7lUn"
      },
      "source": [
        "**Identity Operator**"
      ]
    },
    {
      "cell_type": "code",
      "execution_count": null,
      "metadata": {
        "id": "OJgFOY-n7t5R"
      },
      "outputs": [],
      "source": [
        "a=3\n",
        "b=3\n",
        "print(a is b)"
      ]
    },
    {
      "cell_type": "code",
      "execution_count": null,
      "metadata": {
        "id": "WhgSGd4Q71uS"
      },
      "outputs": [],
      "source": [
        "a=\"hello\"\n",
        "b=\"hello\"\n",
        "print(a is  b)"
      ]
    },
    {
      "cell_type": "code",
      "execution_count": null,
      "metadata": {
        "id": "8vbvDE8R775t"
      },
      "outputs": [],
      "source": [
        "a=[1,2,3]\n",
        "b=[1,2,3]\n",
        "print(a is b)"
      ]
    },
    {
      "cell_type": "code",
      "execution_count": null,
      "metadata": {
        "id": "ssrlRRuI8Q3k"
      },
      "outputs": [],
      "source": [
        "a=\"Hello_world\"\n",
        "b=\"Hello_world\"\n",
        "print(a is b)"
      ]
    },
    {
      "cell_type": "code",
      "execution_count": null,
      "metadata": {
        "id": "kOgwj8si8jAA"
      },
      "outputs": [],
      "source": [
        "# this identity oprator  use for  only know ,if two variable look like same you cant told that they have same memory location but some time they prestent in same momory location"
      ]
    },
    {
      "cell_type": "markdown",
      "metadata": {
        "id": "1HV_XbBF-Ba4"
      },
      "source": [
        "**Membership Operator**"
      ]
    },
    {
      "cell_type": "code",
      "execution_count": null,
      "metadata": {
        "id": "r7yErwLX-H2U"
      },
      "outputs": [],
      "source": [
        "x= \"Delhi\"\n",
        "print(\"D\" in  x)"
      ]
    },
    {
      "cell_type": "code",
      "execution_count": null,
      "metadata": {
        "id": "-ng5HxAE-Tra"
      },
      "outputs": [],
      "source": [
        "x=[1,2,3]\n",
        "print( 5 in x)"
      ]
    },
    {
      "cell_type": "markdown",
      "metadata": {
        "id": "9XTpZP_HBr2c"
      },
      "source": [
        "\n",
        "\n",
        "---\n",
        "\n",
        "\n",
        "\n",
        "---\n",
        "\n"
      ]
    },
    {
      "cell_type": "markdown",
      "metadata": {
        "id": "DNPiSBT_Bucs"
      },
      "source": [
        "# **If-else Statement in python**"
      ]
    },
    {
      "cell_type": "code",
      "execution_count": null,
      "metadata": {
        "colab": {
          "base_uri": "https://localhost:8080/"
        },
        "id": "vYiZGcv5CIqW",
        "outputId": "68e42b81-05d0-4ad5-c035-6b77f07f5687"
      },
      "outputs": [
        {
          "name": "stdout",
          "output_type": "stream",
          "text": [
            "apna email bataliku\n",
            "apna passwad bata123\n",
            "wong\n"
          ]
        }
      ],
      "source": [
        "# correct  email - campusx@gmail.com\n",
        "# password = 1234\n",
        "\n",
        "email=input('apna email bata' )\n",
        "password=input('apna passwad bata')\n",
        "\n",
        "if email==\"campusx@gmail.com\" and password=='1234':\n",
        "  print('welcome')\n",
        "else:\n",
        "   print(\"wong\")"
      ]
    },
    {
      "cell_type": "code",
      "execution_count": null,
      "metadata": {
        "colab": {
          "base_uri": "https://localhost:8080/",
          "height": 138
        },
        "id": "msMDRRaCDbbn",
        "outputId": "4306d8bd-efd5-4d9a-b79b-b194b70749f4"
      },
      "outputs": [
        {
          "ename": "SyntaxError",
          "evalue": "ignored",
          "output_type": "error",
          "traceback": [
            "\u001b[0;36m  File \u001b[0;32m\"<ipython-input-21-b44b05cb3d8b>\"\u001b[0;36m, line \u001b[0;32m3\u001b[0m\n\u001b[0;31m    if  email =='campusx@gmail.com' and password='1234':\u001b[0m\n\u001b[0m                                                ^\u001b[0m\n\u001b[0;31mSyntaxError\u001b[0m\u001b[0;31m:\u001b[0m invalid syntax\n"
          ]
        }
      ],
      "source": [
        "email=input('enter ur email')\n",
        "password=input('enter ur password')\n",
        "if  email =='campusx@gmail.com' and password='1234':\n",
        "  print('wellcome')\n",
        "elif email=='campusx@gmail.com' and password!='1234':\n",
        "  print('incorect')\n",
        "  password = input('again password')\n",
        "  if password ==\"1234\":\n",
        "    print('finaly correct')\n",
        "    else:\n",
        "      print('still incorect')\n",
        "      else:\n",
        "        print('worng')\n",
        "\n",
        "  "
      ]
    },
    {
      "cell_type": "markdown",
      "metadata": {
        "id": "8ysDO0hbY8hP"
      },
      "source": [
        "# **Identation in python:**"
      ]
    },
    {
      "cell_type": "code",
      "execution_count": null,
      "metadata": {
        "colab": {
          "base_uri": "https://localhost:8080/",
          "height": 138
        },
        "id": "er6dLZWnUFkY",
        "outputId": "22fe6b8f-11aa-4aa3-9f39-050338d6916c"
      },
      "outputs": [
        {
          "ename": "SyntaxError",
          "evalue": "ignored",
          "output_type": "error",
          "traceback": [
            "\u001b[0;36m  File \u001b[0;32m\"<ipython-input-22-35a27680889b>\"\u001b[0;36m, line \u001b[0;32m1\u001b[0m\n\u001b[0;31m    if name=='xyz'\u001b[0m\n\u001b[0m                  ^\u001b[0m\n\u001b[0;31mSyntaxError\u001b[0m\u001b[0;31m:\u001b[0m invalid syntax\n"
          ]
        }
      ],
      "source": [
        "if name=='xyz'\n",
        " \n"
      ]
    },
    {
      "cell_type": "markdown",
      "metadata": {
        "id": "FyYm8Bk1UW3T"
      },
      "source": []
    },
    {
      "cell_type": "code",
      "execution_count": null,
      "metadata": {
        "id": "_Z6_xNXWUWWx"
      },
      "outputs": [],
      "source": []
    },
    {
      "cell_type": "markdown",
      "metadata": {
        "id": "JsWvN9ZYUZsN"
      },
      "source": [
        "\n",
        "\n",
        "---\n",
        "\n",
        "\n",
        "\n",
        "---\n",
        "\n"
      ]
    },
    {
      "cell_type": "markdown",
      "metadata": {
        "id": "qn3CB_7RgmYH"
      },
      "source": [
        "# `**Loops in python:**"
      ]
    },
    {
      "cell_type": "markdown",
      "metadata": {
        "id": "FbtoYfa0gyiE"
      },
      "source": [
        "**in python two loops presents**\n",
        "\n",
        "**for loops **\n",
        "\n",
        "**while loops **"
      ]
    },
    {
      "cell_type": "code",
      "execution_count": null,
      "metadata": {
        "id": "tqS0uKjMiii3"
      },
      "outputs": [],
      "source": [
        "# while loops\n",
        "while condition:\n",
        "    code"
      ]
    },
    {
      "cell_type": "code",
      "execution_count": null,
      "metadata": {
        "colab": {
          "base_uri": "https://localhost:8080/"
        },
        "id": "v3DyLEFFhdQF",
        "outputId": "45337e48-dfec-4e4b-f681-f73d274798e5"
      },
      "outputs": [
        {
          "name": "stdout",
          "output_type": "stream",
          "text": [
            "Enter the number12\n",
            "12\n",
            "24\n",
            "36\n",
            "48\n",
            "60\n",
            "72\n",
            "84\n",
            "96\n",
            "108\n",
            "120\n"
          ]
        }
      ],
      "source": [
        "number= int(input('Enter the number'))\n",
        "\n",
        "i=1\n",
        "while i<11:\n",
        "  print(number*i)\n",
        "  i+=1\n"
      ]
    },
    {
      "cell_type": "markdown",
      "metadata": {
        "id": "8-QxB4X45r8D"
      },
      "source": [
        "**Guessing game using python :**"
      ]
    },
    {
      "cell_type": "code",
      "execution_count": null,
      "metadata": {
        "id": "KTOjPjv15z8j"
      },
      "outputs": [],
      "source": [
        "import  random"
      ]
    },
    {
      "cell_type": "code",
      "execution_count": null,
      "metadata": {
        "colab": {
          "base_uri": "https://localhost:8080/"
        },
        "id": "UGF4GY8U54St",
        "outputId": "2e8caafb-af4c-403d-f7d9-b3e5322a7a26"
      },
      "outputs": [
        {
          "data": {
            "text/plain": [
              "36"
            ]
          },
          "execution_count": 25,
          "metadata": {},
          "output_type": "execute_result"
        }
      ],
      "source": [
        "random.randint(1,100)"
      ]
    },
    {
      "cell_type": "code",
      "execution_count": null,
      "metadata": {
        "colab": {
          "base_uri": "https://localhost:8080/"
        },
        "id": "RAHABLM56DEj",
        "outputId": "7231631f-845b-43c0-82c3-67dca47a1476"
      },
      "outputs": [
        {
          "name": "stdout",
          "output_type": "stream",
          "text": [
            "guess number46\n",
            "guess lower\n",
            "chal guess kar40\n",
            "guess lower\n",
            "chal guess kar35\n",
            "guess lower\n",
            "chal guess kar30\n",
            "guess lower\n",
            "chal guess kar20\n",
            "guess lower\n",
            "chal guess kar10\n",
            "guess lower\n",
            "chal guess kar5\n",
            "guess lower\n",
            "chal guess kar3\n",
            "sahi jawab\n",
            "you took 8 attemp\n"
          ]
        }
      ],
      "source": [
        "jackpot = random. randint(1,100)\n",
        "\n",
        "guess = int(input('guess number'))\n",
        "counter =1\n",
        "while guess != jackpot:\n",
        "    if guess < jackpot:\n",
        "      print('guess higher')\n",
        "    else:\n",
        "      print('guess lower')\n",
        "    guess = int(input('chal guess kar'))  \n",
        "    counter+=1\n",
        "print('sahi jawab')    \n",
        "print('you took',counter,'attemp')    "
      ]
    },
    {
      "cell_type": "code",
      "execution_count": null,
      "metadata": {
        "id": "w1F2_aqT_FL8"
      },
      "outputs": [],
      "source": []
    },
    {
      "cell_type": "markdown",
      "metadata": {
        "id": "EMSCNbMIcf44"
      },
      "source": [
        "# **For loop in python:**"
      ]
    },
    {
      "cell_type": "markdown",
      "metadata": {
        "id": "YPVckVWMcn-h"
      },
      "source": [
        "**Range function(built in function)**"
      ]
    },
    {
      "cell_type": "code",
      "execution_count": null,
      "metadata": {
        "colab": {
          "base_uri": "https://localhost:8080/"
        },
        "id": "H0KzfEkXcwhM",
        "outputId": "9e369e30-128c-4d4c-bd50-b05d04e837dc"
      },
      "outputs": [
        {
          "data": {
            "text/plain": [
              "range(2, 20, 3)"
            ]
          },
          "execution_count": 28,
          "metadata": {},
          "output_type": "execute_result"
        }
      ],
      "source": [
        "# range function (start,stop,step)\n",
        "range(2,20,3)"
      ]
    },
    {
      "cell_type": "code",
      "execution_count": null,
      "metadata": {
        "colab": {
          "base_uri": "https://localhost:8080/"
        },
        "id": "zCF3ycihdGhD",
        "outputId": "1d35f455-b788-4ae4-a457-b4676af108fb"
      },
      "outputs": [
        {
          "data": {
            "text/plain": [
              "[3, 5, 7]"
            ]
          },
          "execution_count": 32,
          "metadata": {},
          "output_type": "execute_result"
        }
      ],
      "source": [
        "list(range(3,9,2))"
      ]
    },
    {
      "cell_type": "code",
      "execution_count": null,
      "metadata": {
        "colab": {
          "base_uri": "https://localhost:8080/"
        },
        "id": "76vurzHIdZ_Z",
        "outputId": "4f76f7c0-f933-4be2-9028-469ef0b18280"
      },
      "outputs": [
        {
          "data": {
            "text/plain": [
              "[3, 4, 5, 6]"
            ]
          },
          "execution_count": 34,
          "metadata": {},
          "output_type": "execute_result"
        }
      ],
      "source": [
        "list(range(3,7,1))"
      ]
    },
    {
      "cell_type": "code",
      "execution_count": null,
      "metadata": {
        "colab": {
          "base_uri": "https://localhost:8080/"
        },
        "id": "JrUst3Z4dmTA",
        "outputId": "bbf11528-ef17-4f5a-8513-ba37dac576f4"
      },
      "outputs": [
        {
          "data": {
            "text/plain": [
              "{2, 5, 8, 11, 14, 17}"
            ]
          },
          "execution_count": 35,
          "metadata": {},
          "output_type": "execute_result"
        }
      ],
      "source": [
        "set(range(2,20,3))"
      ]
    },
    {
      "cell_type": "code",
      "execution_count": null,
      "metadata": {
        "colab": {
          "base_uri": "https://localhost:8080/"
        },
        "id": "AVWsJPBkfaoc",
        "outputId": "8f5958ba-4c66-468e-933c-5c70b974ad66"
      },
      "outputs": [
        {
          "data": {
            "text/plain": [
              "(20, 25, 30, 35)"
            ]
          },
          "execution_count": 37,
          "metadata": {},
          "output_type": "execute_result"
        }
      ],
      "source": [
        "tuple(range(20,40,5))"
      ]
    },
    {
      "cell_type": "markdown",
      "metadata": {
        "id": "9aWah6a1eLMk"
      },
      "source": [
        "**Sequence(any thing comes in order)**"
      ]
    },
    {
      "cell_type": "code",
      "execution_count": null,
      "metadata": {
        "colab": {
          "base_uri": "https://localhost:8080/",
          "height": 36
        },
        "id": "3RfQXA3TeYWs",
        "outputId": "c3955603-658b-4eb4-e5b4-8901f3711aae"
      },
      "outputs": [
        {
          "data": {
            "application/vnd.google.colaboratory.intrinsic+json": {
              "type": "string"
            },
            "text/plain": [
              "'odisha'"
            ]
          },
          "execution_count": 39,
          "metadata": {},
          "output_type": "execute_result"
        }
      ],
      "source": [
        "# string\n",
        "\"odisha\""
      ]
    },
    {
      "cell_type": "code",
      "execution_count": null,
      "metadata": {
        "id": "89zBvmXhgGgD"
      },
      "outputs": [],
      "source": []
    },
    {
      "cell_type": "markdown",
      "metadata": {
        "id": "-QaTFzPrgJaP"
      },
      "source": [
        "**For loops : iteration on range or sequence.**"
      ]
    },
    {
      "cell_type": "code",
      "execution_count": null,
      "metadata": {
        "colab": {
          "base_uri": "https://localhost:8080/"
        },
        "id": "ZyM3UcyAgfP8",
        "outputId": "653fa553-d4e9-42e0-ebc1-e795c10b4caa"
      },
      "outputs": [
        {
          "name": "stdout",
          "output_type": "stream",
          "text": [
            "1\n",
            "6\n",
            "11\n",
            "16\n",
            "21\n",
            "26\n"
          ]
        }
      ],
      "source": [
        "for i in range(1,30,5):\n",
        "  print(i)"
      ]
    },
    {
      "cell_type": "code",
      "execution_count": null,
      "metadata": {
        "colab": {
          "base_uri": "https://localhost:8080/"
        },
        "id": "wPFBqAiLhK_n",
        "outputId": "c05662c5-e269-431b-c877-4957a7d6d363"
      },
      "outputs": [
        {
          "name": "stdout",
          "output_type": "stream",
          "text": [
            "o\n",
            "d\n",
            "i\n",
            "s\n",
            "h\n",
            "a\n"
          ]
        }
      ],
      "source": [
        "for i in \"odisha\":\n",
        "  print(i)"
      ]
    },
    {
      "cell_type": "code",
      "execution_count": null,
      "metadata": {
        "colab": {
          "base_uri": "https://localhost:8080/"
        },
        "id": "3yhoIbTWhgDS",
        "outputId": "ff291792-310f-43be-d613-c7c9092cf3c4"
      },
      "outputs": [
        {
          "name": "stdout",
          "output_type": "stream",
          "text": [
            "o\n",
            "y\n",
            "o\n",
            "h\n",
            "f\n",
            "e\n",
            "k\n",
            "h\n",
            "f\n",
            "l\n",
            "e\n",
            "h\n",
            "f\n"
          ]
        }
      ],
      "source": [
        "for i in \"oyohfekhflehf\":\n",
        "  print(i)"
      ]
    },
    {
      "cell_type": "code",
      "execution_count": null,
      "metadata": {
        "colab": {
          "base_uri": "https://localhost:8080/"
        },
        "id": "2O_m-6klhjj_",
        "outputId": "7388f472-f80e-4d55-c7e2-c92dd3fbbda8"
      },
      "outputs": [
        {
          "name": "stdout",
          "output_type": "stream",
          "text": [
            "1\n",
            "3\n",
            "4\n",
            "6\n",
            "7\n",
            "8\n"
          ]
        }
      ],
      "source": [
        "for i in {1,4,6,3,7,8}:\n",
        "  print(i)"
      ]
    },
    {
      "cell_type": "code",
      "execution_count": null,
      "metadata": {
        "colab": {
          "base_uri": "https://localhost:8080/"
        },
        "id": "7J8oQXyYiMFt",
        "outputId": "7bc16181-a433-42d2-c3a8-e73106fae267"
      },
      "outputs": [
        {
          "name": "stdout",
          "output_type": "stream",
          "text": [
            "o\n",
            "d\n",
            "i\n",
            "s\n",
            "h\n",
            "a\n"
          ]
        }
      ],
      "source": [
        "for i in 'odisha':\n",
        "  print(i)"
      ]
    },
    {
      "cell_type": "code",
      "execution_count": null,
      "metadata": {
        "colab": {
          "base_uri": "https://localhost:8080/"
        },
        "id": "3ia2dBcriTHy",
        "outputId": "0232a066-5f17-40a0-94de-127c7acd21bd"
      },
      "outputs": [
        {
          "name": "stdout",
          "output_type": "stream",
          "text": [
            "a\n",
            "b\n",
            "c\n",
            "d\n",
            "e\n",
            "f\n",
            "g\n",
            "h\n",
            "i\n",
            "j\n",
            "j\n"
          ]
        }
      ],
      "source": [
        "a = \"abcdefghij\"\n",
        "for i in a:\n",
        "  print(i)\n",
        "print(i)"
      ]
    },
    {
      "cell_type": "code",
      "execution_count": null,
      "metadata": {
        "colab": {
          "base_uri": "https://localhost:8080/"
        },
        "id": "lPybEn3aoZP1",
        "outputId": "16d708ec-11d2-4782-cedd-df8d039176d7"
      },
      "outputs": [
        {
          "name": "stdout",
          "output_type": "stream",
          "text": [
            "['a', 'b', 'c', 'd', 'e', 'f', 'g', 'h', 'i', 'j']\n"
          ]
        }
      ],
      "source": [
        "a = []\n",
        "for i in \"abcdefghij\":\n",
        "  a.append(i)\n",
        "print(a)"
      ]
    },
    {
      "cell_type": "markdown",
      "metadata": {
        "id": "mu7SgMRnilAa"
      },
      "source": [
        "NOTE: \n",
        "\n",
        "FOR LOOPS=When  you know that how many times loops is run then we use  for  loops.\n",
        "\n",
        "WHILE LOOPS =When  you not know that how many times loops is run then we use  for  loops."
      ]
    },
    {
      "cell_type": "markdown",
      "metadata": {
        "id": "xbF-iGc21ftg"
      },
      "source": [
        "**Nested loop  in python :**"
      ]
    },
    {
      "cell_type": "code",
      "execution_count": null,
      "metadata": {
        "colab": {
          "base_uri": "https://localhost:8080/"
        },
        "id": "iFim0E_B1pYF",
        "outputId": "978e4728-a0aa-4f6c-8c88-c29291d23bd9"
      },
      "outputs": [
        {
          "name": "stdout",
          "output_type": "stream",
          "text": [
            "enter the number of rows10\n",
            "*\n",
            "**\n",
            "***\n",
            "****\n",
            "*****\n",
            "******\n",
            "*******\n",
            "********\n",
            "*********\n",
            "**********\n"
          ]
        }
      ],
      "source": [
        "rows = int(input('enter the number of rows'))\n",
        "for i in range(1,rows+1):\n",
        "    for j in range(0,i):\n",
        "        print('*',end=\"\")\n",
        "    print(\"\")"
      ]
    },
    {
      "cell_type": "code",
      "execution_count": null,
      "metadata": {
        "id": "DD5iap6f2Pgf"
      },
      "outputs": [],
      "source": []
    },
    {
      "cell_type": "markdown",
      "metadata": {
        "id": "NJHXlvEM7YaS"
      },
      "source": [
        "# **Break,Continue And Pass Statement  in  python :**"
      ]
    },
    {
      "cell_type": "markdown",
      "metadata": {
        "id": "rmC2hSmj7orR"
      },
      "source": [
        "**Breaks Statement :**\n",
        "\n",
        "when a loops is runing  that time , if we put the break statement then it terminate the  loops statement  or break  the loop . "
      ]
    },
    {
      "cell_type": "code",
      "execution_count": null,
      "metadata": {
        "colab": {
          "base_uri": "https://localhost:8080/"
        },
        "id": "35YlVgdh8apA",
        "outputId": "28c3f729-d4aa-498c-c016-6c6e07c8dadb"
      },
      "outputs": [
        {
          "name": "stdout",
          "output_type": "stream",
          "text": [
            "1\n",
            "2\n",
            "3\n",
            "4\n"
          ]
        }
      ],
      "source": [
        "for i in range(1,11):\n",
        "    if i==5:\n",
        "      break\n",
        "    print(i)"
      ]
    },
    {
      "cell_type": "markdown",
      "metadata": {
        "id": "ffNIc7CZ85m0"
      },
      "source": [
        "Break statement use  to terminate the loops. it is use in linear searching."
      ]
    },
    {
      "cell_type": "markdown",
      "metadata": {
        "id": "nc7GC5rv9Q03"
      },
      "source": [
        "**Continue Statement:**"
      ]
    },
    {
      "cell_type": "code",
      "execution_count": null,
      "metadata": {
        "colab": {
          "base_uri": "https://localhost:8080/"
        },
        "id": "vPA-rlQf81Ol",
        "outputId": "67040e8e-8bd7-47a3-fcff-6a7fecbe2a7b"
      },
      "outputs": [
        {
          "name": "stdout",
          "output_type": "stream",
          "text": [
            "1\n",
            "2\n",
            "3\n",
            "4\n",
            "6\n",
            "7\n",
            "8\n",
            "9\n",
            "10\n"
          ]
        }
      ],
      "source": [
        "for i in range (1,11):\n",
        "  if i==5:\n",
        "    continue\n",
        "  print(i)"
      ]
    },
    {
      "cell_type": "markdown",
      "metadata": {
        "id": "zlZI4KUz9ugC"
      },
      "source": [
        "Ex of continue statemnet is flipcart  product stock or not."
      ]
    },
    {
      "cell_type": "markdown",
      "metadata": {
        "id": "L9V5rdm4-5Sh"
      },
      "source": [
        "**Pass statement:**\n",
        "\n",
        "if u not know the that what logic u write  in the loop but u want to run the loop that time u use pass statement."
      ]
    },
    {
      "cell_type": "code",
      "execution_count": null,
      "metadata": {
        "id": "VYZ26iK8_gHn"
      },
      "outputs": [],
      "source": [
        "for i in range (1,11):\n",
        "    pass"
      ]
    },
    {
      "cell_type": "code",
      "execution_count": null,
      "metadata": {
        "id": "NFIwWXqg_mr-"
      },
      "outputs": [],
      "source": []
    },
    {
      "cell_type": "markdown",
      "metadata": {
        "id": "pa_xZU2KDCgf"
      },
      "source": [
        "# **Built-in function:**"
      ]
    },
    {
      "cell_type": "markdown",
      "metadata": {
        "id": "_LugtvlKDczv"
      },
      "source": [
        "**1. Print**"
      ]
    },
    {
      "cell_type": "code",
      "execution_count": null,
      "metadata": {
        "colab": {
          "background_save": true
        },
        "id": "2HQGzEvaDkI_",
        "outputId": "bda621b8-8d6c-4a56-a18f-fa2d88cb2d21"
      },
      "outputs": [
        {
          "name": "stdout",
          "output_type": "stream",
          "text": [
            "hello every one\n"
          ]
        }
      ],
      "source": [
        "print('hello e')"
      ]
    },
    {
      "cell_type": "markdown",
      "metadata": {
        "id": "wy8KaLw3Dkvq"
      },
      "source": [
        "**2.Input** "
      ]
    },
    {
      "cell_type": "code",
      "execution_count": null,
      "metadata": {
        "id": "CBJqvZanDrd2"
      },
      "outputs": [],
      "source": []
    },
    {
      "cell_type": "markdown",
      "metadata": {
        "id": "SnBi2UW6DryZ"
      },
      "source": [
        "**3.Type**"
      ]
    },
    {
      "cell_type": "code",
      "execution_count": null,
      "metadata": {
        "id": "9Vqa6DQgD1aM"
      },
      "outputs": [],
      "source": []
    },
    {
      "cell_type": "markdown",
      "metadata": {
        "id": "CfqOfM19D18H"
      },
      "source": [
        "**4.int etc**"
      ]
    },
    {
      "cell_type": "code",
      "execution_count": null,
      "metadata": {
        "id": "NxGqu4GMD7dW"
      },
      "outputs": [],
      "source": []
    },
    {
      "cell_type": "markdown",
      "metadata": {
        "id": "12E4rdH_D7_p"
      },
      "source": [
        "**5.abs**"
      ]
    },
    {
      "cell_type": "code",
      "execution_count": null,
      "metadata": {
        "id": "zYU2gW_nEA8k"
      },
      "outputs": [],
      "source": []
    },
    {
      "cell_type": "markdown",
      "metadata": {
        "id": "40sbibsHECjX"
      },
      "source": [
        "**6.pow**"
      ]
    },
    {
      "cell_type": "code",
      "execution_count": null,
      "metadata": {
        "id": "BdqbbBf9EGQV"
      },
      "outputs": [],
      "source": []
    },
    {
      "cell_type": "markdown",
      "metadata": {
        "id": "6cpgqPl9EHGF"
      },
      "source": [
        "**7. Min/Max**\n"
      ]
    },
    {
      "cell_type": "code",
      "execution_count": null,
      "metadata": {
        "id": "o1SeBvPQENLQ"
      },
      "outputs": [],
      "source": []
    },
    {
      "cell_type": "markdown",
      "metadata": {
        "id": "AJ47ffl2ENwV"
      },
      "source": [
        "**8. Round**"
      ]
    },
    {
      "cell_type": "code",
      "execution_count": null,
      "metadata": {
        "id": "o336v6yHEU80"
      },
      "outputs": [],
      "source": []
    },
    {
      "cell_type": "markdown",
      "metadata": {
        "id": "mNZezOPdEVWD"
      },
      "source": [
        "**9.divmod**"
      ]
    },
    {
      "cell_type": "code",
      "execution_count": null,
      "metadata": {
        "id": "EB_e9Jm2Eb0v"
      },
      "outputs": [],
      "source": []
    },
    {
      "cell_type": "markdown",
      "metadata": {
        "id": "_ECkyLKHEcia"
      },
      "source": [
        "**10. bin/oct/hex**"
      ]
    },
    {
      "cell_type": "code",
      "execution_count": null,
      "metadata": {
        "id": "hE4hlrvVEjUP"
      },
      "outputs": [],
      "source": []
    },
    {
      "cell_type": "markdown",
      "metadata": {
        "id": "tnnvXKCIEjte"
      },
      "source": [
        "**11.id**"
      ]
    },
    {
      "cell_type": "code",
      "execution_count": null,
      "metadata": {
        "id": "EkM1u4gXEnet"
      },
      "outputs": [],
      "source": []
    },
    {
      "cell_type": "markdown",
      "metadata": {
        "id": "Zxwz1AkYEppm"
      },
      "source": [
        "**12. ord**"
      ]
    },
    {
      "cell_type": "code",
      "execution_count": null,
      "metadata": {
        "colab": {
          "background_save": true
        },
        "id": "wn9UGYjZEvlB",
        "outputId": "87de45c9-dd87-48e0-8c7f-f3cefad02afb"
      },
      "outputs": [
        {
          "data": {
            "text/plain": [
              "118"
            ]
          },
          "execution_count": 140,
          "metadata": {},
          "output_type": "execute_result"
        }
      ],
      "source": []
    },
    {
      "cell_type": "markdown",
      "metadata": {
        "id": "bMSyGo7TEv5K"
      },
      "source": [
        "**13. len**"
      ]
    },
    {
      "cell_type": "code",
      "execution_count": null,
      "metadata": {
        "id": "qq1evqRyE0N0"
      },
      "outputs": [],
      "source": []
    },
    {
      "cell_type": "markdown",
      "metadata": {
        "id": "4_uGVaZ6E3qE"
      },
      "source": [
        "**14.sum**"
      ]
    },
    {
      "cell_type": "code",
      "execution_count": null,
      "metadata": {
        "id": "Xo4qhBo1E8BR"
      },
      "outputs": [],
      "source": []
    },
    {
      "cell_type": "markdown",
      "metadata": {
        "id": "7oDkuOglE8yG"
      },
      "source": [
        "**15.help**"
      ]
    },
    {
      "cell_type": "code",
      "execution_count": null,
      "metadata": {
        "id": "l5uaTXmLFAVx"
      },
      "outputs": [],
      "source": []
    },
    {
      "cell_type": "markdown",
      "source": [
        "\n",
        "\n",
        "---\n",
        "\n",
        "\n",
        "\n",
        "---\n",
        "\n"
      ],
      "metadata": {
        "id": "OReRJolKocpR"
      }
    },
    {
      "cell_type": "markdown",
      "source": [
        "# **Built in Madules:**"
      ],
      "metadata": {
        "id": "W7zoa5-ZsRYT"
      }
    },
    {
      "cell_type": "markdown",
      "source": [
        "Madules: consider a module to be the same as code libraries\n",
        "\n",
        "\n",
        "\n",
        "*   A file containing  the set of function u want to include in ur libraries.\n",
        "\n",
        "*   Module is nothing but a python file ,where the function will be write. you can import that file and use  as function.\n",
        "*   MOdules are use to code resibility.\n",
        "\n",
        "\n",
        "*   example of python modules \n",
        "        \n",
        "\n",
        "1.   Math\n",
        "\n",
        "1.   Random\n",
        "2.   os\n",
        "\n",
        "\n",
        "\n",
        "\n",
        "\n",
        "\n",
        "  4.time\n",
        "\n",
        "\n",
        "\n",
        "\n",
        "\n",
        "\n",
        "\n"
      ],
      "metadata": {
        "id": "2NP19V4jsZiN"
      }
    },
    {
      "cell_type": "code",
      "source": [
        "# if now the modules are then use help function\n",
        "help('modules')"
      ],
      "metadata": {
        "colab": {
          "base_uri": "https://localhost:8080/"
        },
        "id": "P9Pz3fq8uWBt",
        "outputId": "6b257a86-e413-4f57-8347-1ba3ee0ad5bb"
      },
      "execution_count": 1,
      "outputs": [
        {
          "output_type": "stream",
          "name": "stdout",
          "text": [
            "\n",
            "Please wait a moment while I gather a list of all available modules...\n",
            "\n"
          ]
        },
        {
          "output_type": "stream",
          "name": "stderr",
          "text": [
            "/usr/local/lib/python3.7/dist-packages/IPython/kernel/__init__.py:13: ShimWarning: The `IPython.kernel` package has been deprecated since IPython 4.0.You should import from ipykernel or jupyter_client instead.\n",
            "  \"You should import from ipykernel or jupyter_client instead.\", ShimWarning)\n",
            "/usr/local/lib/python3.7/dist-packages/llvmlite/llvmpy/__init__.py:4: UserWarning: The module `llvmlite.llvmpy` is deprecated and will be removed in the future.\n",
            "  \"The module `llvmlite.llvmpy` is deprecated and will be removed in the \"\n",
            "/usr/local/lib/python3.7/dist-packages/llvmlite/llvmpy/core.py:9: UserWarning: The module `llvmlite.llvmpy.core` is deprecated and will be removed in the future. Equivalent functionality is provided by `llvmlite.ir`.\n",
            "  \"The module `llvmlite.llvmpy.core` is deprecated and will be removed in \"\n",
            "WARNING: AstropyDeprecationWarning: The private astropy._erfa module has been made into its own package, pyerfa, which is a dependency of astropy and can be imported directly using \"import erfa\" [astropy._erfa]\n",
            "WARNING:astropy:AstropyDeprecationWarning: The private astropy._erfa module has been made into its own package, pyerfa, which is a dependency of astropy and can be imported directly using \"import erfa\"\n",
            "/usr/local/lib/python3.7/dist-packages/caffe2/__init__.py:5: UserWarning: Caffe2 support is not fully enabled in this PyTorch build. Please enable Caffe2 by building PyTorch from source with `BUILD_CAFFE2=1` flag.\n",
            "  warnings.warn(\"Caffe2 support is not fully enabled in this PyTorch build. \"\n",
            "/usr/local/lib/python3.7/dist-packages/caffe2/proto/__init__.py:17: UserWarning: Caffe2 support is not enabled in this PyTorch build. Please enable Caffe2 by building PyTorch from source with `BUILD_CAFFE2=1` flag.\n",
            "  warnings.warn('Caffe2 support is not enabled in this PyTorch build. '\n",
            "/usr/local/lib/python3.7/dist-packages/caffe2/proto/__init__.py:17: UserWarning: Caffe2 support is not enabled in this PyTorch build. Please enable Caffe2 by building PyTorch from source with `BUILD_CAFFE2=1` flag.\n",
            "  warnings.warn('Caffe2 support is not enabled in this PyTorch build. '\n",
            "/usr/local/lib/python3.7/dist-packages/caffe2/python/__init__.py:9: UserWarning: Caffe2 support is not enabled in this PyTorch build. Please enable Caffe2 by building PyTorch from source with `BUILD_CAFFE2=1` flag.\n",
            "  warnings.warn('Caffe2 support is not enabled in this PyTorch build. '\n",
            "/usr/local/lib/python3.7/dist-packages/past/types/oldstr.py:5: DeprecationWarning:\n",
            "\n",
            "Using or importing the ABCs from 'collections' instead of from 'collections.abc' is deprecated since Python 3.3,and in 3.9 it will stop working\n",
            "\n",
            "/usr/local/lib/python3.7/dist-packages/intervaltree/intervaltree.py:37: DeprecationWarning:\n",
            "\n",
            "Using or importing the ABCs from 'collections' instead of from 'collections.abc' is deprecated since Python 3.3,and in 3.9 it will stop working\n",
            "\n",
            "/usr/local/lib/python3.7/dist-packages/jupyter_client/ssh/tunnel.py:57: DeprecationWarning:\n",
            "\n",
            "zmq.utils.strtypes is deprecated in pyzmq 23.\n",
            "\n",
            "/usr/local/lib/python3.7/dist-packages/librosa/core/constantq.py:1059: DeprecationWarning:\n",
            "\n",
            "`np.complex` is a deprecated alias for the builtin `complex`. To silence this warning, use `complex` by itself. Doing this will not modify any behavior and is safe. If you specifically wanted the numpy scalar type, use `np.complex128` here.\n",
            "Deprecated in NumPy 1.20; for more details and guidance: https://numpy.org/devdocs/release/1.20.0-notes.html#deprecations\n",
            "\n"
          ]
        },
        {
          "output_type": "stream",
          "name": "stdout",
          "text": [
            "Downloading http://dlib.net/files/shape_predictor_68_face_landmarks.dat.bz2 to /root/mlxtend_data/shape_predictor_68_face_landmarks.dat.bz2\n"
          ]
        },
        {
          "output_type": "stream",
          "name": "stderr",
          "text": [
            "/usr/local/lib/python3.7/dist-packages/nbconvert/filters/strings.py:22: DeprecationWarning:\n",
            "\n",
            "defusedxml.cElementTree is deprecated, import from defusedxml.ElementTree instead.\n",
            "\n",
            "/usr/local/lib/python3.7/dist-packages/nibabel/quaternions.py:31: DeprecationWarning:\n",
            "\n",
            "`np.float` is a deprecated alias for the builtin `float`. To silence this warning, use `float` by itself. Doing this will not modify any behavior and is safe. If you specifically wanted the numpy scalar type, use `np.float64` here.\n",
            "Deprecated in NumPy 1.20; for more details and guidance: https://numpy.org/devdocs/release/1.20.0-notes.html#deprecations\n",
            "\n",
            "/usr/lib/python3.7/pkgutil.py:92: UserWarning:\n",
            "\n",
            "The DICOM readers are highly experimental, unstable, and only work for Siemens time-series at the moment\n",
            "Please use with caution.  We would be grateful for your help in improving them\n",
            "\n",
            "/usr/local/lib/python3.7/dist-packages/nltk/twitter/__init__.py:21: UserWarning:\n",
            "\n",
            "The twython library has not been installed. Some functionality from the twitter package will not be available.\n",
            "\n",
            "/usr/local/lib/python3.7/dist-packages/pip/_vendor/packaging/version.py:130: DeprecationWarning:\n",
            "\n",
            "Creating a LegacyVersion has been deprecated and will be removed in the next major release\n",
            "\n",
            "/usr/local/lib/python3.7/dist-packages/pip/_vendor/packaging/version.py:130: DeprecationWarning:\n",
            "\n",
            "Creating a LegacyVersion has been deprecated and will be removed in the next major release\n",
            "\n",
            "/usr/lib/python3.7/pkgutil.py:92: UserWarning: Viewer requires Qt\n",
            "/usr/local/lib/python3.7/dist-packages/sphinx/websupport/__init__.py:25: RemovedInSphinx20Warning: sphinx.websupport module is now provided as sphinxcontrib-websupport. sphinx.websupport will be removed at Sphinx-2.0. Please use the package instead.\n",
            "/usr/local/lib/python3.7/dist-packages/marshmallow/fields.py:569: RemovedInMarshmallow4Warning: The 'missing' argument to fields is deprecated. Use 'load_default' instead.\n",
            "/usr/local/lib/python3.7/dist-packages/tensorboard/_vendor/html5lib/filters/sanitizer.py:29: DeprecationWarning: html5lib's sanitizer is deprecated; see https://github.com/html5lib/html5lib-python/issues/443 and please let us know if Bleach is unsuitable for your needs\n",
            "/usr/local/lib/python3.7/dist-packages/torch/distributed/_sharded_tensor/__init__.py:10: DeprecationWarning: torch.distributed._sharded_tensor will be deprecated, use torch.distributed._shard.sharded_tensor instead\n",
            "/usr/local/lib/python3.7/dist-packages/torch/distributed/_sharding_spec/__init__.py:10: DeprecationWarning: torch.distributed._sharding_spec will be deprecated, use torch.distributed._shard.sharding_spec instead\n"
          ]
        },
        {
          "output_type": "stream",
          "name": "stdout",
          "text": [
            "No CUDA runtime is found, using CUDA_HOME='/usr/local/cuda'\n",
            "Cython              collections         kapre               resource\n",
            "IPython             colorcet            keras               rlcompleter\n",
            "OpenGL              colorlover          keras_preprocessing rmagic\n",
            "PIL                 colorsys            keyword             rpy2\n",
            "ScreenResolution    community           kiwisolver          rsa\n",
            "__future__          compileall          korean_lunar_calendar runpy\n",
            "_abc                concurrent          langcodes           samples\n",
            "_ast                configparser        lib2to3             sched\n",
            "_asyncio            cons                libfuturize         scipy\n",
            "_bisect             contextlib          libpasteurize       scs\n",
            "_blake2             contextlib2         librosa             seaborn\n",
            "_bootlocale         contextvars         lightgbm            secrets\n",
            "_bz2                convertdate         linecache           select\n",
            "_cffi_backend       copy                llvmlite            selectors\n",
            "_codecs             copyreg             lmdb                send2trash\n",
            "_codecs_cn          crashtest           locale              setuptools\n",
            "_codecs_hk          crcmod              locket              setuptools_git\n",
            "_codecs_iso2022     crypt               logging             shapely\n",
            "_codecs_jp          csimdjson           lsb_release         shelve\n",
            "_codecs_kr          csv                 lunarcalendar       shlex\n",
            "_codecs_tw          ctypes              lxml                shutil\n",
            "_collections        cufflinks           lzma                signal\n",
            "_collections_abc    curses              macpath             simdjson\n",
            "_compat_pickle      cv2                 mailbox             site\n",
            "_compression        cvxopt              mailcap             sitecustomize\n",
            "_contextvars        cvxpy               markdown            six\n",
            "_crypt              cycler              markupsafe          skimage\n",
            "_csv                cymem               marshal             sklearn\n",
            "_ctypes             cython              marshmallow         sklearn_pandas\n",
            "_ctypes_test        cythonmagic         math                slugify\n",
            "_curses             daft                matplotlib          smart_open\n",
            "_curses_panel       dask                matplotlib_venn     smtpd\n",
            "_cvxcore            dataclasses         mimetypes           smtplib\n",
            "_datetime           datascience         missingno           sndhdr\n",
            "_dbm                datetime            mistune             snowballstemmer\n",
            "_decimal            dateutil            mizani              socket\n",
            "_distutils_hack     dbm                 mlxtend             socketserver\n",
            "_dlib_pybind11      dbus                mmap                socks\n",
            "_dummy_thread       debugpy             modulefinder        sockshandler\n",
            "_ecos               decimal             more_itertools      softwareproperties\n",
            "_elementtree        decorator           moviepy             sortedcontainers\n",
            "_functools          defusedxml          mpmath              soundfile\n",
            "_hashlib            descartes           msgpack             spacy\n",
            "_heapq              difflib             multidict           spacy_legacy\n",
            "_imp                dill                multipledispatch    spacy_loggers\n",
            "_io                 dis                 multiprocessing     sphinx\n",
            "_json               distributed         multitasking        spwd\n",
            "_locale             distutils           murmurhash          sql\n",
            "_lsprof             dlib                music21             sqlalchemy\n",
            "_lzma               docs                natsort             sqlite3\n",
            "_markupbase         doctest             nbconvert           sqlparse\n",
            "_md5                docutils            nbformat            sre_compile\n",
            "_multibytecodec     dopamine            netCDF4             sre_constants\n",
            "_multiprocessing    dot_parser          netrc               sre_parse\n",
            "_opcode             dummy_threading     networkx            srsly\n",
            "_operator           easydict            nibabel             ssl\n",
            "_osx_support        ecos                nis                 stan\n",
            "_pickle             editdistance        nisext              stat\n",
            "_plotly_future_     ee                  nltk                statistics\n",
            "_plotly_utils       email               nntplib             statsmodels\n",
            "_posixsubprocess    en_core_web_sm      notebook            storemagic\n",
            "_py_abc             encodings           ntpath              string\n",
            "_pydecimal          entrypoints         nturl2path          stringprep\n",
            "_pyio               enum                numba               struct\n",
            "_pyrsistent_version ephem               numbergen           subprocess\n",
            "_pytest             erfa                numbers             sunau\n",
            "_queue              errno               numexpr             symbol\n",
            "_random             et_xmlfile          numpy               sympy\n",
            "_rinterface_cffi_abi etils               oauth2client        sympyprinting\n",
            "_rinterface_cffi_api etuples             oauthlib            symtable\n",
            "_scs_direct         fa2                 ogr                 sys\n",
            "_scs_indirect       fastai              okgrade             sysconfig\n",
            "_sha1               fastcore            opcode              syslog\n",
            "_sha256             fastdownload        openpyxl            tables\n",
            "_sha3               fastdtw             operator            tabnanny\n",
            "_sha512             fastjsonschema      opt_einsum          tabulate\n",
            "_signal             fastprogress        optparse            tarfile\n",
            "_sitebuiltins       fastrlock           os                  tblib\n",
            "_socket             faulthandler        osgeo               telnetlib\n",
            "_soundfile          fcntl               osqp                tempfile\n",
            "_sqlite3            feather             osqppurepy          tenacity\n",
            "_sre                filecmp             osr                 tensorboard\n",
            "_ssl                fileinput           ossaudiodev         tensorboard_data_server\n",
            "_stat               filelock            packaging           tensorboard_plugin_wit\n",
            "_string             firebase_admin      palettable          tensorflow\n",
            "_strptime           fix_yahoo_finance   pandas              tensorflow_datasets\n",
            "_struct             flask               pandas_datareader   tensorflow_estimator\n",
            "_symtable           flatbuffers         pandas_gbq          tensorflow_gcs_config\n",
            "_sysconfigdata_m_linux_x86_64-linux-gnu fnmatch             pandas_profiling    tensorflow_hub\n",
            "_sysconfigdata_m_x86_64-linux-gnu folium              pandocfilters       tensorflow_io_gcs_filesystem\n",
            "_testbuffer         formatter           panel               tensorflow_metadata\n",
            "_testcapi           fractions           param               tensorflow_probability\n",
            "_testimportmultiple frozenlist          parser              termcolor\n",
            "_testmultiphase     fsspec              parso               terminado\n",
            "_thread             ftplib              partd               termios\n",
            "_threading_local    functools           past                test\n",
            "_tkinter            future              pasta               testpath\n",
            "_tracemalloc        gast                pastel              tests\n",
            "_warnings           gc                  pathlib             text_unidecode\n",
            "_weakref            gdal                pathy               textblob\n",
            "_weakrefset         gdalconst           patsy               textwrap\n",
            "_xxtestfuzz         gdalnumeric         pdb                 thinc\n",
            "_yaml               gdown               pep517              this\n",
            "abc                 genericpath         pexpect             threading\n",
            "absl                gensim              pickle              threadpoolctl\n",
            "aeppl               geographiclib       pickleshare         tifffile\n",
            "aesara              geopy               pickletools         time\n",
            "aifc                getopt              pip                 timeit\n",
            "aiohttp             getpass             pipes               tkinter\n",
            "aiosignal           gettext             piptools            tlz\n",
            "alabaster           gi                  pkg_resources       token\n",
            "albumentations      gin                 pkgutil             tokenize\n",
            "altair              glob                platform            toml\n",
            "antigravity         glob2               plistlib            tomli\n",
            "apiclient           gnm                 plotly              toolz\n",
            "appdirs             google_auth_httplib2 plotlywidget        torch\n",
            "apt                 google_auth_oauthlib plotnine            torchaudio\n",
            "apt_inst            google_drive_downloader pluggy              torchgen\n",
            "apt_pkg             googleapiclient     pooch               torchsummary\n",
            "aptsources          googlesearch        poplib              torchtext\n",
            "argparse            graphviz            portpicker          torchvision\n",
            "array               greenlet            posix               tornado\n",
            "arviz               gridfs              posixpath           tqdm\n",
            "ast                 grp                 pprint              trace\n",
            "astor               grpc                prefetch_generator  traceback\n",
            "astropy             gspread             preshed             tracemalloc\n",
            "astunparse          gspread_dataframe   prettytable         traitlets\n",
            "async_timeout       gym                 profile             tree\n",
            "asynchat            gym_notices         progressbar         tty\n",
            "asyncio             gzip                promise             turtle\n",
            "asyncore            h5py                prompt_toolkit      tweepy\n",
            "asynctest           hashlib             prophet             typeguard\n",
            "atari_py            heapdict            pstats              typer\n",
            "atexit              heapq               psutil              types\n",
            "atomicwrites        hijri_converter     psycopg2            typing\n",
            "attr                hmac                pty                 typing_extensions\n",
            "attrs               holidays            ptyprocess          tzlocal\n",
            "audioop             holoviews           pvectorc            ujson\n",
            "audioread           html                pwd                 unicodedata\n",
            "autograd            html5lib            py                  unification\n",
            "autoreload          http                py_compile          unittest\n",
            "babel               httpimport          pyarrow             uritemplate\n",
            "backcall            httplib2            pyasn1              urllib\n",
            "base64              httplib2shim        pyasn1_modules      urllib3\n",
            "bdb                 httpstan            pyclbr              uu\n",
            "bin                 humanize            pycocotools         uuid\n",
            "binascii            hyperopt            pycparser           vega_datasets\n",
            "binhex              idna                pyct                venv\n",
            "bisect              imageio             pydantic            vis\n",
            "bleach              imagesize           pydata_google_auth  warnings\n",
            "blis                imaplib             pydoc               wasabi\n",
            "bokeh               imblearn            pydoc_data          wave\n",
            "boost               imgaug              pydot               wcwidth\n",
            "branca              imghdr              pydot_ng            weakref\n",
            "bs4                 imp                 pydotplus           webargs\n",
            "bson                importlib           pydrive             webbrowser\n",
            "builtins            importlib_metadata  pyemd               webencodings\n",
            "bz2                 importlib_resources pyexpat             werkzeug\n",
            "cProfile            imutils             pygments            wheel\n",
            "cachecontrol        inflect             pygtkcompat         widgetsnbextension\n",
            "cached_property     inspect             pylab               wordcloud\n",
            "cachetools          intervaltree        pylev               wrapt\n",
            "caffe2              io                  pymc                wsgiref\n",
            "calendar            ipaddress           pymeeus             xarray\n",
            "catalogue           ipykernel           pymongo             xarray_einstats\n",
            "certifi             ipykernel_launcher  pymystem3           xdrlib\n",
            "cffi                ipython_genutils    pyparsing           xgboost\n",
            "cftime              ipywidgets          pyrsistent          xkit\n",
            "cgi                 isympy              pysndfile           xlrd\n",
            "cgitb               itertools           pytest              xlwt\n",
            "chardet             itsdangerous        python_utils        xml\n",
            "charset_normalizer  jax                 pytz                xmlrpc\n",
            "chess               jaxlib              pyviz_comms         xxlimited\n",
            "chunk               jieba               pywt                xxsubtype\n",
            "clang               jinja2              pyximport           yaml\n",
            "click               joblib              qdldl               yarl\n",
            "client              jpeg4py             qudida              yellowbrick\n",
            "clikit              json                queue               zict\n",
            "cloudpickle         jsonschema          quopri              zipapp\n",
            "cmake               jupyter             random              zipfile\n",
            "cmath               jupyter_client      re                  zipimport\n",
            "cmd                 jupyter_console     readline            zipp\n",
            "cmdstanpy           jupyter_core        regex               zlib\n",
            "code                jupyterlab_plotly   reprlib             zmq\n",
            "codecs              jupyterlab_widgets  requests            \n",
            "codeop              kaggle              requests_oauthlib   \n",
            "colab               kanren              resampy             \n",
            "\n",
            "Enter any module name to get more help.  Or, type \"modules spam\" to search\n",
            "for modules whose name or summary contain the string \"spam\".\n",
            "\n"
          ]
        },
        {
          "output_type": "stream",
          "name": "stderr",
          "text": [
            "/usr/lib/python3.7/pkgutil.py:107: VisibleDeprecationWarning: zmq.eventloop.minitornado is deprecated in pyzmq 14.0 and will be removed.\n",
            "    Install tornado itself to use zmq with the tornado IOLoop.\n",
            "    \n"
          ]
        }
      ]
    },
    {
      "cell_type": "code",
      "source": [
        "import math"
      ],
      "metadata": {
        "id": "WdqPoUvWuh3i"
      },
      "execution_count": 2,
      "outputs": []
    },
    {
      "cell_type": "code",
      "source": [
        "math.pi"
      ],
      "metadata": {
        "colab": {
          "base_uri": "https://localhost:8080/"
        },
        "id": "XjKsojvTu0GV",
        "outputId": "0bd39052-f244-48ad-d5e0-e2549391af64"
      },
      "execution_count": 3,
      "outputs": [
        {
          "output_type": "execute_result",
          "data": {
            "text/plain": [
              "3.141592653589793"
            ]
          },
          "metadata": {},
          "execution_count": 3
        }
      ]
    },
    {
      "cell_type": "code",
      "source": [
        "math.e"
      ],
      "metadata": {
        "colab": {
          "base_uri": "https://localhost:8080/"
        },
        "id": "znb-aUDsu2jA",
        "outputId": "c1927c46-6b32-4368-c259-558808df45f5"
      },
      "execution_count": 4,
      "outputs": [
        {
          "output_type": "execute_result",
          "data": {
            "text/plain": [
              "2.718281828459045"
            ]
          },
          "metadata": {},
          "execution_count": 4
        }
      ]
    },
    {
      "cell_type": "code",
      "source": [
        "math.factorial(6)"
      ],
      "metadata": {
        "colab": {
          "base_uri": "https://localhost:8080/"
        },
        "id": "JHnc_v1Wu4Hr",
        "outputId": "bd387165-15e9-4c73-a8c0-92ac5e93a40e"
      },
      "execution_count": 5,
      "outputs": [
        {
          "output_type": "execute_result",
          "data": {
            "text/plain": [
              "720"
            ]
          },
          "metadata": {},
          "execution_count": 5
        }
      ]
    },
    {
      "cell_type": "code",
      "source": [
        "math.ceil(6.1)"
      ],
      "metadata": {
        "colab": {
          "base_uri": "https://localhost:8080/"
        },
        "id": "qXZUf1zzu8wQ",
        "outputId": "b4cd8e70-4682-46f5-f38d-fe527afc52d9"
      },
      "execution_count": 9,
      "outputs": [
        {
          "output_type": "execute_result",
          "data": {
            "text/plain": [
              "7"
            ]
          },
          "metadata": {},
          "execution_count": 9
        }
      ]
    },
    {
      "cell_type": "code",
      "source": [
        "math.floor(6.9)"
      ],
      "metadata": {
        "colab": {
          "base_uri": "https://localhost:8080/"
        },
        "id": "LIbj2HDtvAII",
        "outputId": "694fbee5-2a4a-4fd9-f1ef-920d3053629c"
      },
      "execution_count": 10,
      "outputs": [
        {
          "output_type": "execute_result",
          "data": {
            "text/plain": [
              "6"
            ]
          },
          "metadata": {},
          "execution_count": 10
        }
      ]
    },
    {
      "cell_type": "code",
      "source": [
        "math.sqrt(188)"
      ],
      "metadata": {
        "colab": {
          "base_uri": "https://localhost:8080/"
        },
        "id": "rpcKH4BLvLEo",
        "outputId": "b24f1a38-36eb-45e5-8cdb-912059f63c29"
      },
      "execution_count": 12,
      "outputs": [
        {
          "output_type": "execute_result",
          "data": {
            "text/plain": [
              "13.711309200802088"
            ]
          },
          "metadata": {},
          "execution_count": 12
        }
      ]
    },
    {
      "cell_type": "code",
      "source": [
        "import random"
      ],
      "metadata": {
        "id": "h4fCRaYIvQ6k"
      },
      "execution_count": 13,
      "outputs": []
    },
    {
      "cell_type": "code",
      "source": [
        "random.randint(1,569)"
      ],
      "metadata": {
        "colab": {
          "base_uri": "https://localhost:8080/"
        },
        "id": "de-bREWtvfaJ",
        "outputId": "275391eb-63b3-4233-b4e5-f7ec6645745c"
      },
      "execution_count": 14,
      "outputs": [
        {
          "output_type": "execute_result",
          "data": {
            "text/plain": [
              "443"
            ]
          },
          "metadata": {},
          "execution_count": 14
        }
      ]
    },
    {
      "cell_type": "code",
      "source": [
        "a=[1,4,3,6,7]\n",
        "random.shuffle(a)"
      ],
      "metadata": {
        "id": "tFWZLpeTvlHX"
      },
      "execution_count": 17,
      "outputs": []
    },
    {
      "cell_type": "code",
      "source": [
        "import time"
      ],
      "metadata": {
        "id": "F6APUM3lvwtv"
      },
      "execution_count": 19,
      "outputs": []
    },
    {
      "cell_type": "code",
      "source": [
        "time.time()"
      ],
      "metadata": {
        "colab": {
          "base_uri": "https://localhost:8080/"
        },
        "id": "PoAWXqRHwJET",
        "outputId": "1a485818-b5d4-4fa9-fe48-8a17e0e8733f"
      },
      "execution_count": 20,
      "outputs": [
        {
          "output_type": "execute_result",
          "data": {
            "text/plain": [
              "1663406524.2258084"
            ]
          },
          "metadata": {},
          "execution_count": 20
        }
      ]
    },
    {
      "cell_type": "code",
      "source": [
        "time.ctime()"
      ],
      "metadata": {
        "colab": {
          "base_uri": "https://localhost:8080/",
          "height": 36
        },
        "id": "I1jwjTAPwL03",
        "outputId": "a367769d-9fbb-4094-d55a-51e7fd145c7c"
      },
      "execution_count": 21,
      "outputs": [
        {
          "output_type": "execute_result",
          "data": {
            "text/plain": [
              "'Sat Sep 17 09:22:07 2022'"
            ],
            "application/vnd.google.colaboratory.intrinsic+json": {
              "type": "string"
            }
          },
          "metadata": {},
          "execution_count": 21
        }
      ]
    },
    {
      "cell_type": "code",
      "source": [
        "print('hello')\n",
        "time.sleep(3)\n",
        "print('world')"
      ],
      "metadata": {
        "colab": {
          "base_uri": "https://localhost:8080/"
        },
        "id": "lJyU9rUPwZZS",
        "outputId": "37763670-561f-4692-9413-e2e7eb221822"
      },
      "execution_count": 25,
      "outputs": [
        {
          "output_type": "stream",
          "name": "stdout",
          "text": [
            "hello\n",
            "world\n"
          ]
        }
      ]
    },
    {
      "cell_type": "code",
      "source": [
        "import os"
      ],
      "metadata": {
        "id": "0329SrSPwcKm"
      },
      "execution_count": 26,
      "outputs": []
    },
    {
      "cell_type": "code",
      "source": [
        "os.getcwd()"
      ],
      "metadata": {
        "colab": {
          "base_uri": "https://localhost:8080/",
          "height": 36
        },
        "id": "56JwXWTkw6y7",
        "outputId": "b7701140-bd19-459a-b6ca-8d64649054fb"
      },
      "execution_count": 27,
      "outputs": [
        {
          "output_type": "execute_result",
          "data": {
            "text/plain": [
              "'/content'"
            ],
            "application/vnd.google.colaboratory.intrinsic+json": {
              "type": "string"
            }
          },
          "metadata": {},
          "execution_count": 27
        }
      ]
    },
    {
      "cell_type": "code",
      "source": [
        "os.listdir()"
      ],
      "metadata": {
        "colab": {
          "base_uri": "https://localhost:8080/"
        },
        "id": "NPu3yoYAw-29",
        "outputId": "763c5183-3884-45a0-93da-726ed851cd2c"
      },
      "execution_count": 28,
      "outputs": [
        {
          "output_type": "execute_result",
          "data": {
            "text/plain": [
              "['.config', 'sample_data']"
            ]
          },
          "metadata": {},
          "execution_count": 28
        }
      ]
    },
    {
      "cell_type": "code",
      "source": [],
      "metadata": {
        "id": "4M0lVDkGxD5r"
      },
      "execution_count": null,
      "outputs": []
    }
  ],
  "metadata": {
    "colab": {
      "provenance": [],
      "authorship_tag": "ABX9TyPJuvtgqhh8/MWDctcLVeIN",
      "include_colab_link": true
    },
    "kernelspec": {
      "display_name": "Python 3",
      "name": "python3"
    },
    "language_info": {
      "name": "python"
    }
  },
  "nbformat": 4,
  "nbformat_minor": 0
}