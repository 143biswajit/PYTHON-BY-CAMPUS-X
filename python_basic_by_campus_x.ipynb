{
  "cells": [
    {
      "cell_type": "markdown",
      "metadata": {
        "id": "view-in-github",
        "colab_type": "text"
      },
      "source": [
        "<a href=\"https://colab.research.google.com/github/143biswajit/PYTHON-BY-CAMPUS-X/blob/main/python_basic_by_campus_x.ipynb\" target=\"_parent\"><img src=\"https://colab.research.google.com/assets/colab-badge.svg\" alt=\"Open In Colab\"/></a>"
      ]
    },
    {
      "cell_type": "markdown",
      "metadata": {
        "id": "4wY8tkiLvFij"
      },
      "source": [
        "# **CLASS-6**"
      ]
    },
    {
      "cell_type": "markdown",
      "metadata": {
        "id": "Yc79bYH6x6Br"
      },
      "source": [
        "**How to take user input in python ?**"
      ]
    },
    {
      "cell_type": "markdown",
      "metadata": {
        "id": "BOJZBVgQyPWQ"
      },
      "source": [
        "**Static software** = software talk in unidirection i.e software only talk  with user but user canot talk with software. ex -clock ,college website\n",
        "\n",
        "\n",
        "**Dynamic Software** = here software talk with user and also user talk with software. ex- u tube,watsap,swiggie.\n",
        "\n",
        "\n",
        "\n",
        "\n",
        "*   *To make dynamic software we need user input, so that we make dynamic software.*\n",
        "\n",
        "\n",
        "*  *Every programing language have some functionality to take user input*\n",
        "*   *that is in c language-scanf,c++=c in,java =system n*\n",
        "\n",
        "\n",
        "\n",
        "*   *In python the function is built in function.*\n",
        "\n",
        "\n",
        "\n",
        "\n"
      ]
    },
    {
      "cell_type": "code",
      "execution_count": 2,
      "metadata": {
        "colab": {
          "base_uri": "https://localhost:8080/",
          "height": 55
        },
        "id": "lkYTw1qC2lsG",
        "outputId": "2475e2a9-5a36-4eb5-d486-f709ca4663be"
      },
      "outputs": [
        {
          "name": "stdout",
          "output_type": "stream",
          "text": [
            "Apna nama batabisw\n"
          ]
        },
        {
          "output_type": "execute_result",
          "data": {
            "text/plain": [
              "'bisw'"
            ],
            "application/vnd.google.colaboratory.intrinsic+json": {
              "type": "string"
            }
          },
          "metadata": {},
          "execution_count": 2
        }
      ],
      "source": [
        "input(\"Apna nama bata\")"
      ]
    },
    {
      "cell_type": "code",
      "execution_count": 3,
      "metadata": {
        "colab": {
          "base_uri": "https://localhost:8080/",
          "height": 55
        },
        "id": "d_9DyXs4yJKZ",
        "outputId": "e77a56b3-a626-4351-8d27-d1223e835f45"
      },
      "outputs": [
        {
          "name": "stdout",
          "output_type": "stream",
          "text": [
            "apna name batakase\n"
          ]
        },
        {
          "output_type": "execute_result",
          "data": {
            "text/plain": [
              "'kase'"
            ],
            "application/vnd.google.colaboratory.intrinsic+json": {
              "type": "string"
            }
          },
          "metadata": {},
          "execution_count": 3
        }
      ],
      "source": [
        "input(prompt =\"apna name bata\")"
      ]
    },
    {
      "cell_type": "code",
      "execution_count": 4,
      "metadata": {
        "colab": {
          "base_uri": "https://localhost:8080/"
        },
        "id": "XnSQC1Ja3SJ1",
        "outputId": "1fbda903-b35f-4296-a329-43bca6cd2041"
      },
      "outputs": [
        {
          "name": "stdout",
          "output_type": "stream",
          "text": [
            "Enter the first numberbiswa\n",
            "Enter the second numberjiefjis\n"
          ]
        }
      ],
      "source": [
        "first_number=input(\"Enter the first number\")\n",
        "second_number=input(\"Enter the second number\")\n"
      ]
    },
    {
      "cell_type": "code",
      "execution_count": 5,
      "metadata": {
        "colab": {
          "base_uri": "https://localhost:8080/"
        },
        "id": "DRzAZ6e639Ng",
        "outputId": "286f7170-3a94-4ed0-9f29-936abc341b4b"
      },
      "outputs": [
        {
          "output_type": "stream",
          "name": "stdout",
          "text": [
            "biswa\n",
            "jiefjis\n"
          ]
        }
      ],
      "source": [
        "print(first_number)\n",
        "print(second_number)"
      ]
    },
    {
      "cell_type": "code",
      "execution_count": 6,
      "metadata": {
        "colab": {
          "base_uri": "https://localhost:8080/"
        },
        "id": "HSRKyU7K4MgP",
        "outputId": "c55d66df-020e-4f40-972d-e8f8cb380936"
      },
      "outputs": [
        {
          "output_type": "stream",
          "name": "stdout",
          "text": [
            "biswajiefjis\n"
          ]
        }
      ],
      "source": [
        "result = first_number+second_number\n",
        "print(result)"
      ]
    },
    {
      "cell_type": "code",
      "execution_count": 7,
      "metadata": {
        "colab": {
          "base_uri": "https://localhost:8080/"
        },
        "id": "dd72xoMX4afb",
        "outputId": "54f59a82-7385-457d-b162-fc97a2e80ef9"
      },
      "outputs": [
        {
          "output_type": "execute_result",
          "data": {
            "text/plain": [
              "str"
            ]
          },
          "metadata": {},
          "execution_count": 7
        }
      ],
      "source": [
        "# type function\n",
        "type('tdhdh')"
      ]
    },
    {
      "cell_type": "code",
      "execution_count": 8,
      "metadata": {
        "colab": {
          "base_uri": "https://localhost:8080/"
        },
        "id": "3lp9ru9o5pVh",
        "outputId": "7e9bf92e-d5d0-4135-a2ab-cc2d94eddbf5"
      },
      "outputs": [
        {
          "output_type": "execute_result",
          "data": {
            "text/plain": [
              "str"
            ]
          },
          "metadata": {},
          "execution_count": 8
        }
      ],
      "source": [
        "type(first_number)"
      ]
    },
    {
      "cell_type": "code",
      "execution_count": 9,
      "metadata": {
        "colab": {
          "base_uri": "https://localhost:8080/",
          "height": 36
        },
        "id": "zaV4BWxF6ByS",
        "outputId": "e9a20cb7-42cf-48df-8d8e-d477d2f5c152"
      },
      "outputs": [
        {
          "output_type": "execute_result",
          "data": {
            "text/plain": [
              "'biswa'"
            ],
            "application/vnd.google.colaboratory.intrinsic+json": {
              "type": "string"
            }
          },
          "metadata": {},
          "execution_count": 9
        }
      ],
      "source": [
        "first_number"
      ]
    },
    {
      "cell_type": "markdown",
      "metadata": {
        "id": "8OR85HQT6hEm"
      },
      "source": [
        " **To over come this problem we use type conversion in python.** "
      ]
    },
    {
      "cell_type": "markdown",
      "metadata": {
        "id": "l7XUsT0Q7B4O"
      },
      "source": [
        "\n",
        "\n",
        "---\n",
        "\n",
        "\n",
        "\n",
        "---\n",
        "\n"
      ]
    },
    {
      "cell_type": "markdown",
      "metadata": {
        "id": "jnM8TK0H7FDc"
      },
      "source": [
        "# **Class=7**"
      ]
    },
    {
      "cell_type": "markdown",
      "metadata": {
        "id": "bqMQNkGT7ZPN"
      },
      "source": [
        "**Types conversion in python.**\n",
        "\n",
        "\n",
        "\n",
        "---\n",
        "\n",
        "\n",
        "\n"
      ]
    },
    {
      "cell_type": "markdown",
      "metadata": {
        "id": "0uzq9zEZ791j"
      },
      "source": [
        "It is two types \n",
        "# Imlicit - Here python do autometical type conversion\n",
        "#Explicit -Here we tell  python for type conversion"
      ]
    },
    {
      "cell_type": "code",
      "execution_count": 10,
      "metadata": {
        "colab": {
          "base_uri": "https://localhost:8080/"
        },
        "id": "9S4sn_VP9G42",
        "outputId": "cba0a79c-d4bc-4a65-d915-8385055bb486"
      },
      "outputs": [
        {
          "output_type": "execute_result",
          "data": {
            "text/plain": [
              "9.6"
            ]
          },
          "metadata": {},
          "execution_count": 10
        }
      ],
      "source": [
        "4+5.6"
      ]
    },
    {
      "cell_type": "code",
      "execution_count": 11,
      "metadata": {
        "colab": {
          "base_uri": "https://localhost:8080/"
        },
        "id": "MPG86CWd9Kvb",
        "outputId": "ce654e2e-289b-4259-c9e2-9b096bf75d9b"
      },
      "outputs": [
        {
          "output_type": "execute_result",
          "data": {
            "text/plain": [
              "(11.5+3j)"
            ]
          },
          "metadata": {},
          "execution_count": 11
        }
      ],
      "source": [
        "4+7.5+3j"
      ]
    },
    {
      "cell_type": "code",
      "execution_count": 12,
      "metadata": {
        "colab": {
          "base_uri": "https://localhost:8080/",
          "height": 36
        },
        "id": "Qs74Ntm99RSY",
        "outputId": "fe638f1a-cc39-4a61-c0b6-19350ea3c709"
      },
      "outputs": [
        {
          "output_type": "execute_result",
          "data": {
            "text/plain": [
              "'biswajiefjis'"
            ],
            "application/vnd.google.colaboratory.intrinsic+json": {
              "type": "string"
            }
          },
          "metadata": {},
          "execution_count": 12
        }
      ],
      "source": [
        "first_number+second_number"
      ]
    },
    {
      "cell_type": "code",
      "execution_count": 13,
      "metadata": {
        "colab": {
          "base_uri": "https://localhost:8080/"
        },
        "id": "HZwGan4x93HA",
        "outputId": "7c0853f2-353f-487b-c988-bab9bd9ab463"
      },
      "outputs": [
        {
          "output_type": "execute_result",
          "data": {
            "text/plain": [
              "3"
            ]
          },
          "metadata": {},
          "execution_count": 13
        }
      ],
      "source": [
        "#  int function\n",
        "int(3.6)"
      ]
    },
    {
      "cell_type": "code",
      "execution_count": 14,
      "metadata": {
        "colab": {
          "base_uri": "https://localhost:8080/"
        },
        "id": "yhMvLAjS-AeQ",
        "outputId": "f730947b-6d6e-49ff-cb3f-b0b1bd7c6a68"
      },
      "outputs": [
        {
          "output_type": "execute_result",
          "data": {
            "text/plain": [
              "45"
            ]
          },
          "metadata": {},
          "execution_count": 14
        }
      ],
      "source": [
        "int('45')"
      ]
    },
    {
      "cell_type": "code",
      "execution_count": 15,
      "metadata": {
        "colab": {
          "base_uri": "https://localhost:8080/"
        },
        "id": "CozOuRbn-FJ2",
        "outputId": "37f83b38-6636-48eb-c85b-6054fe7877d0"
      },
      "outputs": [
        {
          "output_type": "execute_result",
          "data": {
            "text/plain": [
              "4.0"
            ]
          },
          "metadata": {},
          "execution_count": 15
        }
      ],
      "source": [
        "float(4)"
      ]
    },
    {
      "cell_type": "code",
      "execution_count": 16,
      "metadata": {
        "colab": {
          "base_uri": "https://localhost:8080/"
        },
        "id": "ad6q_rsC-Ylk",
        "outputId": "f3e0e3af-2431-49c3-9edc-641a84a9410d"
      },
      "outputs": [
        {
          "output_type": "execute_result",
          "data": {
            "text/plain": [
              "True"
            ]
          },
          "metadata": {},
          "execution_count": 16
        }
      ],
      "source": [
        "bool(1)"
      ]
    },
    {
      "cell_type": "code",
      "execution_count": 17,
      "metadata": {
        "colab": {
          "base_uri": "https://localhost:8080/"
        },
        "id": "cwi7E1tP-dEz",
        "outputId": "af5c864c-0a41-49aa-b2e2-e693932cb8f1"
      },
      "outputs": [
        {
          "output_type": "execute_result",
          "data": {
            "text/plain": [
              "(4+0j)"
            ]
          },
          "metadata": {},
          "execution_count": 17
        }
      ],
      "source": [
        "complex(4)"
      ]
    },
    {
      "cell_type": "code",
      "execution_count": 18,
      "metadata": {
        "colab": {
          "base_uri": "https://localhost:8080/"
        },
        "id": "DkBVwIDY-pcr",
        "outputId": "875449d3-1f03-4172-c69d-cbc7a5aded14"
      },
      "outputs": [
        {
          "output_type": "execute_result",
          "data": {
            "text/plain": [
              "['b', 'i', 's', 'w', 'a', 'j', 'i', 't']"
            ]
          },
          "metadata": {},
          "execution_count": 18
        }
      ],
      "source": [
        "list('biswajit')"
      ]
    },
    {
      "cell_type": "code",
      "execution_count": 82,
      "metadata": {
        "colab": {
          "base_uri": "https://localhost:8080/",
          "height": 176
        },
        "id": "yi4ixlJ1-ySo",
        "outputId": "72b5b73f-64bb-43d3-c947-aea9f4501aa1"
      },
      "outputs": [
        {
          "output_type": "error",
          "ename": "ValueError",
          "evalue": "ignored",
          "traceback": [
            "\u001b[0;31m---------------------------------------------------------------------------\u001b[0m",
            "\u001b[0;31mValueError\u001b[0m                                Traceback (most recent call last)",
            "\u001b[0;32m<ipython-input-82-2b75b40b202b>\u001b[0m in \u001b[0;36m<module>\u001b[0;34m\u001b[0m\n\u001b[0;32m----> 1\u001b[0;31m \u001b[0mint\u001b[0m\u001b[0;34m(\u001b[0m\u001b[0;34m'kolkata'\u001b[0m\u001b[0;34m)\u001b[0m\u001b[0;34m\u001b[0m\u001b[0;34m\u001b[0m\u001b[0m\n\u001b[0m",
            "\u001b[0;31mValueError\u001b[0m: invalid literal for int() with base 10: 'kolkata'"
          ]
        }
      ],
      "source": [
        "int('kolkata')"
      ]
    },
    {
      "cell_type": "markdown",
      "metadata": {
        "id": "72iHNn8k_ITZ"
      },
      "source": [
        "# Type conversion is not a permanate opration ."
      ]
    },
    {
      "cell_type": "code",
      "execution_count": 83,
      "metadata": {
        "colab": {
          "base_uri": "https://localhost:8080/"
        },
        "id": "CFHQ9Su7_C8h",
        "outputId": "20a15c7c-b4bb-49b7-cae8-03a16ff5fd55"
      },
      "outputs": [
        {
          "output_type": "execute_result",
          "data": {
            "text/plain": [
              "4"
            ]
          },
          "metadata": {},
          "execution_count": 83
        }
      ],
      "source": [
        "a=4.5\n",
        "int(a)"
      ]
    },
    {
      "cell_type": "code",
      "execution_count": 83,
      "metadata": {
        "id": "OMWSeoUd_tEC"
      },
      "outputs": [],
      "source": []
    },
    {
      "cell_type": "code",
      "execution_count": 84,
      "metadata": {
        "colab": {
          "base_uri": "https://localhost:8080/"
        },
        "id": "L7swFMRL_vSf",
        "outputId": "7206fb48-5669-48c0-b057-bd49fcf72857"
      },
      "outputs": [
        {
          "output_type": "execute_result",
          "data": {
            "text/plain": [
              "4.5"
            ]
          },
          "metadata": {},
          "execution_count": 84
        }
      ],
      "source": [
        "a"
      ]
    },
    {
      "cell_type": "code",
      "execution_count": 85,
      "metadata": {
        "colab": {
          "base_uri": "https://localhost:8080/"
        },
        "id": "wyHiKf4W_wZV",
        "outputId": "a5594d51-bc33-48e5-9756-d7163ca34924"
      },
      "outputs": [
        {
          "output_type": "stream",
          "name": "stdout",
          "text": [
            "Enter the first number56\n",
            "Enter the second number76\n",
            "132\n"
          ]
        }
      ],
      "source": [
        "first_number=int(input(\"Enter the first number\"))\n",
        "second_number=int(input(\"Enter the second number\"))\n",
        "\n",
        "result =(first_number+second_number)\n",
        "print(result)\n"
      ]
    },
    {
      "cell_type": "markdown",
      "metadata": {
        "id": "rvJnxcAmkTUF"
      },
      "source": [
        "\n",
        "\n",
        "---\n",
        "\n",
        "\n",
        "\n",
        "---\n",
        "\n"
      ]
    },
    {
      "cell_type": "markdown",
      "metadata": {
        "id": "sKKadVuHkWuQ"
      },
      "source": [
        "# **Literals**"
      ]
    },
    {
      "cell_type": "markdown",
      "metadata": {
        "id": "DRqOant0knin"
      },
      "source": [
        "Literal is a raw data given in a variable. In python,there are various types of literals they are as follows :\n",
        "\n",
        "\n",
        "\n",
        "\n",
        "\n",
        "*   Numerical Literals\n",
        "\n",
        "*   String Literals\n",
        "*   Boolean literals\n",
        "\n",
        "\n",
        "*   Special literals\n",
        "\n",
        "\n",
        "\n"
      ]
    },
    {
      "cell_type": "markdown",
      "metadata": {
        "id": "M6pl-GGkmTwj"
      },
      "source": [
        "**1.Numerical literals :**"
      ]
    },
    {
      "cell_type": "code",
      "execution_count": 58,
      "metadata": {
        "id": "3SCjbQ2pmnFi"
      },
      "outputs": [],
      "source": [
        "a=0b1010 #Binary literals\n",
        "b=100 # Decimal literals\n",
        "c=0o310 #Octal literals\n",
        "d=0x12c #Hexagonal literals\n"
      ]
    },
    {
      "cell_type": "code",
      "execution_count": 59,
      "metadata": {
        "id": "dhIBkZ2GoYkg"
      },
      "outputs": [],
      "source": [
        "# float literals\n",
        "float_1=10.5\n",
        "float_2=1.5e3\n",
        "float_3=1.5e-3"
      ]
    },
    {
      "cell_type": "code",
      "execution_count": 60,
      "metadata": {
        "id": "GmeUaOvGo4QW"
      },
      "outputs": [],
      "source": [
        "# complex literals\n",
        "x=3.1j"
      ]
    },
    {
      "cell_type": "code",
      "execution_count": 61,
      "metadata": {
        "colab": {
          "base_uri": "https://localhost:8080/"
        },
        "id": "KSTCmooEpB6L",
        "outputId": "75d31a0f-d5a2-4259-8db5-fe2c713acc78"
      },
      "outputs": [
        {
          "output_type": "stream",
          "name": "stdout",
          "text": [
            "10 100 200 300\n",
            "10.5 1500.0 0.0015\n",
            "3.1j 3.1 0.0\n"
          ]
        }
      ],
      "source": [
        "print(a,b,c,d)\n",
        "print(float_1,float_2,float_3)\n",
        "print(x,x.imag,x.real)"
      ]
    },
    {
      "cell_type": "markdown",
      "metadata": {
        "id": "nY4WdJhepoNO"
      },
      "source": [
        "**2. String literals:**"
      ]
    },
    {
      "cell_type": "code",
      "execution_count": 95,
      "metadata": {
        "colab": {
          "base_uri": "https://localhost:8080/"
        },
        "id": "gxABV4IIqCJv",
        "outputId": "9f8e2ba1-e0d2-43ca-8979-54a5e530069f"
      },
      "outputs": [
        {
          "output_type": "stream",
          "name": "stdout",
          "text": [
            "I am Biswajit\n",
            "OoooYeeee\n",
            "c\n",
            "This is multiline string with more then one line code\n",
            "😀,😆🤣\n",
            "raw\n",
            "string\n"
          ]
        }
      ],
      "source": [
        "string = 'I am Biswajit'\n",
        "strings =  \"OoooYeeee\"\n",
        "char = \"c\"\n",
        "multiline_str=\"\"\"This is multiline string with more then one line code\"\"\"\n",
        "unicode = u\"\\U0001f600,\\U0001F606\\U0001F923\"\n",
        "raw_str = \"raw\\nstring\"\n",
        "print(string)\n",
        "print(strings)\n",
        "print(char)\n",
        "print(multiline_str)\n",
        "print(unicode)\n",
        "print(raw_str)"
      ]
    },
    {
      "cell_type": "code",
      "source": [
        "\"biswa\"\n",
        "a = \"hh\"\n",
        "print(a)"
      ],
      "metadata": {
        "colab": {
          "base_uri": "https://localhost:8080/"
        },
        "id": "EWtuv41dr_Ph",
        "outputId": "66e4c0b1-4c0c-4742-94d1-bc0bbd3de6f2"
      },
      "execution_count": 101,
      "outputs": [
        {
          "output_type": "stream",
          "name": "stdout",
          "text": [
            "hh\n"
          ]
        }
      ]
    },
    {
      "cell_type": "code",
      "source": [
        "\"\"\"\n",
        "This is multiline \n",
        "string with more then \n",
        "one line code\n",
        "\"\"\""
      ],
      "metadata": {
        "colab": {
          "base_uri": "https://localhost:8080/",
          "height": 36
        },
        "id": "0ukC6V8ermGE",
        "outputId": "643765ec-6263-41fd-bd50-a441658f031c"
      },
      "execution_count": 104,
      "outputs": [
        {
          "output_type": "execute_result",
          "data": {
            "text/plain": [
              "'\\nThis is multiline \\nstring with more then \\none line code\\n'"
            ],
            "application/vnd.google.colaboratory.intrinsic+json": {
              "type": "string"
            }
          },
          "metadata": {},
          "execution_count": 104
        }
      ]
    },
    {
      "cell_type": "code",
      "source": [],
      "metadata": {
        "colab": {
          "base_uri": "https://localhost:8080/"
        },
        "id": "6p1ySxb5rYWj",
        "outputId": "879011ee-a6be-4e27-9c39-136df3fbf3ff"
      },
      "execution_count": 91,
      "outputs": [
        {
          "output_type": "stream",
          "name": "stdout",
          "text": [
            "😀\n",
            "😃\n",
            "😄\n",
            "😁\n",
            "😆\n",
            "😅\n",
            "🤣\n",
            "😂\n",
            "🙂\n",
            "🙃\n",
            "🫠\n",
            "😉\n",
            "😊\n",
            "😇\n"
          ]
        }
      ]
    },
    {
      "cell_type": "code",
      "execution_count": null,
      "metadata": {
        "id": "L-XMF9fFtDbb"
      },
      "outputs": [],
      "source": [
        "bro = u\"\\U0001f600\\U0001F606\\U0001F923\\U0001F400\\U0001F644\"\n",
        "print(bro)"
      ]
    },
    {
      "cell_type": "code",
      "execution_count": null,
      "metadata": {
        "id": "PcQwphy3tbgq"
      },
      "outputs": [],
      "source": [
        "new=u\"\\U0001f600\"\n",
        "print(new)"
      ]
    },
    {
      "cell_type": "markdown",
      "metadata": {
        "id": "Bb4dExStui5G"
      },
      "source": [
        "**3. Boolean Literals**"
      ]
    },
    {
      "cell_type": "code",
      "execution_count": null,
      "metadata": {
        "id": "eaLXPLrtupMb"
      },
      "outputs": [],
      "source": [
        "a=True+4\n",
        "b=False+10\n",
        "print('a=',a)\n",
        "print('b=',b)"
      ]
    },
    {
      "cell_type": "markdown",
      "metadata": {
        "id": "MtP76om5wMDW"
      },
      "source": [
        "**4.Special Literal**"
      ]
    },
    {
      "cell_type": "code",
      "execution_count": null,
      "metadata": {
        "id": "M-ur_gTFwTVd"
      },
      "outputs": [],
      "source": [
        "a = None\n",
        "print(a)"
      ]
    },
    {
      "cell_type": "code",
      "execution_count": null,
      "metadata": {
        "id": "jZ8Yb_bDwX6x"
      },
      "outputs": [],
      "source": [
        "c=34+45\n",
        "print(c)"
      ]
    },
    {
      "cell_type": "code",
      "execution_count": null,
      "metadata": {
        "id": "j9FytkBYwbZ8"
      },
      "outputs": [],
      "source": [
        "# In python u cant  declare varilable but if it nessary then we use None .\n",
        "k=None\n",
        "print(k)"
      ]
    },
    {
      "cell_type": "markdown",
      "metadata": {
        "id": "tenBlEdrxsIz"
      },
      "source": [
        "\n",
        "\n",
        "---\n",
        "\n",
        "\n",
        "\n",
        "---\n",
        "\n"
      ]
    },
    {
      "cell_type": "markdown",
      "metadata": {
        "id": "3VEDTMSNxtfD"
      },
      "source": [
        "# **Operators in python**"
      ]
    },
    {
      "cell_type": "markdown",
      "metadata": {
        "id": "b5v6fQOvx-35"
      },
      "source": [
        "Operator are used to perform operation on variable  and \n",
        "values .Python has the following operator.\n",
        "\n",
        "\n",
        "*   Arithmetic Operator\n",
        "\n",
        "*   Comparision Operator\n",
        "\n",
        "*   Logical Operator\n",
        "\n",
        "*   Bitwase Operator\n",
        "*   Assignment Operator\n",
        "\n",
        "\n",
        "*   Identity Operator \n",
        "\n",
        "\n",
        "*   Membership Operator\n",
        "\n",
        "\n",
        "\n",
        "\n"
      ]
    },
    {
      "cell_type": "markdown",
      "metadata": {
        "id": "D22o2Ldzzkga"
      },
      "source": [
        "**Arithmetic Operator**"
      ]
    },
    {
      "cell_type": "code",
      "execution_count": null,
      "metadata": {
        "id": "vG8-74H7zrE8"
      },
      "outputs": [],
      "source": [
        "x=5\n",
        "y=3\n",
        "print(x+y)"
      ]
    },
    {
      "cell_type": "code",
      "execution_count": 71,
      "metadata": {
        "colab": {
          "base_uri": "https://localhost:8080/"
        },
        "id": "kpokq6blz4NA",
        "outputId": "4f85221a-6778-4544-bdfa-73bc24b62af1"
      },
      "outputs": [
        {
          "output_type": "stream",
          "name": "stdout",
          "text": [
            "2\n"
          ]
        }
      ],
      "source": [
        "print(x-y)"
      ]
    },
    {
      "cell_type": "code",
      "execution_count": 70,
      "metadata": {
        "colab": {
          "base_uri": "https://localhost:8080/"
        },
        "id": "vv51MHrQz_xo",
        "outputId": "e76bfbe2-2ede-4a48-9e7d-33389d546aed"
      },
      "outputs": [
        {
          "output_type": "stream",
          "name": "stdout",
          "text": [
            "15\n"
          ]
        }
      ],
      "source": [
        "print(x*y)"
      ]
    },
    {
      "cell_type": "code",
      "execution_count": 72,
      "metadata": {
        "colab": {
          "base_uri": "https://localhost:8080/"
        },
        "id": "NmazcMUx0C5k",
        "outputId": "ccfdae11-cd65-4fce-cba8-36ac8f85971a"
      },
      "outputs": [
        {
          "output_type": "stream",
          "name": "stdout",
          "text": [
            "1.6666666666666667\n"
          ]
        }
      ],
      "source": [
        "print(x/y) # true division"
      ]
    },
    {
      "cell_type": "code",
      "execution_count": null,
      "metadata": {
        "id": "5PwRbSuv0HKA"
      },
      "outputs": [],
      "source": [
        "print(x%y)"
      ]
    },
    {
      "cell_type": "code",
      "execution_count": null,
      "metadata": {
        "id": "mPNv1x-f0NuH"
      },
      "outputs": [],
      "source": [
        "print(x**y)"
      ]
    },
    {
      "cell_type": "code",
      "execution_count": null,
      "metadata": {
        "id": "sl5h-1Y30cW6"
      },
      "outputs": [],
      "source": [
        "print(x//y) # interger division"
      ]
    },
    {
      "cell_type": "markdown",
      "metadata": {
        "id": "Ah9_LR-k07A3"
      },
      "source": [
        "**Comparission Operator**"
      ]
    },
    {
      "cell_type": "code",
      "execution_count": null,
      "metadata": {
        "id": "ZR-0hB3w1AyP"
      },
      "outputs": [],
      "source": [
        "print(x>y)"
      ]
    },
    {
      "cell_type": "code",
      "execution_count": null,
      "metadata": {
        "id": "Xez1Jo1W1Ibv"
      },
      "outputs": [],
      "source": [
        "print(x<y)"
      ]
    },
    {
      "cell_type": "code",
      "execution_count": null,
      "metadata": {
        "id": "rD_c86Mr1L4m"
      },
      "outputs": [],
      "source": [
        "print(x>=y)"
      ]
    },
    {
      "cell_type": "code",
      "execution_count": null,
      "metadata": {
        "id": "f4eGcCdE1SWS"
      },
      "outputs": [],
      "source": [
        "print(x<=y)"
      ]
    },
    {
      "cell_type": "code",
      "execution_count": null,
      "metadata": {
        "id": "9gDTq-xX1Wn4"
      },
      "outputs": [],
      "source": [
        "print(x==y)"
      ]
    },
    {
      "cell_type": "code",
      "execution_count": null,
      "metadata": {
        "id": "ue4YQr4P1Zy3"
      },
      "outputs": [],
      "source": [
        "print(x!=y)"
      ]
    },
    {
      "cell_type": "markdown",
      "metadata": {
        "id": "NQLo1MtD111s"
      },
      "source": [
        "**Logical Operator**"
      ]
    },
    {
      "cell_type": "code",
      "execution_count": null,
      "metadata": {
        "id": "s2NZ27O818Ge"
      },
      "outputs": [],
      "source": [
        "x=True\n",
        "y=False\n",
        "print(x or y)"
      ]
    },
    {
      "cell_type": "code",
      "execution_count": null,
      "metadata": {
        "id": "xzMhPKmx2KM-"
      },
      "outputs": [],
      "source": [
        "print(x and y)"
      ]
    },
    {
      "cell_type": "code",
      "execution_count": null,
      "metadata": {
        "id": "1xl7gZXA2UTD"
      },
      "outputs": [],
      "source": [
        "print(not x)"
      ]
    },
    {
      "cell_type": "markdown",
      "metadata": {
        "id": "CnnG7ej32-z0"
      },
      "source": [
        "**Bitwaise Operator**"
      ]
    },
    {
      "cell_type": "code",
      "execution_count": null,
      "metadata": {
        "id": "Fg9ggXSL3JCO"
      },
      "outputs": [],
      "source": [
        "x= 6\n",
        "y= 8\n",
        "print(x & y)"
      ]
    },
    {
      "cell_type": "code",
      "execution_count": null,
      "metadata": {
        "id": "8Pn0M2VU3VnY"
      },
      "outputs": [],
      "source": [
        "print(x | y)"
      ]
    },
    {
      "cell_type": "code",
      "execution_count": null,
      "metadata": {
        "id": "vsz0WoRz3w7J"
      },
      "outputs": [],
      "source": [
        "print(x >> y)"
      ]
    },
    {
      "cell_type": "code",
      "execution_count": null,
      "metadata": {
        "id": "DLaMcpEh4AKS"
      },
      "outputs": [],
      "source": [
        "print(x << y)"
      ]
    },
    {
      "cell_type": "code",
      "execution_count": null,
      "metadata": {
        "id": "_BooiYgY4Etu"
      },
      "outputs": [],
      "source": [
        "print(-x)"
      ]
    },
    {
      "cell_type": "code",
      "execution_count": null,
      "metadata": {
        "id": "KUFq1Kxr4V2n"
      },
      "outputs": [],
      "source": [
        "# Bitwaise operator use when we work on binaray value.example is image proseseing project,when we use filter on image then we convert our image in binaray from. robotics"
      ]
    },
    {
      "cell_type": "markdown",
      "metadata": {
        "id": "Es8Grn2Q5oou"
      },
      "source": [
        "**Assignment Operator**"
      ]
    },
    {
      "cell_type": "code",
      "execution_count": null,
      "metadata": {
        "id": "e7F7DVSJ5ulu"
      },
      "outputs": [],
      "source": [
        "a=3\n",
        "print(a)"
      ]
    },
    {
      "cell_type": "code",
      "execution_count": null,
      "metadata": {
        "id": "QQnGBVxw6mBZ"
      },
      "outputs": [],
      "source": [
        "a += 5\n",
        "print(a)"
      ]
    },
    {
      "cell_type": "code",
      "execution_count": null,
      "metadata": {
        "id": "qH-JIxVs6q9_"
      },
      "outputs": [],
      "source": [
        "a-+3\n",
        "print(a)"
      ]
    },
    {
      "cell_type": "code",
      "execution_count": null,
      "metadata": {
        "id": "Mt2kHvss68u7"
      },
      "outputs": [],
      "source": [
        "a*=4\n",
        "a&=4\n",
        "print(a)\n",
        "print(a)"
      ]
    },
    {
      "cell_type": "code",
      "execution_count": null,
      "metadata": {
        "id": "yPcycT777LNB"
      },
      "outputs": [],
      "source": [
        "a++\n",
        "++a"
      ]
    },
    {
      "cell_type": "code",
      "execution_count": null,
      "metadata": {
        "id": "P-Qsv6xD7Yfq"
      },
      "outputs": [],
      "source": [
        "a=a+3\n",
        "a+=3\n"
      ]
    },
    {
      "cell_type": "markdown",
      "metadata": {
        "id": "G7vET2uB7lUn"
      },
      "source": [
        "**Identity Operator**"
      ]
    },
    {
      "cell_type": "code",
      "execution_count": null,
      "metadata": {
        "id": "OJgFOY-n7t5R"
      },
      "outputs": [],
      "source": [
        "a=3\n",
        "b=3\n",
        "print(a is b)"
      ]
    },
    {
      "cell_type": "code",
      "execution_count": null,
      "metadata": {
        "id": "WhgSGd4Q71uS"
      },
      "outputs": [],
      "source": [
        "a=\"hello\"\n",
        "b=\"hello\"\n",
        "print(a is  b)"
      ]
    },
    {
      "cell_type": "code",
      "execution_count": null,
      "metadata": {
        "id": "8vbvDE8R775t"
      },
      "outputs": [],
      "source": [
        "a=[1,2,3]\n",
        "b=[1,2,3]\n",
        "print(a is b)"
      ]
    },
    {
      "cell_type": "code",
      "execution_count": null,
      "metadata": {
        "id": "ssrlRRuI8Q3k"
      },
      "outputs": [],
      "source": [
        "a=\"Hello_world\"\n",
        "b=\"Hello_world\"\n",
        "print(a is b)"
      ]
    },
    {
      "cell_type": "code",
      "execution_count": null,
      "metadata": {
        "id": "kOgwj8si8jAA"
      },
      "outputs": [],
      "source": [
        "# this identity oprator  use for  only know ,if two variable look like same you cant told that they have same memory location but some time they prestent in same momory location"
      ]
    },
    {
      "cell_type": "markdown",
      "metadata": {
        "id": "1HV_XbBF-Ba4"
      },
      "source": [
        "**Membership Operator**"
      ]
    },
    {
      "cell_type": "code",
      "execution_count": null,
      "metadata": {
        "id": "r7yErwLX-H2U"
      },
      "outputs": [],
      "source": [
        "x= \"Delhi\"\n",
        "print(\"D\" in  x)"
      ]
    },
    {
      "cell_type": "code",
      "execution_count": null,
      "metadata": {
        "id": "-ng5HxAE-Tra"
      },
      "outputs": [],
      "source": [
        "x=[1,2,3]\n",
        "print( 5 in x)"
      ]
    },
    {
      "cell_type": "markdown",
      "metadata": {
        "id": "9XTpZP_HBr2c"
      },
      "source": [
        "\n",
        "\n",
        "---\n",
        "\n",
        "\n",
        "\n",
        "---\n",
        "\n"
      ]
    },
    {
      "cell_type": "markdown",
      "metadata": {
        "id": "DNPiSBT_Bucs"
      },
      "source": [
        "# **If-else Statement in python**"
      ]
    },
    {
      "cell_type": "code",
      "execution_count": 20,
      "metadata": {
        "colab": {
          "base_uri": "https://localhost:8080/"
        },
        "id": "vYiZGcv5CIqW",
        "outputId": "68e42b81-05d0-4ad5-c035-6b77f07f5687"
      },
      "outputs": [
        {
          "output_type": "stream",
          "name": "stdout",
          "text": [
            "apna email bataliku\n",
            "apna passwad bata123\n",
            "wong\n"
          ]
        }
      ],
      "source": [
        "# correct  email - campusx@gmail.com\n",
        "# password = 1234\n",
        "\n",
        "email=input('apna email bata' )\n",
        "password=input('apna passwad bata')\n",
        "\n",
        "if email==\"campusx@gmail.com\" and password=='1234':\n",
        "  print('welcome')\n",
        "else:\n",
        "   print(\"wong\")"
      ]
    },
    {
      "cell_type": "code",
      "execution_count": 21,
      "metadata": {
        "colab": {
          "base_uri": "https://localhost:8080/",
          "height": 138
        },
        "id": "msMDRRaCDbbn",
        "outputId": "4306d8bd-efd5-4d9a-b79b-b194b70749f4"
      },
      "outputs": [
        {
          "output_type": "error",
          "ename": "SyntaxError",
          "evalue": "ignored",
          "traceback": [
            "\u001b[0;36m  File \u001b[0;32m\"<ipython-input-21-b44b05cb3d8b>\"\u001b[0;36m, line \u001b[0;32m3\u001b[0m\n\u001b[0;31m    if  email =='campusx@gmail.com' and password='1234':\u001b[0m\n\u001b[0m                                                ^\u001b[0m\n\u001b[0;31mSyntaxError\u001b[0m\u001b[0;31m:\u001b[0m invalid syntax\n"
          ]
        }
      ],
      "source": [
        "email=input('enter ur email')\n",
        "password=input('enter ur password')\n",
        "if  email =='campusx@gmail.com' and password='1234':\n",
        "  print('wellcome')\n",
        "elif email=='campusx@gmail.com' and password!='1234':\n",
        "  print('incorect')\n",
        "  password = input('again password')\n",
        "  if password ==\"1234\":\n",
        "    print('finaly correct')\n",
        "    else:\n",
        "      print('still incorect')\n",
        "      else:\n",
        "        print('worng')\n",
        "\n",
        "  "
      ]
    },
    {
      "cell_type": "markdown",
      "metadata": {
        "id": "8ysDO0hbY8hP"
      },
      "source": [
        "# **Identation in python:**"
      ]
    },
    {
      "cell_type": "code",
      "execution_count": 22,
      "metadata": {
        "id": "er6dLZWnUFkY",
        "colab": {
          "base_uri": "https://localhost:8080/",
          "height": 138
        },
        "outputId": "22fe6b8f-11aa-4aa3-9f39-050338d6916c"
      },
      "outputs": [
        {
          "output_type": "error",
          "ename": "SyntaxError",
          "evalue": "ignored",
          "traceback": [
            "\u001b[0;36m  File \u001b[0;32m\"<ipython-input-22-35a27680889b>\"\u001b[0;36m, line \u001b[0;32m1\u001b[0m\n\u001b[0;31m    if name=='xyz'\u001b[0m\n\u001b[0m                  ^\u001b[0m\n\u001b[0;31mSyntaxError\u001b[0m\u001b[0;31m:\u001b[0m invalid syntax\n"
          ]
        }
      ],
      "source": [
        "if name=='xyz'\n",
        " \n"
      ]
    },
    {
      "cell_type": "markdown",
      "metadata": {
        "id": "FyYm8Bk1UW3T"
      },
      "source": []
    },
    {
      "cell_type": "code",
      "execution_count": null,
      "metadata": {
        "id": "_Z6_xNXWUWWx"
      },
      "outputs": [],
      "source": []
    },
    {
      "cell_type": "markdown",
      "metadata": {
        "id": "JsWvN9ZYUZsN"
      },
      "source": [
        "\n",
        "\n",
        "---\n",
        "\n",
        "\n",
        "\n",
        "---\n",
        "\n"
      ]
    },
    {
      "cell_type": "markdown",
      "metadata": {
        "id": "qn3CB_7RgmYH"
      },
      "source": [
        "# `**Loops in python:**"
      ]
    },
    {
      "cell_type": "markdown",
      "metadata": {
        "id": "FbtoYfa0gyiE"
      },
      "source": [
        "**in python two loops presents**\n",
        "\n",
        "**for loops **\n",
        "\n",
        "**while loops **"
      ]
    },
    {
      "cell_type": "code",
      "execution_count": null,
      "metadata": {
        "id": "tqS0uKjMiii3"
      },
      "outputs": [],
      "source": [
        "# while loops\n",
        "while condition:\n",
        "    code"
      ]
    },
    {
      "cell_type": "code",
      "execution_count": 23,
      "metadata": {
        "colab": {
          "base_uri": "https://localhost:8080/"
        },
        "id": "v3DyLEFFhdQF",
        "outputId": "45337e48-dfec-4e4b-f681-f73d274798e5"
      },
      "outputs": [
        {
          "output_type": "stream",
          "name": "stdout",
          "text": [
            "Enter the number12\n",
            "12\n",
            "24\n",
            "36\n",
            "48\n",
            "60\n",
            "72\n",
            "84\n",
            "96\n",
            "108\n",
            "120\n"
          ]
        }
      ],
      "source": [
        "number= int(input('Enter the number'))\n",
        "\n",
        "i=1\n",
        "while i<11:\n",
        "  print(number*i)\n",
        "  i+=1\n"
      ]
    },
    {
      "cell_type": "markdown",
      "metadata": {
        "id": "8-QxB4X45r8D"
      },
      "source": [
        "**Guessing game using python :**"
      ]
    },
    {
      "cell_type": "code",
      "execution_count": 24,
      "metadata": {
        "id": "KTOjPjv15z8j"
      },
      "outputs": [],
      "source": [
        "import  random"
      ]
    },
    {
      "cell_type": "code",
      "execution_count": 25,
      "metadata": {
        "colab": {
          "base_uri": "https://localhost:8080/"
        },
        "id": "UGF4GY8U54St",
        "outputId": "2e8caafb-af4c-403d-f7d9-b3e5322a7a26"
      },
      "outputs": [
        {
          "output_type": "execute_result",
          "data": {
            "text/plain": [
              "36"
            ]
          },
          "metadata": {},
          "execution_count": 25
        }
      ],
      "source": [
        "random.randint(1,100)"
      ]
    },
    {
      "cell_type": "code",
      "execution_count": 27,
      "metadata": {
        "colab": {
          "base_uri": "https://localhost:8080/"
        },
        "id": "RAHABLM56DEj",
        "outputId": "7231631f-845b-43c0-82c3-67dca47a1476"
      },
      "outputs": [
        {
          "output_type": "stream",
          "name": "stdout",
          "text": [
            "guess number46\n",
            "guess lower\n",
            "chal guess kar40\n",
            "guess lower\n",
            "chal guess kar35\n",
            "guess lower\n",
            "chal guess kar30\n",
            "guess lower\n",
            "chal guess kar20\n",
            "guess lower\n",
            "chal guess kar10\n",
            "guess lower\n",
            "chal guess kar5\n",
            "guess lower\n",
            "chal guess kar3\n",
            "sahi jawab\n",
            "you took 8 attemp\n"
          ]
        }
      ],
      "source": [
        "jackpot = random. randint(1,100)\n",
        "\n",
        "guess = int(input('guess number'))\n",
        "counter =1\n",
        "while guess != jackpot:\n",
        "    if guess < jackpot:\n",
        "      print('guess higher')\n",
        "    else:\n",
        "      print('guess lower')\n",
        "    guess = int(input('chal guess kar'))  \n",
        "    counter+=1\n",
        "print('sahi jawab')    \n",
        "print('you took',counter,'attemp')    "
      ]
    },
    {
      "cell_type": "code",
      "execution_count": 27,
      "metadata": {
        "id": "w1F2_aqT_FL8"
      },
      "outputs": [],
      "source": []
    },
    {
      "cell_type": "markdown",
      "source": [
        "# **For loop in python:**"
      ],
      "metadata": {
        "id": "EMSCNbMIcf44"
      }
    },
    {
      "cell_type": "markdown",
      "source": [
        "**Range function(built in function)**"
      ],
      "metadata": {
        "id": "YPVckVWMcn-h"
      }
    },
    {
      "cell_type": "code",
      "source": [
        "# range function (start,stop,step)\n",
        "range(2,20,3)"
      ],
      "metadata": {
        "colab": {
          "base_uri": "https://localhost:8080/"
        },
        "id": "H0KzfEkXcwhM",
        "outputId": "9e369e30-128c-4d4c-bd50-b05d04e837dc"
      },
      "execution_count": 28,
      "outputs": [
        {
          "output_type": "execute_result",
          "data": {
            "text/plain": [
              "range(2, 20, 3)"
            ]
          },
          "metadata": {},
          "execution_count": 28
        }
      ]
    },
    {
      "cell_type": "code",
      "source": [
        "list(range(3,9,2))"
      ],
      "metadata": {
        "colab": {
          "base_uri": "https://localhost:8080/"
        },
        "id": "zCF3ycihdGhD",
        "outputId": "1d35f455-b788-4ae4-a457-b4676af108fb"
      },
      "execution_count": 32,
      "outputs": [
        {
          "output_type": "execute_result",
          "data": {
            "text/plain": [
              "[3, 5, 7]"
            ]
          },
          "metadata": {},
          "execution_count": 32
        }
      ]
    },
    {
      "cell_type": "code",
      "source": [
        "list(range(3,7,1))"
      ],
      "metadata": {
        "colab": {
          "base_uri": "https://localhost:8080/"
        },
        "id": "76vurzHIdZ_Z",
        "outputId": "4f76f7c0-f933-4be2-9028-469ef0b18280"
      },
      "execution_count": 34,
      "outputs": [
        {
          "output_type": "execute_result",
          "data": {
            "text/plain": [
              "[3, 4, 5, 6]"
            ]
          },
          "metadata": {},
          "execution_count": 34
        }
      ]
    },
    {
      "cell_type": "code",
      "source": [
        "set(range(2,20,3))"
      ],
      "metadata": {
        "colab": {
          "base_uri": "https://localhost:8080/"
        },
        "id": "JrUst3Z4dmTA",
        "outputId": "bbf11528-ef17-4f5a-8513-ba37dac576f4"
      },
      "execution_count": 35,
      "outputs": [
        {
          "output_type": "execute_result",
          "data": {
            "text/plain": [
              "{2, 5, 8, 11, 14, 17}"
            ]
          },
          "metadata": {},
          "execution_count": 35
        }
      ]
    },
    {
      "cell_type": "code",
      "source": [
        "tuple(range(20,40,5))"
      ],
      "metadata": {
        "colab": {
          "base_uri": "https://localhost:8080/"
        },
        "id": "AVWsJPBkfaoc",
        "outputId": "8f5958ba-4c66-468e-933c-5c70b974ad66"
      },
      "execution_count": 37,
      "outputs": [
        {
          "output_type": "execute_result",
          "data": {
            "text/plain": [
              "(20, 25, 30, 35)"
            ]
          },
          "metadata": {},
          "execution_count": 37
        }
      ]
    },
    {
      "cell_type": "markdown",
      "source": [
        "**Sequence(any thing comes in order)**"
      ],
      "metadata": {
        "id": "9aWah6a1eLMk"
      }
    },
    {
      "cell_type": "code",
      "source": [
        "# string\n",
        "\"odisha\""
      ],
      "metadata": {
        "colab": {
          "base_uri": "https://localhost:8080/",
          "height": 36
        },
        "id": "3RfQXA3TeYWs",
        "outputId": "c3955603-658b-4eb4-e5b4-8901f3711aae"
      },
      "execution_count": 39,
      "outputs": [
        {
          "output_type": "execute_result",
          "data": {
            "text/plain": [
              "'odisha'"
            ],
            "application/vnd.google.colaboratory.intrinsic+json": {
              "type": "string"
            }
          },
          "metadata": {},
          "execution_count": 39
        }
      ]
    },
    {
      "cell_type": "code",
      "source": [],
      "metadata": {
        "id": "89zBvmXhgGgD"
      },
      "execution_count": null,
      "outputs": []
    },
    {
      "cell_type": "markdown",
      "source": [
        "**For loops : iteration on range or sequence.**"
      ],
      "metadata": {
        "id": "-QaTFzPrgJaP"
      }
    },
    {
      "cell_type": "code",
      "source": [
        "for i in range(1,30,5):\n",
        "  print(i)"
      ],
      "metadata": {
        "colab": {
          "base_uri": "https://localhost:8080/"
        },
        "id": "ZyM3UcyAgfP8",
        "outputId": "653fa553-d4e9-42e0-ebc1-e795c10b4caa"
      },
      "execution_count": 45,
      "outputs": [
        {
          "output_type": "stream",
          "name": "stdout",
          "text": [
            "1\n",
            "6\n",
            "11\n",
            "16\n",
            "21\n",
            "26\n"
          ]
        }
      ]
    },
    {
      "cell_type": "code",
      "source": [
        "for i in \"odisha\":\n",
        "  print(i)"
      ],
      "metadata": {
        "colab": {
          "base_uri": "https://localhost:8080/"
        },
        "id": "wPFBqAiLhK_n",
        "outputId": "c05662c5-e269-431b-c877-4957a7d6d363"
      },
      "execution_count": 50,
      "outputs": [
        {
          "output_type": "stream",
          "name": "stdout",
          "text": [
            "o\n",
            "d\n",
            "i\n",
            "s\n",
            "h\n",
            "a\n"
          ]
        }
      ]
    },
    {
      "cell_type": "code",
      "source": [
        "for i in \"oyohfekhflehf\":\n",
        "  print(i)"
      ],
      "metadata": {
        "colab": {
          "base_uri": "https://localhost:8080/"
        },
        "id": "3yhoIbTWhgDS",
        "outputId": "ff291792-310f-43be-d613-c7c9092cf3c4"
      },
      "execution_count": 51,
      "outputs": [
        {
          "output_type": "stream",
          "name": "stdout",
          "text": [
            "o\n",
            "y\n",
            "o\n",
            "h\n",
            "f\n",
            "e\n",
            "k\n",
            "h\n",
            "f\n",
            "l\n",
            "e\n",
            "h\n",
            "f\n"
          ]
        }
      ]
    },
    {
      "cell_type": "code",
      "source": [
        "for i in {1,4,6,3,7,8}:\n",
        "  print(i)"
      ],
      "metadata": {
        "colab": {
          "base_uri": "https://localhost:8080/"
        },
        "id": "2O_m-6klhjj_",
        "outputId": "7388f472-f80e-4d55-c7e2-c92dd3fbbda8"
      },
      "execution_count": 52,
      "outputs": [
        {
          "output_type": "stream",
          "name": "stdout",
          "text": [
            "1\n",
            "3\n",
            "4\n",
            "6\n",
            "7\n",
            "8\n"
          ]
        }
      ]
    },
    {
      "cell_type": "code",
      "source": [
        "for i in 'odisha':\n",
        "  print(i)"
      ],
      "metadata": {
        "colab": {
          "base_uri": "https://localhost:8080/"
        },
        "id": "7J8oQXyYiMFt",
        "outputId": "7bc16181-a433-42d2-c3a8-e73106fae267"
      },
      "execution_count": 57,
      "outputs": [
        {
          "output_type": "stream",
          "name": "stdout",
          "text": [
            "o\n",
            "d\n",
            "i\n",
            "s\n",
            "h\n",
            "a\n"
          ]
        }
      ]
    },
    {
      "cell_type": "code",
      "source": [
        "a = \"abcdefghij\"\n",
        "for i in a:\n",
        "  print(i)\n",
        "print(i)"
      ],
      "metadata": {
        "colab": {
          "base_uri": "https://localhost:8080/"
        },
        "id": "3ia2dBcriTHy",
        "outputId": "0232a066-5f17-40a0-94de-127c7acd21bd"
      },
      "execution_count": 81,
      "outputs": [
        {
          "output_type": "stream",
          "name": "stdout",
          "text": [
            "a\n",
            "b\n",
            "c\n",
            "d\n",
            "e\n",
            "f\n",
            "g\n",
            "h\n",
            "i\n",
            "j\n",
            "j\n"
          ]
        }
      ]
    },
    {
      "cell_type": "code",
      "source": [
        "a = []\n",
        "for i in \"abcdefghij\":\n",
        "  a.append(i)\n",
        "print(a)"
      ],
      "metadata": {
        "colab": {
          "base_uri": "https://localhost:8080/"
        },
        "id": "lPybEn3aoZP1",
        "outputId": "16d708ec-11d2-4782-cedd-df8d039176d7"
      },
      "execution_count": 80,
      "outputs": [
        {
          "output_type": "stream",
          "name": "stdout",
          "text": [
            "['a', 'b', 'c', 'd', 'e', 'f', 'g', 'h', 'i', 'j']\n"
          ]
        }
      ]
    },
    {
      "cell_type": "markdown",
      "source": [
        "NOTE: \n",
        "\n",
        "FOR LOOPS=When  you know that how many times loops is run then we use  for  loops.\n",
        "\n",
        "WHILE LOOPS =When  you not know that how many times loops is run then we use  for  loops."
      ],
      "metadata": {
        "id": "mu7SgMRnilAa"
      }
    },
    {
      "cell_type": "markdown",
      "source": [
        "**Nested loop  in python :**"
      ],
      "metadata": {
        "id": "xbF-iGc21ftg"
      }
    },
    {
      "cell_type": "code",
      "source": [
        "rows = int(input('enter the number of rows'))\n",
        "for i in range(1,rows+1):\n",
        "    for j in range(0,i):\n",
        "        print('*',end=\"\")\n",
        "    print(\"\")"
      ],
      "metadata": {
        "colab": {
          "base_uri": "https://localhost:8080/"
        },
        "id": "iFim0E_B1pYF",
        "outputId": "978e4728-a0aa-4f6c-8c88-c29291d23bd9"
      },
      "execution_count": 107,
      "outputs": [
        {
          "output_type": "stream",
          "name": "stdout",
          "text": [
            "enter the number of rows10\n",
            "*\n",
            "**\n",
            "***\n",
            "****\n",
            "*****\n",
            "******\n",
            "*******\n",
            "********\n",
            "*********\n",
            "**********\n"
          ]
        }
      ]
    },
    {
      "cell_type": "code",
      "source": [],
      "metadata": {
        "id": "DD5iap6f2Pgf"
      },
      "execution_count": 107,
      "outputs": []
    },
    {
      "cell_type": "markdown",
      "source": [
        "# **Break,Continue And Pass Statement  in  python :**"
      ],
      "metadata": {
        "id": "NJHXlvEM7YaS"
      }
    },
    {
      "cell_type": "markdown",
      "source": [
        "**Breaks Statement :**\n",
        "\n",
        "when a loops is runing  that time , if we put the break statement then it terminate the  loops statement  or break  the loop . "
      ],
      "metadata": {
        "id": "rmC2hSmj7orR"
      }
    },
    {
      "cell_type": "code",
      "source": [
        "for i in range(1,11):\n",
        "    if i==5:\n",
        "      break\n",
        "    print(i)"
      ],
      "metadata": {
        "colab": {
          "base_uri": "https://localhost:8080/"
        },
        "id": "35YlVgdh8apA",
        "outputId": "28c3f729-d4aa-498c-c016-6c6e07c8dadb"
      },
      "execution_count": 108,
      "outputs": [
        {
          "output_type": "stream",
          "name": "stdout",
          "text": [
            "1\n",
            "2\n",
            "3\n",
            "4\n"
          ]
        }
      ]
    },
    {
      "cell_type": "markdown",
      "source": [
        "Break statement use  to terminate the loops. it is use in linear searching."
      ],
      "metadata": {
        "id": "ffNIc7CZ85m0"
      }
    },
    {
      "cell_type": "markdown",
      "source": [
        "**Continue Statement:**"
      ],
      "metadata": {
        "id": "nc7GC5rv9Q03"
      }
    },
    {
      "cell_type": "code",
      "source": [
        "for i in range (1,11):\n",
        "  if i==5:\n",
        "    continue\n",
        "  print(i)"
      ],
      "metadata": {
        "colab": {
          "base_uri": "https://localhost:8080/"
        },
        "id": "vPA-rlQf81Ol",
        "outputId": "67040e8e-8bd7-47a3-fcff-6a7fecbe2a7b"
      },
      "execution_count": 110,
      "outputs": [
        {
          "output_type": "stream",
          "name": "stdout",
          "text": [
            "1\n",
            "2\n",
            "3\n",
            "4\n",
            "6\n",
            "7\n",
            "8\n",
            "9\n",
            "10\n"
          ]
        }
      ]
    },
    {
      "cell_type": "markdown",
      "source": [
        "Ex of continue statemnet is flipcart  product stock or not."
      ],
      "metadata": {
        "id": "zlZI4KUz9ugC"
      }
    },
    {
      "cell_type": "markdown",
      "source": [
        "**Pass statement:**\n",
        "\n",
        "if u not know the that what logic u write  in the loop but u want to run the loop that time u use pass statement."
      ],
      "metadata": {
        "id": "L9V5rdm4-5Sh"
      }
    },
    {
      "cell_type": "code",
      "source": [
        "for i in range (1,11):\n",
        "    pass"
      ],
      "metadata": {
        "id": "VYZ26iK8_gHn"
      },
      "execution_count": 119,
      "outputs": []
    },
    {
      "cell_type": "code",
      "source": [],
      "metadata": {
        "id": "NFIwWXqg_mr-"
      },
      "execution_count": null,
      "outputs": []
    },
    {
      "cell_type": "markdown",
      "source": [
        "# **Built-in function:**"
      ],
      "metadata": {
        "id": "pa_xZU2KDCgf"
      }
    },
    {
      "cell_type": "markdown",
      "source": [
        "**1. Print**"
      ],
      "metadata": {
        "id": "_LugtvlKDczv"
      }
    },
    {
      "cell_type": "code",
      "source": [
        "print('hello every one')"
      ],
      "metadata": {
        "colab": {
          "base_uri": "https://localhost:8080/"
        },
        "id": "2HQGzEvaDkI_",
        "outputId": "4db13a3b-a5b2-45b1-a2c1-7ea18685831b"
      },
      "execution_count": 120,
      "outputs": [
        {
          "output_type": "stream",
          "name": "stdout",
          "text": [
            "hello every one\n"
          ]
        }
      ]
    },
    {
      "cell_type": "markdown",
      "source": [
        "**2.Input** "
      ],
      "metadata": {
        "id": "wy8KaLw3Dkvq"
      }
    },
    {
      "cell_type": "code",
      "source": [
        "input('enteru name')"
      ],
      "metadata": {
        "colab": {
          "base_uri": "https://localhost:8080/",
          "height": 55
        },
        "id": "CBJqvZanDrd2",
        "outputId": "40871ab8-ffe8-406e-e68f-433a605c92a2"
      },
      "execution_count": 122,
      "outputs": [
        {
          "name": "stdout",
          "output_type": "stream",
          "text": [
            "enteru namebiswajit\n"
          ]
        },
        {
          "output_type": "execute_result",
          "data": {
            "text/plain": [
              "'biswajit'"
            ],
            "application/vnd.google.colaboratory.intrinsic+json": {
              "type": "string"
            }
          },
          "metadata": {},
          "execution_count": 122
        }
      ]
    },
    {
      "cell_type": "markdown",
      "source": [
        "**3.Type**"
      ],
      "metadata": {
        "id": "SnBi2UW6DryZ"
      }
    },
    {
      "cell_type": "code",
      "source": [
        "a=2.6\n",
        "print(a)"
      ],
      "metadata": {
        "colab": {
          "base_uri": "https://localhost:8080/"
        },
        "id": "9Vqa6DQgD1aM",
        "outputId": "f7d75b9e-f2b0-429a-bc7f-60319a50b7b2"
      },
      "execution_count": 123,
      "outputs": [
        {
          "output_type": "stream",
          "name": "stdout",
          "text": [
            "2.6\n"
          ]
        }
      ]
    },
    {
      "cell_type": "markdown",
      "source": [
        "**4.int etc**"
      ],
      "metadata": {
        "id": "CfqOfM19D18H"
      }
    },
    {
      "cell_type": "code",
      "source": [
        "int(5.78)"
      ],
      "metadata": {
        "colab": {
          "base_uri": "https://localhost:8080/"
        },
        "id": "NxGqu4GMD7dW",
        "outputId": "18a576e1-56f2-4a60-c709-fbada01267e0"
      },
      "execution_count": 124,
      "outputs": [
        {
          "output_type": "execute_result",
          "data": {
            "text/plain": [
              "5"
            ]
          },
          "metadata": {},
          "execution_count": 124
        }
      ]
    },
    {
      "cell_type": "code",
      "source": [
        "float(5)"
      ],
      "metadata": {
        "id": "MUYwv7JDFfHH",
        "outputId": "f615d164-5d51-497d-e910-c120964f773b",
        "colab": {
          "base_uri": "https://localhost:8080/"
        }
      },
      "execution_count": 125,
      "outputs": [
        {
          "output_type": "execute_result",
          "data": {
            "text/plain": [
              "5.0"
            ]
          },
          "metadata": {},
          "execution_count": 125
        }
      ]
    },
    {
      "cell_type": "markdown",
      "source": [
        "**5.abs**"
      ],
      "metadata": {
        "id": "12E4rdH_D7_p"
      }
    },
    {
      "cell_type": "code",
      "source": [
        "abs(4.6)"
      ],
      "metadata": {
        "colab": {
          "base_uri": "https://localhost:8080/"
        },
        "id": "zYU2gW_nEA8k",
        "outputId": "c1744450-265a-428a-a1ed-85716e39c9a2"
      },
      "execution_count": 126,
      "outputs": [
        {
          "output_type": "execute_result",
          "data": {
            "text/plain": [
              "4.6"
            ]
          },
          "metadata": {},
          "execution_count": 126
        }
      ]
    },
    {
      "cell_type": "code",
      "source": [
        "abs(-56)"
      ],
      "metadata": {
        "id": "cwq2MHmCFv-a",
        "outputId": "eabd7c48-0f42-4e6e-c356-1c620b8595ef",
        "colab": {
          "base_uri": "https://localhost:8080/"
        }
      },
      "execution_count": 127,
      "outputs": [
        {
          "output_type": "execute_result",
          "data": {
            "text/plain": [
              "56"
            ]
          },
          "metadata": {},
          "execution_count": 127
        }
      ]
    },
    {
      "cell_type": "markdown",
      "source": [
        "**6.pow**"
      ],
      "metadata": {
        "id": "40sbibsHECjX"
      }
    },
    {
      "cell_type": "code",
      "source": [
        "pow(5,8)"
      ],
      "metadata": {
        "colab": {
          "base_uri": "https://localhost:8080/"
        },
        "id": "BdqbbBf9EGQV",
        "outputId": "65b307d9-9df4-425b-85fd-0bb94b387ed1"
      },
      "execution_count": 128,
      "outputs": [
        {
          "output_type": "execute_result",
          "data": {
            "text/plain": [
              "390625"
            ]
          },
          "metadata": {},
          "execution_count": 128
        }
      ]
    },
    {
      "cell_type": "code",
      "source": [
        "pow(2,4)"
      ],
      "metadata": {
        "id": "dg3W07ifF3bh",
        "outputId": "128b3b0f-9681-42bd-bd23-bd62674a5218",
        "colab": {
          "base_uri": "https://localhost:8080/"
        }
      },
      "execution_count": 129,
      "outputs": [
        {
          "output_type": "execute_result",
          "data": {
            "text/plain": [
              "16"
            ]
          },
          "metadata": {},
          "execution_count": 129
        }
      ]
    },
    {
      "cell_type": "markdown",
      "source": [
        "**7. Min/Max**\n"
      ],
      "metadata": {
        "id": "6cpgqPl9EHGF"
      }
    },
    {
      "cell_type": "code",
      "source": [
        "a=[1,4,6,3,7]\n",
        "min(a)"
      ],
      "metadata": {
        "colab": {
          "base_uri": "https://localhost:8080/"
        },
        "id": "o1SeBvPQENLQ",
        "outputId": "61b12b29-a222-42dc-aaba-e524714bea11"
      },
      "execution_count": 130,
      "outputs": [
        {
          "output_type": "execute_result",
          "data": {
            "text/plain": [
              "1"
            ]
          },
          "metadata": {},
          "execution_count": 130
        }
      ]
    },
    {
      "cell_type": "code",
      "source": [
        "max(a)"
      ],
      "metadata": {
        "id": "qljUONcmGGP8",
        "outputId": "76b03081-1d98-4ef4-e019-28510d65102d",
        "colab": {
          "base_uri": "https://localhost:8080/"
        }
      },
      "execution_count": 131,
      "outputs": [
        {
          "output_type": "execute_result",
          "data": {
            "text/plain": [
              "7"
            ]
          },
          "metadata": {},
          "execution_count": 131
        }
      ]
    },
    {
      "cell_type": "markdown",
      "source": [
        "**8. Round**"
      ],
      "metadata": {
        "id": "AJ47ffl2ENwV"
      }
    },
    {
      "cell_type": "code",
      "source": [
        "c=22/7\n",
        "print(c)\n",
        "round(c,3)\n",
        "round(c)"
      ],
      "metadata": {
        "colab": {
          "base_uri": "https://localhost:8080/"
        },
        "id": "o336v6yHEU80",
        "outputId": "5fe0e0bd-e351-4901-ccd8-55bf292414bd"
      },
      "execution_count": 134,
      "outputs": [
        {
          "output_type": "stream",
          "name": "stdout",
          "text": [
            "3.142857142857143\n"
          ]
        },
        {
          "output_type": "execute_result",
          "data": {
            "text/plain": [
              "3"
            ]
          },
          "metadata": {},
          "execution_count": 134
        }
      ]
    },
    {
      "cell_type": "markdown",
      "source": [
        "**9.divmod**"
      ],
      "metadata": {
        "id": "mNZezOPdEVWD"
      }
    },
    {
      "cell_type": "code",
      "source": [
        "divmod(8,5)"
      ],
      "metadata": {
        "colab": {
          "base_uri": "https://localhost:8080/"
        },
        "id": "EB_e9Jm2Eb0v",
        "outputId": "8f79a1e7-7764-4ce1-9a93-59442cea1d7b"
      },
      "execution_count": 135,
      "outputs": [
        {
          "output_type": "execute_result",
          "data": {
            "text/plain": [
              "(1, 3)"
            ]
          },
          "metadata": {},
          "execution_count": 135
        }
      ]
    },
    {
      "cell_type": "markdown",
      "source": [
        "**10. bin/oct/hex**"
      ],
      "metadata": {
        "id": "_ECkyLKHEcia"
      }
    },
    {
      "cell_type": "code",
      "source": [
        "bin(4)"
      ],
      "metadata": {
        "colab": {
          "base_uri": "https://localhost:8080/",
          "height": 36
        },
        "id": "hE4hlrvVEjUP",
        "outputId": "a5769be2-3ce6-404d-e5ce-9c6927a4bf36"
      },
      "execution_count": 136,
      "outputs": [
        {
          "output_type": "execute_result",
          "data": {
            "text/plain": [
              "'0b100'"
            ],
            "application/vnd.google.colaboratory.intrinsic+json": {
              "type": "string"
            }
          },
          "metadata": {},
          "execution_count": 136
        }
      ]
    },
    {
      "cell_type": "code",
      "source": [
        "oct(7)"
      ],
      "metadata": {
        "id": "uFiRsHErGuI9",
        "outputId": "e979ea30-151c-4fd5-affd-1e69bcfc9e4c",
        "colab": {
          "base_uri": "https://localhost:8080/",
          "height": 36
        }
      },
      "execution_count": 137,
      "outputs": [
        {
          "output_type": "execute_result",
          "data": {
            "text/plain": [
              "'0o7'"
            ],
            "application/vnd.google.colaboratory.intrinsic+json": {
              "type": "string"
            }
          },
          "metadata": {},
          "execution_count": 137
        }
      ]
    },
    {
      "cell_type": "code",
      "source": [
        "hex(5)"
      ],
      "metadata": {
        "id": "9Bg1orwqGxv2",
        "outputId": "baf39b2d-f6f5-4d1e-9105-4c19d792be59",
        "colab": {
          "base_uri": "https://localhost:8080/",
          "height": 36
        }
      },
      "execution_count": 138,
      "outputs": [
        {
          "output_type": "execute_result",
          "data": {
            "text/plain": [
              "'0x5'"
            ],
            "application/vnd.google.colaboratory.intrinsic+json": {
              "type": "string"
            }
          },
          "metadata": {},
          "execution_count": 138
        }
      ]
    },
    {
      "cell_type": "markdown",
      "source": [
        "**11.id**"
      ],
      "metadata": {
        "id": "tnnvXKCIEjte"
      }
    },
    {
      "cell_type": "code",
      "source": [
        "a=1.5 # id =locaton \n",
        "id(a)"
      ],
      "metadata": {
        "colab": {
          "base_uri": "https://localhost:8080/"
        },
        "id": "EkM1u4gXEnet",
        "outputId": "d1328c3b-79d5-441c-926a-97d214e91a4b"
      },
      "execution_count": 139,
      "outputs": [
        {
          "output_type": "execute_result",
          "data": {
            "text/plain": [
              "140478710155536"
            ]
          },
          "metadata": {},
          "execution_count": 139
        }
      ]
    },
    {
      "cell_type": "markdown",
      "source": [
        "**12. ord**"
      ],
      "metadata": {
        "id": "Zxwz1AkYEppm"
      }
    },
    {
      "cell_type": "code",
      "source": [
        "ord(\"v\")"
      ],
      "metadata": {
        "colab": {
          "base_uri": "https://localhost:8080/"
        },
        "id": "wn9UGYjZEvlB",
        "outputId": "ed7f6ec8-933c-4803-e465-62911d49b698"
      },
      "execution_count": 140,
      "outputs": [
        {
          "output_type": "execute_result",
          "data": {
            "text/plain": [
              "118"
            ]
          },
          "metadata": {},
          "execution_count": 140
        }
      ]
    },
    {
      "cell_type": "code",
      "source": [
        "ord(\"u\")"
      ],
      "metadata": {
        "id": "Lvt8u0PYHKk2",
        "outputId": "537e6cbc-6d0c-497b-f0a1-48ae308ea650",
        "colab": {
          "base_uri": "https://localhost:8080/"
        }
      },
      "execution_count": 142,
      "outputs": [
        {
          "output_type": "execute_result",
          "data": {
            "text/plain": [
              "117"
            ]
          },
          "metadata": {},
          "execution_count": 142
        }
      ]
    },
    {
      "cell_type": "markdown",
      "source": [
        "**13. len**"
      ],
      "metadata": {
        "id": "bMSyGo7TEv5K"
      }
    },
    {
      "cell_type": "code",
      "source": [
        "len(\"odisha\")"
      ],
      "metadata": {
        "colab": {
          "base_uri": "https://localhost:8080/"
        },
        "id": "qq1evqRyE0N0",
        "outputId": "edbc0470-2682-46cc-ad69-e2dad200d870"
      },
      "execution_count": 143,
      "outputs": [
        {
          "output_type": "execute_result",
          "data": {
            "text/plain": [
              "6"
            ]
          },
          "metadata": {},
          "execution_count": 143
        }
      ]
    },
    {
      "cell_type": "markdown",
      "source": [
        "**14.sum**"
      ],
      "metadata": {
        "id": "4_uGVaZ6E3qE"
      }
    },
    {
      "cell_type": "code",
      "source": [
        "sum([2,7,9,5,])"
      ],
      "metadata": {
        "colab": {
          "base_uri": "https://localhost:8080/"
        },
        "id": "Xo4qhBo1E8BR",
        "outputId": "5d47578f-65b0-4d5e-9053-ade22da9a256"
      },
      "execution_count": 144,
      "outputs": [
        {
          "output_type": "execute_result",
          "data": {
            "text/plain": [
              "23"
            ]
          },
          "metadata": {},
          "execution_count": 144
        }
      ]
    },
    {
      "cell_type": "markdown",
      "source": [
        "**15.help**"
      ],
      "metadata": {
        "id": "7oDkuOglE8yG"
      }
    },
    {
      "cell_type": "code",
      "source": [
        "help(\"ord\")"
      ],
      "metadata": {
        "colab": {
          "base_uri": "https://localhost:8080/"
        },
        "id": "l5uaTXmLFAVx",
        "outputId": "435cd4f2-3005-49fc-a1ca-caa3f32e61a8"
      },
      "execution_count": 145,
      "outputs": [
        {
          "output_type": "stream",
          "name": "stdout",
          "text": [
            "Help on built-in function ord in module builtins:\n",
            "\n",
            "ord(c, /)\n",
            "    Return the Unicode code point for a one-character string.\n",
            "\n"
          ]
        }
      ]
    },
    {
      "cell_type": "code",
      "source": [
        "help('print')"
      ],
      "metadata": {
        "id": "yJsHJgwgHgVL",
        "outputId": "c5e20a0e-37e3-496c-b998-09792a6e4bb7",
        "colab": {
          "base_uri": "https://localhost:8080/"
        }
      },
      "execution_count": 146,
      "outputs": [
        {
          "output_type": "stream",
          "name": "stdout",
          "text": [
            "Help on built-in function print in module builtins:\n",
            "\n",
            "print(...)\n",
            "    print(value, ..., sep=' ', end='\\n', file=sys.stdout, flush=False)\n",
            "    \n",
            "    Prints the values to a stream, or to sys.stdout by default.\n",
            "    Optional keyword arguments:\n",
            "    file:  a file-like object (stream); defaults to the current sys.stdout.\n",
            "    sep:   string inserted between values, default a space.\n",
            "    end:   string appended after the last value, default a newline.\n",
            "    flush: whether to forcibly flush the stream.\n",
            "\n"
          ]
        }
      ]
    },
    {
      "cell_type": "code",
      "source": [],
      "metadata": {
        "id": "x05N43fhHkt9"
      },
      "execution_count": null,
      "outputs": []
    }
  ],
  "metadata": {
    "colab": {
      "provenance": [],
      "authorship_tag": "ABX9TyNilNkk/qhZACwRCZWKh4pK",
      "include_colab_link": true
    },
    "kernelspec": {
      "display_name": "Python 3",
      "name": "python3"
    },
    "language_info": {
      "name": "python"
    }
  },
  "nbformat": 4,
  "nbformat_minor": 0
}