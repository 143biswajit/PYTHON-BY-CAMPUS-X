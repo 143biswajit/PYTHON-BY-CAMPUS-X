{
  "cells": [
    {
      "cell_type": "markdown",
      "metadata": {
        "id": "view-in-github",
        "colab_type": "text"
      },
      "source": [
        "<a href=\"https://colab.research.google.com/github/143biswajit/PYTHON-BY-CAMPUS-X/blob/main/python_basic_by_campus_x.ipynb\" target=\"_parent\"><img src=\"https://colab.research.google.com/assets/colab-badge.svg\" alt=\"Open In Colab\"/></a>"
      ]
    },
    {
      "cell_type": "markdown",
      "metadata": {
        "id": "4wY8tkiLvFij"
      },
      "source": [
        "# **CLASS-6**"
      ]
    },
    {
      "cell_type": "markdown",
      "metadata": {
        "id": "Yc79bYH6x6Br"
      },
      "source": [
        "**How to take user input in python ?**"
      ]
    },
    {
      "cell_type": "markdown",
      "metadata": {
        "id": "BOJZBVgQyPWQ"
      },
      "source": [
        "**Static software** = software talk in unidirection i.e software only talk  with user but user canot talk with software. ex -clock ,college website\n",
        "\n",
        "\n",
        "**Dynamic Software** = here software talk with user and also user talk with software. ex- u tube,watsap,swiggie.\n",
        "\n",
        "\n",
        "\n",
        "\n",
        "*   *To make dynamic software we need user input, so that we make dynamic software.*\n",
        "\n",
        "\n",
        "*  *Every programing language have some functionality to take user input*\n",
        "*   *that is in c language-scanf,c++=c in,java =system n*\n",
        "\n",
        "\n",
        "\n",
        "*   *In python the function is built in function.*\n",
        "\n",
        "\n",
        "\n",
        "\n"
      ]
    },
    {
      "cell_type": "code",
      "execution_count": null,
      "metadata": {
        "colab": {
          "base_uri": "https://localhost:8080/",
          "height": 55
        },
        "id": "lkYTw1qC2lsG",
        "outputId": "2475e2a9-5a36-4eb5-d486-f709ca4663be"
      },
      "outputs": [
        {
          "name": "stdout",
          "output_type": "stream",
          "text": [
            "Apna nama batabisw\n"
          ]
        },
        {
          "data": {
            "application/vnd.google.colaboratory.intrinsic+json": {
              "type": "string"
            },
            "text/plain": [
              "'bisw'"
            ]
          },
          "execution_count": 2,
          "metadata": {},
          "output_type": "execute_result"
        }
      ],
      "source": [
        "input(\"Apna nama bata\")"
      ]
    },
    {
      "cell_type": "code",
      "execution_count": null,
      "metadata": {
        "colab": {
          "base_uri": "https://localhost:8080/",
          "height": 55
        },
        "id": "d_9DyXs4yJKZ",
        "outputId": "e77a56b3-a626-4351-8d27-d1223e835f45"
      },
      "outputs": [
        {
          "name": "stdout",
          "output_type": "stream",
          "text": [
            "apna name batakase\n"
          ]
        },
        {
          "data": {
            "application/vnd.google.colaboratory.intrinsic+json": {
              "type": "string"
            },
            "text/plain": [
              "'kase'"
            ]
          },
          "execution_count": 3,
          "metadata": {},
          "output_type": "execute_result"
        }
      ],
      "source": [
        "input(prompt =\"apna name bata\")"
      ]
    },
    {
      "cell_type": "code",
      "execution_count": null,
      "metadata": {
        "colab": {
          "base_uri": "https://localhost:8080/"
        },
        "id": "XnSQC1Ja3SJ1",
        "outputId": "1fbda903-b35f-4296-a329-43bca6cd2041"
      },
      "outputs": [
        {
          "name": "stdout",
          "output_type": "stream",
          "text": [
            "Enter the first numberbiswa\n",
            "Enter the second numberjiefjis\n"
          ]
        }
      ],
      "source": [
        "first_number=input(\"Enter the first number\")\n",
        "second_number=input(\"Enter the second number\")\n"
      ]
    },
    {
      "cell_type": "code",
      "execution_count": null,
      "metadata": {
        "colab": {
          "base_uri": "https://localhost:8080/"
        },
        "id": "DRzAZ6e639Ng",
        "outputId": "286f7170-3a94-4ed0-9f29-936abc341b4b"
      },
      "outputs": [
        {
          "name": "stdout",
          "output_type": "stream",
          "text": [
            "biswa\n",
            "jiefjis\n"
          ]
        }
      ],
      "source": [
        "print(first_number)\n",
        "print(second_number)"
      ]
    },
    {
      "cell_type": "code",
      "execution_count": null,
      "metadata": {
        "colab": {
          "base_uri": "https://localhost:8080/"
        },
        "id": "HSRKyU7K4MgP",
        "outputId": "c55d66df-020e-4f40-972d-e8f8cb380936"
      },
      "outputs": [
        {
          "name": "stdout",
          "output_type": "stream",
          "text": [
            "biswajiefjis\n"
          ]
        }
      ],
      "source": [
        "result = first_number+second_number\n",
        "print(result)"
      ]
    },
    {
      "cell_type": "code",
      "execution_count": null,
      "metadata": {
        "colab": {
          "base_uri": "https://localhost:8080/"
        },
        "id": "dd72xoMX4afb",
        "outputId": "54f59a82-7385-457d-b162-fc97a2e80ef9"
      },
      "outputs": [
        {
          "data": {
            "text/plain": [
              "str"
            ]
          },
          "execution_count": 7,
          "metadata": {},
          "output_type": "execute_result"
        }
      ],
      "source": [
        "# type function\n",
        "type('tdhdh')"
      ]
    },
    {
      "cell_type": "code",
      "execution_count": null,
      "metadata": {
        "colab": {
          "base_uri": "https://localhost:8080/"
        },
        "id": "3lp9ru9o5pVh",
        "outputId": "7e9bf92e-d5d0-4135-a2ab-cc2d94eddbf5"
      },
      "outputs": [
        {
          "data": {
            "text/plain": [
              "str"
            ]
          },
          "execution_count": 8,
          "metadata": {},
          "output_type": "execute_result"
        }
      ],
      "source": [
        "type(first_number)"
      ]
    },
    {
      "cell_type": "code",
      "execution_count": null,
      "metadata": {
        "colab": {
          "base_uri": "https://localhost:8080/",
          "height": 36
        },
        "id": "zaV4BWxF6ByS",
        "outputId": "e9a20cb7-42cf-48df-8d8e-d477d2f5c152"
      },
      "outputs": [
        {
          "data": {
            "application/vnd.google.colaboratory.intrinsic+json": {
              "type": "string"
            },
            "text/plain": [
              "'biswa'"
            ]
          },
          "execution_count": 9,
          "metadata": {},
          "output_type": "execute_result"
        }
      ],
      "source": [
        "first_number"
      ]
    },
    {
      "cell_type": "markdown",
      "metadata": {
        "id": "8OR85HQT6hEm"
      },
      "source": [
        " **To over come this problem we use type conversion in python.** "
      ]
    },
    {
      "cell_type": "markdown",
      "metadata": {
        "id": "l7XUsT0Q7B4O"
      },
      "source": [
        "\n",
        "\n",
        "---\n",
        "\n",
        "\n",
        "\n",
        "---\n",
        "\n"
      ]
    },
    {
      "cell_type": "markdown",
      "metadata": {
        "id": "jnM8TK0H7FDc"
      },
      "source": [
        "# **Class=7**"
      ]
    },
    {
      "cell_type": "markdown",
      "metadata": {
        "id": "bqMQNkGT7ZPN"
      },
      "source": [
        "**Types conversion in python.**\n",
        "\n",
        "\n",
        "\n",
        "---\n",
        "\n",
        "\n",
        "\n"
      ]
    },
    {
      "cell_type": "markdown",
      "metadata": {
        "id": "0uzq9zEZ791j"
      },
      "source": [
        "It is two types \n",
        "# Imlicit - Here python do autometical type conversion\n",
        "#Explicit -Here we tell  python for type conversion"
      ]
    },
    {
      "cell_type": "code",
      "execution_count": null,
      "metadata": {
        "colab": {
          "base_uri": "https://localhost:8080/"
        },
        "id": "9S4sn_VP9G42",
        "outputId": "cba0a79c-d4bc-4a65-d915-8385055bb486"
      },
      "outputs": [
        {
          "data": {
            "text/plain": [
              "9.6"
            ]
          },
          "execution_count": 10,
          "metadata": {},
          "output_type": "execute_result"
        }
      ],
      "source": [
        "4+5.6"
      ]
    },
    {
      "cell_type": "code",
      "execution_count": null,
      "metadata": {
        "colab": {
          "base_uri": "https://localhost:8080/"
        },
        "id": "MPG86CWd9Kvb",
        "outputId": "ce654e2e-289b-4259-c9e2-9b096bf75d9b"
      },
      "outputs": [
        {
          "data": {
            "text/plain": [
              "(11.5+3j)"
            ]
          },
          "execution_count": 11,
          "metadata": {},
          "output_type": "execute_result"
        }
      ],
      "source": [
        "4+7.5+3j"
      ]
    },
    {
      "cell_type": "code",
      "execution_count": null,
      "metadata": {
        "colab": {
          "base_uri": "https://localhost:8080/",
          "height": 36
        },
        "id": "Qs74Ntm99RSY",
        "outputId": "fe638f1a-cc39-4a61-c0b6-19350ea3c709"
      },
      "outputs": [
        {
          "data": {
            "application/vnd.google.colaboratory.intrinsic+json": {
              "type": "string"
            },
            "text/plain": [
              "'biswajiefjis'"
            ]
          },
          "execution_count": 12,
          "metadata": {},
          "output_type": "execute_result"
        }
      ],
      "source": [
        "first_number+second_number"
      ]
    },
    {
      "cell_type": "code",
      "execution_count": null,
      "metadata": {
        "colab": {
          "base_uri": "https://localhost:8080/"
        },
        "id": "HZwGan4x93HA",
        "outputId": "7c0853f2-353f-487b-c988-bab9bd9ab463"
      },
      "outputs": [
        {
          "data": {
            "text/plain": [
              "3"
            ]
          },
          "execution_count": 13,
          "metadata": {},
          "output_type": "execute_result"
        }
      ],
      "source": [
        "#  int function\n",
        "int(3.6)"
      ]
    },
    {
      "cell_type": "code",
      "execution_count": null,
      "metadata": {
        "colab": {
          "base_uri": "https://localhost:8080/"
        },
        "id": "yhMvLAjS-AeQ",
        "outputId": "f730947b-6d6e-49ff-cb3f-b0b1bd7c6a68"
      },
      "outputs": [
        {
          "data": {
            "text/plain": [
              "45"
            ]
          },
          "execution_count": 14,
          "metadata": {},
          "output_type": "execute_result"
        }
      ],
      "source": [
        "int('45')"
      ]
    },
    {
      "cell_type": "code",
      "execution_count": null,
      "metadata": {
        "colab": {
          "base_uri": "https://localhost:8080/"
        },
        "id": "CozOuRbn-FJ2",
        "outputId": "37f83b38-6636-48eb-c85b-6054fe7877d0"
      },
      "outputs": [
        {
          "data": {
            "text/plain": [
              "4.0"
            ]
          },
          "execution_count": 15,
          "metadata": {},
          "output_type": "execute_result"
        }
      ],
      "source": [
        "float(4)"
      ]
    },
    {
      "cell_type": "code",
      "execution_count": null,
      "metadata": {
        "colab": {
          "base_uri": "https://localhost:8080/"
        },
        "id": "ad6q_rsC-Ylk",
        "outputId": "f3e0e3af-2431-49c3-9edc-641a84a9410d"
      },
      "outputs": [
        {
          "data": {
            "text/plain": [
              "True"
            ]
          },
          "execution_count": 16,
          "metadata": {},
          "output_type": "execute_result"
        }
      ],
      "source": [
        "bool(1)"
      ]
    },
    {
      "cell_type": "code",
      "execution_count": null,
      "metadata": {
        "colab": {
          "base_uri": "https://localhost:8080/"
        },
        "id": "cwi7E1tP-dEz",
        "outputId": "af5c864c-0a41-49aa-b2e2-e693932cb8f1"
      },
      "outputs": [
        {
          "data": {
            "text/plain": [
              "(4+0j)"
            ]
          },
          "execution_count": 17,
          "metadata": {},
          "output_type": "execute_result"
        }
      ],
      "source": [
        "complex(4)"
      ]
    },
    {
      "cell_type": "code",
      "execution_count": null,
      "metadata": {
        "colab": {
          "base_uri": "https://localhost:8080/"
        },
        "id": "DkBVwIDY-pcr",
        "outputId": "875449d3-1f03-4172-c69d-cbc7a5aded14"
      },
      "outputs": [
        {
          "data": {
            "text/plain": [
              "['b', 'i', 's', 'w', 'a', 'j', 'i', 't']"
            ]
          },
          "execution_count": 18,
          "metadata": {},
          "output_type": "execute_result"
        }
      ],
      "source": [
        "list('biswajit')"
      ]
    },
    {
      "cell_type": "code",
      "execution_count": null,
      "metadata": {
        "colab": {
          "base_uri": "https://localhost:8080/",
          "height": 176
        },
        "id": "yi4ixlJ1-ySo",
        "outputId": "72b5b73f-64bb-43d3-c947-aea9f4501aa1"
      },
      "outputs": [
        {
          "ename": "ValueError",
          "evalue": "ignored",
          "output_type": "error",
          "traceback": [
            "\u001b[0;31m---------------------------------------------------------------------------\u001b[0m",
            "\u001b[0;31mValueError\u001b[0m                                Traceback (most recent call last)",
            "\u001b[0;32m<ipython-input-82-2b75b40b202b>\u001b[0m in \u001b[0;36m<module>\u001b[0;34m\u001b[0m\n\u001b[0;32m----> 1\u001b[0;31m \u001b[0mint\u001b[0m\u001b[0;34m(\u001b[0m\u001b[0;34m'kolkata'\u001b[0m\u001b[0;34m)\u001b[0m\u001b[0;34m\u001b[0m\u001b[0;34m\u001b[0m\u001b[0m\n\u001b[0m",
            "\u001b[0;31mValueError\u001b[0m: invalid literal for int() with base 10: 'kolkata'"
          ]
        }
      ],
      "source": [
        "int('kolkata')"
      ]
    },
    {
      "cell_type": "markdown",
      "metadata": {
        "id": "72iHNn8k_ITZ"
      },
      "source": [
        "# Type conversion is not a permanate opration ."
      ]
    },
    {
      "cell_type": "code",
      "execution_count": null,
      "metadata": {
        "colab": {
          "base_uri": "https://localhost:8080/"
        },
        "id": "CFHQ9Su7_C8h",
        "outputId": "20a15c7c-b4bb-49b7-cae8-03a16ff5fd55"
      },
      "outputs": [
        {
          "data": {
            "text/plain": [
              "4"
            ]
          },
          "execution_count": 83,
          "metadata": {},
          "output_type": "execute_result"
        }
      ],
      "source": [
        "a=4.5\n",
        "int(a)"
      ]
    },
    {
      "cell_type": "code",
      "execution_count": null,
      "metadata": {
        "id": "OMWSeoUd_tEC"
      },
      "outputs": [],
      "source": []
    },
    {
      "cell_type": "code",
      "execution_count": null,
      "metadata": {
        "colab": {
          "base_uri": "https://localhost:8080/"
        },
        "id": "L7swFMRL_vSf",
        "outputId": "7206fb48-5669-48c0-b057-bd49fcf72857"
      },
      "outputs": [
        {
          "data": {
            "text/plain": [
              "4.5"
            ]
          },
          "execution_count": 84,
          "metadata": {},
          "output_type": "execute_result"
        }
      ],
      "source": [
        "a"
      ]
    },
    {
      "cell_type": "code",
      "execution_count": null,
      "metadata": {
        "colab": {
          "base_uri": "https://localhost:8080/"
        },
        "id": "wyHiKf4W_wZV",
        "outputId": "a5594d51-bc33-48e5-9756-d7163ca34924"
      },
      "outputs": [
        {
          "name": "stdout",
          "output_type": "stream",
          "text": [
            "Enter the first number56\n",
            "Enter the second number76\n",
            "132\n"
          ]
        }
      ],
      "source": [
        "first_number=int(input(\"Enter the first number\"))\n",
        "second_number=int(input(\"Enter the second number\"))\n",
        "\n",
        "result =(first_number+second_number)\n",
        "print(result)\n"
      ]
    },
    {
      "cell_type": "markdown",
      "metadata": {
        "id": "rvJnxcAmkTUF"
      },
      "source": [
        "\n",
        "\n",
        "---\n",
        "\n",
        "\n",
        "\n",
        "---\n",
        "\n"
      ]
    },
    {
      "cell_type": "markdown",
      "metadata": {
        "id": "sKKadVuHkWuQ"
      },
      "source": [
        "# **Literals**"
      ]
    },
    {
      "cell_type": "markdown",
      "metadata": {
        "id": "DRqOant0knin"
      },
      "source": [
        "Literal is a raw data given in a variable. In python,there are various types of literals they are as follows :\n",
        "\n",
        "\n",
        "\n",
        "\n",
        "\n",
        "*   Numerical Literals\n",
        "\n",
        "*   String Literals\n",
        "*   Boolean literals\n",
        "\n",
        "\n",
        "*   Special literals\n",
        "\n",
        "\n",
        "\n"
      ]
    },
    {
      "cell_type": "markdown",
      "metadata": {
        "id": "M6pl-GGkmTwj"
      },
      "source": [
        "**1.Numerical literals :**"
      ]
    },
    {
      "cell_type": "code",
      "execution_count": null,
      "metadata": {
        "id": "3SCjbQ2pmnFi"
      },
      "outputs": [],
      "source": [
        "a=0b1010 #Binary literals\n",
        "b=100 # Decimal literals\n",
        "c=0o310 #Octal literals\n",
        "d=0x12c #Hexagonal literals\n"
      ]
    },
    {
      "cell_type": "code",
      "execution_count": null,
      "metadata": {
        "id": "dhIBkZ2GoYkg"
      },
      "outputs": [],
      "source": [
        "# float literals\n",
        "float_1=10.5\n",
        "float_2=1.5e3\n",
        "float_3=1.5e-3"
      ]
    },
    {
      "cell_type": "code",
      "execution_count": null,
      "metadata": {
        "id": "GmeUaOvGo4QW"
      },
      "outputs": [],
      "source": [
        "# complex literals\n",
        "x=3.1j"
      ]
    },
    {
      "cell_type": "code",
      "execution_count": null,
      "metadata": {
        "colab": {
          "base_uri": "https://localhost:8080/"
        },
        "id": "KSTCmooEpB6L",
        "outputId": "75d31a0f-d5a2-4259-8db5-fe2c713acc78"
      },
      "outputs": [
        {
          "name": "stdout",
          "output_type": "stream",
          "text": [
            "10 100 200 300\n",
            "10.5 1500.0 0.0015\n",
            "3.1j 3.1 0.0\n"
          ]
        }
      ],
      "source": [
        "print(a,b,c,d)\n",
        "print(float_1,float_2,float_3)\n",
        "print(x,x.imag,x.real)"
      ]
    },
    {
      "cell_type": "markdown",
      "metadata": {
        "id": "nY4WdJhepoNO"
      },
      "source": [
        "**2. String literals:**"
      ]
    },
    {
      "cell_type": "code",
      "execution_count": null,
      "metadata": {
        "colab": {
          "base_uri": "https://localhost:8080/"
        },
        "id": "gxABV4IIqCJv",
        "outputId": "9f8e2ba1-e0d2-43ca-8979-54a5e530069f"
      },
      "outputs": [
        {
          "name": "stdout",
          "output_type": "stream",
          "text": [
            "I am Biswajit\n",
            "OoooYeeee\n",
            "c\n",
            "This is multiline string with more then one line code\n",
            "😀,😆🤣\n",
            "raw\n",
            "string\n"
          ]
        }
      ],
      "source": [
        "string = 'I am Biswajit'\n",
        "strings =  \"OoooYeeee\"\n",
        "char = \"c\"\n",
        "multiline_str=\"\"\"This is multiline string with more then one line code\"\"\"\n",
        "unicode = u\"\\U0001f600,\\U0001F606\\U0001F923\"\n",
        "raw_str = \"raw\\nstring\"\n",
        "print(string)\n",
        "print(strings)\n",
        "print(char)\n",
        "print(multiline_str)\n",
        "print(unicode)\n",
        "print(raw_str)"
      ]
    },
    {
      "cell_type": "code",
      "execution_count": null,
      "metadata": {
        "colab": {
          "base_uri": "https://localhost:8080/"
        },
        "id": "EWtuv41dr_Ph",
        "outputId": "66e4c0b1-4c0c-4742-94d1-bc0bbd3de6f2"
      },
      "outputs": [
        {
          "name": "stdout",
          "output_type": "stream",
          "text": [
            "hh\n"
          ]
        }
      ],
      "source": [
        "\"biswa\"\n",
        "a = \"hh\"\n",
        "print(a)"
      ]
    },
    {
      "cell_type": "code",
      "execution_count": null,
      "metadata": {
        "colab": {
          "base_uri": "https://localhost:8080/",
          "height": 36
        },
        "id": "0ukC6V8ermGE",
        "outputId": "643765ec-6263-41fd-bd50-a441658f031c"
      },
      "outputs": [
        {
          "data": {
            "application/vnd.google.colaboratory.intrinsic+json": {
              "type": "string"
            },
            "text/plain": [
              "'\\nThis is multiline \\nstring with more then \\none line code\\n'"
            ]
          },
          "execution_count": 104,
          "metadata": {},
          "output_type": "execute_result"
        }
      ],
      "source": [
        "\"\"\"\n",
        "This is multiline \n",
        "string with more then \n",
        "one line code\n",
        "\"\"\""
      ]
    },
    {
      "cell_type": "code",
      "execution_count": null,
      "metadata": {
        "colab": {
          "base_uri": "https://localhost:8080/"
        },
        "id": "6p1ySxb5rYWj",
        "outputId": "879011ee-a6be-4e27-9c39-136df3fbf3ff"
      },
      "outputs": [
        {
          "name": "stdout",
          "output_type": "stream",
          "text": [
            "😀\n",
            "😃\n",
            "😄\n",
            "😁\n",
            "😆\n",
            "😅\n",
            "🤣\n",
            "😂\n",
            "🙂\n",
            "🙃\n",
            "🫠\n",
            "😉\n",
            "😊\n",
            "😇\n"
          ]
        }
      ],
      "source": []
    },
    {
      "cell_type": "code",
      "execution_count": null,
      "metadata": {
        "id": "L-XMF9fFtDbb"
      },
      "outputs": [],
      "source": [
        "bro = u\"\\U0001f600\\U0001F606\\U0001F923\\U0001F400\\U0001F644\"\n",
        "print(bro)"
      ]
    },
    {
      "cell_type": "code",
      "execution_count": null,
      "metadata": {
        "id": "PcQwphy3tbgq"
      },
      "outputs": [],
      "source": [
        "new=u\"\\U0001f600\"\n",
        "print(new)"
      ]
    },
    {
      "cell_type": "markdown",
      "metadata": {
        "id": "Bb4dExStui5G"
      },
      "source": [
        "**3. Boolean Literals**"
      ]
    },
    {
      "cell_type": "code",
      "execution_count": null,
      "metadata": {
        "id": "eaLXPLrtupMb"
      },
      "outputs": [],
      "source": [
        "a=True+4\n",
        "b=False+10\n",
        "print('a=',a)\n",
        "print('b=',b)"
      ]
    },
    {
      "cell_type": "markdown",
      "metadata": {
        "id": "MtP76om5wMDW"
      },
      "source": [
        "**4.Special Literal**"
      ]
    },
    {
      "cell_type": "code",
      "execution_count": null,
      "metadata": {
        "id": "M-ur_gTFwTVd"
      },
      "outputs": [],
      "source": [
        "a = None\n",
        "print(a)"
      ]
    },
    {
      "cell_type": "code",
      "execution_count": null,
      "metadata": {
        "id": "jZ8Yb_bDwX6x"
      },
      "outputs": [],
      "source": [
        "c=34+45\n",
        "print(c)"
      ]
    },
    {
      "cell_type": "code",
      "execution_count": null,
      "metadata": {
        "id": "j9FytkBYwbZ8"
      },
      "outputs": [],
      "source": [
        "# In python u cant  declare varilable but if it nessary then we use None .\n",
        "k=None\n",
        "print(k)"
      ]
    },
    {
      "cell_type": "markdown",
      "metadata": {
        "id": "tenBlEdrxsIz"
      },
      "source": [
        "\n",
        "\n",
        "---\n",
        "\n",
        "\n",
        "\n",
        "---\n",
        "\n"
      ]
    },
    {
      "cell_type": "markdown",
      "metadata": {
        "id": "3VEDTMSNxtfD"
      },
      "source": [
        "# **Operators in python**"
      ]
    },
    {
      "cell_type": "markdown",
      "metadata": {
        "id": "b5v6fQOvx-35"
      },
      "source": [
        "Operator are used to perform operation on variable  and \n",
        "values .Python has the following operator.\n",
        "\n",
        "\n",
        "*   Arithmetic Operator\n",
        "\n",
        "*   Comparision Operator\n",
        "\n",
        "*   Logical Operator\n",
        "\n",
        "*   Bitwase Operator\n",
        "*   Assignment Operator\n",
        "\n",
        "\n",
        "*   Identity Operator \n",
        "\n",
        "\n",
        "*   Membership Operator\n",
        "\n",
        "\n",
        "\n",
        "\n"
      ]
    },
    {
      "cell_type": "markdown",
      "metadata": {
        "id": "D22o2Ldzzkga"
      },
      "source": [
        "**Arithmetic Operator**"
      ]
    },
    {
      "cell_type": "code",
      "execution_count": null,
      "metadata": {
        "id": "vG8-74H7zrE8"
      },
      "outputs": [],
      "source": [
        "x=5\n",
        "y=3\n",
        "print(x+y)"
      ]
    },
    {
      "cell_type": "code",
      "execution_count": null,
      "metadata": {
        "colab": {
          "base_uri": "https://localhost:8080/"
        },
        "id": "kpokq6blz4NA",
        "outputId": "4f85221a-6778-4544-bdfa-73bc24b62af1"
      },
      "outputs": [
        {
          "name": "stdout",
          "output_type": "stream",
          "text": [
            "2\n"
          ]
        }
      ],
      "source": [
        "print(x-y)"
      ]
    },
    {
      "cell_type": "code",
      "execution_count": null,
      "metadata": {
        "colab": {
          "base_uri": "https://localhost:8080/"
        },
        "id": "vv51MHrQz_xo",
        "outputId": "e76bfbe2-2ede-4a48-9e7d-33389d546aed"
      },
      "outputs": [
        {
          "name": "stdout",
          "output_type": "stream",
          "text": [
            "15\n"
          ]
        }
      ],
      "source": [
        "print(x*y)"
      ]
    },
    {
      "cell_type": "code",
      "execution_count": null,
      "metadata": {
        "colab": {
          "base_uri": "https://localhost:8080/"
        },
        "id": "NmazcMUx0C5k",
        "outputId": "ccfdae11-cd65-4fce-cba8-36ac8f85971a"
      },
      "outputs": [
        {
          "name": "stdout",
          "output_type": "stream",
          "text": [
            "1.6666666666666667\n"
          ]
        }
      ],
      "source": [
        "print(x/y) # true division"
      ]
    },
    {
      "cell_type": "code",
      "execution_count": null,
      "metadata": {
        "id": "5PwRbSuv0HKA"
      },
      "outputs": [],
      "source": [
        "print(x%y)"
      ]
    },
    {
      "cell_type": "code",
      "execution_count": null,
      "metadata": {
        "id": "mPNv1x-f0NuH"
      },
      "outputs": [],
      "source": [
        "print(x**y)"
      ]
    },
    {
      "cell_type": "code",
      "execution_count": null,
      "metadata": {
        "id": "sl5h-1Y30cW6"
      },
      "outputs": [],
      "source": [
        "print(x//y) # interger division"
      ]
    },
    {
      "cell_type": "markdown",
      "metadata": {
        "id": "Ah9_LR-k07A3"
      },
      "source": [
        "**Comparission Operator**"
      ]
    },
    {
      "cell_type": "code",
      "execution_count": null,
      "metadata": {
        "id": "ZR-0hB3w1AyP"
      },
      "outputs": [],
      "source": [
        "print(x>y)"
      ]
    },
    {
      "cell_type": "code",
      "execution_count": null,
      "metadata": {
        "id": "Xez1Jo1W1Ibv"
      },
      "outputs": [],
      "source": [
        "print(x<y)"
      ]
    },
    {
      "cell_type": "code",
      "execution_count": null,
      "metadata": {
        "id": "rD_c86Mr1L4m"
      },
      "outputs": [],
      "source": [
        "print(x>=y)"
      ]
    },
    {
      "cell_type": "code",
      "execution_count": null,
      "metadata": {
        "id": "f4eGcCdE1SWS"
      },
      "outputs": [],
      "source": [
        "print(x<=y)"
      ]
    },
    {
      "cell_type": "code",
      "execution_count": null,
      "metadata": {
        "id": "9gDTq-xX1Wn4"
      },
      "outputs": [],
      "source": [
        "print(x==y)"
      ]
    },
    {
      "cell_type": "code",
      "execution_count": null,
      "metadata": {
        "id": "ue4YQr4P1Zy3"
      },
      "outputs": [],
      "source": [
        "print(x!=y)"
      ]
    },
    {
      "cell_type": "markdown",
      "metadata": {
        "id": "NQLo1MtD111s"
      },
      "source": [
        "**Logical Operator**"
      ]
    },
    {
      "cell_type": "code",
      "execution_count": null,
      "metadata": {
        "id": "s2NZ27O818Ge"
      },
      "outputs": [],
      "source": [
        "x=True\n",
        "y=False\n",
        "print(x or y)"
      ]
    },
    {
      "cell_type": "code",
      "execution_count": null,
      "metadata": {
        "id": "xzMhPKmx2KM-"
      },
      "outputs": [],
      "source": [
        "print(x and y)"
      ]
    },
    {
      "cell_type": "code",
      "execution_count": null,
      "metadata": {
        "id": "1xl7gZXA2UTD"
      },
      "outputs": [],
      "source": [
        "print(not x)"
      ]
    },
    {
      "cell_type": "markdown",
      "metadata": {
        "id": "CnnG7ej32-z0"
      },
      "source": [
        "**Bitwaise Operator**"
      ]
    },
    {
      "cell_type": "code",
      "execution_count": null,
      "metadata": {
        "id": "Fg9ggXSL3JCO"
      },
      "outputs": [],
      "source": [
        "x= 6\n",
        "y= 8\n",
        "print(x & y)"
      ]
    },
    {
      "cell_type": "code",
      "execution_count": null,
      "metadata": {
        "id": "8Pn0M2VU3VnY"
      },
      "outputs": [],
      "source": [
        "print(x | y)"
      ]
    },
    {
      "cell_type": "code",
      "execution_count": null,
      "metadata": {
        "id": "vsz0WoRz3w7J"
      },
      "outputs": [],
      "source": [
        "print(x >> y)"
      ]
    },
    {
      "cell_type": "code",
      "execution_count": null,
      "metadata": {
        "id": "DLaMcpEh4AKS"
      },
      "outputs": [],
      "source": [
        "print(x << y)"
      ]
    },
    {
      "cell_type": "code",
      "execution_count": null,
      "metadata": {
        "id": "_BooiYgY4Etu"
      },
      "outputs": [],
      "source": [
        "print(-x)"
      ]
    },
    {
      "cell_type": "code",
      "execution_count": null,
      "metadata": {
        "id": "KUFq1Kxr4V2n"
      },
      "outputs": [],
      "source": [
        "# Bitwaise operator use when we work on binaray value.example is image proseseing project,when we use filter on image then we convert our image in binaray from. robotics"
      ]
    },
    {
      "cell_type": "markdown",
      "metadata": {
        "id": "Es8Grn2Q5oou"
      },
      "source": [
        "**Assignment Operator**"
      ]
    },
    {
      "cell_type": "code",
      "execution_count": null,
      "metadata": {
        "id": "e7F7DVSJ5ulu"
      },
      "outputs": [],
      "source": [
        "a=3\n",
        "print(a)"
      ]
    },
    {
      "cell_type": "code",
      "execution_count": null,
      "metadata": {
        "id": "QQnGBVxw6mBZ"
      },
      "outputs": [],
      "source": [
        "a += 5\n",
        "print(a)"
      ]
    },
    {
      "cell_type": "code",
      "execution_count": null,
      "metadata": {
        "id": "qH-JIxVs6q9_"
      },
      "outputs": [],
      "source": [
        "a-+3\n",
        "print(a)"
      ]
    },
    {
      "cell_type": "code",
      "execution_count": null,
      "metadata": {
        "id": "Mt2kHvss68u7"
      },
      "outputs": [],
      "source": [
        "a*=4\n",
        "a&=4\n",
        "print(a)\n",
        "print(a)"
      ]
    },
    {
      "cell_type": "code",
      "execution_count": null,
      "metadata": {
        "id": "yPcycT777LNB"
      },
      "outputs": [],
      "source": [
        "a++\n",
        "++a"
      ]
    },
    {
      "cell_type": "code",
      "execution_count": null,
      "metadata": {
        "id": "P-Qsv6xD7Yfq"
      },
      "outputs": [],
      "source": [
        "a=a+3\n",
        "a+=3\n"
      ]
    },
    {
      "cell_type": "markdown",
      "metadata": {
        "id": "G7vET2uB7lUn"
      },
      "source": [
        "**Identity Operator**"
      ]
    },
    {
      "cell_type": "code",
      "execution_count": null,
      "metadata": {
        "id": "OJgFOY-n7t5R"
      },
      "outputs": [],
      "source": [
        "a=3\n",
        "b=3\n",
        "print(a is b)"
      ]
    },
    {
      "cell_type": "code",
      "execution_count": null,
      "metadata": {
        "id": "WhgSGd4Q71uS"
      },
      "outputs": [],
      "source": [
        "a=\"hello\"\n",
        "b=\"hello\"\n",
        "print(a is  b)"
      ]
    },
    {
      "cell_type": "code",
      "execution_count": null,
      "metadata": {
        "id": "8vbvDE8R775t"
      },
      "outputs": [],
      "source": [
        "a=[1,2,3]\n",
        "b=[1,2,3]\n",
        "print(a is b)"
      ]
    },
    {
      "cell_type": "code",
      "execution_count": null,
      "metadata": {
        "id": "ssrlRRuI8Q3k"
      },
      "outputs": [],
      "source": [
        "a=\"Hello_world\"\n",
        "b=\"Hello_world\"\n",
        "print(a is b)"
      ]
    },
    {
      "cell_type": "code",
      "execution_count": null,
      "metadata": {
        "id": "kOgwj8si8jAA"
      },
      "outputs": [],
      "source": [
        "# this identity oprator  use for  only know ,if two variable look like same you cant told that they have same memory location but some time they prestent in same momory location"
      ]
    },
    {
      "cell_type": "markdown",
      "metadata": {
        "id": "1HV_XbBF-Ba4"
      },
      "source": [
        "**Membership Operator**"
      ]
    },
    {
      "cell_type": "code",
      "execution_count": null,
      "metadata": {
        "id": "r7yErwLX-H2U"
      },
      "outputs": [],
      "source": [
        "x= \"Delhi\"\n",
        "print(\"D\" in  x)"
      ]
    },
    {
      "cell_type": "code",
      "execution_count": null,
      "metadata": {
        "id": "-ng5HxAE-Tra"
      },
      "outputs": [],
      "source": [
        "x=[1,2,3]\n",
        "print( 5 in x)"
      ]
    },
    {
      "cell_type": "markdown",
      "metadata": {
        "id": "9XTpZP_HBr2c"
      },
      "source": [
        "\n",
        "\n",
        "---\n",
        "\n",
        "\n",
        "\n",
        "---\n",
        "\n"
      ]
    },
    {
      "cell_type": "markdown",
      "metadata": {
        "id": "DNPiSBT_Bucs"
      },
      "source": [
        "# **If-else Statement in python**"
      ]
    },
    {
      "cell_type": "code",
      "execution_count": null,
      "metadata": {
        "colab": {
          "base_uri": "https://localhost:8080/"
        },
        "id": "vYiZGcv5CIqW",
        "outputId": "68e42b81-05d0-4ad5-c035-6b77f07f5687"
      },
      "outputs": [
        {
          "name": "stdout",
          "output_type": "stream",
          "text": [
            "apna email bataliku\n",
            "apna passwad bata123\n",
            "wong\n"
          ]
        }
      ],
      "source": [
        "# correct  email - campusx@gmail.com\n",
        "# password = 1234\n",
        "\n",
        "email=input('apna email bata' )\n",
        "password=input('apna passwad bata')\n",
        "\n",
        "if email==\"campusx@gmail.com\" and password=='1234':\n",
        "  print('welcome')\n",
        "else:\n",
        "   print(\"wong\")"
      ]
    },
    {
      "cell_type": "code",
      "execution_count": null,
      "metadata": {
        "colab": {
          "base_uri": "https://localhost:8080/",
          "height": 138
        },
        "id": "msMDRRaCDbbn",
        "outputId": "4306d8bd-efd5-4d9a-b79b-b194b70749f4"
      },
      "outputs": [
        {
          "ename": "SyntaxError",
          "evalue": "ignored",
          "output_type": "error",
          "traceback": [
            "\u001b[0;36m  File \u001b[0;32m\"<ipython-input-21-b44b05cb3d8b>\"\u001b[0;36m, line \u001b[0;32m3\u001b[0m\n\u001b[0;31m    if  email =='campusx@gmail.com' and password='1234':\u001b[0m\n\u001b[0m                                                ^\u001b[0m\n\u001b[0;31mSyntaxError\u001b[0m\u001b[0;31m:\u001b[0m invalid syntax\n"
          ]
        }
      ],
      "source": [
        "email=input('enter ur email')\n",
        "password=input('enter ur password')\n",
        "if  email =='campusx@gmail.com' and password='1234':\n",
        "  print('wellcome')\n",
        "elif email=='campusx@gmail.com' and password!='1234':\n",
        "  print('incorect')\n",
        "  password = input('again password')\n",
        "  if password ==\"1234\":\n",
        "    print('finaly correct')\n",
        "    else:\n",
        "      print('still incorect')\n",
        "      else:\n",
        "        print('worng')\n",
        "\n",
        "  "
      ]
    },
    {
      "cell_type": "markdown",
      "metadata": {
        "id": "8ysDO0hbY8hP"
      },
      "source": [
        "# **Identation in python:**"
      ]
    },
    {
      "cell_type": "code",
      "execution_count": null,
      "metadata": {
        "colab": {
          "base_uri": "https://localhost:8080/",
          "height": 138
        },
        "id": "er6dLZWnUFkY",
        "outputId": "22fe6b8f-11aa-4aa3-9f39-050338d6916c"
      },
      "outputs": [
        {
          "ename": "SyntaxError",
          "evalue": "ignored",
          "output_type": "error",
          "traceback": [
            "\u001b[0;36m  File \u001b[0;32m\"<ipython-input-22-35a27680889b>\"\u001b[0;36m, line \u001b[0;32m1\u001b[0m\n\u001b[0;31m    if name=='xyz'\u001b[0m\n\u001b[0m                  ^\u001b[0m\n\u001b[0;31mSyntaxError\u001b[0m\u001b[0;31m:\u001b[0m invalid syntax\n"
          ]
        }
      ],
      "source": [
        "if name=='xyz'\n",
        " \n"
      ]
    },
    {
      "cell_type": "markdown",
      "metadata": {
        "id": "JsWvN9ZYUZsN"
      },
      "source": [
        "\n",
        "\n",
        "---\n",
        "\n",
        "\n",
        "\n",
        "---\n",
        "\n"
      ]
    },
    {
      "cell_type": "markdown",
      "metadata": {
        "id": "qn3CB_7RgmYH"
      },
      "source": [
        "# `**Loops in python:**"
      ]
    },
    {
      "cell_type": "markdown",
      "metadata": {
        "id": "FbtoYfa0gyiE"
      },
      "source": [
        "**in python two loops presents**\n",
        "\n",
        "**for loops **\n",
        "\n",
        "**while loops **"
      ]
    },
    {
      "cell_type": "code",
      "execution_count": null,
      "metadata": {
        "id": "tqS0uKjMiii3"
      },
      "outputs": [],
      "source": [
        "# while loops\n",
        "while condition:\n",
        "    code"
      ]
    },
    {
      "cell_type": "code",
      "execution_count": null,
      "metadata": {
        "colab": {
          "base_uri": "https://localhost:8080/"
        },
        "id": "v3DyLEFFhdQF",
        "outputId": "45337e48-dfec-4e4b-f681-f73d274798e5"
      },
      "outputs": [
        {
          "name": "stdout",
          "output_type": "stream",
          "text": [
            "Enter the number12\n",
            "12\n",
            "24\n",
            "36\n",
            "48\n",
            "60\n",
            "72\n",
            "84\n",
            "96\n",
            "108\n",
            "120\n"
          ]
        }
      ],
      "source": [
        "number= int(input('Enter the number'))\n",
        "\n",
        "i=1\n",
        "while i<11:\n",
        "  print(number*i)\n",
        "  i+=1\n"
      ]
    },
    {
      "cell_type": "markdown",
      "metadata": {
        "id": "8-QxB4X45r8D"
      },
      "source": [
        "**Guessing game using python :**"
      ]
    },
    {
      "cell_type": "code",
      "execution_count": null,
      "metadata": {
        "id": "KTOjPjv15z8j"
      },
      "outputs": [],
      "source": [
        "import  random"
      ]
    },
    {
      "cell_type": "code",
      "execution_count": null,
      "metadata": {
        "colab": {
          "base_uri": "https://localhost:8080/"
        },
        "id": "UGF4GY8U54St",
        "outputId": "2e8caafb-af4c-403d-f7d9-b3e5322a7a26"
      },
      "outputs": [
        {
          "data": {
            "text/plain": [
              "36"
            ]
          },
          "execution_count": 25,
          "metadata": {},
          "output_type": "execute_result"
        }
      ],
      "source": [
        "random.randint(1,100)"
      ]
    },
    {
      "cell_type": "code",
      "execution_count": null,
      "metadata": {
        "colab": {
          "base_uri": "https://localhost:8080/"
        },
        "id": "RAHABLM56DEj",
        "outputId": "7231631f-845b-43c0-82c3-67dca47a1476"
      },
      "outputs": [
        {
          "name": "stdout",
          "output_type": "stream",
          "text": [
            "guess number46\n",
            "guess lower\n",
            "chal guess kar40\n",
            "guess lower\n",
            "chal guess kar35\n",
            "guess lower\n",
            "chal guess kar30\n",
            "guess lower\n",
            "chal guess kar20\n",
            "guess lower\n",
            "chal guess kar10\n",
            "guess lower\n",
            "chal guess kar5\n",
            "guess lower\n",
            "chal guess kar3\n",
            "sahi jawab\n",
            "you took 8 attemp\n"
          ]
        }
      ],
      "source": [
        "jackpot = random. randint(1,100)\n",
        "\n",
        "guess = int(input('guess number'))\n",
        "counter =1\n",
        "while guess != jackpot:\n",
        "    if guess < jackpot:\n",
        "      print('guess higher')\n",
        "    else:\n",
        "      print('guess lower')\n",
        "    guess = int(input('chal guess kar'))  \n",
        "    counter+=1\n",
        "print('sahi jawab')    \n",
        "print('you took',counter,'attemp')    "
      ]
    },
    {
      "cell_type": "code",
      "execution_count": null,
      "metadata": {
        "id": "w1F2_aqT_FL8"
      },
      "outputs": [],
      "source": []
    },
    {
      "cell_type": "markdown",
      "metadata": {
        "id": "EMSCNbMIcf44"
      },
      "source": [
        "# **For loop in python:**"
      ]
    },
    {
      "cell_type": "markdown",
      "metadata": {
        "id": "YPVckVWMcn-h"
      },
      "source": [
        "**Range function(built in function)**"
      ]
    },
    {
      "cell_type": "code",
      "execution_count": null,
      "metadata": {
        "colab": {
          "base_uri": "https://localhost:8080/"
        },
        "id": "H0KzfEkXcwhM",
        "outputId": "9e369e30-128c-4d4c-bd50-b05d04e837dc"
      },
      "outputs": [
        {
          "data": {
            "text/plain": [
              "range(2, 20, 3)"
            ]
          },
          "execution_count": 28,
          "metadata": {},
          "output_type": "execute_result"
        }
      ],
      "source": [
        "# range function (start,stop,step)\n",
        "range(2,20,3)"
      ]
    },
    {
      "cell_type": "code",
      "execution_count": null,
      "metadata": {
        "colab": {
          "base_uri": "https://localhost:8080/"
        },
        "id": "zCF3ycihdGhD",
        "outputId": "1d35f455-b788-4ae4-a457-b4676af108fb"
      },
      "outputs": [
        {
          "data": {
            "text/plain": [
              "[3, 5, 7]"
            ]
          },
          "execution_count": 32,
          "metadata": {},
          "output_type": "execute_result"
        }
      ],
      "source": [
        "list(range(3,9,2))"
      ]
    },
    {
      "cell_type": "code",
      "execution_count": null,
      "metadata": {
        "colab": {
          "base_uri": "https://localhost:8080/"
        },
        "id": "76vurzHIdZ_Z",
        "outputId": "4f76f7c0-f933-4be2-9028-469ef0b18280"
      },
      "outputs": [
        {
          "data": {
            "text/plain": [
              "[3, 4, 5, 6]"
            ]
          },
          "execution_count": 34,
          "metadata": {},
          "output_type": "execute_result"
        }
      ],
      "source": [
        "list(range(3,7,1))"
      ]
    },
    {
      "cell_type": "code",
      "execution_count": null,
      "metadata": {
        "colab": {
          "base_uri": "https://localhost:8080/"
        },
        "id": "JrUst3Z4dmTA",
        "outputId": "bbf11528-ef17-4f5a-8513-ba37dac576f4"
      },
      "outputs": [
        {
          "data": {
            "text/plain": [
              "{2, 5, 8, 11, 14, 17}"
            ]
          },
          "execution_count": 35,
          "metadata": {},
          "output_type": "execute_result"
        }
      ],
      "source": [
        "set(range(2,20,3))"
      ]
    },
    {
      "cell_type": "code",
      "execution_count": null,
      "metadata": {
        "colab": {
          "base_uri": "https://localhost:8080/"
        },
        "id": "AVWsJPBkfaoc",
        "outputId": "8f5958ba-4c66-468e-933c-5c70b974ad66"
      },
      "outputs": [
        {
          "data": {
            "text/plain": [
              "(20, 25, 30, 35)"
            ]
          },
          "execution_count": 37,
          "metadata": {},
          "output_type": "execute_result"
        }
      ],
      "source": [
        "tuple(range(20,40,5))"
      ]
    },
    {
      "cell_type": "markdown",
      "metadata": {
        "id": "9aWah6a1eLMk"
      },
      "source": [
        "**Sequence(any thing comes in order)**"
      ]
    },
    {
      "cell_type": "code",
      "execution_count": null,
      "metadata": {
        "colab": {
          "base_uri": "https://localhost:8080/",
          "height": 36
        },
        "id": "3RfQXA3TeYWs",
        "outputId": "c3955603-658b-4eb4-e5b4-8901f3711aae"
      },
      "outputs": [
        {
          "data": {
            "application/vnd.google.colaboratory.intrinsic+json": {
              "type": "string"
            },
            "text/plain": [
              "'odisha'"
            ]
          },
          "execution_count": 39,
          "metadata": {},
          "output_type": "execute_result"
        }
      ],
      "source": [
        "# string\n",
        "\"odisha\""
      ]
    },
    {
      "cell_type": "code",
      "execution_count": null,
      "metadata": {
        "id": "89zBvmXhgGgD"
      },
      "outputs": [],
      "source": []
    },
    {
      "cell_type": "markdown",
      "metadata": {
        "id": "-QaTFzPrgJaP"
      },
      "source": [
        "**For loops : iteration on range or sequence.**"
      ]
    },
    {
      "cell_type": "code",
      "execution_count": null,
      "metadata": {
        "colab": {
          "base_uri": "https://localhost:8080/"
        },
        "id": "ZyM3UcyAgfP8",
        "outputId": "653fa553-d4e9-42e0-ebc1-e795c10b4caa"
      },
      "outputs": [
        {
          "name": "stdout",
          "output_type": "stream",
          "text": [
            "1\n",
            "6\n",
            "11\n",
            "16\n",
            "21\n",
            "26\n"
          ]
        }
      ],
      "source": [
        "for i in range(1,30,5):\n",
        "  print(i)"
      ]
    },
    {
      "cell_type": "code",
      "execution_count": null,
      "metadata": {
        "colab": {
          "base_uri": "https://localhost:8080/"
        },
        "id": "wPFBqAiLhK_n",
        "outputId": "c05662c5-e269-431b-c877-4957a7d6d363"
      },
      "outputs": [
        {
          "name": "stdout",
          "output_type": "stream",
          "text": [
            "o\n",
            "d\n",
            "i\n",
            "s\n",
            "h\n",
            "a\n"
          ]
        }
      ],
      "source": [
        "for i in \"odisha\":\n",
        "  print(i)"
      ]
    },
    {
      "cell_type": "code",
      "execution_count": null,
      "metadata": {
        "colab": {
          "base_uri": "https://localhost:8080/"
        },
        "id": "3yhoIbTWhgDS",
        "outputId": "ff291792-310f-43be-d613-c7c9092cf3c4"
      },
      "outputs": [
        {
          "name": "stdout",
          "output_type": "stream",
          "text": [
            "o\n",
            "y\n",
            "o\n",
            "h\n",
            "f\n",
            "e\n",
            "k\n",
            "h\n",
            "f\n",
            "l\n",
            "e\n",
            "h\n",
            "f\n"
          ]
        }
      ],
      "source": [
        "for i in \"oyohfekhflehf\":\n",
        "  print(i)"
      ]
    },
    {
      "cell_type": "code",
      "execution_count": null,
      "metadata": {
        "colab": {
          "base_uri": "https://localhost:8080/"
        },
        "id": "2O_m-6klhjj_",
        "outputId": "7388f472-f80e-4d55-c7e2-c92dd3fbbda8"
      },
      "outputs": [
        {
          "name": "stdout",
          "output_type": "stream",
          "text": [
            "1\n",
            "3\n",
            "4\n",
            "6\n",
            "7\n",
            "8\n"
          ]
        }
      ],
      "source": [
        "for i in {1,4,6,3,7,8}:\n",
        "  print(i)"
      ]
    },
    {
      "cell_type": "code",
      "execution_count": null,
      "metadata": {
        "colab": {
          "base_uri": "https://localhost:8080/"
        },
        "id": "7J8oQXyYiMFt",
        "outputId": "7bc16181-a433-42d2-c3a8-e73106fae267"
      },
      "outputs": [
        {
          "name": "stdout",
          "output_type": "stream",
          "text": [
            "o\n",
            "d\n",
            "i\n",
            "s\n",
            "h\n",
            "a\n"
          ]
        }
      ],
      "source": [
        "for i in 'odisha':\n",
        "  print(i)"
      ]
    },
    {
      "cell_type": "code",
      "execution_count": null,
      "metadata": {
        "colab": {
          "base_uri": "https://localhost:8080/"
        },
        "id": "3ia2dBcriTHy",
        "outputId": "0232a066-5f17-40a0-94de-127c7acd21bd"
      },
      "outputs": [
        {
          "name": "stdout",
          "output_type": "stream",
          "text": [
            "a\n",
            "b\n",
            "c\n",
            "d\n",
            "e\n",
            "f\n",
            "g\n",
            "h\n",
            "i\n",
            "j\n",
            "j\n"
          ]
        }
      ],
      "source": [
        "a = \"abcdefghij\"\n",
        "for i in a:\n",
        "  print(i)\n",
        "print(i)"
      ]
    },
    {
      "cell_type": "code",
      "execution_count": null,
      "metadata": {
        "colab": {
          "base_uri": "https://localhost:8080/"
        },
        "id": "lPybEn3aoZP1",
        "outputId": "16d708ec-11d2-4782-cedd-df8d039176d7"
      },
      "outputs": [
        {
          "name": "stdout",
          "output_type": "stream",
          "text": [
            "['a', 'b', 'c', 'd', 'e', 'f', 'g', 'h', 'i', 'j']\n"
          ]
        }
      ],
      "source": [
        "a = []\n",
        "for i in \"abcdefghij\":\n",
        "  a.append(i)\n",
        "print(a)"
      ]
    },
    {
      "cell_type": "markdown",
      "metadata": {
        "id": "mu7SgMRnilAa"
      },
      "source": [
        "NOTE: \n",
        "\n",
        "FOR LOOPS=When  you know that how many times loops is run then we use  for  loops.\n",
        "\n",
        "WHILE LOOPS =When  you not know that how many times loops is run then we use  for  loops."
      ]
    },
    {
      "cell_type": "markdown",
      "metadata": {
        "id": "xbF-iGc21ftg"
      },
      "source": [
        "**Nested loop  in python :**"
      ]
    },
    {
      "cell_type": "code",
      "execution_count": null,
      "metadata": {
        "colab": {
          "base_uri": "https://localhost:8080/"
        },
        "id": "iFim0E_B1pYF",
        "outputId": "978e4728-a0aa-4f6c-8c88-c29291d23bd9"
      },
      "outputs": [
        {
          "name": "stdout",
          "output_type": "stream",
          "text": [
            "enter the number of rows10\n",
            "*\n",
            "**\n",
            "***\n",
            "****\n",
            "*****\n",
            "******\n",
            "*******\n",
            "********\n",
            "*********\n",
            "**********\n"
          ]
        }
      ],
      "source": [
        "rows = int(input('enter the number of rows'))\n",
        "for i in range(1,rows+1):\n",
        "    for j in range(0,i):\n",
        "        print('*',end=\"\")\n",
        "    print(\"\")"
      ]
    },
    {
      "cell_type": "code",
      "execution_count": null,
      "metadata": {
        "id": "DD5iap6f2Pgf"
      },
      "outputs": [],
      "source": []
    },
    {
      "cell_type": "markdown",
      "metadata": {
        "id": "NJHXlvEM7YaS"
      },
      "source": [
        "# **Break,Continue And Pass Statement  in  python :**"
      ]
    },
    {
      "cell_type": "markdown",
      "metadata": {
        "id": "rmC2hSmj7orR"
      },
      "source": [
        "**Breaks Statement :**\n",
        "\n",
        "when a loops is runing  that time , if we put the break statement then it terminate the  loops statement  or break  the loop . "
      ]
    },
    {
      "cell_type": "code",
      "execution_count": null,
      "metadata": {
        "colab": {
          "base_uri": "https://localhost:8080/"
        },
        "id": "35YlVgdh8apA",
        "outputId": "28c3f729-d4aa-498c-c016-6c6e07c8dadb"
      },
      "outputs": [
        {
          "name": "stdout",
          "output_type": "stream",
          "text": [
            "1\n",
            "2\n",
            "3\n",
            "4\n"
          ]
        }
      ],
      "source": [
        "for i in range(1,11):\n",
        "    if i==5:\n",
        "      break\n",
        "    print(i)"
      ]
    },
    {
      "cell_type": "markdown",
      "metadata": {
        "id": "ffNIc7CZ85m0"
      },
      "source": [
        "Break statement use  to terminate the loops. it is use in linear searching."
      ]
    },
    {
      "cell_type": "markdown",
      "metadata": {
        "id": "nc7GC5rv9Q03"
      },
      "source": [
        "**Continue Statement:**"
      ]
    },
    {
      "cell_type": "code",
      "execution_count": null,
      "metadata": {
        "colab": {
          "base_uri": "https://localhost:8080/"
        },
        "id": "vPA-rlQf81Ol",
        "outputId": "67040e8e-8bd7-47a3-fcff-6a7fecbe2a7b"
      },
      "outputs": [
        {
          "name": "stdout",
          "output_type": "stream",
          "text": [
            "1\n",
            "2\n",
            "3\n",
            "4\n",
            "6\n",
            "7\n",
            "8\n",
            "9\n",
            "10\n"
          ]
        }
      ],
      "source": [
        "for i in range (1,11):\n",
        "  if i==5:\n",
        "    continue\n",
        "  print(i)"
      ]
    },
    {
      "cell_type": "markdown",
      "metadata": {
        "id": "zlZI4KUz9ugC"
      },
      "source": [
        "Ex of continue statemnet is flipcart  product stock or not."
      ]
    },
    {
      "cell_type": "markdown",
      "metadata": {
        "id": "L9V5rdm4-5Sh"
      },
      "source": [
        "**Pass statement:**\n",
        "\n",
        "if u not know the that what logic u write  in the loop but u want to run the loop that time u use pass statement."
      ]
    },
    {
      "cell_type": "code",
      "execution_count": null,
      "metadata": {
        "id": "VYZ26iK8_gHn"
      },
      "outputs": [],
      "source": [
        "for i in range (1,11):\n",
        "    pass"
      ]
    },
    {
      "cell_type": "code",
      "execution_count": null,
      "metadata": {
        "id": "NFIwWXqg_mr-"
      },
      "outputs": [],
      "source": []
    },
    {
      "cell_type": "markdown",
      "metadata": {
        "id": "pa_xZU2KDCgf"
      },
      "source": [
        "# **Built-in function:**"
      ]
    },
    {
      "cell_type": "markdown",
      "metadata": {
        "id": "_LugtvlKDczv"
      },
      "source": [
        "**1. Print**"
      ]
    },
    {
      "cell_type": "code",
      "execution_count": null,
      "metadata": {
        "colab": {
          "background_save": true
        },
        "id": "2HQGzEvaDkI_",
        "outputId": "bda621b8-8d6c-4a56-a18f-fa2d88cb2d21"
      },
      "outputs": [
        {
          "name": "stdout",
          "output_type": "stream",
          "text": [
            "hello every one\n"
          ]
        }
      ],
      "source": [
        "print('hello e')"
      ]
    },
    {
      "cell_type": "markdown",
      "metadata": {
        "id": "wy8KaLw3Dkvq"
      },
      "source": [
        "**2.Input** "
      ]
    },
    {
      "cell_type": "code",
      "execution_count": null,
      "metadata": {
        "id": "CBJqvZanDrd2"
      },
      "outputs": [],
      "source": []
    },
    {
      "cell_type": "markdown",
      "metadata": {
        "id": "SnBi2UW6DryZ"
      },
      "source": [
        "**3.Type**"
      ]
    },
    {
      "cell_type": "code",
      "execution_count": null,
      "metadata": {
        "id": "9Vqa6DQgD1aM"
      },
      "outputs": [],
      "source": []
    },
    {
      "cell_type": "markdown",
      "metadata": {
        "id": "CfqOfM19D18H"
      },
      "source": [
        "**4.int etc**"
      ]
    },
    {
      "cell_type": "code",
      "execution_count": null,
      "metadata": {
        "id": "NxGqu4GMD7dW"
      },
      "outputs": [],
      "source": []
    },
    {
      "cell_type": "markdown",
      "metadata": {
        "id": "12E4rdH_D7_p"
      },
      "source": [
        "**5.abs**"
      ]
    },
    {
      "cell_type": "code",
      "execution_count": null,
      "metadata": {
        "id": "zYU2gW_nEA8k"
      },
      "outputs": [],
      "source": []
    },
    {
      "cell_type": "markdown",
      "metadata": {
        "id": "40sbibsHECjX"
      },
      "source": [
        "**6.pow**"
      ]
    },
    {
      "cell_type": "code",
      "execution_count": null,
      "metadata": {
        "id": "BdqbbBf9EGQV"
      },
      "outputs": [],
      "source": []
    },
    {
      "cell_type": "markdown",
      "metadata": {
        "id": "6cpgqPl9EHGF"
      },
      "source": [
        "**7. Min/Max**\n"
      ]
    },
    {
      "cell_type": "code",
      "execution_count": null,
      "metadata": {
        "id": "o1SeBvPQENLQ"
      },
      "outputs": [],
      "source": []
    },
    {
      "cell_type": "markdown",
      "metadata": {
        "id": "AJ47ffl2ENwV"
      },
      "source": [
        "**8. Round**"
      ]
    },
    {
      "cell_type": "code",
      "execution_count": null,
      "metadata": {
        "id": "o336v6yHEU80"
      },
      "outputs": [],
      "source": []
    },
    {
      "cell_type": "markdown",
      "metadata": {
        "id": "mNZezOPdEVWD"
      },
      "source": [
        "**9.divmod**"
      ]
    },
    {
      "cell_type": "code",
      "execution_count": null,
      "metadata": {
        "id": "EB_e9Jm2Eb0v"
      },
      "outputs": [],
      "source": []
    },
    {
      "cell_type": "markdown",
      "metadata": {
        "id": "_ECkyLKHEcia"
      },
      "source": [
        "**10. bin/oct/hex**"
      ]
    },
    {
      "cell_type": "code",
      "execution_count": null,
      "metadata": {
        "id": "hE4hlrvVEjUP"
      },
      "outputs": [],
      "source": []
    },
    {
      "cell_type": "markdown",
      "metadata": {
        "id": "tnnvXKCIEjte"
      },
      "source": [
        "**11.id**"
      ]
    },
    {
      "cell_type": "code",
      "execution_count": null,
      "metadata": {
        "id": "EkM1u4gXEnet"
      },
      "outputs": [],
      "source": []
    },
    {
      "cell_type": "markdown",
      "metadata": {
        "id": "Zxwz1AkYEppm"
      },
      "source": [
        "**12. ord**"
      ]
    },
    {
      "cell_type": "code",
      "execution_count": null,
      "metadata": {
        "colab": {
          "background_save": true
        },
        "id": "wn9UGYjZEvlB",
        "outputId": "87de45c9-dd87-48e0-8c7f-f3cefad02afb"
      },
      "outputs": [
        {
          "data": {
            "text/plain": [
              "118"
            ]
          },
          "execution_count": 140,
          "metadata": {},
          "output_type": "execute_result"
        }
      ],
      "source": []
    },
    {
      "cell_type": "markdown",
      "metadata": {
        "id": "bMSyGo7TEv5K"
      },
      "source": [
        "**13. len**"
      ]
    },
    {
      "cell_type": "code",
      "execution_count": null,
      "metadata": {
        "id": "qq1evqRyE0N0"
      },
      "outputs": [],
      "source": []
    },
    {
      "cell_type": "markdown",
      "metadata": {
        "id": "4_uGVaZ6E3qE"
      },
      "source": [
        "**14.sum**"
      ]
    },
    {
      "cell_type": "code",
      "execution_count": null,
      "metadata": {
        "id": "Xo4qhBo1E8BR"
      },
      "outputs": [],
      "source": []
    },
    {
      "cell_type": "markdown",
      "metadata": {
        "id": "7oDkuOglE8yG"
      },
      "source": [
        "**15.help**"
      ]
    },
    {
      "cell_type": "code",
      "execution_count": null,
      "metadata": {
        "id": "l5uaTXmLFAVx"
      },
      "outputs": [],
      "source": []
    },
    {
      "cell_type": "markdown",
      "metadata": {
        "id": "OReRJolKocpR"
      },
      "source": [
        "\n",
        "\n",
        "---\n",
        "\n",
        "\n",
        "\n",
        "---\n",
        "\n"
      ]
    },
    {
      "cell_type": "markdown",
      "metadata": {
        "id": "W7zoa5-ZsRYT"
      },
      "source": [
        "# **Built in Madules:**"
      ]
    },
    {
      "cell_type": "markdown",
      "metadata": {
        "id": "2NP19V4jsZiN"
      },
      "source": [
        "Madules: consider a module to be the same as code libraries\n",
        "\n",
        "\n",
        "\n",
        "*   A file containing  the set of function u want to include in ur libraries.\n",
        "\n",
        "*   Module is nothing but a python file ,where the function will be write. you can import that file and use  as function.\n",
        "*   MOdules are use to code resibility.\n",
        "\n",
        "\n",
        "*   example of python modules \n",
        "        \n",
        "\n",
        "1.   Math\n",
        "\n",
        "1.   Random\n",
        "2.   os\n",
        "\n",
        "\n",
        "\n",
        "\n",
        "\n",
        "\n",
        "  4.time\n",
        "\n",
        "\n",
        "\n",
        "\n",
        "\n",
        "\n",
        "\n"
      ]
    },
    {
      "cell_type": "code",
      "execution_count": null,
      "metadata": {
        "colab": {
          "base_uri": "https://localhost:8080/"
        },
        "id": "P9Pz3fq8uWBt",
        "outputId": "6b257a86-e413-4f57-8347-1ba3ee0ad5bb"
      },
      "outputs": [
        {
          "name": "stdout",
          "output_type": "stream",
          "text": [
            "\n",
            "Please wait a moment while I gather a list of all available modules...\n",
            "\n"
          ]
        },
        {
          "name": "stderr",
          "output_type": "stream",
          "text": [
            "/usr/local/lib/python3.7/dist-packages/IPython/kernel/__init__.py:13: ShimWarning: The `IPython.kernel` package has been deprecated since IPython 4.0.You should import from ipykernel or jupyter_client instead.\n",
            "  \"You should import from ipykernel or jupyter_client instead.\", ShimWarning)\n",
            "/usr/local/lib/python3.7/dist-packages/llvmlite/llvmpy/__init__.py:4: UserWarning: The module `llvmlite.llvmpy` is deprecated and will be removed in the future.\n",
            "  \"The module `llvmlite.llvmpy` is deprecated and will be removed in the \"\n",
            "/usr/local/lib/python3.7/dist-packages/llvmlite/llvmpy/core.py:9: UserWarning: The module `llvmlite.llvmpy.core` is deprecated and will be removed in the future. Equivalent functionality is provided by `llvmlite.ir`.\n",
            "  \"The module `llvmlite.llvmpy.core` is deprecated and will be removed in \"\n",
            "WARNING: AstropyDeprecationWarning: The private astropy._erfa module has been made into its own package, pyerfa, which is a dependency of astropy and can be imported directly using \"import erfa\" [astropy._erfa]\n",
            "WARNING:astropy:AstropyDeprecationWarning: The private astropy._erfa module has been made into its own package, pyerfa, which is a dependency of astropy and can be imported directly using \"import erfa\"\n",
            "/usr/local/lib/python3.7/dist-packages/caffe2/__init__.py:5: UserWarning: Caffe2 support is not fully enabled in this PyTorch build. Please enable Caffe2 by building PyTorch from source with `BUILD_CAFFE2=1` flag.\n",
            "  warnings.warn(\"Caffe2 support is not fully enabled in this PyTorch build. \"\n",
            "/usr/local/lib/python3.7/dist-packages/caffe2/proto/__init__.py:17: UserWarning: Caffe2 support is not enabled in this PyTorch build. Please enable Caffe2 by building PyTorch from source with `BUILD_CAFFE2=1` flag.\n",
            "  warnings.warn('Caffe2 support is not enabled in this PyTorch build. '\n",
            "/usr/local/lib/python3.7/dist-packages/caffe2/proto/__init__.py:17: UserWarning: Caffe2 support is not enabled in this PyTorch build. Please enable Caffe2 by building PyTorch from source with `BUILD_CAFFE2=1` flag.\n",
            "  warnings.warn('Caffe2 support is not enabled in this PyTorch build. '\n",
            "/usr/local/lib/python3.7/dist-packages/caffe2/python/__init__.py:9: UserWarning: Caffe2 support is not enabled in this PyTorch build. Please enable Caffe2 by building PyTorch from source with `BUILD_CAFFE2=1` flag.\n",
            "  warnings.warn('Caffe2 support is not enabled in this PyTorch build. '\n",
            "/usr/local/lib/python3.7/dist-packages/past/types/oldstr.py:5: DeprecationWarning:\n",
            "\n",
            "Using or importing the ABCs from 'collections' instead of from 'collections.abc' is deprecated since Python 3.3,and in 3.9 it will stop working\n",
            "\n",
            "/usr/local/lib/python3.7/dist-packages/intervaltree/intervaltree.py:37: DeprecationWarning:\n",
            "\n",
            "Using or importing the ABCs from 'collections' instead of from 'collections.abc' is deprecated since Python 3.3,and in 3.9 it will stop working\n",
            "\n",
            "/usr/local/lib/python3.7/dist-packages/jupyter_client/ssh/tunnel.py:57: DeprecationWarning:\n",
            "\n",
            "zmq.utils.strtypes is deprecated in pyzmq 23.\n",
            "\n",
            "/usr/local/lib/python3.7/dist-packages/librosa/core/constantq.py:1059: DeprecationWarning:\n",
            "\n",
            "`np.complex` is a deprecated alias for the builtin `complex`. To silence this warning, use `complex` by itself. Doing this will not modify any behavior and is safe. If you specifically wanted the numpy scalar type, use `np.complex128` here.\n",
            "Deprecated in NumPy 1.20; for more details and guidance: https://numpy.org/devdocs/release/1.20.0-notes.html#deprecations\n",
            "\n"
          ]
        },
        {
          "name": "stdout",
          "output_type": "stream",
          "text": [
            "Downloading http://dlib.net/files/shape_predictor_68_face_landmarks.dat.bz2 to /root/mlxtend_data/shape_predictor_68_face_landmarks.dat.bz2\n"
          ]
        },
        {
          "name": "stderr",
          "output_type": "stream",
          "text": [
            "/usr/local/lib/python3.7/dist-packages/nbconvert/filters/strings.py:22: DeprecationWarning:\n",
            "\n",
            "defusedxml.cElementTree is deprecated, import from defusedxml.ElementTree instead.\n",
            "\n",
            "/usr/local/lib/python3.7/dist-packages/nibabel/quaternions.py:31: DeprecationWarning:\n",
            "\n",
            "`np.float` is a deprecated alias for the builtin `float`. To silence this warning, use `float` by itself. Doing this will not modify any behavior and is safe. If you specifically wanted the numpy scalar type, use `np.float64` here.\n",
            "Deprecated in NumPy 1.20; for more details and guidance: https://numpy.org/devdocs/release/1.20.0-notes.html#deprecations\n",
            "\n",
            "/usr/lib/python3.7/pkgutil.py:92: UserWarning:\n",
            "\n",
            "The DICOM readers are highly experimental, unstable, and only work for Siemens time-series at the moment\n",
            "Please use with caution.  We would be grateful for your help in improving them\n",
            "\n",
            "/usr/local/lib/python3.7/dist-packages/nltk/twitter/__init__.py:21: UserWarning:\n",
            "\n",
            "The twython library has not been installed. Some functionality from the twitter package will not be available.\n",
            "\n",
            "/usr/local/lib/python3.7/dist-packages/pip/_vendor/packaging/version.py:130: DeprecationWarning:\n",
            "\n",
            "Creating a LegacyVersion has been deprecated and will be removed in the next major release\n",
            "\n",
            "/usr/local/lib/python3.7/dist-packages/pip/_vendor/packaging/version.py:130: DeprecationWarning:\n",
            "\n",
            "Creating a LegacyVersion has been deprecated and will be removed in the next major release\n",
            "\n",
            "/usr/lib/python3.7/pkgutil.py:92: UserWarning: Viewer requires Qt\n",
            "/usr/local/lib/python3.7/dist-packages/sphinx/websupport/__init__.py:25: RemovedInSphinx20Warning: sphinx.websupport module is now provided as sphinxcontrib-websupport. sphinx.websupport will be removed at Sphinx-2.0. Please use the package instead.\n",
            "/usr/local/lib/python3.7/dist-packages/marshmallow/fields.py:569: RemovedInMarshmallow4Warning: The 'missing' argument to fields is deprecated. Use 'load_default' instead.\n",
            "/usr/local/lib/python3.7/dist-packages/tensorboard/_vendor/html5lib/filters/sanitizer.py:29: DeprecationWarning: html5lib's sanitizer is deprecated; see https://github.com/html5lib/html5lib-python/issues/443 and please let us know if Bleach is unsuitable for your needs\n",
            "/usr/local/lib/python3.7/dist-packages/torch/distributed/_sharded_tensor/__init__.py:10: DeprecationWarning: torch.distributed._sharded_tensor will be deprecated, use torch.distributed._shard.sharded_tensor instead\n",
            "/usr/local/lib/python3.7/dist-packages/torch/distributed/_sharding_spec/__init__.py:10: DeprecationWarning: torch.distributed._sharding_spec will be deprecated, use torch.distributed._shard.sharding_spec instead\n"
          ]
        },
        {
          "name": "stdout",
          "output_type": "stream",
          "text": [
            "No CUDA runtime is found, using CUDA_HOME='/usr/local/cuda'\n",
            "Cython              collections         kapre               resource\n",
            "IPython             colorcet            keras               rlcompleter\n",
            "OpenGL              colorlover          keras_preprocessing rmagic\n",
            "PIL                 colorsys            keyword             rpy2\n",
            "ScreenResolution    community           kiwisolver          rsa\n",
            "__future__          compileall          korean_lunar_calendar runpy\n",
            "_abc                concurrent          langcodes           samples\n",
            "_ast                configparser        lib2to3             sched\n",
            "_asyncio            cons                libfuturize         scipy\n",
            "_bisect             contextlib          libpasteurize       scs\n",
            "_blake2             contextlib2         librosa             seaborn\n",
            "_bootlocale         contextvars         lightgbm            secrets\n",
            "_bz2                convertdate         linecache           select\n",
            "_cffi_backend       copy                llvmlite            selectors\n",
            "_codecs             copyreg             lmdb                send2trash\n",
            "_codecs_cn          crashtest           locale              setuptools\n",
            "_codecs_hk          crcmod              locket              setuptools_git\n",
            "_codecs_iso2022     crypt               logging             shapely\n",
            "_codecs_jp          csimdjson           lsb_release         shelve\n",
            "_codecs_kr          csv                 lunarcalendar       shlex\n",
            "_codecs_tw          ctypes              lxml                shutil\n",
            "_collections        cufflinks           lzma                signal\n",
            "_collections_abc    curses              macpath             simdjson\n",
            "_compat_pickle      cv2                 mailbox             site\n",
            "_compression        cvxopt              mailcap             sitecustomize\n",
            "_contextvars        cvxpy               markdown            six\n",
            "_crypt              cycler              markupsafe          skimage\n",
            "_csv                cymem               marshal             sklearn\n",
            "_ctypes             cython              marshmallow         sklearn_pandas\n",
            "_ctypes_test        cythonmagic         math                slugify\n",
            "_curses             daft                matplotlib          smart_open\n",
            "_curses_panel       dask                matplotlib_venn     smtpd\n",
            "_cvxcore            dataclasses         mimetypes           smtplib\n",
            "_datetime           datascience         missingno           sndhdr\n",
            "_dbm                datetime            mistune             snowballstemmer\n",
            "_decimal            dateutil            mizani              socket\n",
            "_distutils_hack     dbm                 mlxtend             socketserver\n",
            "_dlib_pybind11      dbus                mmap                socks\n",
            "_dummy_thread       debugpy             modulefinder        sockshandler\n",
            "_ecos               decimal             more_itertools      softwareproperties\n",
            "_elementtree        decorator           moviepy             sortedcontainers\n",
            "_functools          defusedxml          mpmath              soundfile\n",
            "_hashlib            descartes           msgpack             spacy\n",
            "_heapq              difflib             multidict           spacy_legacy\n",
            "_imp                dill                multipledispatch    spacy_loggers\n",
            "_io                 dis                 multiprocessing     sphinx\n",
            "_json               distributed         multitasking        spwd\n",
            "_locale             distutils           murmurhash          sql\n",
            "_lsprof             dlib                music21             sqlalchemy\n",
            "_lzma               docs                natsort             sqlite3\n",
            "_markupbase         doctest             nbconvert           sqlparse\n",
            "_md5                docutils            nbformat            sre_compile\n",
            "_multibytecodec     dopamine            netCDF4             sre_constants\n",
            "_multiprocessing    dot_parser          netrc               sre_parse\n",
            "_opcode             dummy_threading     networkx            srsly\n",
            "_operator           easydict            nibabel             ssl\n",
            "_osx_support        ecos                nis                 stan\n",
            "_pickle             editdistance        nisext              stat\n",
            "_plotly_future_     ee                  nltk                statistics\n",
            "_plotly_utils       email               nntplib             statsmodels\n",
            "_posixsubprocess    en_core_web_sm      notebook            storemagic\n",
            "_py_abc             encodings           ntpath              string\n",
            "_pydecimal          entrypoints         nturl2path          stringprep\n",
            "_pyio               enum                numba               struct\n",
            "_pyrsistent_version ephem               numbergen           subprocess\n",
            "_pytest             erfa                numbers             sunau\n",
            "_queue              errno               numexpr             symbol\n",
            "_random             et_xmlfile          numpy               sympy\n",
            "_rinterface_cffi_abi etils               oauth2client        sympyprinting\n",
            "_rinterface_cffi_api etuples             oauthlib            symtable\n",
            "_scs_direct         fa2                 ogr                 sys\n",
            "_scs_indirect       fastai              okgrade             sysconfig\n",
            "_sha1               fastcore            opcode              syslog\n",
            "_sha256             fastdownload        openpyxl            tables\n",
            "_sha3               fastdtw             operator            tabnanny\n",
            "_sha512             fastjsonschema      opt_einsum          tabulate\n",
            "_signal             fastprogress        optparse            tarfile\n",
            "_sitebuiltins       fastrlock           os                  tblib\n",
            "_socket             faulthandler        osgeo               telnetlib\n",
            "_soundfile          fcntl               osqp                tempfile\n",
            "_sqlite3            feather             osqppurepy          tenacity\n",
            "_sre                filecmp             osr                 tensorboard\n",
            "_ssl                fileinput           ossaudiodev         tensorboard_data_server\n",
            "_stat               filelock            packaging           tensorboard_plugin_wit\n",
            "_string             firebase_admin      palettable          tensorflow\n",
            "_strptime           fix_yahoo_finance   pandas              tensorflow_datasets\n",
            "_struct             flask               pandas_datareader   tensorflow_estimator\n",
            "_symtable           flatbuffers         pandas_gbq          tensorflow_gcs_config\n",
            "_sysconfigdata_m_linux_x86_64-linux-gnu fnmatch             pandas_profiling    tensorflow_hub\n",
            "_sysconfigdata_m_x86_64-linux-gnu folium              pandocfilters       tensorflow_io_gcs_filesystem\n",
            "_testbuffer         formatter           panel               tensorflow_metadata\n",
            "_testcapi           fractions           param               tensorflow_probability\n",
            "_testimportmultiple frozenlist          parser              termcolor\n",
            "_testmultiphase     fsspec              parso               terminado\n",
            "_thread             ftplib              partd               termios\n",
            "_threading_local    functools           past                test\n",
            "_tkinter            future              pasta               testpath\n",
            "_tracemalloc        gast                pastel              tests\n",
            "_warnings           gc                  pathlib             text_unidecode\n",
            "_weakref            gdal                pathy               textblob\n",
            "_weakrefset         gdalconst           patsy               textwrap\n",
            "_xxtestfuzz         gdalnumeric         pdb                 thinc\n",
            "_yaml               gdown               pep517              this\n",
            "abc                 genericpath         pexpect             threading\n",
            "absl                gensim              pickle              threadpoolctl\n",
            "aeppl               geographiclib       pickleshare         tifffile\n",
            "aesara              geopy               pickletools         time\n",
            "aifc                getopt              pip                 timeit\n",
            "aiohttp             getpass             pipes               tkinter\n",
            "aiosignal           gettext             piptools            tlz\n",
            "alabaster           gi                  pkg_resources       token\n",
            "albumentations      gin                 pkgutil             tokenize\n",
            "altair              glob                platform            toml\n",
            "antigravity         glob2               plistlib            tomli\n",
            "apiclient           gnm                 plotly              toolz\n",
            "appdirs             google_auth_httplib2 plotlywidget        torch\n",
            "apt                 google_auth_oauthlib plotnine            torchaudio\n",
            "apt_inst            google_drive_downloader pluggy              torchgen\n",
            "apt_pkg             googleapiclient     pooch               torchsummary\n",
            "aptsources          googlesearch        poplib              torchtext\n",
            "argparse            graphviz            portpicker          torchvision\n",
            "array               greenlet            posix               tornado\n",
            "arviz               gridfs              posixpath           tqdm\n",
            "ast                 grp                 pprint              trace\n",
            "astor               grpc                prefetch_generator  traceback\n",
            "astropy             gspread             preshed             tracemalloc\n",
            "astunparse          gspread_dataframe   prettytable         traitlets\n",
            "async_timeout       gym                 profile             tree\n",
            "asynchat            gym_notices         progressbar         tty\n",
            "asyncio             gzip                promise             turtle\n",
            "asyncore            h5py                prompt_toolkit      tweepy\n",
            "asynctest           hashlib             prophet             typeguard\n",
            "atari_py            heapdict            pstats              typer\n",
            "atexit              heapq               psutil              types\n",
            "atomicwrites        hijri_converter     psycopg2            typing\n",
            "attr                hmac                pty                 typing_extensions\n",
            "attrs               holidays            ptyprocess          tzlocal\n",
            "audioop             holoviews           pvectorc            ujson\n",
            "audioread           html                pwd                 unicodedata\n",
            "autograd            html5lib            py                  unification\n",
            "autoreload          http                py_compile          unittest\n",
            "babel               httpimport          pyarrow             uritemplate\n",
            "backcall            httplib2            pyasn1              urllib\n",
            "base64              httplib2shim        pyasn1_modules      urllib3\n",
            "bdb                 httpstan            pyclbr              uu\n",
            "bin                 humanize            pycocotools         uuid\n",
            "binascii            hyperopt            pycparser           vega_datasets\n",
            "binhex              idna                pyct                venv\n",
            "bisect              imageio             pydantic            vis\n",
            "bleach              imagesize           pydata_google_auth  warnings\n",
            "blis                imaplib             pydoc               wasabi\n",
            "bokeh               imblearn            pydoc_data          wave\n",
            "boost               imgaug              pydot               wcwidth\n",
            "branca              imghdr              pydot_ng            weakref\n",
            "bs4                 imp                 pydotplus           webargs\n",
            "bson                importlib           pydrive             webbrowser\n",
            "builtins            importlib_metadata  pyemd               webencodings\n",
            "bz2                 importlib_resources pyexpat             werkzeug\n",
            "cProfile            imutils             pygments            wheel\n",
            "cachecontrol        inflect             pygtkcompat         widgetsnbextension\n",
            "cached_property     inspect             pylab               wordcloud\n",
            "cachetools          intervaltree        pylev               wrapt\n",
            "caffe2              io                  pymc                wsgiref\n",
            "calendar            ipaddress           pymeeus             xarray\n",
            "catalogue           ipykernel           pymongo             xarray_einstats\n",
            "certifi             ipykernel_launcher  pymystem3           xdrlib\n",
            "cffi                ipython_genutils    pyparsing           xgboost\n",
            "cftime              ipywidgets          pyrsistent          xkit\n",
            "cgi                 isympy              pysndfile           xlrd\n",
            "cgitb               itertools           pytest              xlwt\n",
            "chardet             itsdangerous        python_utils        xml\n",
            "charset_normalizer  jax                 pytz                xmlrpc\n",
            "chess               jaxlib              pyviz_comms         xxlimited\n",
            "chunk               jieba               pywt                xxsubtype\n",
            "clang               jinja2              pyximport           yaml\n",
            "click               joblib              qdldl               yarl\n",
            "client              jpeg4py             qudida              yellowbrick\n",
            "clikit              json                queue               zict\n",
            "cloudpickle         jsonschema          quopri              zipapp\n",
            "cmake               jupyter             random              zipfile\n",
            "cmath               jupyter_client      re                  zipimport\n",
            "cmd                 jupyter_console     readline            zipp\n",
            "cmdstanpy           jupyter_core        regex               zlib\n",
            "code                jupyterlab_plotly   reprlib             zmq\n",
            "codecs              jupyterlab_widgets  requests            \n",
            "codeop              kaggle              requests_oauthlib   \n",
            "colab               kanren              resampy             \n",
            "\n",
            "Enter any module name to get more help.  Or, type \"modules spam\" to search\n",
            "for modules whose name or summary contain the string \"spam\".\n",
            "\n"
          ]
        },
        {
          "name": "stderr",
          "output_type": "stream",
          "text": [
            "/usr/lib/python3.7/pkgutil.py:107: VisibleDeprecationWarning: zmq.eventloop.minitornado is deprecated in pyzmq 14.0 and will be removed.\n",
            "    Install tornado itself to use zmq with the tornado IOLoop.\n",
            "    \n"
          ]
        }
      ],
      "source": [
        "# if now the modules are then use help function\n",
        "help('modules')"
      ]
    },
    {
      "cell_type": "code",
      "execution_count": null,
      "metadata": {
        "id": "WdqPoUvWuh3i"
      },
      "outputs": [],
      "source": [
        "import math"
      ]
    },
    {
      "cell_type": "code",
      "execution_count": null,
      "metadata": {
        "colab": {
          "base_uri": "https://localhost:8080/"
        },
        "id": "XjKsojvTu0GV",
        "outputId": "0bd39052-f244-48ad-d5e0-e2549391af64"
      },
      "outputs": [
        {
          "data": {
            "text/plain": [
              "3.141592653589793"
            ]
          },
          "execution_count": 3,
          "metadata": {},
          "output_type": "execute_result"
        }
      ],
      "source": [
        "math.pi"
      ]
    },
    {
      "cell_type": "code",
      "execution_count": null,
      "metadata": {
        "colab": {
          "base_uri": "https://localhost:8080/"
        },
        "id": "znb-aUDsu2jA",
        "outputId": "c1927c46-6b32-4368-c259-558808df45f5"
      },
      "outputs": [
        {
          "data": {
            "text/plain": [
              "2.718281828459045"
            ]
          },
          "execution_count": 4,
          "metadata": {},
          "output_type": "execute_result"
        }
      ],
      "source": [
        "math.e"
      ]
    },
    {
      "cell_type": "code",
      "execution_count": null,
      "metadata": {
        "colab": {
          "base_uri": "https://localhost:8080/"
        },
        "id": "JHnc_v1Wu4Hr",
        "outputId": "bd387165-15e9-4c73-a8c0-92ac5e93a40e"
      },
      "outputs": [
        {
          "data": {
            "text/plain": [
              "720"
            ]
          },
          "execution_count": 5,
          "metadata": {},
          "output_type": "execute_result"
        }
      ],
      "source": [
        "math.factorial(6)"
      ]
    },
    {
      "cell_type": "code",
      "execution_count": null,
      "metadata": {
        "colab": {
          "base_uri": "https://localhost:8080/"
        },
        "id": "qXZUf1zzu8wQ",
        "outputId": "b4cd8e70-4682-46f5-f38d-fe527afc52d9"
      },
      "outputs": [
        {
          "data": {
            "text/plain": [
              "7"
            ]
          },
          "execution_count": 9,
          "metadata": {},
          "output_type": "execute_result"
        }
      ],
      "source": [
        "math.ceil(6.1)"
      ]
    },
    {
      "cell_type": "code",
      "execution_count": null,
      "metadata": {
        "colab": {
          "base_uri": "https://localhost:8080/"
        },
        "id": "LIbj2HDtvAII",
        "outputId": "694fbee5-2a4a-4fd9-f1ef-920d3053629c"
      },
      "outputs": [
        {
          "data": {
            "text/plain": [
              "6"
            ]
          },
          "execution_count": 10,
          "metadata": {},
          "output_type": "execute_result"
        }
      ],
      "source": [
        "math.floor(6.9)"
      ]
    },
    {
      "cell_type": "code",
      "execution_count": null,
      "metadata": {
        "colab": {
          "base_uri": "https://localhost:8080/"
        },
        "id": "rpcKH4BLvLEo",
        "outputId": "b24f1a38-36eb-45e5-8cdb-912059f63c29"
      },
      "outputs": [
        {
          "data": {
            "text/plain": [
              "13.711309200802088"
            ]
          },
          "execution_count": 12,
          "metadata": {},
          "output_type": "execute_result"
        }
      ],
      "source": [
        "math.sqrt(188)"
      ]
    },
    {
      "cell_type": "code",
      "execution_count": null,
      "metadata": {
        "id": "h4fCRaYIvQ6k"
      },
      "outputs": [],
      "source": [
        "import random"
      ]
    },
    {
      "cell_type": "code",
      "execution_count": null,
      "metadata": {
        "colab": {
          "base_uri": "https://localhost:8080/"
        },
        "id": "de-bREWtvfaJ",
        "outputId": "275391eb-63b3-4233-b4e5-f7ec6645745c"
      },
      "outputs": [
        {
          "data": {
            "text/plain": [
              "443"
            ]
          },
          "execution_count": 14,
          "metadata": {},
          "output_type": "execute_result"
        }
      ],
      "source": [
        "random.randint(1,569)"
      ]
    },
    {
      "cell_type": "code",
      "execution_count": null,
      "metadata": {
        "id": "tFWZLpeTvlHX"
      },
      "outputs": [],
      "source": [
        "a=[1,4,3,6,7]\n",
        "random.shuffle(a)"
      ]
    },
    {
      "cell_type": "code",
      "execution_count": null,
      "metadata": {
        "id": "F6APUM3lvwtv"
      },
      "outputs": [],
      "source": [
        "import time"
      ]
    },
    {
      "cell_type": "code",
      "execution_count": null,
      "metadata": {
        "colab": {
          "base_uri": "https://localhost:8080/"
        },
        "id": "PoAWXqRHwJET",
        "outputId": "1a485818-b5d4-4fa9-fe48-8a17e0e8733f"
      },
      "outputs": [
        {
          "data": {
            "text/plain": [
              "1663406524.2258084"
            ]
          },
          "execution_count": 20,
          "metadata": {},
          "output_type": "execute_result"
        }
      ],
      "source": [
        "time.time()"
      ]
    },
    {
      "cell_type": "code",
      "execution_count": null,
      "metadata": {
        "colab": {
          "base_uri": "https://localhost:8080/",
          "height": 36
        },
        "id": "I1jwjTAPwL03",
        "outputId": "a367769d-9fbb-4094-d55a-51e7fd145c7c"
      },
      "outputs": [
        {
          "data": {
            "application/vnd.google.colaboratory.intrinsic+json": {
              "type": "string"
            },
            "text/plain": [
              "'Sat Sep 17 09:22:07 2022'"
            ]
          },
          "execution_count": 21,
          "metadata": {},
          "output_type": "execute_result"
        }
      ],
      "source": [
        "time.ctime()"
      ]
    },
    {
      "cell_type": "code",
      "execution_count": null,
      "metadata": {
        "colab": {
          "base_uri": "https://localhost:8080/"
        },
        "id": "lJyU9rUPwZZS",
        "outputId": "37763670-561f-4692-9413-e2e7eb221822"
      },
      "outputs": [
        {
          "name": "stdout",
          "output_type": "stream",
          "text": [
            "hello\n",
            "world\n"
          ]
        }
      ],
      "source": [
        "print('hello')\n",
        "time.sleep(3)\n",
        "print('world')"
      ]
    },
    {
      "cell_type": "code",
      "execution_count": null,
      "metadata": {
        "id": "0329SrSPwcKm"
      },
      "outputs": [],
      "source": [
        "import os"
      ]
    },
    {
      "cell_type": "code",
      "execution_count": null,
      "metadata": {
        "colab": {
          "base_uri": "https://localhost:8080/",
          "height": 36
        },
        "id": "56JwXWTkw6y7",
        "outputId": "b7701140-bd19-459a-b6ca-8d64649054fb"
      },
      "outputs": [
        {
          "data": {
            "application/vnd.google.colaboratory.intrinsic+json": {
              "type": "string"
            },
            "text/plain": [
              "'/content'"
            ]
          },
          "execution_count": 27,
          "metadata": {},
          "output_type": "execute_result"
        }
      ],
      "source": [
        "os.getcwd()"
      ]
    },
    {
      "cell_type": "code",
      "execution_count": null,
      "metadata": {
        "colab": {
          "base_uri": "https://localhost:8080/"
        },
        "id": "NPu3yoYAw-29",
        "outputId": "763c5183-3884-45a0-93da-726ed851cd2c"
      },
      "outputs": [
        {
          "data": {
            "text/plain": [
              "['.config', 'sample_data']"
            ]
          },
          "execution_count": 28,
          "metadata": {},
          "output_type": "execute_result"
        }
      ],
      "source": [
        "os.listdir()"
      ]
    },
    {
      "cell_type": "code",
      "execution_count": null,
      "metadata": {
        "id": "4M0lVDkGxD5r"
      },
      "outputs": [],
      "source": []
    },
    {
      "cell_type": "markdown",
      "metadata": {
        "id": "mc1ds_OiuHE-"
      },
      "source": [
        "\n",
        "\n",
        "---\n",
        "\n",
        "\n",
        "\n",
        "---\n",
        "\n"
      ]
    },
    {
      "cell_type": "markdown",
      "metadata": {
        "id": "PGBcVy2Dt5j8"
      },
      "source": [
        "# **string in python:**"
      ]
    },
    {
      "cell_type": "markdown",
      "metadata": {
        "id": "1FNWMJAxuR-N"
      },
      "source": [
        "String are sequence of charachters\n",
        "\n",
        "In python specifically ,string are a sequence of unicode charecters\n",
        "\n",
        "\n",
        "\n",
        "*   Creating  string\n",
        "\n",
        "*   Accessing  string\n",
        "\n",
        "*   Adding  char to string\n",
        "\n",
        "*   Editing string\n",
        "\n",
        "*   Deleting  string\n",
        "*   operation  in string\n",
        "\n",
        "\n",
        "*   String function\n",
        "\n",
        "\n",
        "\n",
        "\n",
        "\n",
        "\n",
        "\n"
      ]
    },
    {
      "cell_type": "markdown",
      "metadata": {
        "id": "yYshN4Tnvulv"
      },
      "source": [
        "Creating  String:"
      ]
    },
    {
      "cell_type": "code",
      "execution_count": null,
      "metadata": {
        "colab": {
          "base_uri": "https://localhost:8080/"
        },
        "id": "RCUjezRVv4SZ",
        "outputId": "e79a31e3-3003-4fc7-e453-b1c9e1e88b76"
      },
      "outputs": [
        {
          "name": "stdout",
          "output_type": "stream",
          "text": [
            "hello\n"
          ]
        }
      ],
      "source": [
        "c='hello'\n",
        "print(c)"
      ]
    },
    {
      "cell_type": "code",
      "execution_count": null,
      "metadata": {
        "colab": {
          "base_uri": "https://localhost:8080/"
        },
        "id": "NuotyuhgwEZq",
        "outputId": "408b2d04-4b4c-4a49-96b4-a56e5777c83f"
      },
      "outputs": [
        {
          "name": "stdout",
          "output_type": "stream",
          "text": [
            "i'm biswajit\n"
          ]
        }
      ],
      "source": [
        "c=\"i'm biswajit\"\n",
        "print(c)"
      ]
    },
    {
      "cell_type": "code",
      "execution_count": null,
      "metadata": {
        "colab": {
          "base_uri": "https://localhost:8080/"
        },
        "id": "8nB6Yj8mwZzj",
        "outputId": "7ae16d79-c89a-4480-b6f4-9b1049e6f450"
      },
      "outputs": [
        {
          "name": "stdout",
          "output_type": "stream",
          "text": [
            "king biswajit\n"
          ]
        }
      ],
      "source": [
        "c= \"\"\"king biswajit\"\"\"\n",
        "print(c)"
      ]
    },
    {
      "cell_type": "code",
      "execution_count": null,
      "metadata": {
        "colab": {
          "base_uri": "https://localhost:8080/"
        },
        "id": "SBOrRHmPwjxc",
        "outputId": "89d5846d-c778-489c-e31b-b5bd3e912e86"
      },
      "outputs": [
        {
          "name": "stdout",
          "output_type": "stream",
          "text": [
            "yes  bro\n"
          ]
        }
      ],
      "source": [
        "c='''yes  bro'''\n",
        "print(c)"
      ]
    },
    {
      "cell_type": "markdown",
      "metadata": {
        "id": "pCIlJhcNwxrW"
      },
      "source": [
        "**Assecing  substring from a string**"
      ]
    },
    {
      "cell_type": "code",
      "execution_count": null,
      "metadata": {
        "colab": {
          "base_uri": "https://localhost:8080/"
        },
        "id": "DvIvyamQwnNx",
        "outputId": "4a117afd-75b6-4846-df43-5562d6ca8c04"
      },
      "outputs": [
        {
          "name": "stdout",
          "output_type": "stream",
          "text": [
            "hello biswajit\n"
          ]
        }
      ],
      "source": [
        "#conceot of indexing\n",
        "c='hello biswajit'\n",
        "print(c)"
      ]
    },
    {
      "cell_type": "code",
      "execution_count": null,
      "metadata": {
        "colab": {
          "base_uri": "https://localhost:8080/"
        },
        "id": "Jnrtk9tmxJgd",
        "outputId": "44158c6a-21a5-4efb-db5b-68af1e971bd5"
      },
      "outputs": [
        {
          "name": "stdout",
          "output_type": "stream",
          "text": [
            "[3]\n"
          ]
        }
      ],
      "source": [
        "print([3])"
      ]
    },
    {
      "cell_type": "code",
      "execution_count": null,
      "metadata": {
        "colab": {
          "base_uri": "https://localhost:8080/"
        },
        "id": "PSQsB8CKxOPC",
        "outputId": "7312c97b-c171-4e2d-c91d-d3816b2e5eb6"
      },
      "outputs": [
        {
          "name": "stdout",
          "output_type": "stream",
          "text": [
            "[2]\n"
          ]
        }
      ],
      "source": [
        "print([2])"
      ]
    },
    {
      "cell_type": "code",
      "execution_count": null,
      "metadata": {
        "id": "YGvqdxnvxROX"
      },
      "outputs": [],
      "source": []
    },
    {
      "cell_type": "markdown",
      "metadata": {
        "id": "4dujNL80xo1u"
      },
      "source": [
        "Types of indexing\n",
        "\n",
        "\n",
        "*   Positive indexing\n",
        "*   Nagetive indexing\n",
        "\n",
        "\n"
      ]
    },
    {
      "cell_type": "code",
      "execution_count": null,
      "metadata": {
        "colab": {
          "base_uri": "https://localhost:8080/"
        },
        "id": "_7V122IxyMm3",
        "outputId": "df7f9681-5a62-4cf3-9834-70910fdb617a"
      },
      "outputs": [
        {
          "name": "stdout",
          "output_type": "stream",
          "text": [
            "i\n"
          ]
        }
      ],
      "source": [
        "c='biswajit'\n",
        "print(c[-2])"
      ]
    },
    {
      "cell_type": "code",
      "execution_count": null,
      "metadata": {
        "colab": {
          "base_uri": "https://localhost:8080/"
        },
        "id": "B-jyc1_8yWW3",
        "outputId": "fbdfe467-b15f-47cd-c88a-08d1c530b973"
      },
      "outputs": [
        {
          "name": "stdout",
          "output_type": "stream",
          "text": [
            "ll\n"
          ]
        }
      ],
      "source": [
        "# slising\n",
        "\n",
        "c= \"hello biswajit \"\n",
        "print(c[2:4])"
      ]
    },
    {
      "cell_type": "code",
      "execution_count": null,
      "metadata": {
        "colab": {
          "base_uri": "https://localhost:8080/"
        },
        "id": "SOO6z8b-ylOc",
        "outputId": "3ecc193e-db2b-4ee9-c8d5-43279876b4fb"
      },
      "outputs": [
        {
          "name": "stdout",
          "output_type": "stream",
          "text": [
            "ello\n"
          ]
        }
      ],
      "source": [
        "print(c[1:5])"
      ]
    },
    {
      "cell_type": "code",
      "execution_count": null,
      "metadata": {
        "colab": {
          "base_uri": "https://localhost:8080/"
        },
        "id": "bbBy6jhLyqmv",
        "outputId": "d6971de1-5b8c-4e30-adfb-b4691a7797a8"
      },
      "outputs": [
        {
          "name": "stdout",
          "output_type": "stream",
          "text": [
            "e \n"
          ]
        }
      ],
      "source": [
        "print(c[1:7:4])"
      ]
    },
    {
      "cell_type": "code",
      "execution_count": null,
      "metadata": {
        "colab": {
          "base_uri": "https://localhost:8080/"
        },
        "id": "rvv5G_Xmyz8x",
        "outputId": "3071f835-7b6e-4f5f-9f3e-7fe66c1f6176"
      },
      "outputs": [
        {
          "name": "stdout",
          "output_type": "stream",
          "text": [
            " js l\n"
          ]
        }
      ],
      "source": [
        "print(c[::-3])"
      ]
    },
    {
      "cell_type": "code",
      "execution_count": null,
      "metadata": {
        "colab": {
          "base_uri": "https://localhost:8080/"
        },
        "id": "PCwJjMQ1y4Xk",
        "outputId": "36d4cc00-e4d8-44a2-cb21-7a49744b0632"
      },
      "outputs": [
        {
          "name": "stdout",
          "output_type": "stream",
          "text": [
            "tijaws\n"
          ]
        }
      ],
      "source": [
        "print(c[-2:-8:-1])"
      ]
    },
    {
      "cell_type": "code",
      "execution_count": null,
      "metadata": {
        "colab": {
          "base_uri": "https://localhost:8080/"
        },
        "id": "7GEGeq6Gy-it",
        "outputId": "8f67b802-577c-4bcb-f664-00e3f6e83e7f"
      },
      "outputs": [
        {
          "name": "stdout",
          "output_type": "stream",
          "text": [
            "ll\n"
          ]
        }
      ],
      "source": [
        "print(c[2:4:1])"
      ]
    },
    {
      "cell_type": "code",
      "execution_count": null,
      "metadata": {
        "colab": {
          "base_uri": "https://localhost:8080/"
        },
        "id": "MYkMYH2-zQlM",
        "outputId": "6ee7f9d2-f9fa-4a9b-8b52-eaa735390522"
      },
      "outputs": [
        {
          "name": "stdout",
          "output_type": "stream",
          "text": [
            " tijawsib olleh\n"
          ]
        }
      ],
      "source": [
        "print(c[::-1])"
      ]
    },
    {
      "cell_type": "code",
      "execution_count": null,
      "metadata": {
        "id": "gj-RNku8zcvl"
      },
      "outputs": [],
      "source": []
    },
    {
      "cell_type": "markdown",
      "metadata": {
        "id": "5DI9J6Kmzoyw"
      },
      "source": [
        "**Editing and deleting in string**"
      ]
    },
    {
      "cell_type": "code",
      "execution_count": null,
      "metadata": {
        "colab": {
          "base_uri": "https://localhost:8080/"
        },
        "id": "qdD_UylFzwEW",
        "outputId": "f1421bd1-3f69-45f2-a923-a76348089873"
      },
      "outputs": [
        {
          "name": "stdout",
          "output_type": "stream",
          "text": [
            "hello\n"
          ]
        }
      ],
      "source": [
        "c=\"hello\"\n",
        "print(c)"
      ]
    },
    {
      "cell_type": "code",
      "execution_count": null,
      "metadata": {
        "colab": {
          "base_uri": "https://localhost:8080/",
          "height": 176
        },
        "id": "luBfPgjKzzU6",
        "outputId": "f64d8cb6-0f84-4610-bd79-0a324d102b94"
      },
      "outputs": [
        {
          "ename": "TypeError",
          "evalue": "ignored",
          "output_type": "error",
          "traceback": [
            "\u001b[0;31m---------------------------------------------------------------------------\u001b[0m",
            "\u001b[0;31mTypeError\u001b[0m                                 Traceback (most recent call last)",
            "\u001b[0;32m<ipython-input-27-748b0119e703>\u001b[0m in \u001b[0;36m<module>\u001b[0;34m\u001b[0m\n\u001b[0;32m----> 1\u001b[0;31m \u001b[0mc\u001b[0m\u001b[0;34m[\u001b[0m\u001b[0;36m0\u001b[0m\u001b[0;34m]\u001b[0m\u001b[0;34m=\u001b[0m\u001b[0;34m'x'\u001b[0m\u001b[0;34m\u001b[0m\u001b[0;34m\u001b[0m\u001b[0m\n\u001b[0m",
            "\u001b[0;31mTypeError\u001b[0m: 'str' object does not support item assignment"
          ]
        }
      ],
      "source": [
        "c[0]='x'"
      ]
    },
    {
      "cell_type": "code",
      "execution_count": null,
      "metadata": {
        "id": "zquyPinoz8Gq"
      },
      "outputs": [],
      "source": [
        "# string object does not suppert the item assignment object"
      ]
    },
    {
      "cell_type": "code",
      "execution_count": null,
      "metadata": {
        "colab": {
          "base_uri": "https://localhost:8080/",
          "height": 194
        },
        "id": "ggbegvHL0KBn",
        "outputId": "12beab21-6cc5-4546-897f-0c1bd3888b0f"
      },
      "outputs": [
        {
          "ename": "TypeError",
          "evalue": "ignored",
          "output_type": "error",
          "traceback": [
            "\u001b[0;31m---------------------------------------------------------------------------\u001b[0m",
            "\u001b[0;31mTypeError\u001b[0m                                 Traceback (most recent call last)",
            "\u001b[0;32m<ipython-input-28-5f8672adfa3b>\u001b[0m in \u001b[0;36m<module>\u001b[0;34m\u001b[0m\n\u001b[1;32m      1\u001b[0m \u001b[0mc\u001b[0m\u001b[0;34m=\u001b[0m\u001b[0;34m'biswajit'\u001b[0m\u001b[0;34m\u001b[0m\u001b[0;34m\u001b[0m\u001b[0m\n\u001b[0;32m----> 2\u001b[0;31m \u001b[0mc\u001b[0m\u001b[0;34m[\u001b[0m\u001b[0;36m5\u001b[0m\u001b[0;34m]\u001b[0m\u001b[0;34m=\u001b[0m\u001b[0;34m\"x\"\u001b[0m\u001b[0;34m\u001b[0m\u001b[0;34m\u001b[0m\u001b[0m\n\u001b[0m",
            "\u001b[0;31mTypeError\u001b[0m: 'str' object does not support item assignment"
          ]
        }
      ],
      "source": [
        "c='biswajit'\n",
        "c[5]=\"x\""
      ]
    },
    {
      "cell_type": "code",
      "execution_count": null,
      "metadata": {
        "colab": {
          "base_uri": "https://localhost:8080/",
          "height": 36
        },
        "id": "7-YGd2Ey0g3Z",
        "outputId": "f5ffd84f-4f4c-4683-935c-1c3478b6b780"
      },
      "outputs": [
        {
          "data": {
            "application/vnd.google.colaboratory.intrinsic+json": {
              "type": "string"
            },
            "text/plain": [
              "'world'"
            ]
          },
          "execution_count": 29,
          "metadata": {},
          "output_type": "execute_result"
        }
      ],
      "source": [
        "c=\"world\"\n",
        "c"
      ]
    },
    {
      "cell_type": "markdown",
      "metadata": {
        "id": "0CxtCJ3Y0tyI"
      },
      "source": [
        "In string  u can completily  rising but u cannot  change the existing  string.\n",
        "\n",
        "no editing in string"
      ]
    },
    {
      "cell_type": "markdown",
      "metadata": {
        "id": "rSoaNoYy1EWU"
      },
      "source": [
        "**Deletion**"
      ]
    },
    {
      "cell_type": "code",
      "execution_count": null,
      "metadata": {
        "colab": {
          "base_uri": "https://localhost:8080/",
          "height": 36
        },
        "id": "i6QJFWC50pf7",
        "outputId": "82e479ba-ed08-41ee-c608-175e705b501c"
      },
      "outputs": [
        {
          "data": {
            "application/vnd.google.colaboratory.intrinsic+json": {
              "type": "string"
            },
            "text/plain": [
              "'biswajit'"
            ]
          },
          "execution_count": 30,
          "metadata": {},
          "output_type": "execute_result"
        }
      ],
      "source": [
        "c=\"biswajit\"\n",
        "c"
      ]
    },
    {
      "cell_type": "code",
      "execution_count": null,
      "metadata": {
        "id": "BmVuojTV1Nwy"
      },
      "outputs": [],
      "source": [
        "del c"
      ]
    },
    {
      "cell_type": "code",
      "execution_count": null,
      "metadata": {
        "colab": {
          "base_uri": "https://localhost:8080/",
          "height": 176
        },
        "id": "nJSDQWAj1QON",
        "outputId": "5a81c40c-ce79-4b37-e578-f002e7af9a3c"
      },
      "outputs": [
        {
          "ename": "NameError",
          "evalue": "ignored",
          "output_type": "error",
          "traceback": [
            "\u001b[0;31m---------------------------------------------------------------------------\u001b[0m",
            "\u001b[0;31mNameError\u001b[0m                                 Traceback (most recent call last)",
            "\u001b[0;32m<ipython-input-32-1dd5973cae19>\u001b[0m in \u001b[0;36m<module>\u001b[0;34m\u001b[0m\n\u001b[0;32m----> 1\u001b[0;31m \u001b[0mprint\u001b[0m\u001b[0;34m(\u001b[0m\u001b[0mc\u001b[0m\u001b[0;34m)\u001b[0m\u001b[0;34m\u001b[0m\u001b[0;34m\u001b[0m\u001b[0m\n\u001b[0m",
            "\u001b[0;31mNameError\u001b[0m: name 'c' is not defined"
          ]
        }
      ],
      "source": [
        "print(c)"
      ]
    },
    {
      "cell_type": "code",
      "execution_count": null,
      "metadata": {
        "colab": {
          "base_uri": "https://localhost:8080/",
          "height": 176
        },
        "id": "RSFMcb5m1TTf",
        "outputId": "924d905f-f2d6-43f6-a4e4-0473f4d4d353"
      },
      "outputs": [
        {
          "ename": "NameError",
          "evalue": "ignored",
          "output_type": "error",
          "traceback": [
            "\u001b[0;31m---------------------------------------------------------------------------\u001b[0m",
            "\u001b[0;31mNameError\u001b[0m                                 Traceback (most recent call last)",
            "\u001b[0;32m<ipython-input-33-2b66fd261ee5>\u001b[0m in \u001b[0;36m<module>\u001b[0;34m\u001b[0m\n\u001b[0;32m----> 1\u001b[0;31m \u001b[0mc\u001b[0m\u001b[0;34m\u001b[0m\u001b[0;34m\u001b[0m\u001b[0m\n\u001b[0m",
            "\u001b[0;31mNameError\u001b[0m: name 'c' is not defined"
          ]
        }
      ],
      "source": [
        "c"
      ]
    },
    {
      "cell_type": "code",
      "execution_count": null,
      "metadata": {
        "colab": {
          "base_uri": "https://localhost:8080/"
        },
        "id": "mP5DwvDk1h_u",
        "outputId": "214a726e-197d-48a5-902c-2c1cae44ba9a"
      },
      "outputs": [
        {
          "name": "stdout",
          "output_type": "stream",
          "text": [
            "biswajit\n"
          ]
        }
      ],
      "source": [
        "b= 'biswajit'\n",
        "print(b)"
      ]
    },
    {
      "cell_type": "code",
      "execution_count": null,
      "metadata": {
        "colab": {
          "base_uri": "https://localhost:8080/",
          "height": 176
        },
        "id": "VcsF-F_Q1sJj",
        "outputId": "566d0f4d-b106-472f-c93f-99d53354c9c8"
      },
      "outputs": [
        {
          "ename": "TypeError",
          "evalue": "ignored",
          "output_type": "error",
          "traceback": [
            "\u001b[0;31m---------------------------------------------------------------------------\u001b[0m",
            "\u001b[0;31mTypeError\u001b[0m                                 Traceback (most recent call last)",
            "\u001b[0;32m<ipython-input-36-0cde02571307>\u001b[0m in \u001b[0;36m<module>\u001b[0;34m\u001b[0m\n\u001b[0;32m----> 1\u001b[0;31m \u001b[0;32mdel\u001b[0m \u001b[0mb\u001b[0m\u001b[0;34m[\u001b[0m\u001b[0;36m0\u001b[0m\u001b[0;34m]\u001b[0m\u001b[0;34m\u001b[0m\u001b[0;34m\u001b[0m\u001b[0m\n\u001b[0m",
            "\u001b[0;31mTypeError\u001b[0m: 'str' object doesn't support item deletion"
          ]
        }
      ],
      "source": [
        "del b[0]"
      ]
    },
    {
      "cell_type": "code",
      "execution_count": null,
      "metadata": {
        "colab": {
          "base_uri": "https://localhost:8080/",
          "height": 176
        },
        "id": "ukGCv6vr1xht",
        "outputId": "bc43f938-02c2-478c-9d8f-9b8848fbb4b2"
      },
      "outputs": [
        {
          "ename": "NameError",
          "evalue": "ignored",
          "output_type": "error",
          "traceback": [
            "\u001b[0;31m---------------------------------------------------------------------------\u001b[0m",
            "\u001b[0;31mNameError\u001b[0m                                 Traceback (most recent call last)",
            "\u001b[0;32m<ipython-input-37-44d0cae386ee>\u001b[0m in \u001b[0;36m<module>\u001b[0;34m\u001b[0m\n\u001b[0;32m----> 1\u001b[0;31m \u001b[0mde\u001b[0m\u001b[0;34m;\u001b[0m \u001b[0mc\u001b[0m\u001b[0;34m[\u001b[0m\u001b[0;34m:\u001b[0m\u001b[0;36m3\u001b[0m\u001b[0;34m:\u001b[0m\u001b[0;36m2\u001b[0m\u001b[0;34m]\u001b[0m\u001b[0;34m\u001b[0m\u001b[0;34m\u001b[0m\u001b[0m\n\u001b[0m",
            "\u001b[0;31mNameError\u001b[0m: name 'de' is not defined"
          ]
        }
      ],
      "source": [
        "de; c[:3:2]"
      ]
    },
    {
      "cell_type": "code",
      "execution_count": null,
      "metadata": {
        "id": "BJwDYuQL15JE"
      },
      "outputs": [],
      "source": []
    },
    {
      "cell_type": "markdown",
      "metadata": {
        "id": "duF9UWD619-u"
      },
      "source": [
        "In string u can not  edit.\n",
        "\n",
        " u cannot add new charecter after declaration.\n",
        "\n",
        " u can do reassign in string\n",
        "\n",
        " u can do fully delate.\n",
        "\n",
        " u cannot do partial delate."
      ]
    },
    {
      "cell_type": "markdown",
      "metadata": {
        "id": "Xuh9FRxf2doF"
      },
      "source": [
        "**String opration**\n",
        "\n",
        "\n",
        "*    Arithmetic  opration \n",
        "\n",
        "*   Relational  operation\n",
        "\n",
        "*   Logical Operation\n",
        "*   Loops on string\n",
        "\n",
        "\n",
        "*   Membership  opration\n",
        "\n",
        "\n",
        "\n",
        "\n"
      ]
    },
    {
      "cell_type": "markdown",
      "metadata": {
        "id": "P3zpweyz3ASR"
      },
      "source": [
        "Arithimetic opration: (+,*)"
      ]
    },
    {
      "cell_type": "code",
      "execution_count": null,
      "metadata": {
        "colab": {
          "base_uri": "https://localhost:8080/",
          "height": 36
        },
        "id": "SjF_-WsB3UGe",
        "outputId": "bcd78cb5-fcd9-45a5-c085-3e2880ae02d9"
      },
      "outputs": [
        {
          "data": {
            "application/vnd.google.colaboratory.intrinsic+json": {
              "type": "string"
            },
            "text/plain": [
              "'helloevery one'"
            ]
          },
          "execution_count": 38,
          "metadata": {},
          "output_type": "execute_result"
        }
      ],
      "source": [
        "# in string  + and *  opration only do. \n",
        "# string concatination\n",
        "\"hello\" + \"every one\"\n"
      ]
    },
    {
      "cell_type": "code",
      "execution_count": null,
      "metadata": {
        "colab": {
          "base_uri": "https://localhost:8080/",
          "height": 36
        },
        "id": "cyfpgUaV3rCV",
        "outputId": "438f597e-73f9-4b5b-9033-7e5e58bd939b"
      },
      "outputs": [
        {
          "data": {
            "application/vnd.google.colaboratory.intrinsic+json": {
              "type": "string"
            },
            "text/plain": [
              "'hellobiswajitkase ho+=='"
            ]
          },
          "execution_count": 39,
          "metadata": {},
          "output_type": "execute_result"
        }
      ],
      "source": [
        "\"hello\" + \"biswajit\" + \"kase ho\" + \"+==\""
      ]
    },
    {
      "cell_type": "code",
      "execution_count": null,
      "metadata": {
        "colab": {
          "base_uri": "https://localhost:8080/",
          "height": 36
        },
        "id": "UdY4cUdl36ol",
        "outputId": "6961373d-c249-4b96-e036-d2c1c387a62e"
      },
      "outputs": [
        {
          "data": {
            "application/vnd.google.colaboratory.intrinsic+json": {
              "type": "string"
            },
            "text/plain": [
              "'********************************************************************************'"
            ]
          },
          "execution_count": 40,
          "metadata": {},
          "output_type": "execute_result"
        }
      ],
      "source": [
        "(\"*\"*80)"
      ]
    },
    {
      "cell_type": "code",
      "execution_count": null,
      "metadata": {
        "colab": {
          "base_uri": "https://localhost:8080/",
          "height": 36
        },
        "id": "sKwB0ry14Op_",
        "outputId": "8567ddea-8caf-4c2a-eee1-175325994ad0"
      },
      "outputs": [
        {
          "data": {
            "application/vnd.google.colaboratory.intrinsic+json": {
              "type": "string"
            },
            "text/plain": [
              "'aaaaaaaaaaaaaaaaaaaaaaaaaaaaaaaaaaaaaaaaaaaaaaaaaaaaaaaaaaaaaaaaaaaaaaaaaaaaaaaaaaaaaaaaaaaaaaaaaaaa'"
            ]
          },
          "execution_count": 41,
          "metadata": {},
          "output_type": "execute_result"
        }
      ],
      "source": [
        "(\"a\"*100)"
      ]
    },
    {
      "cell_type": "code",
      "execution_count": null,
      "metadata": {
        "id": "BAIjzrds4WQT"
      },
      "outputs": [],
      "source": []
    },
    {
      "cell_type": "markdown",
      "metadata": {
        "id": "DvgBwVdy4a7O"
      },
      "source": [
        "Relational opration:"
      ]
    },
    {
      "cell_type": "code",
      "execution_count": null,
      "metadata": {
        "colab": {
          "base_uri": "https://localhost:8080/"
        },
        "id": "aHbvIUnF4fUs",
        "outputId": "67183fa4-cd63-48bd-a74a-752cb6ccc7f2"
      },
      "outputs": [
        {
          "data": {
            "text/plain": [
              "False"
            ]
          },
          "execution_count": 42,
          "metadata": {},
          "output_type": "execute_result"
        }
      ],
      "source": [
        "\"hello\"==\"biswajit\""
      ]
    },
    {
      "cell_type": "code",
      "execution_count": null,
      "metadata": {
        "colab": {
          "base_uri": "https://localhost:8080/"
        },
        "id": "O3YY-6494ky5",
        "outputId": "b6aca7f6-8733-488a-edf5-466e0228efe6"
      },
      "outputs": [
        {
          "data": {
            "text/plain": [
              "True"
            ]
          },
          "execution_count": 43,
          "metadata": {},
          "output_type": "execute_result"
        }
      ],
      "source": [
        "\"hello\"!=\"biswajit\""
      ]
    },
    {
      "cell_type": "code",
      "execution_count": null,
      "metadata": {
        "colab": {
          "base_uri": "https://localhost:8080/"
        },
        "id": "jX_gY07F4sXJ",
        "outputId": "39d41257-33a6-48d5-dc5e-b20ec44482ab"
      },
      "outputs": [
        {
          "data": {
            "text/plain": [
              "False"
            ]
          },
          "execution_count": 44,
          "metadata": {},
          "output_type": "execute_result"
        }
      ],
      "source": [
        "\"ajit\">\"biswajit\""
      ]
    },
    {
      "cell_type": "code",
      "execution_count": null,
      "metadata": {
        "colab": {
          "base_uri": "https://localhost:8080/"
        },
        "id": "wHQUQnc240qR",
        "outputId": "7d2774cd-0548-4ac2-cec2-81376eb3994b"
      },
      "outputs": [
        {
          "data": {
            "text/plain": [
              "True"
            ]
          },
          "execution_count": 45,
          "metadata": {},
          "output_type": "execute_result"
        }
      ],
      "source": [
        "\"ajit\"<\"biswajit\""
      ]
    },
    {
      "cell_type": "code",
      "execution_count": null,
      "metadata": {
        "colab": {
          "base_uri": "https://localhost:8080/"
        },
        "id": "R6h8soZS46t5",
        "outputId": "b6130aaa-b897-4a08-d86f-1c777bec27ad"
      },
      "outputs": [
        {
          "data": {
            "text/plain": [
              "True"
            ]
          },
          "execution_count": 46,
          "metadata": {},
          "output_type": "execute_result"
        }
      ],
      "source": [
        "\"AJIT BRO\"< \"biswajit\""
      ]
    },
    {
      "cell_type": "code",
      "execution_count": null,
      "metadata": {
        "colab": {
          "base_uri": "https://localhost:8080/"
        },
        "id": "Y2wqj0oC5DYP",
        "outputId": "bc925ad8-235d-4aad-e955-0f323903450d"
      },
      "outputs": [
        {
          "data": {
            "text/plain": [
              "False"
            ]
          },
          "execution_count": 47,
          "metadata": {},
          "output_type": "execute_result"
        }
      ],
      "source": [
        "'a'>\"b\""
      ]
    },
    {
      "cell_type": "code",
      "execution_count": null,
      "metadata": {
        "id": "eQCXdSZE5Jp6"
      },
      "outputs": [],
      "source": []
    },
    {
      "cell_type": "markdown",
      "metadata": {
        "id": "mnrol-3J5LBR"
      },
      "source": [
        "Logical opration:"
      ]
    },
    {
      "cell_type": "code",
      "execution_count": null,
      "metadata": {
        "colab": {
          "base_uri": "https://localhost:8080/",
          "height": 36
        },
        "id": "k-B_6ds15OG8",
        "outputId": "5d311085-527d-4ec6-890c-5872476e3d7f"
      },
      "outputs": [
        {
          "data": {
            "application/vnd.google.colaboratory.intrinsic+json": {
              "type": "string"
            },
            "text/plain": [
              "'world'"
            ]
          },
          "execution_count": 48,
          "metadata": {},
          "output_type": "execute_result"
        }
      ],
      "source": [
        "\"hello\" and \"world\""
      ]
    },
    {
      "cell_type": "code",
      "execution_count": null,
      "metadata": {
        "id": "TmXs6t6c5T5Z"
      },
      "outputs": [],
      "source": [
        "# \"  \" =false\n",
        "# \"boss\"=True"
      ]
    },
    {
      "cell_type": "code",
      "execution_count": null,
      "metadata": {
        "colab": {
          "base_uri": "https://localhost:8080/",
          "height": 36
        },
        "id": "IYiJTtkE5iI9",
        "outputId": "4a15c8be-db41-4d01-8bfd-5d3c1567d669"
      },
      "outputs": [
        {
          "data": {
            "application/vnd.google.colaboratory.intrinsic+json": {
              "type": "string"
            },
            "text/plain": [
              "''"
            ]
          },
          "execution_count": 49,
          "metadata": {},
          "output_type": "execute_result"
        }
      ],
      "source": [
        "\"\" and \"biswajir\""
      ]
    },
    {
      "cell_type": "code",
      "execution_count": null,
      "metadata": {
        "colab": {
          "base_uri": "https://localhost:8080/",
          "height": 36
        },
        "id": "K2-l2s2M5nYT",
        "outputId": "4b2c211b-5b51-44fe-9ae4-cb0a71e3551e"
      },
      "outputs": [
        {
          "data": {
            "application/vnd.google.colaboratory.intrinsic+json": {
              "type": "string"
            },
            "text/plain": [
              "' '"
            ]
          },
          "execution_count": 50,
          "metadata": {},
          "output_type": "execute_result"
        }
      ],
      "source": [
        "\" \" or \"biswajir\""
      ]
    },
    {
      "cell_type": "code",
      "execution_count": null,
      "metadata": {
        "colab": {
          "base_uri": "https://localhost:8080/",
          "height": 36
        },
        "id": "yXqcyTqS5vtN",
        "outputId": "d59e0c71-f31c-40c9-cb5b-0dd23b03a3ba"
      },
      "outputs": [
        {
          "data": {
            "application/vnd.google.colaboratory.intrinsic+json": {
              "type": "string"
            },
            "text/plain": [
              "' '"
            ]
          },
          "execution_count": 51,
          "metadata": {},
          "output_type": "execute_result"
        }
      ],
      "source": [
        "\" \" or \" \""
      ]
    },
    {
      "cell_type": "code",
      "execution_count": null,
      "metadata": {
        "colab": {
          "base_uri": "https://localhost:8080/",
          "height": 36
        },
        "id": "ezG4z3Qy54QZ",
        "outputId": "292d7028-056e-4eb5-839a-d464b3e12306"
      },
      "outputs": [
        {
          "data": {
            "application/vnd.google.colaboratory.intrinsic+json": {
              "type": "string"
            },
            "text/plain": [
              "'bat'"
            ]
          },
          "execution_count": 52,
          "metadata": {},
          "output_type": "execute_result"
        }
      ],
      "source": [
        "\"bal\" and \"bat\""
      ]
    },
    {
      "cell_type": "code",
      "execution_count": null,
      "metadata": {
        "colab": {
          "base_uri": "https://localhost:8080/",
          "height": 36
        },
        "id": "SprE17Ri6B9V",
        "outputId": "c5691120-38b8-4c5a-aa07-08980648aab1"
      },
      "outputs": [
        {
          "data": {
            "application/vnd.google.colaboratory.intrinsic+json": {
              "type": "string"
            },
            "text/plain": [
              "'bal'"
            ]
          },
          "execution_count": 53,
          "metadata": {},
          "output_type": "execute_result"
        }
      ],
      "source": [
        "\"bal\" or \"bat\""
      ]
    },
    {
      "cell_type": "code",
      "execution_count": null,
      "metadata": {
        "colab": {
          "base_uri": "https://localhost:8080/"
        },
        "id": "HKUzDaAR6HXh",
        "outputId": "13412be9-4a0f-4df7-d056-64d3d55e0cc5"
      },
      "outputs": [
        {
          "data": {
            "text/plain": [
              "False"
            ]
          },
          "execution_count": 54,
          "metadata": {},
          "output_type": "execute_result"
        }
      ],
      "source": [
        "not \"bal\""
      ]
    },
    {
      "cell_type": "code",
      "execution_count": null,
      "metadata": {
        "colab": {
          "base_uri": "https://localhost:8080/"
        },
        "id": "89fmbToe6OXs",
        "outputId": "7c08c50b-b380-4605-f529-0b4778bc71f4"
      },
      "outputs": [
        {
          "name": "stdout",
          "output_type": "stream",
          "text": [
            "False\n"
          ]
        }
      ],
      "source": [
        "print(not\"hello\")"
      ]
    },
    {
      "cell_type": "code",
      "execution_count": null,
      "metadata": {
        "id": "gDYwFv1T6bt-"
      },
      "outputs": [],
      "source": []
    },
    {
      "cell_type": "markdown",
      "metadata": {
        "id": "zMEmId1M6eCG"
      },
      "source": [
        "Loops opration in string:\n"
      ]
    },
    {
      "cell_type": "code",
      "execution_count": null,
      "metadata": {
        "colab": {
          "base_uri": "https://localhost:8080/"
        },
        "id": "PbD6dBhP6iCQ",
        "outputId": "e5c558cb-f0f6-4176-fd59-e4450efb3527"
      },
      "outputs": [
        {
          "name": "stdout",
          "output_type": "stream",
          "text": [
            "h\n",
            "e\n",
            "l\n",
            "l\n",
            "o\n",
            " \n",
            "e\n",
            "v\n",
            "e\n",
            "r\n",
            "y\n",
            " \n",
            "o\n",
            "n\n",
            "e\n"
          ]
        }
      ],
      "source": [
        "c=\"hello every one\"\n",
        "for i in (c):\n",
        "  print(i)"
      ]
    },
    {
      "cell_type": "code",
      "execution_count": null,
      "metadata": {
        "colab": {
          "base_uri": "https://localhost:8080/"
        },
        "id": "nITOIvnG6tOl",
        "outputId": "ca3858ed-7a4d-4ece-eaf5-57879ebaaf51"
      },
      "outputs": [
        {
          "name": "stdout",
          "output_type": "stream",
          "text": [
            "h\n",
            "e\n",
            "l\n",
            "l\n",
            "o\n",
            " \n",
            "e\n",
            "v\n",
            "e\n",
            "r\n",
            "y\n",
            " \n",
            "o\n",
            "n\n",
            "e\n"
          ]
        }
      ],
      "source": [
        "for o in (c):\n",
        "  print(o)"
      ]
    },
    {
      "cell_type": "code",
      "execution_count": null,
      "metadata": {
        "colab": {
          "base_uri": "https://localhost:8080/",
          "height": 138
        },
        "id": "3Qr3zzve7KWR",
        "outputId": "6f6b62e6-e3ac-4853-c2f8-e253223406b2"
      },
      "outputs": [
        {
          "ename": "SyntaxError",
          "evalue": "ignored",
          "output_type": "error",
          "traceback": [
            "\u001b[0;36m  File \u001b[0;32m\"<ipython-input-66-d50fd86012d9>\"\u001b[0;36m, line \u001b[0;32m1\u001b[0m\n\u001b[0;31m    for i in [2:8:2]:\u001b[0m\n\u001b[0m               ^\u001b[0m\n\u001b[0;31mSyntaxError\u001b[0m\u001b[0;31m:\u001b[0m invalid syntax\n"
          ]
        }
      ],
      "source": [
        "for i in [2:8:2]:\n",
        "print(i)"
      ]
    },
    {
      "cell_type": "code",
      "execution_count": null,
      "metadata": {
        "id": "flr1Wyku7tm2"
      },
      "outputs": [],
      "source": []
    },
    {
      "cell_type": "markdown",
      "metadata": {
        "id": "hG-0NG5d7wKj"
      },
      "source": [
        "Membership opration:"
      ]
    },
    {
      "cell_type": "code",
      "execution_count": null,
      "metadata": {
        "colab": {
          "base_uri": "https://localhost:8080/"
        },
        "id": "GJlPDXfi7zrl",
        "outputId": "d1b9d991-4bf3-4ec7-943b-b94281a67b6e"
      },
      "outputs": [
        {
          "data": {
            "text/plain": [
              "True"
            ]
          },
          "execution_count": 70,
          "metadata": {},
          "output_type": "execute_result"
        }
      ],
      "source": [
        " c=\" biswajit gochhayat\"\n",
        " 't' in c"
      ]
    },
    {
      "cell_type": "code",
      "execution_count": null,
      "metadata": {
        "colab": {
          "base_uri": "https://localhost:8080/"
        },
        "id": "RH6FGPfj771r",
        "outputId": "4fa1d847-ecc4-4cd3-82f0-a779243c07d9"
      },
      "outputs": [
        {
          "data": {
            "text/plain": [
              "False"
            ]
          },
          "execution_count": 71,
          "metadata": {},
          "output_type": "execute_result"
        }
      ],
      "source": [
        "'x' in c"
      ]
    },
    {
      "cell_type": "code",
      "execution_count": null,
      "metadata": {
        "id": "sJm1Evel8Oq6"
      },
      "outputs": [],
      "source": []
    },
    {
      "cell_type": "markdown",
      "metadata": {
        "id": "NUlPz9t68Rfm"
      },
      "source": [
        "**String function in python :**"
      ]
    },
    {
      "cell_type": "markdown",
      "metadata": {
        "id": "3SuF-uYr8Xxc"
      },
      "source": [
        "common index: \n",
        "\n",
        "\n",
        "*   len\n",
        "\n",
        "*    Max\n",
        "*   min\n",
        "\n",
        "\n",
        "*   sorted\n",
        "\n"
      ]
    },
    {
      "cell_type": "code",
      "execution_count": null,
      "metadata": {
        "colab": {
          "base_uri": "https://localhost:8080/"
        },
        "id": "CoeCzAP-8qRw",
        "outputId": "b60b70c8-8b7e-46e2-cf25-823a016a9ffc"
      },
      "outputs": [
        {
          "data": {
            "text/plain": [
              "18"
            ]
          },
          "execution_count": 72,
          "metadata": {},
          "output_type": "execute_result"
        }
      ],
      "source": [
        "b=\"biswajit gochhayat\"\n",
        "len(b)"
      ]
    },
    {
      "cell_type": "code",
      "execution_count": null,
      "metadata": {
        "colab": {
          "base_uri": "https://localhost:8080/",
          "height": 36
        },
        "id": "UqmB6qd785N6",
        "outputId": "f05ffc2e-4f33-4ab3-9b1c-d7c61cc4f91b"
      },
      "outputs": [
        {
          "data": {
            "application/vnd.google.colaboratory.intrinsic+json": {
              "type": "string"
            },
            "text/plain": [
              "'y'"
            ]
          },
          "execution_count": 73,
          "metadata": {},
          "output_type": "execute_result"
        }
      ],
      "source": [
        "max(b)"
      ]
    },
    {
      "cell_type": "code",
      "execution_count": null,
      "metadata": {
        "colab": {
          "base_uri": "https://localhost:8080/",
          "height": 36
        },
        "id": "lvuAmPf688I_",
        "outputId": "3e404a29-6a8d-499e-94f9-3c6eeab19eeb"
      },
      "outputs": [
        {
          "data": {
            "application/vnd.google.colaboratory.intrinsic+json": {
              "type": "string"
            },
            "text/plain": [
              "' '"
            ]
          },
          "execution_count": 74,
          "metadata": {},
          "output_type": "execute_result"
        }
      ],
      "source": [
        "min(b)"
      ]
    },
    {
      "cell_type": "code",
      "execution_count": null,
      "metadata": {
        "colab": {
          "base_uri": "https://localhost:8080/"
        },
        "id": "y-mcqbgE8_da",
        "outputId": "dc4dc711-4b17-4751-b455-9ab355bf9993"
      },
      "outputs": [
        {
          "data": {
            "text/plain": [
              "[' ',\n",
              " 'a',\n",
              " 'a',\n",
              " 'a',\n",
              " 'b',\n",
              " 'c',\n",
              " 'g',\n",
              " 'h',\n",
              " 'h',\n",
              " 'i',\n",
              " 'i',\n",
              " 'j',\n",
              " 'o',\n",
              " 's',\n",
              " 't',\n",
              " 't',\n",
              " 'w',\n",
              " 'y']"
            ]
          },
          "execution_count": 75,
          "metadata": {},
          "output_type": "execute_result"
        }
      ],
      "source": [
        "sorted(b)"
      ]
    },
    {
      "cell_type": "code",
      "execution_count": null,
      "metadata": {
        "colab": {
          "base_uri": "https://localhost:8080/"
        },
        "id": "YviekXxY9EjN",
        "outputId": "53e17c14-835c-4ba0-b09a-c2237cda6dc6"
      },
      "outputs": [
        {
          "data": {
            "text/plain": [
              "['y',\n",
              " 'w',\n",
              " 't',\n",
              " 't',\n",
              " 's',\n",
              " 'o',\n",
              " 'j',\n",
              " 'i',\n",
              " 'i',\n",
              " 'h',\n",
              " 'h',\n",
              " 'g',\n",
              " 'c',\n",
              " 'b',\n",
              " 'a',\n",
              " 'a',\n",
              " 'a',\n",
              " ' ',\n",
              " ' ']"
            ]
          },
          "execution_count": 76,
          "metadata": {},
          "output_type": "execute_result"
        }
      ],
      "source": [
        "sorted(c,reverse=True)"
      ]
    },
    {
      "cell_type": "code",
      "execution_count": null,
      "metadata": {
        "id": "bsYlyBfg9Ne8"
      },
      "outputs": [],
      "source": []
    },
    {
      "cell_type": "markdown",
      "metadata": {
        "id": "Mb7TRZa-9SXy"
      },
      "source": [
        "This  function only  apply on string:\n",
        " \n",
        " Capitalise/Titele/Upper/lower/swapcase"
      ]
    },
    {
      "cell_type": "code",
      "execution_count": null,
      "metadata": {
        "colab": {
          "base_uri": "https://localhost:8080/",
          "height": 36
        },
        "id": "ewbyhnSV9nV0",
        "outputId": "c42e9efd-41e1-4353-96f8-5ee5ae1ac309"
      },
      "outputs": [
        {
          "data": {
            "application/vnd.google.colaboratory.intrinsic+json": {
              "type": "string"
            },
            "text/plain": [
              "'Biswajit gochhayat'"
            ]
          },
          "execution_count": 80,
          "metadata": {},
          "output_type": "execute_result"
        }
      ],
      "source": [
        "b=\"biswajit Gochhayat\"\n",
        "b.capitalize()"
      ]
    },
    {
      "cell_type": "code",
      "execution_count": null,
      "metadata": {
        "colab": {
          "base_uri": "https://localhost:8080/",
          "height": 36
        },
        "id": "0f5VTbB3909u",
        "outputId": "2ee12fe2-5275-4c95-fc3b-baba3ee82b83"
      },
      "outputs": [
        {
          "data": {
            "application/vnd.google.colaboratory.intrinsic+json": {
              "type": "string"
            },
            "text/plain": [
              "'Biswajit Gochhayat'"
            ]
          },
          "execution_count": 81,
          "metadata": {},
          "output_type": "execute_result"
        }
      ],
      "source": [
        "b.title()"
      ]
    },
    {
      "cell_type": "code",
      "execution_count": null,
      "metadata": {
        "colab": {
          "base_uri": "https://localhost:8080/",
          "height": 36
        },
        "id": "sS6uKpRg-ZnM",
        "outputId": "6dedb30a-730e-4274-f24d-530ce38aaf51"
      },
      "outputs": [
        {
          "data": {
            "application/vnd.google.colaboratory.intrinsic+json": {
              "type": "string"
            },
            "text/plain": [
              "'BISWAJIT GOCHHAYAT'"
            ]
          },
          "execution_count": 82,
          "metadata": {},
          "output_type": "execute_result"
        }
      ],
      "source": [
        "b.upper()"
      ]
    },
    {
      "cell_type": "code",
      "execution_count": null,
      "metadata": {
        "colab": {
          "base_uri": "https://localhost:8080/",
          "height": 36
        },
        "id": "qPh_00Av-hv6",
        "outputId": "220bf109-e7e3-4076-d40f-a8a49f2cba5b"
      },
      "outputs": [
        {
          "data": {
            "application/vnd.google.colaboratory.intrinsic+json": {
              "type": "string"
            },
            "text/plain": [
              "'biswajit gochhayat'"
            ]
          },
          "execution_count": 83,
          "metadata": {},
          "output_type": "execute_result"
        }
      ],
      "source": [
        "b.lower()"
      ]
    },
    {
      "cell_type": "code",
      "execution_count": null,
      "metadata": {
        "colab": {
          "base_uri": "https://localhost:8080/",
          "height": 36
        },
        "id": "2HOJszW4-nVI",
        "outputId": "d19cc701-8cc1-4d0d-b25c-e7ba1b2b72a3"
      },
      "outputs": [
        {
          "data": {
            "application/vnd.google.colaboratory.intrinsic+json": {
              "type": "string"
            },
            "text/plain": [
              "'BISWAJIT gOCHHAYAT'"
            ]
          },
          "execution_count": 84,
          "metadata": {},
          "output_type": "execute_result"
        }
      ],
      "source": [
        "b.swapcase()"
      ]
    },
    {
      "cell_type": "code",
      "execution_count": null,
      "metadata": {
        "id": "Ar41rPla-uWU"
      },
      "outputs": [],
      "source": []
    },
    {
      "cell_type": "markdown",
      "metadata": {
        "id": "p3ffn-Og-0U8"
      },
      "source": [
        "2.cout"
      ]
    },
    {
      "cell_type": "code",
      "execution_count": null,
      "metadata": {
        "colab": {
          "base_uri": "https://localhost:8080/"
        },
        "id": "y7wmPneJ-3hB",
        "outputId": "d26d138c-4b3a-4b09-ad31-2cd18517aaa5"
      },
      "outputs": [
        {
          "data": {
            "text/plain": [
              "2"
            ]
          },
          "execution_count": 95,
          "metadata": {},
          "output_type": "execute_result"
        }
      ],
      "source": [
        "b=\"biswajit gochhayat heee chal\"\n",
        "b.count(\"t\")"
      ]
    },
    {
      "cell_type": "code",
      "execution_count": null,
      "metadata": {
        "colab": {
          "base_uri": "https://localhost:8080/"
        },
        "id": "4810jy1G_f5J",
        "outputId": "55009564-6652-4da0-c951-760d2725013d"
      },
      "outputs": [
        {
          "data": {
            "text/plain": [
              "2"
            ]
          },
          "execution_count": 94,
          "metadata": {},
          "output_type": "execute_result"
        }
      ],
      "source": [
        "c= \"hee bhai\"\n",
        "c.count(\"e\")\n"
      ]
    },
    {
      "cell_type": "code",
      "execution_count": null,
      "metadata": {
        "id": "CbQYJlr-_qVy"
      },
      "outputs": [],
      "source": []
    },
    {
      "cell_type": "markdown",
      "metadata": {
        "id": "kAhUCXCd_8VF"
      },
      "source": [
        "3. Find/index :"
      ]
    },
    {
      "cell_type": "code",
      "execution_count": null,
      "metadata": {
        "colab": {
          "base_uri": "https://localhost:8080/"
        },
        "id": "pgdAkdOqABUH",
        "outputId": "952f629f-c062-441a-f13f-85098c0f2f5e"
      },
      "outputs": [
        {
          "data": {
            "text/plain": [
              "12"
            ]
          },
          "execution_count": 96,
          "metadata": {},
          "output_type": "execute_result"
        }
      ],
      "source": [
        "b=\"biswajit gochhayat\"\n",
        "b.find('h')"
      ]
    },
    {
      "cell_type": "code",
      "execution_count": null,
      "metadata": {
        "colab": {
          "base_uri": "https://localhost:8080/"
        },
        "id": "2ALjYdduAO84",
        "outputId": "2651237b-af11-48ac-db19-cfe0f00e8244"
      },
      "outputs": [
        {
          "data": {
            "text/plain": [
              "3"
            ]
          },
          "execution_count": 98,
          "metadata": {},
          "output_type": "execute_result"
        }
      ],
      "source": [
        "b.find(\"w\")"
      ]
    },
    {
      "cell_type": "code",
      "execution_count": null,
      "metadata": {
        "colab": {
          "background_save": true
        },
        "id": "-zOD4oMOAVxp",
        "outputId": "e5ba100a-2b0e-4158-dd92-52f748e887bd"
      },
      "outputs": [
        {
          "data": {
            "text/plain": [
              "15"
            ]
          },
          "execution_count": 99,
          "metadata": {},
          "output_type": "execute_result"
        }
      ],
      "source": []
    },
    {
      "cell_type": "code",
      "execution_count": null,
      "metadata": {
        "id": "DGBDrK28uf2I"
      },
      "outputs": [],
      "source": []
    },
    {
      "cell_type": "markdown",
      "metadata": {
        "id": "LbMPXnQlvYov"
      },
      "source": [
        "\n",
        "\n",
        "---\n",
        "\n",
        "\n",
        "\n",
        "---\n",
        "\n"
      ]
    },
    {
      "cell_type": "markdown",
      "metadata": {
        "id": "CjM5xLbeugRz"
      },
      "source": [
        "# **Python list**"
      ]
    },
    {
      "cell_type": "markdown",
      "metadata": {
        "id": "xLV3IkxRulbs"
      },
      "source": [
        "What is list ?\n",
        "\n",
        "list vs arry\n",
        "\n",
        "creat a list \n",
        "\n",
        "who access item from list?\n",
        "\n",
        "how to edit list?\n",
        "\n",
        "how to add list\n",
        "\n",
        "how to  delet list\n",
        "\n",
        "opration on list \n",
        "\n",
        "function on list "
      ]
    },
    {
      "cell_type": "markdown",
      "metadata": {
        "id": "yxN3XPWIvXEM"
      },
      "source": [
        "What is a list ?\n",
        "\n",
        "List is a data type where we store multiple  datatype."
      ]
    },
    {
      "cell_type": "markdown",
      "metadata": {
        "id": "z3ul-lfYwCDN"
      },
      "source": [
        "Array:\n",
        "\n",
        " homogineous \n",
        "\n",
        " continious memory location\n",
        "\n",
        " Array are much faster.\n"
      ]
    },
    {
      "cell_type": "markdown",
      "metadata": {
        "id": "f0tx0QGuwbdd"
      },
      "source": [
        "list:\n",
        "\n",
        "hetrogineous\n",
        "\n",
        "not contineous memory location\n",
        "\n",
        "not faster then array\n",
        "\n",
        "more programer friendly.\n"
      ]
    },
    {
      "cell_type": "markdown",
      "metadata": {
        "id": "-F-gdTeowx40"
      },
      "source": [
        "Creat:\n"
      ]
    },
    {
      "cell_type": "code",
      "execution_count": null,
      "metadata": {
        "id": "diQUBPT_w0Mh"
      },
      "outputs": [],
      "source": [
        "L=[]"
      ]
    },
    {
      "cell_type": "code",
      "execution_count": null,
      "metadata": {
        "colab": {
          "base_uri": "https://localhost:8080/"
        },
        "id": "k9GESFqGw3bB",
        "outputId": "a4f7bb9f-8d3c-4cd6-aadd-d0e76df2a500"
      },
      "outputs": [
        {
          "data": {
            "text/plain": [
              "[1, 2, 3, 45, 6]"
            ]
          },
          "execution_count": 3,
          "metadata": {},
          "output_type": "execute_result"
        }
      ],
      "source": [
        "l=[1,2,3,45,6]#homogineous list\n",
        "l"
      ]
    },
    {
      "cell_type": "code",
      "execution_count": null,
      "metadata": {
        "colab": {
          "base_uri": "https://localhost:8080/"
        },
        "id": "ya_pDizlw7Em",
        "outputId": "e237c6e8-cc82-4952-c9de-b2cbc5d090da"
      },
      "outputs": [
        {
          "data": {
            "text/plain": [
              "['heloo', 3, 5, 3.5, 7]"
            ]
          },
          "execution_count": 5,
          "metadata": {},
          "output_type": "execute_result"
        }
      ],
      "source": [
        "#hetroginious list\n",
        "l=['heloo',3,5,3.5,7]\n",
        "l\n"
      ]
    },
    {
      "cell_type": "code",
      "execution_count": null,
      "metadata": {
        "colab": {
          "base_uri": "https://localhost:8080/"
        },
        "id": "Sm1rpFF4xWvD",
        "outputId": "475dd0b7-4b19-4a06-97f8-b6228e3c854f"
      },
      "outputs": [
        {
          "data": {
            "text/plain": [
              "[2, 5, 4, 7, [3, 6, 8]]"
            ]
          },
          "execution_count": 7,
          "metadata": {},
          "output_type": "execute_result"
        }
      ],
      "source": [
        "# multidimentional list\n",
        "# 2d list\n",
        "t=[2,5,4,7,[3,6,8]]\n",
        "t"
      ]
    },
    {
      "cell_type": "code",
      "execution_count": null,
      "metadata": {
        "colab": {
          "base_uri": "https://localhost:8080/"
        },
        "id": "ptRaigDfxk8U",
        "outputId": "1758441c-e5d6-4f78-9a4d-917a1ab85b04"
      },
      "outputs": [
        {
          "data": {
            "text/plain": [
              "[[[4, 5], [3, 6]], [[4, 7], [5, 7, 3]]]"
            ]
          },
          "execution_count": 8,
          "metadata": {},
          "output_type": "execute_result"
        }
      ],
      "source": [
        "#3d list\n",
        "l=[[[4,5],[3,6,]],[[4,7],[5,7,3]]]\n",
        "l"
      ]
    },
    {
      "cell_type": "code",
      "execution_count": null,
      "metadata": {
        "colab": {
          "base_uri": "https://localhost:8080/"
        },
        "id": "uhGt1iJ4yM7N",
        "outputId": "77981c93-eaa2-4331-87b1-3178f85e04e7"
      },
      "outputs": [
        {
          "data": {
            "text/plain": [
              "['b', 'i', 's', 'w', 'a', 'j', 'i', 't']"
            ]
          },
          "execution_count": 12,
          "metadata": {},
          "output_type": "execute_result"
        }
      ],
      "source": [
        "u=list('biswajit')\n",
        "u"
      ]
    },
    {
      "cell_type": "code",
      "execution_count": null,
      "metadata": {
        "id": "gf_i-wWSyVzE"
      },
      "outputs": [],
      "source": []
    },
    {
      "cell_type": "markdown",
      "metadata": {
        "id": "2a51NG14ymke"
      },
      "source": [
        "How to asscess  item from list "
      ]
    },
    {
      "cell_type": "code",
      "execution_count": null,
      "metadata": {
        "colab": {
          "base_uri": "https://localhost:8080/"
        },
        "id": "q6ZZvRESys8I",
        "outputId": "3c6e63a8-af8b-430a-d463-1d8966c57b34"
      },
      "outputs": [
        {
          "data": {
            "text/plain": [
              "['heloo', 8, 4, 5, 8, 3, 6, 5, 8, 3.6]"
            ]
          },
          "execution_count": 15,
          "metadata": {},
          "output_type": "execute_result"
        }
      ],
      "source": [
        "b=['heloo',8,4,5,8,3,6,5,8,3.6]\n",
        "b"
      ]
    },
    {
      "cell_type": "code",
      "execution_count": null,
      "metadata": {
        "colab": {
          "base_uri": "https://localhost:8080/"
        },
        "id": "kbL4JGqLzTlg",
        "outputId": "54220c4c-d5db-4946-ab31-862ad890bdb0"
      },
      "outputs": [
        {
          "data": {
            "text/plain": [
              "[4, 5, 8, 3, 6, 5, 8, 3.6]"
            ]
          },
          "execution_count": 16,
          "metadata": {},
          "output_type": "execute_result"
        }
      ],
      "source": [
        "b[2:]"
      ]
    },
    {
      "cell_type": "code",
      "execution_count": null,
      "metadata": {
        "colab": {
          "base_uri": "https://localhost:8080/"
        },
        "id": "LQElM1otzZ5T",
        "outputId": "62937f6b-e3d8-4db4-8493-6ca8d00ffdca"
      },
      "outputs": [
        {
          "data": {
            "text/plain": [
              "[3, 6, 5, 8, 3.6]"
            ]
          },
          "execution_count": 18,
          "metadata": {},
          "output_type": "execute_result"
        }
      ],
      "source": [
        "b[5:]"
      ]
    },
    {
      "cell_type": "code",
      "execution_count": null,
      "metadata": {
        "colab": {
          "base_uri": "https://localhost:8080/"
        },
        "id": "dxmmLb-Hzthc",
        "outputId": "f9c08d94-8f85-40bb-d744-6f0b9fa5577c"
      },
      "outputs": [
        {
          "data": {
            "text/plain": [
              "[8, 3.6]"
            ]
          },
          "execution_count": 19,
          "metadata": {},
          "output_type": "execute_result"
        }
      ],
      "source": [
        "b[-2:]"
      ]
    },
    {
      "cell_type": "code",
      "execution_count": null,
      "metadata": {
        "colab": {
          "base_uri": "https://localhost:8080/"
        },
        "id": "SOBJzQnJz15y",
        "outputId": "47e6d138-4387-4b79-acb5-1c9efc812e5c"
      },
      "outputs": [
        {
          "data": {
            "text/plain": [
              "[4, 5, 7, 9, [3, 7, 5, 9]]"
            ]
          },
          "execution_count": 20,
          "metadata": {},
          "output_type": "execute_result"
        }
      ],
      "source": [
        "h=[4,5,7,9,[3,7,5,9]]\n",
        "h"
      ]
    },
    {
      "cell_type": "code",
      "execution_count": null,
      "metadata": {
        "colab": {
          "base_uri": "https://localhost:8080/"
        },
        "id": "fNnCru7G05Oj",
        "outputId": "b5d51de0-86f3-4191-9633-4257da7af0ef"
      },
      "outputs": [
        {
          "data": {
            "text/plain": [
              "4"
            ]
          },
          "execution_count": 21,
          "metadata": {},
          "output_type": "execute_result"
        }
      ],
      "source": [
        "h[-5]"
      ]
    },
    {
      "cell_type": "code",
      "execution_count": null,
      "metadata": {
        "colab": {
          "base_uri": "https://localhost:8080/"
        },
        "id": "Pss_m7MO08MC",
        "outputId": "38b84de4-ce3b-4c2a-c705-d213cacfcfb2"
      },
      "outputs": [
        {
          "data": {
            "text/plain": [
              "7"
            ]
          },
          "execution_count": 22,
          "metadata": {},
          "output_type": "execute_result"
        }
      ],
      "source": [
        "h[-1][-3]"
      ]
    },
    {
      "cell_type": "code",
      "execution_count": null,
      "metadata": {
        "colab": {
          "base_uri": "https://localhost:8080/"
        },
        "id": "oOG8d26K1QBU",
        "outputId": "d80c717c-7b81-4691-ea2e-b446507dfda0"
      },
      "outputs": [
        {
          "data": {
            "text/plain": [
              "7"
            ]
          },
          "execution_count": 23,
          "metadata": {},
          "output_type": "execute_result"
        }
      ],
      "source": [
        "h[4][1]"
      ]
    },
    {
      "cell_type": "code",
      "execution_count": null,
      "metadata": {
        "id": "Zpc28oXJ1Zwa"
      },
      "outputs": [],
      "source": []
    },
    {
      "cell_type": "markdown",
      "metadata": {
        "id": "l9aXOXOk1oV4"
      },
      "source": [
        "how to edit list in python"
      ]
    },
    {
      "cell_type": "code",
      "execution_count": null,
      "metadata": {
        "colab": {
          "base_uri": "https://localhost:8080/"
        },
        "id": "qJycBVea1ruV",
        "outputId": "74e34a34-a682-4524-b075-cf16a383af88"
      },
      "outputs": [
        {
          "data": {
            "text/plain": [
              "[3, 6, 8, 4, 6, 5]"
            ]
          },
          "execution_count": 24,
          "metadata": {},
          "output_type": "execute_result"
        }
      ],
      "source": [
        "s=[3,6,8,4,6,5]\n",
        "s\n"
      ]
    },
    {
      "cell_type": "code",
      "execution_count": null,
      "metadata": {
        "id": "otywuI-22Lyb"
      },
      "outputs": [],
      "source": [
        "# list in python  are mutable\n",
        "s[3]=9"
      ]
    },
    {
      "cell_type": "code",
      "execution_count": null,
      "metadata": {
        "colab": {
          "base_uri": "https://localhost:8080/"
        },
        "id": "jiloqQcO2ohY",
        "outputId": "0686acd6-3e74-42a7-e1c0-e35e4c532976"
      },
      "outputs": [
        {
          "data": {
            "text/plain": [
              "[3, 6, 8, 9, 6, 5]"
            ]
          },
          "execution_count": 27,
          "metadata": {},
          "output_type": "execute_result"
        }
      ],
      "source": [
        "s"
      ]
    },
    {
      "cell_type": "code",
      "execution_count": null,
      "metadata": {
        "colab": {
          "background_save": true
        },
        "id": "C3jDiCvS2qH0",
        "outputId": "2c1ee46b-8759-459c-db34-387d4ad5ecf3"
      },
      "outputs": [
        {
          "data": {
            "text/plain": [
              "[6, 8, 9]"
            ]
          },
          "execution_count": 28,
          "metadata": {},
          "output_type": "execute_result"
        }
      ],
      "source": [
        "s[]"
      ]
    },
    {
      "cell_type": "markdown",
      "source": [
        "**How  to add new list in python .**\n",
        "\n",
        "\n",
        "\n",
        "*   append()\n",
        "\n",
        "*   extend()\n",
        "\n",
        "*   insert()\n",
        "\n",
        "\n",
        "\n",
        "\n"
      ],
      "metadata": {
        "id": "i22Vv9g7KK56"
      }
    },
    {
      "cell_type": "code",
      "source": [
        "l=[2,5,4,3,6,7]\n",
        "l"
      ],
      "metadata": {
        "colab": {
          "base_uri": "https://localhost:8080/"
        },
        "id": "FjWk35OcKs1X",
        "outputId": "3e116d59-29b4-4fc3-859e-c6cdca4a76c0"
      },
      "execution_count": 1,
      "outputs": [
        {
          "output_type": "execute_result",
          "data": {
            "text/plain": [
              "[2, 5, 4, 3, 6, 7]"
            ]
          },
          "metadata": {},
          "execution_count": 1
        }
      ]
    },
    {
      "cell_type": "code",
      "source": [
        "l.append(99)\n",
        "l\n"
      ],
      "metadata": {
        "colab": {
          "base_uri": "https://localhost:8080/"
        },
        "id": "4duhZnPuK2eM",
        "outputId": "48607f55-f1b2-4cc3-f4ba-8a271ad0aa01"
      },
      "execution_count": 6,
      "outputs": [
        {
          "output_type": "execute_result",
          "data": {
            "text/plain": [
              "[2, 5, 4, 3, 6, 7, 100, 100, 50, 99]"
            ]
          },
          "metadata": {},
          "execution_count": 6
        }
      ]
    },
    {
      "cell_type": "code",
      "source": [
        "l.append(50)"
      ],
      "metadata": {
        "id": "K5FIUSruLCa0"
      },
      "execution_count": 4,
      "outputs": []
    },
    {
      "cell_type": "code",
      "source": [
        "l"
      ],
      "metadata": {
        "colab": {
          "base_uri": "https://localhost:8080/"
        },
        "id": "2HHrlVMcLMFc",
        "outputId": "d4200583-41aa-45db-86a2-7a046c40a480"
      },
      "execution_count": 5,
      "outputs": [
        {
          "output_type": "execute_result",
          "data": {
            "text/plain": [
              "[2, 5, 4, 3, 6, 7, 100, 100, 50]"
            ]
          },
          "metadata": {},
          "execution_count": 5
        }
      ]
    },
    {
      "cell_type": "code",
      "source": [
        "l.extend([5,7,'biswajit'])\n",
        "l"
      ],
      "metadata": {
        "colab": {
          "base_uri": "https://localhost:8080/"
        },
        "id": "OLTqfowmLNXk",
        "outputId": "dd56b9be-2edc-41c9-f5a8-438b97b3260c"
      },
      "execution_count": 7,
      "outputs": [
        {
          "output_type": "execute_result",
          "data": {
            "text/plain": [
              "[2, 5, 4, 3, 6, 7, 100, 100, 50, 99, 5, 7, 'biswajit']"
            ]
          },
          "metadata": {},
          "execution_count": 7
        }
      ]
    },
    {
      "cell_type": "code",
      "source": [
        "l.insert(2, 'helli')\n",
        "l\n"
      ],
      "metadata": {
        "colab": {
          "base_uri": "https://localhost:8080/"
        },
        "id": "apP_i51PLtWD",
        "outputId": "0f9a4ea5-62b1-4c15-86b8-17e5acab9765"
      },
      "execution_count": 12,
      "outputs": [
        {
          "output_type": "execute_result",
          "data": {
            "text/plain": [
              "[2, 5, 'helli', 4, 3, 6, 7, 100, 100, 50, 99, 5, 7, 'biswajit']"
            ]
          },
          "metadata": {},
          "execution_count": 12
        }
      ]
    },
    {
      "cell_type": "code",
      "source": [],
      "metadata": {
        "id": "g_-jyTH5L7rr"
      },
      "execution_count": null,
      "outputs": []
    },
    {
      "cell_type": "markdown",
      "source": [
        "**how to delate  things in list in poython.**\n",
        "\n",
        " \n",
        "\n",
        "*   del\n",
        "\n",
        "*   remove\n",
        "\n",
        "*   pop\n",
        "*   clear\n",
        "\n",
        "\n",
        "\n"
      ],
      "metadata": {
        "id": "-t53rDNoNY4a"
      }
    },
    {
      "cell_type": "code",
      "source": [
        "p=[5,8,32,89,'bbhsai']\n",
        "p"
      ],
      "metadata": {
        "colab": {
          "base_uri": "https://localhost:8080/"
        },
        "id": "vhJJMGXmNzZv",
        "outputId": "92fb6e00-5fde-48f2-da7d-06690df97169"
      },
      "execution_count": 13,
      "outputs": [
        {
          "output_type": "execute_result",
          "data": {
            "text/plain": [
              "[5, 8, 32, 89, 'bbhsai']"
            ]
          },
          "metadata": {},
          "execution_count": 13
        }
      ]
    },
    {
      "cell_type": "code",
      "source": [
        "del p"
      ],
      "metadata": {
        "id": "u2gD5S5QNw80"
      },
      "execution_count": 15,
      "outputs": []
    },
    {
      "cell_type": "code",
      "source": [
        "p"
      ],
      "metadata": {
        "colab": {
          "base_uri": "https://localhost:8080/",
          "height": 176
        },
        "id": "KTK3bGwhN_mL",
        "outputId": "9e081f64-3a12-47f7-978c-010a8eec88cd"
      },
      "execution_count": 16,
      "outputs": [
        {
          "output_type": "error",
          "ename": "NameError",
          "evalue": "ignored",
          "traceback": [
            "\u001b[0;31m---------------------------------------------------------------------------\u001b[0m",
            "\u001b[0;31mNameError\u001b[0m                                 Traceback (most recent call last)",
            "\u001b[0;32m<ipython-input-16-6c10289a8da7>\u001b[0m in \u001b[0;36m<module>\u001b[0;34m\u001b[0m\n\u001b[0;32m----> 1\u001b[0;31m \u001b[0mp\u001b[0m\u001b[0;34m\u001b[0m\u001b[0;34m\u001b[0m\u001b[0m\n\u001b[0m",
            "\u001b[0;31mNameError\u001b[0m: name 'p' is not defined"
          ]
        }
      ]
    },
    {
      "cell_type": "code",
      "source": [
        "l"
      ],
      "metadata": {
        "colab": {
          "base_uri": "https://localhost:8080/"
        },
        "id": "DB0_mDN6OEhS",
        "outputId": "7a8274ed-4a85-4609-84bb-0c4c7d847982"
      },
      "execution_count": 17,
      "outputs": [
        {
          "output_type": "execute_result",
          "data": {
            "text/plain": [
              "[2, 5, 'helli', 4, 3, 6, 7, 100, 100, 50, 99, 5, 7, 'biswajit']"
            ]
          },
          "metadata": {},
          "execution_count": 17
        }
      ]
    },
    {
      "cell_type": "code",
      "source": [
        "l.remove('biswajit')\n",
        "l"
      ],
      "metadata": {
        "colab": {
          "base_uri": "https://localhost:8080/"
        },
        "id": "N7sj58vmOKwh",
        "outputId": "ff11717c-64ed-4a2a-cf8e-d1f0d0fe839a"
      },
      "execution_count": 18,
      "outputs": [
        {
          "output_type": "execute_result",
          "data": {
            "text/plain": [
              "[2, 5, 'helli', 4, 3, 6, 7, 100, 100, 50, 99, 5, 7]"
            ]
          },
          "metadata": {},
          "execution_count": 18
        }
      ]
    },
    {
      "cell_type": "code",
      "source": [
        "l"
      ],
      "metadata": {
        "colab": {
          "base_uri": "https://localhost:8080/"
        },
        "id": "VoCwc2IeOWsq",
        "outputId": "84a59def-ab52-4dda-938b-b4844a9e6be4"
      },
      "execution_count": 19,
      "outputs": [
        {
          "output_type": "execute_result",
          "data": {
            "text/plain": [
              "[2, 5, 'helli', 4, 3, 6, 7, 100, 100, 50, 99, 5, 7]"
            ]
          },
          "metadata": {},
          "execution_count": 19
        }
      ]
    },
    {
      "cell_type": "code",
      "source": [
        "l.remove(4)"
      ],
      "metadata": {
        "id": "dV8vzPS1OYgq"
      },
      "execution_count": 20,
      "outputs": []
    },
    {
      "cell_type": "code",
      "source": [
        "l"
      ],
      "metadata": {
        "colab": {
          "base_uri": "https://localhost:8080/"
        },
        "id": "rQA6LPjGOgna",
        "outputId": "ec02e72e-b351-4d20-f279-17d193a9b0e8"
      },
      "execution_count": 21,
      "outputs": [
        {
          "output_type": "execute_result",
          "data": {
            "text/plain": [
              "[2, 5, 'helli', 3, 6, 7, 100, 100, 50, 99, 5, 7]"
            ]
          },
          "metadata": {},
          "execution_count": 21
        }
      ]
    },
    {
      "cell_type": "code",
      "source": [
        "l.pop()"
      ],
      "metadata": {
        "colab": {
          "base_uri": "https://localhost:8080/"
        },
        "id": "neWWhEAsOh2y",
        "outputId": "10a32cc7-f7de-40e3-9c87-34be74d734cb"
      },
      "execution_count": 22,
      "outputs": [
        {
          "output_type": "execute_result",
          "data": {
            "text/plain": [
              "7"
            ]
          },
          "metadata": {},
          "execution_count": 22
        }
      ]
    },
    {
      "cell_type": "code",
      "source": [
        "l"
      ],
      "metadata": {
        "colab": {
          "base_uri": "https://localhost:8080/"
        },
        "id": "rAi9YBwwOl46",
        "outputId": "57fafe73-32cc-4159-b368-e97c7a40550c"
      },
      "execution_count": 23,
      "outputs": [
        {
          "output_type": "execute_result",
          "data": {
            "text/plain": [
              "[2, 5, 'helli', 3, 6, 7, 100, 100, 50, 99, 5]"
            ]
          },
          "metadata": {},
          "execution_count": 23
        }
      ]
    },
    {
      "cell_type": "code",
      "source": [
        "l.clear()"
      ],
      "metadata": {
        "id": "Y_ekOVmZOndx"
      },
      "execution_count": 24,
      "outputs": []
    },
    {
      "cell_type": "code",
      "source": [
        "l"
      ],
      "metadata": {
        "colab": {
          "base_uri": "https://localhost:8080/"
        },
        "id": "stZJQa2YOrGp",
        "outputId": "41161f38-15a4-4715-e231-b2ff3b8aa718"
      },
      "execution_count": 25,
      "outputs": [
        {
          "output_type": "execute_result",
          "data": {
            "text/plain": [
              "[]"
            ]
          },
          "metadata": {},
          "execution_count": 25
        }
      ]
    },
    {
      "cell_type": "code",
      "source": [],
      "metadata": {
        "id": "Vc9IBUwhOryK"
      },
      "execution_count": null,
      "outputs": []
    },
    {
      "cell_type": "markdown",
      "source": [
        "**operation in list**\n",
        "\n",
        "\n",
        "\n",
        "*   concatination\n",
        "\n",
        "*   multification \n",
        "*   loop\n",
        "\n",
        "\n",
        "*   membership oprator\n",
        "\n"
      ],
      "metadata": {
        "id": "3SYCJUkqOvEC"
      }
    },
    {
      "cell_type": "code",
      "source": [
        "h=['liku',8,0,45,6,5.7]\n",
        "h"
      ],
      "metadata": {
        "colab": {
          "base_uri": "https://localhost:8080/"
        },
        "id": "NX8t2J1yPeXx",
        "outputId": "0a4e0151-b3a8-4c7f-814c-4e904937ac74"
      },
      "execution_count": 26,
      "outputs": [
        {
          "output_type": "execute_result",
          "data": {
            "text/plain": [
              "['liku', 8, 0, 45, 6, 5.7]"
            ]
          },
          "metadata": {},
          "execution_count": 26
        }
      ]
    },
    {
      "cell_type": "code",
      "source": [
        "j=[6,5,2,\"bhai\",7,8,]\n",
        "j"
      ],
      "metadata": {
        "colab": {
          "base_uri": "https://localhost:8080/"
        },
        "id": "T66Caok4Ppbq",
        "outputId": "821beecf-f1a0-4cb2-b3e3-0670066c20b6"
      },
      "execution_count": 27,
      "outputs": [
        {
          "output_type": "execute_result",
          "data": {
            "text/plain": [
              "[6, 5, 2, 'bhai', 7, 8]"
            ]
          },
          "metadata": {},
          "execution_count": 27
        }
      ]
    },
    {
      "cell_type": "code",
      "source": [
        "h+j"
      ],
      "metadata": {
        "colab": {
          "base_uri": "https://localhost:8080/"
        },
        "id": "CADM48VsP6qi",
        "outputId": "28185b26-0714-401f-e206-56806bbed755"
      },
      "execution_count": 28,
      "outputs": [
        {
          "output_type": "execute_result",
          "data": {
            "text/plain": [
              "['liku', 8, 0, 45, 6, 5.7, 6, 5, 2, 'bhai', 7, 8]"
            ]
          },
          "metadata": {},
          "execution_count": 28
        }
      ]
    },
    {
      "cell_type": "code",
      "source": [
        "h*9"
      ],
      "metadata": {
        "colab": {
          "base_uri": "https://localhost:8080/"
        },
        "id": "4uTvfWBwP9Y5",
        "outputId": "2a877316-1acf-487e-e2b3-ee0edbcae88c"
      },
      "execution_count": 30,
      "outputs": [
        {
          "output_type": "execute_result",
          "data": {
            "text/plain": [
              "['liku',\n",
              " 8,\n",
              " 0,\n",
              " 45,\n",
              " 6,\n",
              " 5.7,\n",
              " 'liku',\n",
              " 8,\n",
              " 0,\n",
              " 45,\n",
              " 6,\n",
              " 5.7,\n",
              " 'liku',\n",
              " 8,\n",
              " 0,\n",
              " 45,\n",
              " 6,\n",
              " 5.7,\n",
              " 'liku',\n",
              " 8,\n",
              " 0,\n",
              " 45,\n",
              " 6,\n",
              " 5.7,\n",
              " 'liku',\n",
              " 8,\n",
              " 0,\n",
              " 45,\n",
              " 6,\n",
              " 5.7,\n",
              " 'liku',\n",
              " 8,\n",
              " 0,\n",
              " 45,\n",
              " 6,\n",
              " 5.7,\n",
              " 'liku',\n",
              " 8,\n",
              " 0,\n",
              " 45,\n",
              " 6,\n",
              " 5.7,\n",
              " 'liku',\n",
              " 8,\n",
              " 0,\n",
              " 45,\n",
              " 6,\n",
              " 5.7,\n",
              " 'liku',\n",
              " 8,\n",
              " 0,\n",
              " 45,\n",
              " 6,\n",
              " 5.7]"
            ]
          },
          "metadata": {},
          "execution_count": 30
        }
      ]
    },
    {
      "cell_type": "code",
      "source": [
        "h*2"
      ],
      "metadata": {
        "colab": {
          "base_uri": "https://localhost:8080/"
        },
        "id": "_p2wht9rQFlR",
        "outputId": "369fab3f-7781-4a43-f38d-1009302a0df5"
      },
      "execution_count": 31,
      "outputs": [
        {
          "output_type": "execute_result",
          "data": {
            "text/plain": [
              "['liku', 8, 0, 45, 6, 5.7, 'liku', 8, 0, 45, 6, 5.7]"
            ]
          },
          "metadata": {},
          "execution_count": 31
        }
      ]
    },
    {
      "cell_type": "code",
      "source": [
        "j*3"
      ],
      "metadata": {
        "colab": {
          "base_uri": "https://localhost:8080/"
        },
        "id": "HjKwuWeyQRki",
        "outputId": "9637445e-1b3d-49cc-b3fe-81be304717a9"
      },
      "execution_count": 32,
      "outputs": [
        {
          "output_type": "execute_result",
          "data": {
            "text/plain": [
              "[6, 5, 2, 'bhai', 7, 8, 6, 5, 2, 'bhai', 7, 8, 6, 5, 2, 'bhai', 7, 8]"
            ]
          },
          "metadata": {},
          "execution_count": 32
        }
      ]
    },
    {
      "cell_type": "code",
      "source": [
        "j*0"
      ],
      "metadata": {
        "colab": {
          "base_uri": "https://localhost:8080/"
        },
        "id": "snNdD3X1QVX5",
        "outputId": "6cd1ef0a-088c-4bc2-c156-f219d42a5eab"
      },
      "execution_count": 33,
      "outputs": [
        {
          "output_type": "execute_result",
          "data": {
            "text/plain": [
              "[]"
            ]
          },
          "metadata": {},
          "execution_count": 33
        }
      ]
    },
    {
      "cell_type": "code",
      "source": [
        "for i in h:\n",
        "  print(i)"
      ],
      "metadata": {
        "colab": {
          "base_uri": "https://localhost:8080/"
        },
        "id": "5Nv1GKIDQXBR",
        "outputId": "0a626ce3-05cd-4693-8b5b-988e9e32eaa4"
      },
      "execution_count": 34,
      "outputs": [
        {
          "output_type": "stream",
          "name": "stdout",
          "text": [
            "liku\n",
            "8\n",
            "0\n",
            "45\n",
            "6\n",
            "5.7\n"
          ]
        }
      ]
    },
    {
      "cell_type": "code",
      "source": [
        "45 in h"
      ],
      "metadata": {
        "colab": {
          "base_uri": "https://localhost:8080/"
        },
        "id": "OfxXHxHTRCwi",
        "outputId": "acff1c91-7275-40b5-d3f3-328cc698131d"
      },
      "execution_count": 35,
      "outputs": [
        {
          "output_type": "execute_result",
          "data": {
            "text/plain": [
              "True"
            ]
          },
          "metadata": {},
          "execution_count": 35
        }
      ]
    },
    {
      "cell_type": "code",
      "source": [],
      "metadata": {
        "id": "e0gFD8GSRHNQ"
      },
      "execution_count": null,
      "outputs": []
    },
    {
      "cell_type": "markdown",
      "source": [
        "Function in list :\n",
        "\n",
        "len()\n",
        "\n",
        "max()\n",
        "\n",
        "min()\n",
        "\n",
        "sorted()\n",
        "\n",
        "index()\n",
        "\n",
        "split()\n",
        "\n",
        "\n",
        "\n",
        "capitalise()\n",
        "\n",
        "join()\n"
      ],
      "metadata": {
        "id": "4jB3s891RJPZ"
      }
    },
    {
      "cell_type": "code",
      "source": [
        "k= ['biswajit',4.6,8,9,'bijay',5.7]\n",
        "k\n"
      ],
      "metadata": {
        "colab": {
          "base_uri": "https://localhost:8080/"
        },
        "id": "uRTX-cMiR5oQ",
        "outputId": "ed4045f7-875f-4ab5-ede9-66cbdb3f0cda"
      },
      "execution_count": 36,
      "outputs": [
        {
          "output_type": "execute_result",
          "data": {
            "text/plain": [
              "['biswajit', 4.6, 8, 9, 'bijay', 5.7]"
            ]
          },
          "metadata": {},
          "execution_count": 36
        }
      ]
    },
    {
      "cell_type": "code",
      "source": [
        "len(k)"
      ],
      "metadata": {
        "colab": {
          "base_uri": "https://localhost:8080/"
        },
        "id": "OOWumE7aSJ9Q",
        "outputId": "4edb04a4-ee1e-4988-b7fd-d0ca786890b2"
      },
      "execution_count": 37,
      "outputs": [
        {
          "output_type": "execute_result",
          "data": {
            "text/plain": [
              "6"
            ]
          },
          "metadata": {},
          "execution_count": 37
        }
      ]
    },
    {
      "cell_type": "code",
      "source": [
        "g= ['biswajit','ajit','biswa','rohit']\n",
        "g"
      ],
      "metadata": {
        "colab": {
          "base_uri": "https://localhost:8080/"
        },
        "id": "AcqsyDkiSMJ4",
        "outputId": "368fe498-35b0-4ae4-9d7d-63e8b6da1677"
      },
      "execution_count": 42,
      "outputs": [
        {
          "output_type": "execute_result",
          "data": {
            "text/plain": [
              "['biswajit', 'ajit', 'biswa', 'rohit']"
            ]
          },
          "metadata": {},
          "execution_count": 42
        }
      ]
    },
    {
      "cell_type": "code",
      "source": [
        "max(g)"
      ],
      "metadata": {
        "colab": {
          "base_uri": "https://localhost:8080/",
          "height": 36
        },
        "id": "yUso33slSQ5B",
        "outputId": "5def3aa5-374e-463c-bda6-ec2390dc49ed"
      },
      "execution_count": 43,
      "outputs": [
        {
          "output_type": "execute_result",
          "data": {
            "text/plain": [
              "'rohit'"
            ],
            "application/vnd.google.colaboratory.intrinsic+json": {
              "type": "string"
            }
          },
          "metadata": {},
          "execution_count": 43
        }
      ]
    },
    {
      "cell_type": "code",
      "source": [
        "min(g)"
      ],
      "metadata": {
        "colab": {
          "base_uri": "https://localhost:8080/",
          "height": 36
        },
        "id": "mAskSeJISgWv",
        "outputId": "a42b3873-9fd6-47cc-a33c-9dbbc92080b0"
      },
      "execution_count": 44,
      "outputs": [
        {
          "output_type": "execute_result",
          "data": {
            "text/plain": [
              "'ajit'"
            ],
            "application/vnd.google.colaboratory.intrinsic+json": {
              "type": "string"
            }
          },
          "metadata": {},
          "execution_count": 44
        }
      ]
    },
    {
      "cell_type": "code",
      "source": [
        "g.sort()\n"
      ],
      "metadata": {
        "id": "wO1XUODeSvgM"
      },
      "execution_count": 45,
      "outputs": []
    },
    {
      "cell_type": "code",
      "source": [
        "g"
      ],
      "metadata": {
        "colab": {
          "base_uri": "https://localhost:8080/"
        },
        "id": "5zNxpSgES55g",
        "outputId": "481f557f-68fa-4c00-f358-d54023d63ef3"
      },
      "execution_count": 46,
      "outputs": [
        {
          "output_type": "execute_result",
          "data": {
            "text/plain": [
              "['ajit', 'biswa', 'biswajit', 'rohit']"
            ]
          },
          "metadata": {},
          "execution_count": 46
        }
      ]
    },
    {
      "cell_type": "code",
      "source": [
        "e=['i not going to school']\n",
        "e"
      ],
      "metadata": {
        "colab": {
          "base_uri": "https://localhost:8080/"
        },
        "id": "150c9pP8S7dY",
        "outputId": "4576718f-0a72-4d00-c80a-c6f019947638"
      },
      "execution_count": 48,
      "outputs": [
        {
          "output_type": "execute_result",
          "data": {
            "text/plain": [
              "['i not going to school']"
            ]
          },
          "metadata": {},
          "execution_count": 48
        }
      ]
    },
    {
      "cell_type": "code",
      "source": [],
      "metadata": {
        "id": "kulhS52BTV3Y"
      },
      "execution_count": null,
      "outputs": []
    },
    {
      "cell_type": "markdown",
      "source": [
        "# **Tuples in python:**\n",
        "\n",
        "tuples\n",
        "\n",
        "creat\n",
        "\n",
        "acces\n",
        "\n",
        "edit\n",
        "\n",
        "add\n",
        "\n",
        "delate\n",
        "\n",
        "opration\n",
        "\n",
        "function"
      ],
      "metadata": {
        "id": "jghFuwbUTphW"
      }
    },
    {
      "cell_type": "code",
      "source": [
        "# creat a tuples and its 2-d tuples\n",
        "t=(1,4,7,\"biswajit\",('bhai',8,0,4))"
      ],
      "metadata": {
        "id": "ytHxg1tfUFxX"
      },
      "execution_count": 50,
      "outputs": []
    },
    {
      "cell_type": "code",
      "source": [
        "t"
      ],
      "metadata": {
        "colab": {
          "base_uri": "https://localhost:8080/"
        },
        "id": "glpla-6DUX4v",
        "outputId": "bfca93b3-ac92-466d-f3b8-7088d26de8a6"
      },
      "execution_count": 51,
      "outputs": [
        {
          "output_type": "execute_result",
          "data": {
            "text/plain": [
              "(1, 4, 7, 'biswajit', ('bhai', 8, 0, 4))"
            ]
          },
          "metadata": {},
          "execution_count": 51
        }
      ]
    },
    {
      "cell_type": "code",
      "source": [
        "# access item from tuples\n",
        "t[4]"
      ],
      "metadata": {
        "colab": {
          "base_uri": "https://localhost:8080/"
        },
        "id": "vdR7MaemUYuQ",
        "outputId": "a98c7510-94b8-46a0-874f-6feec7935b4d"
      },
      "execution_count": 52,
      "outputs": [
        {
          "output_type": "execute_result",
          "data": {
            "text/plain": [
              "('bhai', 8, 0, 4)"
            ]
          },
          "metadata": {},
          "execution_count": 52
        }
      ]
    },
    {
      "cell_type": "code",
      "source": [
        "t[2]"
      ],
      "metadata": {
        "colab": {
          "base_uri": "https://localhost:8080/"
        },
        "id": "8qWjvg5KUuIN",
        "outputId": "694a2466-38be-4b25-c52c-69cb6f36a7b8"
      },
      "execution_count": 53,
      "outputs": [
        {
          "output_type": "execute_result",
          "data": {
            "text/plain": [
              "7"
            ]
          },
          "metadata": {},
          "execution_count": 53
        }
      ]
    },
    {
      "cell_type": "code",
      "source": [
        "t[:2]"
      ],
      "metadata": {
        "colab": {
          "base_uri": "https://localhost:8080/"
        },
        "id": "7LXF0S-SUxi9",
        "outputId": "5ea8161d-20f7-43f7-8a51-d4c20ed044be"
      },
      "execution_count": 55,
      "outputs": [
        {
          "output_type": "execute_result",
          "data": {
            "text/plain": [
              "(1, 4)"
            ]
          },
          "metadata": {},
          "execution_count": 55
        }
      ]
    },
    {
      "cell_type": "code",
      "source": [
        "t[1:4]"
      ],
      "metadata": {
        "colab": {
          "base_uri": "https://localhost:8080/"
        },
        "id": "SFFrlbPyU3Yb",
        "outputId": "e64fced7-44ae-4e27-f54e-f941994f0430"
      },
      "execution_count": 56,
      "outputs": [
        {
          "output_type": "execute_result",
          "data": {
            "text/plain": [
              "(4, 7, 'biswajit')"
            ]
          },
          "metadata": {},
          "execution_count": 56
        }
      ]
    },
    {
      "cell_type": "code",
      "source": [
        "# edit in tuples\n",
        "t[2]=100\n",
        "t"
      ],
      "metadata": {
        "colab": {
          "base_uri": "https://localhost:8080/",
          "height": 213
        },
        "id": "-HMVIMrkVBlp",
        "outputId": "31fc4079-350b-4de4-b07a-62bbc3016887"
      },
      "execution_count": 58,
      "outputs": [
        {
          "output_type": "error",
          "ename": "TypeError",
          "evalue": "ignored",
          "traceback": [
            "\u001b[0;31m---------------------------------------------------------------------------\u001b[0m",
            "\u001b[0;31mTypeError\u001b[0m                                 Traceback (most recent call last)",
            "\u001b[0;32m<ipython-input-58-70e66f3a1888>\u001b[0m in \u001b[0;36m<module>\u001b[0;34m\u001b[0m\n\u001b[1;32m      1\u001b[0m \u001b[0;31m# edit in tuples\u001b[0m\u001b[0;34m\u001b[0m\u001b[0;34m\u001b[0m\u001b[0;34m\u001b[0m\u001b[0m\n\u001b[0;32m----> 2\u001b[0;31m \u001b[0mt\u001b[0m\u001b[0;34m[\u001b[0m\u001b[0;36m2\u001b[0m\u001b[0;34m]\u001b[0m\u001b[0;34m=\u001b[0m\u001b[0;36m100\u001b[0m\u001b[0;34m\u001b[0m\u001b[0;34m\u001b[0m\u001b[0m\n\u001b[0m\u001b[1;32m      3\u001b[0m \u001b[0mt\u001b[0m\u001b[0;34m\u001b[0m\u001b[0;34m\u001b[0m\u001b[0m\n",
            "\u001b[0;31mTypeError\u001b[0m: 'tuple' object does not support item assignment"
          ]
        }
      ]
    },
    {
      "cell_type": "markdown",
      "source": [
        "\n",
        "\n",
        "*   tuples object does not suppet item assignment.\n",
        "*   tuples  just like string are imutable.\n",
        "\n"
      ],
      "metadata": {
        "id": "ORFGyHbxVhJp"
      }
    },
    {
      "cell_type": "code",
      "source": [
        "# due to tuples are imutable  .so that we canot add new item in exicting  tuples"
      ],
      "metadata": {
        "id": "VZczJUPkVb3l"
      },
      "execution_count": null,
      "outputs": []
    },
    {
      "cell_type": "code",
      "source": [
        "# delating\n",
        "del t\n",
        "\n"
      ],
      "metadata": {
        "id": "7e7daREgW1MZ"
      },
      "execution_count": 60,
      "outputs": []
    },
    {
      "cell_type": "code",
      "source": [
        "t"
      ],
      "metadata": {
        "colab": {
          "base_uri": "https://localhost:8080/",
          "height": 176
        },
        "id": "mxBfBPnAW9Wu",
        "outputId": "4dbf8893-351b-464c-cd6e-20f3d0b85e66"
      },
      "execution_count": 61,
      "outputs": [
        {
          "output_type": "error",
          "ename": "NameError",
          "evalue": "ignored",
          "traceback": [
            "\u001b[0;31m---------------------------------------------------------------------------\u001b[0m",
            "\u001b[0;31mNameError\u001b[0m                                 Traceback (most recent call last)",
            "\u001b[0;32m<ipython-input-61-34fc7a11cb38>\u001b[0m in \u001b[0;36m<module>\u001b[0;34m\u001b[0m\n\u001b[0;32m----> 1\u001b[0;31m \u001b[0mt\u001b[0m\u001b[0;34m\u001b[0m\u001b[0;34m\u001b[0m\u001b[0m\n\u001b[0m",
            "\u001b[0;31mNameError\u001b[0m: name 't' is not defined"
          ]
        }
      ]
    },
    {
      "cell_type": "code",
      "source": [
        "# operation\n",
        "u=(4,8,5,6,'bhai',45)\n",
        "u"
      ],
      "metadata": {
        "colab": {
          "base_uri": "https://localhost:8080/"
        },
        "id": "2gidA5HtXUtY",
        "outputId": "3de9f437-0ccc-4c0d-95b9-0d15f79bea8f"
      },
      "execution_count": 62,
      "outputs": [
        {
          "output_type": "execute_result",
          "data": {
            "text/plain": [
              "(4, 8, 5, 6, 'bhai', 45)"
            ]
          },
          "metadata": {},
          "execution_count": 62
        }
      ]
    },
    {
      "cell_type": "code",
      "source": [
        "v=(6,8,5,9,'bhalloughfgh',8,0)\n",
        "v"
      ],
      "metadata": {
        "colab": {
          "base_uri": "https://localhost:8080/"
        },
        "id": "PEOiW2EiXsqW",
        "outputId": "a0e4c43d-383e-42c8-80d4-e1cd407260e1"
      },
      "execution_count": 63,
      "outputs": [
        {
          "output_type": "execute_result",
          "data": {
            "text/plain": [
              "(6, 8, 5, 9, 'bhalloughfgh', 8, 0)"
            ]
          },
          "metadata": {},
          "execution_count": 63
        }
      ]
    },
    {
      "cell_type": "code",
      "source": [
        "# concatination\n",
        "u+v"
      ],
      "metadata": {
        "colab": {
          "base_uri": "https://localhost:8080/"
        },
        "id": "ezLrwqznX2Bb",
        "outputId": "579c7885-1d44-4ffa-a3f6-2a9bf124f940"
      },
      "execution_count": 65,
      "outputs": [
        {
          "output_type": "execute_result",
          "data": {
            "text/plain": [
              "(6, 8, 5, 9, 'bhalloughfgh', 8, 0, 6, 8, 5, 9, 'bhalloughfgh', 8, 0)"
            ]
          },
          "metadata": {},
          "execution_count": 65
        }
      ]
    },
    {
      "cell_type": "code",
      "source": [
        "# multification\n",
        "u*2"
      ],
      "metadata": {
        "colab": {
          "base_uri": "https://localhost:8080/"
        },
        "id": "X_ghcVtLX4MT",
        "outputId": "14a3b808-0f24-4d7f-f601-148c756983a1"
      },
      "execution_count": 66,
      "outputs": [
        {
          "output_type": "execute_result",
          "data": {
            "text/plain": [
              "(6, 8, 5, 9, 'bhalloughfgh', 8, 0, 6, 8, 5, 9, 'bhalloughfgh', 8, 0)"
            ]
          },
          "metadata": {},
          "execution_count": 66
        }
      ]
    },
    {
      "cell_type": "code",
      "source": [
        "v*0"
      ],
      "metadata": {
        "colab": {
          "base_uri": "https://localhost:8080/"
        },
        "id": "Fi2Eht2TYAKZ",
        "outputId": "da59b940-116a-4ecd-a5b5-a9aa51f84bf8"
      },
      "execution_count": 67,
      "outputs": [
        {
          "output_type": "execute_result",
          "data": {
            "text/plain": [
              "()"
            ]
          },
          "metadata": {},
          "execution_count": 67
        }
      ]
    },
    {
      "cell_type": "code",
      "source": [
        "# for loops\n",
        "\n",
        "for i  in u:\n",
        "  print(u)"
      ],
      "metadata": {
        "colab": {
          "base_uri": "https://localhost:8080/"
        },
        "id": "OC0DXtPoYDK4",
        "outputId": "9745d6ed-bb40-4b6e-d9b4-08ffb93ce194"
      },
      "execution_count": 68,
      "outputs": [
        {
          "output_type": "stream",
          "name": "stdout",
          "text": [
            "(6, 8, 5, 9, 'bhalloughfgh', 8, 0)\n",
            "(6, 8, 5, 9, 'bhalloughfgh', 8, 0)\n",
            "(6, 8, 5, 9, 'bhalloughfgh', 8, 0)\n",
            "(6, 8, 5, 9, 'bhalloughfgh', 8, 0)\n",
            "(6, 8, 5, 9, 'bhalloughfgh', 8, 0)\n",
            "(6, 8, 5, 9, 'bhalloughfgh', 8, 0)\n",
            "(6, 8, 5, 9, 'bhalloughfgh', 8, 0)\n"
          ]
        }
      ]
    },
    {
      "cell_type": "code",
      "source": [
        "# membership operation\n",
        "9 in u"
      ],
      "metadata": {
        "colab": {
          "base_uri": "https://localhost:8080/"
        },
        "id": "ILQvlvuGYk2l",
        "outputId": "df3347c1-cd78-404d-ec65-04bea361e972"
      },
      "execution_count": 69,
      "outputs": [
        {
          "output_type": "execute_result",
          "data": {
            "text/plain": [
              "True"
            ]
          },
          "metadata": {},
          "execution_count": 69
        }
      ]
    },
    {
      "cell_type": "code",
      "source": [
        "678 in u"
      ],
      "metadata": {
        "colab": {
          "base_uri": "https://localhost:8080/"
        },
        "id": "_hQ3PDmBY0zR",
        "outputId": "d6cd24da-9c79-4fb0-b904-beebd466f640"
      },
      "execution_count": 71,
      "outputs": [
        {
          "output_type": "execute_result",
          "data": {
            "text/plain": [
              "False"
            ]
          },
          "metadata": {},
          "execution_count": 71
        }
      ]
    },
    {
      "cell_type": "code",
      "source": [],
      "metadata": {
        "id": "ds1VjY6lY4kp"
      },
      "execution_count": null,
      "outputs": []
    },
    {
      "cell_type": "markdown",
      "source": [
        "\n",
        "\n",
        "---\n",
        "\n",
        "\n",
        "\n",
        "---\n",
        "\n",
        "\n",
        "\n",
        "---\n",
        "\n"
      ],
      "metadata": {
        "id": "fysEkVpUZBsQ"
      }
    },
    {
      "cell_type": "markdown",
      "source": [
        "# **Sets in python:**\n",
        "\n",
        "\n",
        "\n",
        "*   set does not allow duplicate value.\n",
        "\n",
        "*   set have  no indexing and slicing.\n",
        "*   set do not allow  mutable data types.\n",
        "\n",
        "\n",
        "*   set itself a mutable datatypes.\n",
        "\n"
      ],
      "metadata": {
        "id": "3_GpbEXEZEy7"
      }
    },
    {
      "cell_type": "code",
      "source": [
        "# create a set\n",
        "s={1,4,3,6,78,4}"
      ],
      "metadata": {
        "id": "4mnMmXtgaO_T"
      },
      "execution_count": 72,
      "outputs": []
    },
    {
      "cell_type": "code",
      "source": [
        "s={4,7,89,'bhia',56}"
      ],
      "metadata": {
        "id": "-IHKix89aXYi"
      },
      "execution_count": 73,
      "outputs": []
    },
    {
      "cell_type": "code",
      "source": [
        "s"
      ],
      "metadata": {
        "colab": {
          "base_uri": "https://localhost:8080/"
        },
        "id": "EunRc5E-aftS",
        "outputId": "b1ef1aaf-5b5b-4e1c-e0c8-36fdbe1da0b5"
      },
      "execution_count": 74,
      "outputs": [
        {
          "output_type": "execute_result",
          "data": {
            "text/plain": [
              "{4, 56, 7, 89, 'bhia'}"
            ]
          },
          "metadata": {},
          "execution_count": 74
        }
      ]
    },
    {
      "cell_type": "code",
      "source": [
        "# empty set \n",
        "e=()\n",
        "e"
      ],
      "metadata": {
        "colab": {
          "base_uri": "https://localhost:8080/"
        },
        "id": "-uMzuz6uagiJ",
        "outputId": "bd8ace24-2018-4769-edd3-e4e5314db1e6"
      },
      "execution_count": 75,
      "outputs": [
        {
          "output_type": "execute_result",
          "data": {
            "text/plain": [
              "()"
            ]
          },
          "metadata": {},
          "execution_count": 75
        }
      ]
    },
    {
      "cell_type": "code",
      "source": [
        "type(e)"
      ],
      "metadata": {
        "colab": {
          "base_uri": "https://localhost:8080/"
        },
        "id": "INsSrxe7axXU",
        "outputId": "b764fc31-960e-40b4-9658-a95c9a97cee3"
      },
      "execution_count": 76,
      "outputs": [
        {
          "output_type": "execute_result",
          "data": {
            "text/plain": [
              "tuple"
            ]
          },
          "metadata": {},
          "execution_count": 76
        }
      ]
    },
    {
      "cell_type": "code",
      "source": [
        "r={}"
      ],
      "metadata": {
        "id": "-hOj8ID7azbF"
      },
      "execution_count": 77,
      "outputs": []
    },
    {
      "cell_type": "code",
      "source": [
        "type(r)"
      ],
      "metadata": {
        "colab": {
          "base_uri": "https://localhost:8080/"
        },
        "id": "dO3osN8MbEZ7",
        "outputId": "b7ccf62d-3008-456f-c02e-052287cff7c2"
      },
      "execution_count": 78,
      "outputs": [
        {
          "output_type": "execute_result",
          "data": {
            "text/plain": [
              "dict"
            ]
          },
          "metadata": {},
          "execution_count": 78
        }
      ]
    },
    {
      "cell_type": "code",
      "source": [
        "w=set()\n",
        "type(w)"
      ],
      "metadata": {
        "colab": {
          "base_uri": "https://localhost:8080/"
        },
        "id": "wk3_ADaCbHbT",
        "outputId": "e4a04238-f840-4088-abab-a9a1aa004c78"
      },
      "execution_count": 80,
      "outputs": [
        {
          "output_type": "execute_result",
          "data": {
            "text/plain": [
              "set"
            ]
          },
          "metadata": {},
          "execution_count": 80
        }
      ]
    },
    {
      "cell_type": "code",
      "source": [
        "a = {5,6}"
      ],
      "metadata": {
        "id": "FgEAgoESbOFp"
      },
      "execution_count": 81,
      "outputs": []
    },
    {
      "cell_type": "code",
      "source": [
        "type(a)"
      ],
      "metadata": {
        "colab": {
          "base_uri": "https://localhost:8080/"
        },
        "id": "l7ugpkDvbqrF",
        "outputId": "666ff601-a63a-4d7b-cd2d-c32f084c09d6"
      },
      "execution_count": 82,
      "outputs": [
        {
          "output_type": "execute_result",
          "data": {
            "text/plain": [
              "set"
            ]
          },
          "metadata": {},
          "execution_count": 82
        }
      ]
    },
    {
      "cell_type": "code",
      "source": [
        "# no indexing and slising\n",
        "# no  edit item"
      ],
      "metadata": {
        "id": "PJqzm4VRbsK9"
      },
      "execution_count": null,
      "outputs": []
    },
    {
      "cell_type": "code",
      "source": [
        "# add item in sret\n",
        "s"
      ],
      "metadata": {
        "colab": {
          "base_uri": "https://localhost:8080/"
        },
        "id": "eDiWzNDqcMhm",
        "outputId": "bd997384-850f-4b6c-c3ea-b78fda180e24"
      },
      "execution_count": 83,
      "outputs": [
        {
          "output_type": "execute_result",
          "data": {
            "text/plain": [
              "{4, 56, 7, 89, 'bhia'}"
            ]
          },
          "metadata": {},
          "execution_count": 83
        }
      ]
    },
    {
      "cell_type": "code",
      "source": [
        "s.add(1000)"
      ],
      "metadata": {
        "id": "k9ms2zxgcVhi"
      },
      "execution_count": 84,
      "outputs": []
    },
    {
      "cell_type": "code",
      "source": [
        "s"
      ],
      "metadata": {
        "colab": {
          "base_uri": "https://localhost:8080/"
        },
        "id": "rNa8ctf3cb1Q",
        "outputId": "387f405d-c079-487e-95d6-b94f2d3a895c"
      },
      "execution_count": 85,
      "outputs": [
        {
          "output_type": "execute_result",
          "data": {
            "text/plain": [
              "{1000, 4, 56, 7, 89, 'bhia'}"
            ]
          },
          "metadata": {},
          "execution_count": 85
        }
      ]
    },
    {
      "cell_type": "markdown",
      "source": [
        "in set u can  add any number  or imutable data type  and delate  all item by del functuion but u cant do  remove and pop  in set becouse of  not working indexing."
      ],
      "metadata": {
        "id": "HAnibbfMckqi"
      }
    },
    {
      "cell_type": "code",
      "source": [],
      "metadata": {
        "id": "8hFxU3HMcchX"
      },
      "execution_count": null,
      "outputs": []
    },
    {
      "cell_type": "markdown",
      "source": [
        "\n",
        "\n",
        "*   in set u can add immatable data type.\n",
        "\n",
        "*   in set u can delate  all item in set  by del .\n",
        "*   in set u can not  delate one or goup of item  due to no work of indexing.\n",
        "\n",
        "\n",
        "*   in set opration u can not do conactination.and multification of set.\n",
        "\n",
        "*   loop and membership opratiopn  allow.\n",
        "\n",
        "\n",
        "\n"
      ],
      "metadata": {
        "id": "L9z2ffnGdTWy"
      }
    },
    {
      "cell_type": "markdown",
      "source": [
        "**Function in set**\n",
        "\n",
        "len()\n",
        "\n",
        "min()\n",
        "\n",
        "max()\n",
        "\n",
        "sum()\n",
        "\n",
        "sorted()"
      ],
      "metadata": {
        "id": "pPR3ibTleSyA"
      }
    },
    {
      "cell_type": "code",
      "source": [],
      "metadata": {
        "id": "dyDibnLJeiuz"
      },
      "execution_count": null,
      "outputs": []
    },
    {
      "cell_type": "markdown",
      "source": [
        "**special function  which is only use by set()**\n",
        "\n",
        "\n"
      ],
      "metadata": {
        "id": "iDI2bgbxejRJ"
      }
    },
    {
      "cell_type": "code",
      "source": [
        "s={1,2,5,3,7,8}\n",
        "t={67,89,46,87,35}"
      ],
      "metadata": {
        "id": "UoVD2aLpewXJ"
      },
      "execution_count": 86,
      "outputs": []
    },
    {
      "cell_type": "code",
      "source": [
        "s.union(t)"
      ],
      "metadata": {
        "colab": {
          "base_uri": "https://localhost:8080/"
        },
        "id": "o_nzeLpbe8p2",
        "outputId": "9af3047f-39a1-41a2-dd68-2f11c36700e1"
      },
      "execution_count": 87,
      "outputs": [
        {
          "output_type": "execute_result",
          "data": {
            "text/plain": [
              "{1, 2, 3, 5, 7, 8, 35, 46, 67, 87, 89}"
            ]
          },
          "metadata": {},
          "execution_count": 87
        }
      ]
    },
    {
      "cell_type": "code",
      "source": [
        "s.intersection(t)"
      ],
      "metadata": {
        "colab": {
          "base_uri": "https://localhost:8080/"
        },
        "id": "IzIzgBwYfBn-",
        "outputId": "62e7067d-dbe0-4c81-ee2d-ec9ddef9c75e"
      },
      "execution_count": 88,
      "outputs": [
        {
          "output_type": "execute_result",
          "data": {
            "text/plain": [
              "set()"
            ]
          },
          "metadata": {},
          "execution_count": 88
        }
      ]
    },
    {
      "cell_type": "code",
      "source": [
        "s.difference(t)"
      ],
      "metadata": {
        "colab": {
          "base_uri": "https://localhost:8080/"
        },
        "id": "qAL4tRrSfFKG",
        "outputId": "aee0cb19-fdcf-4a3f-fa36-9ade63a41475"
      },
      "execution_count": 89,
      "outputs": [
        {
          "output_type": "execute_result",
          "data": {
            "text/plain": [
              "{1, 2, 3, 5, 7, 8}"
            ]
          },
          "metadata": {},
          "execution_count": 89
        }
      ]
    },
    {
      "cell_type": "code",
      "source": [
        "s.symmetric_difference(t)"
      ],
      "metadata": {
        "colab": {
          "base_uri": "https://localhost:8080/"
        },
        "id": "lo1yFluPfOlV",
        "outputId": "f66ba93d-d423-403f-bb11-697bde19a72e"
      },
      "execution_count": 90,
      "outputs": [
        {
          "output_type": "execute_result",
          "data": {
            "text/plain": [
              "{1, 2, 3, 5, 7, 8, 35, 46, 67, 87, 89}"
            ]
          },
          "metadata": {},
          "execution_count": 90
        }
      ]
    },
    {
      "cell_type": "code",
      "source": [
        "s.isdisjoint(t)"
      ],
      "metadata": {
        "colab": {
          "base_uri": "https://localhost:8080/"
        },
        "id": "DswO3xYwfY87",
        "outputId": "cbf4b428-08f2-46be-a8e0-49a21e185184"
      },
      "execution_count": 91,
      "outputs": [
        {
          "output_type": "execute_result",
          "data": {
            "text/plain": [
              "True"
            ]
          },
          "metadata": {},
          "execution_count": 91
        }
      ]
    },
    {
      "cell_type": "code",
      "source": [
        "s.issubset(t)"
      ],
      "metadata": {
        "colab": {
          "base_uri": "https://localhost:8080/"
        },
        "id": "4q0g60pyfdbD",
        "outputId": "a02c06fb-3b03-45e9-cd0a-6153f53bb8ed"
      },
      "execution_count": 92,
      "outputs": [
        {
          "output_type": "execute_result",
          "data": {
            "text/plain": [
              "False"
            ]
          },
          "metadata": {},
          "execution_count": 92
        }
      ]
    },
    {
      "cell_type": "code",
      "source": [
        "s.issuperset(t)"
      ],
      "metadata": {
        "colab": {
          "base_uri": "https://localhost:8080/"
        },
        "id": "VPpiBhu6fi-k",
        "outputId": "b816f2ab-aa04-4cbb-b972-c7ec96c04148"
      },
      "execution_count": 93,
      "outputs": [
        {
          "output_type": "execute_result",
          "data": {
            "text/plain": [
              "False"
            ]
          },
          "metadata": {},
          "execution_count": 93
        }
      ]
    },
    {
      "cell_type": "code",
      "source": [
        "s.clear()"
      ],
      "metadata": {
        "id": "uBVMcKbWfn-R"
      },
      "execution_count": 94,
      "outputs": []
    },
    {
      "cell_type": "code",
      "source": [],
      "metadata": {
        "id": "ERQd4crLfsui"
      },
      "execution_count": null,
      "outputs": []
    },
    {
      "cell_type": "markdown",
      "source": [
        "\n",
        "\n",
        "---\n",
        "\n",
        "\n",
        "\n",
        "---\n",
        "\n",
        "\n",
        "\n",
        "---\n",
        "\n"
      ],
      "metadata": {
        "id": "aibwZfmjfxJl"
      }
    },
    {
      "cell_type": "markdown",
      "source": [
        "# **Dictionarey  in pythopn:**\n",
        "\n",
        "\n",
        "\n",
        "*   dictionary has no indexing\n",
        "\n",
        "*   dictionary is a mutable datatype\n",
        "\n",
        "*   key shuold be immuatble.\n",
        "*   values can be mutable\n",
        "\n",
        "\n",
        "*   key shoud be unique.\n",
        "\n",
        "\n",
        "\n"
      ],
      "metadata": {
        "id": "Re6O_LY8fygb"
      }
    },
    {
      "cell_type": "code",
      "source": [
        "# craet\n",
        "d={}"
      ],
      "metadata": {
        "id": "o7DukmAigg1X"
      },
      "execution_count": 95,
      "outputs": []
    },
    {
      "cell_type": "code",
      "source": [
        "type(d)"
      ],
      "metadata": {
        "colab": {
          "base_uri": "https://localhost:8080/"
        },
        "id": "g37SlhcXgmH9",
        "outputId": "b3c8d26f-dbae-4211-987b-bc0ebfa1f62a"
      },
      "execution_count": 97,
      "outputs": [
        {
          "output_type": "execute_result",
          "data": {
            "text/plain": [
              "dict"
            ]
          },
          "metadata": {},
          "execution_count": 97
        }
      ]
    },
    {
      "cell_type": "code",
      "source": [
        "f={\"name\":\"biswajit\",\"age\":23,\"gender\":\"male\"}\n",
        "f"
      ],
      "metadata": {
        "colab": {
          "base_uri": "https://localhost:8080/"
        },
        "id": "MpgeQOh8gn39",
        "outputId": "cdc3b859-ea35-4fe3-99ee-5e015bfafe03"
      },
      "execution_count": 98,
      "outputs": [
        {
          "output_type": "execute_result",
          "data": {
            "text/plain": [
              "{'name': 'biswajit', 'age': 23, 'gender': 'male'}"
            ]
          },
          "metadata": {},
          "execution_count": 98
        }
      ]
    },
    {
      "cell_type": "code",
      "source": [
        "# edit\n",
        "f[\"name\"]=\"ajit\""
      ],
      "metadata": {
        "id": "x04wpPwpg-yL"
      },
      "execution_count": 99,
      "outputs": []
    },
    {
      "cell_type": "code",
      "source": [
        "f"
      ],
      "metadata": {
        "colab": {
          "base_uri": "https://localhost:8080/"
        },
        "id": "YLQ1Ra7XiOAd",
        "outputId": "14fc80a3-44e3-4303-b7a3-82f4790d7cd2"
      },
      "execution_count": 100,
      "outputs": [
        {
          "output_type": "execute_result",
          "data": {
            "text/plain": [
              "{'name': 'ajit', 'age': 23, 'gender': 'male'}"
            ]
          },
          "metadata": {},
          "execution_count": 100
        }
      ]
    },
    {
      "cell_type": "code",
      "source": [
        "f['gender']='female'"
      ],
      "metadata": {
        "id": "eu7sQtX5iOtM"
      },
      "execution_count": 101,
      "outputs": []
    },
    {
      "cell_type": "code",
      "source": [
        "f"
      ],
      "metadata": {
        "colab": {
          "base_uri": "https://localhost:8080/"
        },
        "id": "GtPMjHryie-7",
        "outputId": "0dd8d73f-e885-40a3-a0cf-71570eb6855b"
      },
      "execution_count": 102,
      "outputs": [
        {
          "output_type": "execute_result",
          "data": {
            "text/plain": [
              "{'name': 'ajit', 'age': 23, 'gender': 'female'}"
            ]
          },
          "metadata": {},
          "execution_count": 102
        }
      ]
    },
    {
      "cell_type": "code",
      "source": [
        "# add new item in dictionary\n",
        "f"
      ],
      "metadata": {
        "colab": {
          "base_uri": "https://localhost:8080/"
        },
        "id": "Ug5e-9gPihNT",
        "outputId": "0a97f1fe-a330-459e-b267-412db26fd9dc"
      },
      "execution_count": 103,
      "outputs": [
        {
          "output_type": "execute_result",
          "data": {
            "text/plain": [
              "{'name': 'ajit', 'age': 23, 'gender': 'female'}"
            ]
          },
          "metadata": {},
          "execution_count": 103
        }
      ]
    },
    {
      "cell_type": "code",
      "source": [
        "f[\"profesion\"]='data science'"
      ],
      "metadata": {
        "id": "oc9nKIfki5jR"
      },
      "execution_count": 104,
      "outputs": []
    },
    {
      "cell_type": "code",
      "source": [
        "f"
      ],
      "metadata": {
        "colab": {
          "base_uri": "https://localhost:8080/"
        },
        "id": "PwcjLeB6jE-4",
        "outputId": "3f2a502a-3880-4a1d-dba0-9a86a0241937"
      },
      "execution_count": 105,
      "outputs": [
        {
          "output_type": "execute_result",
          "data": {
            "text/plain": [
              "{'name': 'ajit', 'age': 23, 'gender': 'female', 'profesion': 'data science'}"
            ]
          },
          "metadata": {},
          "execution_count": 105
        }
      ]
    },
    {
      "cell_type": "code",
      "source": [
        "# hoew to delate  in dictionary\n",
        "f"
      ],
      "metadata": {
        "colab": {
          "base_uri": "https://localhost:8080/"
        },
        "id": "CzKSxO_4jFuH",
        "outputId": "c8ab347a-e4e2-4252-cc7f-3a7fffa384d6"
      },
      "execution_count": 106,
      "outputs": [
        {
          "output_type": "execute_result",
          "data": {
            "text/plain": [
              "{'name': 'ajit', 'age': 23, 'gender': 'female', 'profesion': 'data science'}"
            ]
          },
          "metadata": {},
          "execution_count": 106
        }
      ]
    },
    {
      "cell_type": "code",
      "source": [
        "j={\"name\":\"liku\",\"class\":5,\"home\":\"odisha\"}\n",
        "j"
      ],
      "metadata": {
        "colab": {
          "base_uri": "https://localhost:8080/"
        },
        "id": "VhmZnyGMjPcv",
        "outputId": "238cdafa-4a04-49e1-d8b5-75da3deb97d6"
      },
      "execution_count": 107,
      "outputs": [
        {
          "output_type": "execute_result",
          "data": {
            "text/plain": [
              "{'name': 'liku', 'class': 5, 'home': 'odisha'}"
            ]
          },
          "metadata": {},
          "execution_count": 107
        }
      ]
    },
    {
      "cell_type": "code",
      "source": [
        "del j"
      ],
      "metadata": {
        "id": "TklMe3ABkBtt"
      },
      "execution_count": 108,
      "outputs": []
    },
    {
      "cell_type": "code",
      "source": [
        "# opration in dictionar\n",
        " # no canactination and  multification \n",
        " # loops works\n",
        " # membershuip  works"
      ],
      "metadata": {
        "id": "G7KnTJ50kL6D"
      },
      "execution_count": null,
      "outputs": []
    },
    {
      "cell_type": "code",
      "source": [
        "for i in f:\n",
        "  print(f)"
      ],
      "metadata": {
        "colab": {
          "base_uri": "https://localhost:8080/"
        },
        "id": "C8snSeWjkf8Y",
        "outputId": "27439582-7ac8-4b4e-dce9-748c51ec9da9"
      },
      "execution_count": 109,
      "outputs": [
        {
          "output_type": "stream",
          "name": "stdout",
          "text": [
            "{'name': 'ajit', 'age': 23, 'gender': 'female', 'profesion': 'data science'}\n",
            "{'name': 'ajit', 'age': 23, 'gender': 'female', 'profesion': 'data science'}\n",
            "{'name': 'ajit', 'age': 23, 'gender': 'female', 'profesion': 'data science'}\n",
            "{'name': 'ajit', 'age': 23, 'gender': 'female', 'profesion': 'data science'}\n"
          ]
        }
      ]
    },
    {
      "cell_type": "code",
      "source": [
        "\"ajit\" in f"
      ],
      "metadata": {
        "colab": {
          "base_uri": "https://localhost:8080/"
        },
        "id": "PF1Vn2g6kpoS",
        "outputId": "6fd52e9a-bbf5-4d83-d6c8-2bfecbc251c3"
      },
      "execution_count": 110,
      "outputs": [
        {
          "output_type": "execute_result",
          "data": {
            "text/plain": [
              "False"
            ]
          },
          "metadata": {},
          "execution_count": 110
        }
      ]
    },
    {
      "cell_type": "code",
      "source": [
        "f.values()"
      ],
      "metadata": {
        "colab": {
          "base_uri": "https://localhost:8080/"
        },
        "id": "OibxIlH3lDjY",
        "outputId": "4f4abd8f-584a-4cf3-b601-0c4b994a1fa0"
      },
      "execution_count": 114,
      "outputs": [
        {
          "output_type": "execute_result",
          "data": {
            "text/plain": [
              "dict_values(['ajit', 23, 'female', 'data science'])"
            ]
          },
          "metadata": {},
          "execution_count": 114
        }
      ]
    },
    {
      "cell_type": "code",
      "source": [
        "f.keys()"
      ],
      "metadata": {
        "colab": {
          "base_uri": "https://localhost:8080/"
        },
        "id": "cJKOxkpOlXNP",
        "outputId": "d965472b-9bc2-4af0-a2a5-ee35abb8c970"
      },
      "execution_count": 115,
      "outputs": [
        {
          "output_type": "execute_result",
          "data": {
            "text/plain": [
              "dict_keys(['name', 'age', 'gender', 'profesion'])"
            ]
          },
          "metadata": {},
          "execution_count": 115
        }
      ]
    },
    {
      "cell_type": "code",
      "source": [],
      "metadata": {
        "id": "dgzzywzjlZoI"
      },
      "execution_count": null,
      "outputs": []
    }
  ],
  "metadata": {
    "colab": {
      "provenance": [],
      "include_colab_link": true
    },
    "kernelspec": {
      "display_name": "Python 3",
      "name": "python3"
    },
    "language_info": {
      "name": "python"
    }
  },
  "nbformat": 4,
  "nbformat_minor": 0
}